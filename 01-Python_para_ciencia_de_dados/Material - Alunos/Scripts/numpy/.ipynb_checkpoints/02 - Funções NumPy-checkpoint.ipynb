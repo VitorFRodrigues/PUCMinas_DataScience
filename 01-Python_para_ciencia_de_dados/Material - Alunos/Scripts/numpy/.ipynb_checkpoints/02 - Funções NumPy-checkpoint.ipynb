{
 "cells": [
  {
   "cell_type": "markdown",
   "id": "3c66eb6e",
   "metadata": {},
   "source": [
    "# Funções do NumPy\n",
    "***\n",
    "\n",
    "O NumPy possui diversas funções que facilitam a manipulação e análise de dados em arrays multidimensionais. Nesse notebook vamos demonstrar algumas delas. "
   ]
  },
  {
   "cell_type": "markdown",
   "id": "20060560",
   "metadata": {},
   "source": [
    "### Importação da biblioteca"
   ]
  },
  {
   "cell_type": "code",
   "execution_count": 2,
   "id": "b3123be1",
   "metadata": {},
   "outputs": [],
   "source": [
    "import numpy as np"
   ]
  },
  {
   "cell_type": "markdown",
   "id": "09e6435a",
   "metadata": {},
   "source": [
    "### np.arange()\n",
    "Cria um array com valores sequenciais em um intervalo especificado;"
   ]
  },
  {
   "cell_type": "code",
   "execution_count": 11,
   "id": "43e5290e",
   "metadata": {},
   "outputs": [
    {
     "name": "stdout",
     "output_type": "stream",
     "text": [
      "Array sequencial: [0 1 2 3 4 5 6 7 8 9]\n",
      "\n",
      "Array sequencial iniciando com 1: [ 1  2  3  4  5  6  7  8  9 10]\n",
      "\n",
      "Array sequencial com intervalo de 2: [ 0  2  4  6  8 10]\n",
      "\n"
     ]
    }
   ],
   "source": [
    "# cria um array com valores sequenciais de 0 a 9\n",
    "a = np.arange(10)\n",
    "print(f'Array sequencial: {a}\\n') \n",
    "\n",
    "# cria um array com valores sequenciais de 1 a 10\n",
    "b = np.arange(1, 11)\n",
    "print(f'Array sequencial iniciando com 1: {b}\\n') \n",
    "\n",
    "# cria um array com valores sequenciais de 0 a 10, com intervalo de 2\n",
    "c = np.arange(0, 11, 2)\n",
    "print(f'Array sequencial com intervalo de 2: {c}\\n') "
   ]
  },
  {
   "cell_type": "markdown",
   "id": "843b24ac",
   "metadata": {},
   "source": [
    "### np.zeros()\n",
    "Cria um array preenchido com zeros;"
   ]
  },
  {
   "cell_type": "code",
   "execution_count": 18,
   "id": "f35db311",
   "metadata": {},
   "outputs": [
    {
     "name": "stdout",
     "output_type": "stream",
     "text": [
      "Array preenchidos com 0 : [0. 0. 0.]\n",
      "\n",
      "Array bidimencional com 0:\n",
      " [[0. 0. 0.]\n",
      " [0. 0. 0.]]\n"
     ]
    }
   ],
   "source": [
    "# cria um array com 3 elementos preenchidos com zeros\n",
    "a = np.zeros(3)\n",
    "print(f'Array preenchidos com 0 : {a}\\n') \n",
    "\n",
    "# cria um array bidimensional com 2 linhas e 3 colunas preenchido com zeros\n",
    "b = np.zeros((2, 3))\n",
    "print(f'Array bidimencional com 0:\\n {b}') "
   ]
  },
  {
   "cell_type": "markdown",
   "id": "5c0c6c07",
   "metadata": {},
   "source": [
    "### np.ones()\n",
    "Cria um array preenchido com uns;"
   ]
  },
  {
   "cell_type": "code",
   "execution_count": 20,
   "id": "14b888a9",
   "metadata": {},
   "outputs": [
    {
     "name": "stdout",
     "output_type": "stream",
     "text": [
      "Array preenchidos com 1 : [1. 1. 1. 1.]\n",
      "\n",
      "Array preenchidos com 0:\n",
      " [[1. 1. 1.]\n",
      " [1. 1. 1.]]\n"
     ]
    }
   ],
   "source": [
    "a = np.ones(4)\n",
    "print(f'Array preenchidos com 1 : {a}\\n') \n",
    "\n",
    "# cria um array bidimensional com 2 linhas e 3 colunas preenchido com uns\n",
    "b = np.ones((2, 3))\n",
    "print(f'Array preenchidos com 0:\\n {b}') "
   ]
  },
  {
   "cell_type": "markdown",
   "id": "487e8262",
   "metadata": {},
   "source": [
    "### np.eye()\n",
    "Cria uma matriz identidade;\n",
    "\n",
    "Uma matriz identidade é uma matriz quadrada em que todos os elementos da diagonal principal são iguais a 1 e todos os outros elementos são iguais a 0."
   ]
  },
  {
   "cell_type": "code",
   "execution_count": 25,
   "id": "cb3a63c2",
   "metadata": {},
   "outputs": [
    {
     "name": "stdout",
     "output_type": "stream",
     "text": [
      "Matriz identidade 3x3:\n",
      " [[1. 0. 0.]\n",
      " [0. 1. 0.]\n",
      " [0. 0. 1.]]\n",
      "\n",
      "Matriz identidade 4x4:\n",
      " [[1. 0. 0. 0.]\n",
      " [0. 1. 0. 0.]\n",
      " [0. 0. 1. 0.]\n",
      " [0. 0. 0. 1.]]\n",
      "\n"
     ]
    }
   ],
   "source": [
    "a = np.eye(3)\n",
    "print(f'Matriz identidade 3x3:\\n {a}\\n') \n",
    "\n",
    "\n",
    "# cria uma matriz identidade 4x4\n",
    "b = np.eye(4)\n",
    "print(f'Matriz identidade 4x4:\\n {b}\\n') \n"
   ]
  },
  {
   "cell_type": "markdown",
   "id": "c2976527",
   "metadata": {},
   "source": [
    "### np.random.rand()\n",
    "Gera um array com valores aleatórios entre 0 e 1."
   ]
  },
  {
   "cell_type": "code",
   "execution_count": 73,
   "id": "922c1786",
   "metadata": {},
   "outputs": [
    {
     "name": "stdout",
     "output_type": "stream",
     "text": [
      "[[0.0683622  0.75461628 0.22838936]\n",
      " [0.90889887 0.87088562 0.74732836]]\n"
     ]
    }
   ],
   "source": [
    "# Gera um array de shape (2,3) com valores aleatórios entre 0 e 1\n",
    "arr = np.random.rand(2,3)\n",
    "\n",
    "print(arr)"
   ]
  },
  {
   "cell_type": "markdown",
   "id": "bd46e010",
   "metadata": {},
   "source": [
    "### np.random.randn()\n",
    "Gera um array com valores aleatórios seguindo uma distribuição normal."
   ]
  },
  {
   "cell_type": "code",
   "execution_count": 120,
   "id": "f633517f",
   "metadata": {},
   "outputs": [
    {
     "name": "stdout",
     "output_type": "stream",
     "text": [
      "[[-1.67474458 -0.51805187 -1.39183226 -0.447756  ]\n",
      " [-1.32158197 -0.66532406  0.78770278 -1.74921063]\n",
      " [-0.14928697 -2.10942948  0.70209665 -0.6132478 ]]\n"
     ]
    }
   ],
   "source": [
    "# Gera um array de shape (3,4) com valores aleatórios seguindo uma distribuição normal\n",
    "arr = np.random.randn(3,4)\n",
    "print(arr)"
   ]
  },
  {
   "cell_type": "code",
   "execution_count": 61,
   "id": "82c51a10",
   "metadata": {},
   "outputs": [
    {
     "data": {
      "text/plain": [
       "array([0, 1, 2])"
      ]
     },
     "execution_count": 61,
     "metadata": {},
     "output_type": "execute_result"
    }
   ],
   "source": [
    "arr_reshape[0]"
   ]
  },
  {
   "cell_type": "markdown",
   "id": "efa48ece",
   "metadata": {},
   "source": [
    "### np.reshape()\n",
    "Modifica a forma de um array."
   ]
  },
  {
   "cell_type": "code",
   "execution_count": 54,
   "id": "5fc634e0",
   "metadata": {},
   "outputs": [
    {
     "name": "stdout",
     "output_type": "stream",
     "text": [
      "[[ 0  1  2  3  4  5]\n",
      " [ 6  7  8  9 10 11]]\n",
      "\n",
      "\n",
      "[[ 0  1  2]\n",
      " [ 3  4  5]\n",
      " [ 6  7  8]\n",
      " [ 9 10 11]]\n"
     ]
    }
   ],
   "source": [
    "# Cria um array de shape (3,4)\n",
    "arr = np.arange(12).reshape(2,6)\n",
    "\n",
    "# Muda a forma do array para (4,3)\n",
    "arr_reshape = np.reshape(arr, (4,3))\n",
    "\n",
    "print(arr)\n",
    "print('\\n')\n",
    "\n",
    "print(arr_reshape)"
   ]
  },
  {
   "cell_type": "markdown",
   "id": "f0510cbc",
   "metadata": {},
   "source": [
    "### np.transpose()\n",
    "Transpõe um array."
   ]
  },
  {
   "cell_type": "code",
   "execution_count": 67,
   "id": "2c15f174",
   "metadata": {},
   "outputs": [
    {
     "name": "stdout",
     "output_type": "stream",
     "text": [
      "Array 2x3:\n",
      "[[1 2 3]\n",
      " [4 5 6]]\n",
      "\n",
      "Transposição do array:\n",
      "[[1 4]\n",
      " [2 5]\n",
      " [3 6]]\n"
     ]
    }
   ],
   "source": [
    "# Cria um array de shape (2,3)\n",
    "arr = np.array([[1,2,3],[4,5,6]])\n",
    "\n",
    "# Transpõe o array\n",
    "arr_transpose = np.transpose(arr)\n",
    "\n",
    "print(f'Array 2x3:\\n{arr}')\n",
    "\n",
    "print(f'\\nTransposição do array:\\n{arr_transpose}')"
   ]
  },
  {
   "cell_type": "markdown",
   "id": "a49dad4d",
   "metadata": {},
   "source": [
    "### np.concatenate()\n",
    "Concatena arrays."
   ]
  },
  {
   "cell_type": "code",
   "execution_count": 102,
   "id": "80087e98",
   "metadata": {},
   "outputs": [
    {
     "name": "stdout",
     "output_type": "stream",
     "text": [
      "Array 1:\n",
      " [[1 2]\n",
      " [3 4]]\n",
      "\n",
      "Array 2:\n",
      " [[5 6]\n",
      " [7 8]]\n",
      "\n",
      "Array concatenado:\n",
      " [[1 2 5 6]\n",
      " [3 4 7 8]]\n"
     ]
    }
   ],
   "source": [
    "# Cria dois arrays de shape (2,2)\n",
    "arr1 = np.array([[1,2],[3,4]])\n",
    "arr2 = np.array([[5,6],[7,8]])\n",
    "\n",
    "\n",
    "# Concatena os arrays ao longo do eixo das colunas\n",
    "arr_concat = np.concatenate((arr1,arr2), axis=1)\n",
    "\n",
    "print(f'Array 1:\\n {arr1}\\n')\n",
    "print(f'Array 2:\\n {arr2}\\n')\n",
    "\n",
    "\n",
    "print(f'Array concatenado:\\n {arr_concat}')"
   ]
  },
  {
   "cell_type": "markdown",
   "id": "54c1a125",
   "metadata": {},
   "source": [
    "### np.split()\n",
    "Divide um array em partes."
   ]
  },
  {
   "cell_type": "code",
   "execution_count": 107,
   "id": "e5620935",
   "metadata": {},
   "outputs": [
    {
     "name": "stdout",
     "output_type": "stream",
     "text": [
      "[array([1, 2]), array([3, 4])]\n"
     ]
    }
   ],
   "source": [
    "# Cria um array de shape (4,)\n",
    "arr = np.array([1,2,3,4])\n",
    "\n",
    "# Divide o array em duas partes\n",
    "arr_split = np.split(arr,2)\n",
    "\n",
    "print(arr_split)"
   ]
  },
  {
   "cell_type": "markdown",
   "id": "10872636",
   "metadata": {},
   "source": [
    "### np.max()\n",
    "A função np.max() retorna o valor máximo de um array."
   ]
  },
  {
   "cell_type": "code",
   "execution_count": 109,
   "id": "d2eeb1bb",
   "metadata": {},
   "outputs": [
    {
     "name": "stdout",
     "output_type": "stream",
     "text": [
      "O valor mínimo do array é: 5\n"
     ]
    }
   ],
   "source": [
    "# Cria um array unidimensional com 5 elementos\n",
    "arr = np.array([1, 4, 2, 5, 3])\n",
    "\n",
    "# Retorna o valor máximo do array\n",
    "maximo = np.max(arr)\n",
    "\n",
    "# Imprime o valor máximo do array\n",
    "print(f'O valor mínimo do array é: {maximo}')"
   ]
  },
  {
   "cell_type": "markdown",
   "id": "4ec82de7",
   "metadata": {},
   "source": [
    "### np.min()\n",
    "A função np.min() retorna o valor mínimo de um array."
   ]
  },
  {
   "cell_type": "code",
   "execution_count": 110,
   "id": "f6542b7f",
   "metadata": {},
   "outputs": [
    {
     "name": "stdout",
     "output_type": "stream",
     "text": [
      "O valor mínimo do array é: 1\n"
     ]
    }
   ],
   "source": [
    "# Cria um array unidimensional com 5 elementos\n",
    "arr = np.array([1, 4, 2, 5, 3])\n",
    "\n",
    "# Retorna o valor mínimo do array\n",
    "minimo = np.min(arr)\n",
    "\n",
    "# Imprime o valor mínimo do array\n",
    "print(f'O valor mínimo do array é: {minimo}')"
   ]
  },
  {
   "cell_type": "markdown",
   "id": "eb0f09fe",
   "metadata": {},
   "source": [
    "### np.mean()\n",
    "A função np.mean() retorna a média dos valores em um array."
   ]
  },
  {
   "cell_type": "code",
   "execution_count": 114,
   "id": "f834d11f",
   "metadata": {},
   "outputs": [
    {
     "name": "stdout",
     "output_type": "stream",
     "text": [
      "A média dos elementos do array é: 3.0\n"
     ]
    }
   ],
   "source": [
    "# Cria um array unidimensional com 5 elementos\n",
    "arr = np.array([1, 4, 2, 5, 3])\n",
    "\n",
    "# Retorna a média do array\n",
    "media = np.mean(arr)\n",
    "\n",
    "# Imprime a média do array\n",
    "print(f'A média dos elementos do array é: {media}')"
   ]
  },
  {
   "cell_type": "markdown",
   "id": "4d24ce9f",
   "metadata": {},
   "source": [
    "### np.std()\n",
    "A função np.std() retorna o desvio padrão dos valores em um array."
   ]
  },
  {
   "cell_type": "code",
   "execution_count": 115,
   "id": "b9038f1c",
   "metadata": {},
   "outputs": [
    {
     "name": "stdout",
     "output_type": "stream",
     "text": [
      "O desvio padrão dos elementos do array é: 1.4142135623730951\n"
     ]
    }
   ],
   "source": [
    "# Cria um array unidimensional com 5 elementos\n",
    "arr = np.array([1, 4, 2, 5, 3])\n",
    "\n",
    "# Retorna o desvio padrão do array\n",
    "desvio_padrao = np.std(arr)\n",
    "\n",
    "# Imprime o desvio padrão do array\n",
    "print(f'O desvio padrão dos elementos do array é: {desvio_padrao}')"
   ]
  },
  {
   "cell_type": "markdown",
   "id": "a91d9f19",
   "metadata": {},
   "source": [
    "### np.sum()\n",
    "A função np.sum() retorna a soma dos valores em um array."
   ]
  },
  {
   "cell_type": "code",
   "execution_count": 116,
   "id": "3ca21f0a",
   "metadata": {},
   "outputs": [
    {
     "name": "stdout",
     "output_type": "stream",
     "text": [
      "A soma dos elementos do array é: 15\n"
     ]
    }
   ],
   "source": [
    "# Cria um array unidimensional com 5 elementos\n",
    "arr = np.array([1, 4, 2, 5, 3])\n",
    "\n",
    "# Retorna a soma do array\n",
    "soma = np.sum(arr)\n",
    "\n",
    "# Imprime a soma do array\n",
    "print(f'A soma dos elementos do array é: {soma}')"
   ]
  }
 ],
 "metadata": {
  "kernelspec": {
   "display_name": "analise_dados",
   "language": "python",
   "name": "analise_dados"
  },
  "language_info": {
   "codemirror_mode": {
    "name": "ipython",
    "version": 3
   },
   "file_extension": ".py",
   "mimetype": "text/x-python",
   "name": "python",
   "nbconvert_exporter": "python",
   "pygments_lexer": "ipython3",
   "version": "3.11.3"
  }
 },
 "nbformat": 4,
 "nbformat_minor": 5
}

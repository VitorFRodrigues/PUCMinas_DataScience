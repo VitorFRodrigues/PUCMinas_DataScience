{
 "cells": [
  {
   "cell_type": "markdown",
   "id": "3c66eb6e",
   "metadata": {},
   "source": [
    "# Conceitos básicos de NumPy\n",
    "***\n",
    "\n",
    "O NumPy é uma biblioteca do Python que é amplamente usada para análise de dados, especialmente quando se trabalha com matrizes e arrays multidimensionais. O NumPy oferece muitas funções para operações em arrays, como soma, subtração, multiplicação, divisão e muito mais."
   ]
  },
  {
   "cell_type": "markdown",
   "id": "20060560",
   "metadata": {},
   "source": [
    "### Importação da biblioteca"
   ]
  },
  {
   "cell_type": "code",
   "execution_count": 3,
   "id": "b3123be1",
   "metadata": {},
   "outputs": [],
   "source": [
    "import numpy as np"
   ]
  },
  {
   "cell_type": "markdown",
   "id": "09e6435a",
   "metadata": {},
   "source": [
    "### Criar um array NumPy simples\n",
    "\n",
    "Em programação, um array é uma coleção de elementos do mesmo tipo, que são armazenados em uma sequência contígua na memória. Em outras palavras, é uma estrutura de dados que contém um conjunto de valores do mesmo tipo.\n",
    "\n",
    "No NumPy, um array é um objeto multidimensional que pode conter elementos de diferentes tipos. Arrays NumPy são geralmente mais eficientes e poderosos do que listas do Python, pois permitem operações matemáticas eficientes em grande quantidade de dados."
   ]
  },
  {
   "cell_type": "code",
   "execution_count": 4,
   "id": "43e5290e",
   "metadata": {},
   "outputs": [
    {
     "name": "stdout",
     "output_type": "stream",
     "text": [
      "[1 2 3]\n"
     ]
    }
   ],
   "source": [
    "arr = np.array([1, 2, 3])\n",
    "print(arr)"
   ]
  },
  {
   "cell_type": "markdown",
   "id": "843b24ac",
   "metadata": {},
   "source": [
    "### Acessar os elementos em um array\n",
    "Os índices em NumPy começam em 0. Por exemplo, para acessar o segundo elemento do array acima, você pode usar o índice 1,"
   ]
  },
  {
   "cell_type": "code",
   "execution_count": 9,
   "id": "f35db311",
   "metadata": {},
   "outputs": [
    {
     "name": "stdout",
     "output_type": "stream",
     "text": [
      "2\n"
     ]
    }
   ],
   "source": [
    "# Acessar o segundo elemento do array\n",
    "print(arr[1])"
   ]
  },
  {
   "cell_type": "code",
   "execution_count": 10,
   "id": "38b435be",
   "metadata": {},
   "outputs": [
    {
     "name": "stdout",
     "output_type": "stream",
     "text": [
      "3\n"
     ]
    }
   ],
   "source": [
    "# Acessar o último elemento do array\n",
    "print(arr[-1])"
   ]
  },
  {
   "cell_type": "markdown",
   "id": "5c0c6c07",
   "metadata": {},
   "source": [
    "### Alterar o formato de um array \n",
    " Nesse exemplo criamos um array unidimensional com seis elementos e, em seguida, o convertemos em um array bidimensional com duas linhas e três colunas:"
   ]
  },
  {
   "cell_type": "code",
   "execution_count": 18,
   "id": "14b888a9",
   "metadata": {},
   "outputs": [
    {
     "name": "stdout",
     "output_type": "stream",
     "text": [
      "Array unidimensional: [1 2 3 4 5 6]\n",
      "\n",
      "Array bidimensional:\n",
      "[[1 2 3]\n",
      " [4 5 6]]\n"
     ]
    }
   ],
   "source": [
    "arr = np.array([1, 2, 3, 4, 5, 6])\n",
    "new_arr = arr.reshape(2, 3)\n",
    "print(f'Array unidimensional: {arr}\\n')\n",
    "print(f'Array bidimensional:\\n{new_arr}')"
   ]
  },
  {
   "cell_type": "code",
   "execution_count": 22,
   "id": "e7c01a2a",
   "metadata": {},
   "outputs": [
    {
     "data": {
      "text/plain": [
       "2"
      ]
     },
     "execution_count": 22,
     "metadata": {},
     "output_type": "execute_result"
    }
   ],
   "source": [
    "#Acessar o segundo elemento do array\n",
    "new_arr[0,1]"
   ]
  },
  {
   "cell_type": "code",
   "execution_count": 24,
   "id": "15916bfa",
   "metadata": {},
   "outputs": [
    {
     "data": {
      "text/plain": [
       "5"
      ]
     },
     "execution_count": 24,
     "metadata": {},
     "output_type": "execute_result"
    }
   ],
   "source": [
    "#Acessar o segundo elemento do array\n",
    "new_arr[-1,1]"
   ]
  },
  {
   "cell_type": "markdown",
   "id": "487e8262",
   "metadata": {},
   "source": [
    "### Operações aritméticas em arrays NumPy"
   ]
  },
  {
   "cell_type": "code",
   "execution_count": 26,
   "id": "cb3a63c2",
   "metadata": {},
   "outputs": [
    {
     "name": "stdout",
     "output_type": "stream",
     "text": [
      "[5 7 9]\n"
     ]
    }
   ],
   "source": [
    "arr1 = np.array([1, 2, 3])\n",
    "arr2 = np.array([4, 5, 6])\n",
    "\n",
    "result = arr1 + arr2\n",
    "print(result)"
   ]
  },
  {
   "cell_type": "code",
   "execution_count": 27,
   "id": "fd7e0bed",
   "metadata": {},
   "outputs": [
    {
     "name": "stdout",
     "output_type": "stream",
     "text": [
      "[ 4 10 18]\n"
     ]
    }
   ],
   "source": [
    "result = arr1 * arr2\n",
    "print(result)"
   ]
  },
  {
   "cell_type": "code",
   "execution_count": 30,
   "id": "a478901b",
   "metadata": {},
   "outputs": [
    {
     "name": "stdout",
     "output_type": "stream",
     "text": [
      "Array a:\n",
      " [[1 2 3]\n",
      " [4 5 6]\n",
      " [7 8 9]]\n",
      "\n",
      "Array b:\n",
      " [[9 8 7]\n",
      " [6 5 4]\n",
      " [3 2 1]]\n",
      "\n",
      "[[ 9 16 21]\n",
      " [24 25 24]\n",
      " [21 16  9]]\n"
     ]
    }
   ],
   "source": [
    "a = np.array([[1, 2, 3], [4, 5, 6], [7, 8, 9]])\n",
    "b = np.array([[9, 8, 7], [6, 5, 4], [3, 2, 1]])\n",
    "\n",
    "\n",
    "print(f'Array a:\\n {a}\\n')\n",
    "print(f'Array b:\\n {b}\\n')\n",
    "\n",
    "\n",
    "# Multiplicando os arrays\n",
    "c = a * b\n",
    "\n",
    "# Imprimindo o resultado\n",
    "print(c)"
   ]
  },
  {
   "cell_type": "code",
   "execution_count": 33,
   "id": "945627b4",
   "metadata": {},
   "outputs": [
    {
     "data": {
      "text/plain": [
       "array([3, 7])"
      ]
     },
     "execution_count": 33,
     "metadata": {},
     "output_type": "execute_result"
    }
   ],
   "source": [
    "a[[0,2], [2,0]]"
   ]
  }
 ],
 "metadata": {
  "kernelspec": {
   "display_name": "analise_dados",
   "language": "python",
   "name": "analise_dados"
  },
  "language_info": {
   "codemirror_mode": {
    "name": "ipython",
    "version": 3
   },
   "file_extension": ".py",
   "mimetype": "text/x-python",
   "name": "python",
   "nbconvert_exporter": "python",
   "pygments_lexer": "ipython3",
   "version": "3.11.3"
  }
 },
 "nbformat": 4,
 "nbformat_minor": 5
}

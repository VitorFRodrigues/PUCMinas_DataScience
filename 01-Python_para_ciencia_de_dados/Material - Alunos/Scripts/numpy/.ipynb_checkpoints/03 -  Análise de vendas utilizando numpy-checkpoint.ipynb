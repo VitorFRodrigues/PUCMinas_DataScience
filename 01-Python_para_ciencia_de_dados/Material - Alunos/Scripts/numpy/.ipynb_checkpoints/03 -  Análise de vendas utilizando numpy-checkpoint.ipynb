{
 "cells": [
  {
   "cell_type": "markdown",
   "id": "8c782d58",
   "metadata": {},
   "source": [
    "# Análise de vendas\n",
    "***\n",
    "\n",
    "*Contexto*: \n",
    "   \n",
    "Uma empresa de varejo acaba de abrir uma nova filial em uma cidade e está em fase de avaliação. Para isso, foram  escolhidos quatro produtos que estão sendo vendidos na loja e foi realizado um registro diário das vendas ao longo de uma semana. A intenção é utilizar o NumPy para analisar as vendas da semana, identificar padrões e tomar decisões estratégicas com base nos resultados.\n",
    "\n",
    "Os dados foram coletados e armazenados em uma matriz 5x4, onde cada linha representa um dia da semana e cada coluna representa um produto. O objetivo é analisar a quantidade de produtos vendidos em cada dia da semana, identificar qual produto teve o melhor desempenho e qual teve o pior, além de calcular a média de vendas diárias e a variação entre os dias da semana. "
   ]
  },
  {
   "cell_type": "markdown",
   "id": "b21e1203",
   "metadata": {},
   "source": [
    "### Importação da biblioteca"
   ]
  },
  {
   "cell_type": "code",
   "execution_count": 2,
   "id": "ae753c62",
   "metadata": {},
   "outputs": [],
   "source": [
    "import numpy as np"
   ]
  },
  {
   "cell_type": "code",
   "execution_count": 3,
   "id": "4b9e5f02",
   "metadata": {},
   "outputs": [],
   "source": [
    "# criação da matriz com as vendas da semana\n",
    "vendas_semana = np.array([\n",
    "    [12, 10, 8, 6],\n",
    "    [18, 15, 12, 10],\n",
    "    [10, 8, 5, 3],\n",
    "    [22, 20, 18, 16],\n",
    "    [15, 12, 10, 8]\n",
    "])"
   ]
  },
  {
   "cell_type": "markdown",
   "id": "d80c5086",
   "metadata": {},
   "source": [
    "### Qual o total de vendas em cada dia da semana?"
   ]
  },
  {
   "cell_type": "code",
   "execution_count": 8,
   "id": "71772aa5",
   "metadata": {},
   "outputs": [
    {
     "name": "stdout",
     "output_type": "stream",
     "text": [
      "[36 55 26 76 45]\n"
     ]
    }
   ],
   "source": [
    "vendas_no_dia = np.sum(vendas_semana, axis=1) \n",
    "print(vendas_no_dia)"
   ]
  },
  {
   "cell_type": "markdown",
   "id": "d8ee5d2d",
   "metadata": {},
   "source": [
    "### Qual o total de vendas de cada produto?"
   ]
  },
  {
   "cell_type": "code",
   "execution_count": 9,
   "id": "d1bc1d3f",
   "metadata": {},
   "outputs": [
    {
     "name": "stdout",
     "output_type": "stream",
     "text": [
      "[77 65 53 43]\n"
     ]
    }
   ],
   "source": [
    "vendas_produtos = np.sum(vendas_semana, axis=0)\n",
    "print(vendas_produtos)"
   ]
  },
  {
   "cell_type": "markdown",
   "id": "84bf7418",
   "metadata": {},
   "source": [
    "### Qual a média de vendas por dia da semana?"
   ]
  },
  {
   "cell_type": "code",
   "execution_count": 10,
   "id": "6fae3209",
   "metadata": {},
   "outputs": [
    {
     "name": "stdout",
     "output_type": "stream",
     "text": [
      "[15.4 13.  10.6  8.6]\n"
     ]
    }
   ],
   "source": [
    "media_vendas = np.mean(vendas_semana, axis=0)\n",
    "print(media_vendas)"
   ]
  },
  {
   "cell_type": "markdown",
   "id": "420c037c",
   "metadata": {},
   "source": [
    "### Qual o produto com menor variação nas vendas ao longo da semana?"
   ]
  },
  {
   "cell_type": "code",
   "execution_count": 23,
   "id": "7f29238f",
   "metadata": {},
   "outputs": [
    {
     "name": "stdout",
     "output_type": "stream",
     "text": [
      "Variação dos produtos: [4.2708313  4.19523539 4.36348485 4.36348485]\n",
      "\n",
      "Produto 2 apresentou a maior variação de vendas.\n"
     ]
    }
   ],
   "source": [
    "variacao = np.std(vendas_semana, axis=0)\n",
    "min_variacao = np.argmin(variacao)\n",
    "print(f'Variação dos produtos: {variacao}\\n')\n",
    "print(f'Produto {min_variacao + 1} apresentou a maior variação de vendas.')"
   ]
  },
  {
   "cell_type": "markdown",
   "id": "f2d31700",
   "metadata": {},
   "source": [
    "### Identificar o produto com maior e menor vendas na semana"
   ]
  },
  {
   "cell_type": "code",
   "execution_count": 25,
   "id": "72652503",
   "metadata": {},
   "outputs": [],
   "source": [
    "maior_venda = np.argmax(np.sum(vendas_semana, axis=0))\n",
    "menor_venda = np.argmin(np.sum(vendas_semana, axis=0))\n",
    "\n",
    "print(\"Produto com maior venda: Produto\", maior_venda+1)\n",
    "print(\"Produto com menor venda: Produto\", menor_venda+1)"
   ]
  },
  {
   "cell_type": "markdown",
   "id": "f2a3ab1a",
   "metadata": {},
   "source": [
    "### Calcular a média de vendas diárias e variação entre os dias da semana"
   ]
  },
  {
   "cell_type": "code",
   "execution_count": 28,
   "id": "6d7372e7",
   "metadata": {},
   "outputs": [
    {
     "name": "stdout",
     "output_type": "stream",
     "text": [
      "Média de vendas diárias:  [ 9.   13.75  6.5  19.   11.25]\n",
      "Variação de vendas diárias:  [5.     9.1875 7.25   5.     6.6875]\n"
     ]
    }
   ],
   "source": [
    "media_vendas_diarias = np.mean(vendas_semana, axis=1)\n",
    "var_vendas_diarias = np.var(vendas_semana, axis=1)\n",
    "\n",
    "print(\"Média de vendas diárias: \", media_vendas_diarias)\n",
    "print(\"Variação de vendas diárias: \", var_vendas_diarias)"
   ]
  },
  {
   "cell_type": "code",
   "execution_count": null,
   "id": "44117651",
   "metadata": {},
   "outputs": [],
   "source": []
  }
 ],
 "metadata": {
  "kernelspec": {
   "display_name": "analise_dados",
   "language": "python",
   "name": "analise_dados"
  },
  "language_info": {
   "codemirror_mode": {
    "name": "ipython",
    "version": 3
   },
   "file_extension": ".py",
   "mimetype": "text/x-python",
   "name": "python",
   "nbconvert_exporter": "python",
   "pygments_lexer": "ipython3",
   "version": "3.11.0"
  }
 },
 "nbformat": 4,
 "nbformat_minor": 5
}

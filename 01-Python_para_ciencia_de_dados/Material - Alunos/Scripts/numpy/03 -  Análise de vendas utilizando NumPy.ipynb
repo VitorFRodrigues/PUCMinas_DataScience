{
 "cells": [
  {
   "cell_type": "markdown",
   "id": "8c782d58",
   "metadata": {},
   "source": [
    "# Análise de vendas\n",
    "***\n",
    "\n",
    "*Contexto*: \n",
    "   \n",
    "Uma empresa de varejo acaba de abrir uma nova filial em uma cidade e está em fase de avaliação. Para isso, foram  escolhidos quatro produtos que estão sendo vendidos na loja e foi realizado um registro diário das vendas ao longo de uma semana. A intenção é utilizar o NumPy para analisar as vendas da semana, identificar padrões e tomar decisões estratégicas com base nos resultados.\n",
    "\n",
    "Os dados foram coletados e armazenados em uma matriz 5x4, onde cada linha representa um dia da semana e cada coluna representa um produto. O objetivo é analisar a quantidade de produtos vendidos em cada dia da semana, identificar qual produto teve o melhor desempenho e qual teve o pior, além de calcular a média de vendas diárias e a variação entre os dias da semana. \n",
    "\n",
    "Axis = 1 (linha)\n",
    "Axis = 0 (coluna)"
   ]
  },
  {
   "cell_type": "markdown",
   "id": "b21e1203",
   "metadata": {},
   "source": [
    "### Importação da biblioteca"
   ]
  },
  {
   "cell_type": "code",
   "execution_count": 3,
   "id": "ae753c62",
   "metadata": {},
   "outputs": [],
   "source": [
    "import numpy as np"
   ]
  },
  {
   "cell_type": "code",
   "execution_count": 7,
   "id": "4b9e5f02",
   "metadata": {},
   "outputs": [],
   "source": [
    "# criação da matriz com as vendas da semana\n",
    "vendas_semana = np.array([\n",
    "    [12, 10, 8, 6], \n",
    "    [18, 15, 12, 10],\n",
    "    [10, 8, 5, 3],\n",
    "    [22, 20, 18, 16],\n",
    "    [15, 12, 10, 8]\n",
    "])"
   ]
  },
  {
   "cell_type": "code",
   "execution_count": 8,
   "id": "ab9861c0",
   "metadata": {},
   "outputs": [
    {
     "data": {
      "text/plain": [
       "array([[12, 10,  8,  6],\n",
       "       [18, 15, 12, 10],\n",
       "       [10,  8,  5,  3],\n",
       "       [22, 20, 18, 16],\n",
       "       [15, 12, 10,  8]])"
      ]
     },
     "execution_count": 8,
     "metadata": {},
     "output_type": "execute_result"
    }
   ],
   "source": [
    "vendas_semana"
   ]
  },
  {
   "cell_type": "markdown",
   "id": "d80c5086",
   "metadata": {},
   "source": [
    "### Qual o total de vendas em cada dia da semana?"
   ]
  },
  {
   "cell_type": "code",
   "execution_count": 9,
   "id": "71772aa5",
   "metadata": {},
   "outputs": [
    {
     "data": {
      "text/plain": [
       "array([36, 55, 26, 76, 45])"
      ]
     },
     "execution_count": 9,
     "metadata": {},
     "output_type": "execute_result"
    }
   ],
   "source": [
    "vendas_semana.sum(axis=1)"
   ]
  },
  {
   "cell_type": "markdown",
   "id": "d8ee5d2d",
   "metadata": {},
   "source": [
    "### Qual o total de vendas de cada produto?"
   ]
  },
  {
   "cell_type": "code",
   "execution_count": 10,
   "id": "d1bc1d3f",
   "metadata": {},
   "outputs": [
    {
     "data": {
      "text/plain": [
       "array([77, 65, 53, 43])"
      ]
     },
     "execution_count": 10,
     "metadata": {},
     "output_type": "execute_result"
    }
   ],
   "source": [
    "vendas_semana.sum(axis=0)"
   ]
  },
  {
   "cell_type": "markdown",
   "id": "84bf7418",
   "metadata": {},
   "source": [
    "### Qual a média de vendas por dia da semana?"
   ]
  },
  {
   "cell_type": "code",
   "execution_count": 11,
   "id": "e1ab60f6",
   "metadata": {},
   "outputs": [
    {
     "data": {
      "text/plain": [
       "array([15.4, 13. , 10.6,  8.6])"
      ]
     },
     "execution_count": 11,
     "metadata": {},
     "output_type": "execute_result"
    }
   ],
   "source": [
    "vendas_semana.mean(axis=0)"
   ]
  },
  {
   "cell_type": "markdown",
   "id": "420c037c",
   "metadata": {},
   "source": [
    "### Qual o produto com menor variação nas vendas ao longo da semana?"
   ]
  },
  {
   "cell_type": "code",
   "execution_count": 14,
   "id": "7f29238f",
   "metadata": {},
   "outputs": [],
   "source": [
    "variacao = vendas_semana.std(axis=0)\n",
    "min_variacao = variacao.argmin()"
   ]
  },
  {
   "cell_type": "code",
   "execution_count": 15,
   "id": "8c348f12",
   "metadata": {},
   "outputs": [
    {
     "data": {
      "text/plain": [
       "2"
      ]
     },
     "execution_count": 15,
     "metadata": {},
     "output_type": "execute_result"
    }
   ],
   "source": [
    "min_variacao+1"
   ]
  },
  {
   "cell_type": "markdown",
   "id": "f2d31700",
   "metadata": {},
   "source": [
    "### Identificar o produto com maior e menor vendas na semana"
   ]
  },
  {
   "cell_type": "code",
   "execution_count": 18,
   "id": "72652503",
   "metadata": {},
   "outputs": [
    {
     "name": "stdout",
     "output_type": "stream",
     "text": [
      "\n",
      "      O produto com maior venda é: 1\n",
      "      O produto com menor venda é: 4\n"
     ]
    }
   ],
   "source": [
    "maior_venda = vendas_semana.sum(axis=0).argmax()\n",
    "menor_venda = vendas_semana.sum(axis=0).argmin()\n",
    "\n",
    "print(f'''\n",
    "      O produto com maior venda é: {maior_venda+1}\n",
    "      O produto com menor venda é: {menor_venda+1}''')"
   ]
  },
  {
   "cell_type": "code",
   "execution_count": 19,
   "id": "d22f0d03",
   "metadata": {},
   "outputs": [
    {
     "data": {
      "text/plain": [
       "array([77, 65, 53, 43])"
      ]
     },
     "execution_count": 19,
     "metadata": {},
     "output_type": "execute_result"
    }
   ],
   "source": [
    "vendas_semana.sum(axis=0)"
   ]
  },
  {
   "cell_type": "markdown",
   "id": "f2a3ab1a",
   "metadata": {},
   "source": [
    "### Calcular a média de vendas diárias e variação entre os dias da semana"
   ]
  },
  {
   "cell_type": "code",
   "execution_count": 20,
   "id": "6d7372e7",
   "metadata": {},
   "outputs": [
    {
     "data": {
      "text/plain": [
       "array([15.4, 13. , 10.6,  8.6])"
      ]
     },
     "execution_count": 20,
     "metadata": {},
     "output_type": "execute_result"
    }
   ],
   "source": [
    "vendas_semana.mean(axis=0)"
   ]
  }
 ],
 "metadata": {
  "kernelspec": {
   "display_name": "pucminas",
   "language": "python",
   "name": "python3"
  },
  "language_info": {
   "codemirror_mode": {
    "name": "ipython",
    "version": 3
   },
   "file_extension": ".py",
   "mimetype": "text/x-python",
   "name": "python",
   "nbconvert_exporter": "python",
   "pygments_lexer": "ipython3",
   "version": "3.12.3"
  }
 },
 "nbformat": 4,
 "nbformat_minor": 5
}

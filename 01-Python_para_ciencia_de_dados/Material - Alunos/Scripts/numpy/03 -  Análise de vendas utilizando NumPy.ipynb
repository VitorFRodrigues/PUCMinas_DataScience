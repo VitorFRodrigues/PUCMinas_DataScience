{
 "cells": [
  {
   "cell_type": "markdown",
   "id": "8c782d58",
   "metadata": {},
   "source": [
    "# Análise de vendas\n",
    "***\n",
    "\n",
    "*Contexto*: \n",
    "   \n",
    "Uma empresa de varejo acaba de abrir uma nova filial em uma cidade e está em fase de avaliação. Para isso, foram  escolhidos quatro produtos que estão sendo vendidos na loja e foi realizado um registro diário das vendas ao longo de uma semana. A intenção é utilizar o NumPy para analisar as vendas da semana, identificar padrões e tomar decisões estratégicas com base nos resultados.\n",
    "\n",
    "Os dados foram coletados e armazenados em uma matriz 5x4, onde cada linha representa um dia da semana e cada coluna representa um produto. O objetivo é analisar a quantidade de produtos vendidos em cada dia da semana, identificar qual produto teve o melhor desempenho e qual teve o pior, além de calcular a média de vendas diárias e a variação entre os dias da semana. \n",
    "\n",
    "Axis = 1 (linha)\n",
    "Axis = 0 (coluna)"
   ]
  },
  {
   "cell_type": "markdown",
   "id": "b21e1203",
   "metadata": {},
   "source": [
    "### Importação da biblioteca"
   ]
  },
  {
   "cell_type": "code",
   "execution_count": null,
   "id": "ae753c62",
   "metadata": {},
   "outputs": [],
   "source": []
  },
  {
   "cell_type": "code",
   "execution_count": null,
   "id": "4b9e5f02",
   "metadata": {},
   "outputs": [],
   "source": [
    "# criação da matriz com as vendas da semana\n"
   ]
  },
  {
   "cell_type": "code",
   "execution_count": null,
   "id": "ab9861c0",
   "metadata": {},
   "outputs": [],
   "source": []
  },
  {
   "cell_type": "markdown",
   "id": "d80c5086",
   "metadata": {},
   "source": [
    "### Qual o total de vendas em cada dia da semana?"
   ]
  },
  {
   "cell_type": "code",
   "execution_count": null,
   "id": "71772aa5",
   "metadata": {},
   "outputs": [],
   "source": []
  },
  {
   "cell_type": "markdown",
   "id": "d8ee5d2d",
   "metadata": {},
   "source": [
    "### Qual o total de vendas de cada produto?"
   ]
  },
  {
   "cell_type": "code",
   "execution_count": null,
   "id": "d1bc1d3f",
   "metadata": {},
   "outputs": [],
   "source": []
  },
  {
   "cell_type": "markdown",
   "id": "84bf7418",
   "metadata": {},
   "source": [
    "### Qual a média de vendas por dia da semana?"
   ]
  },
  {
   "cell_type": "code",
   "execution_count": null,
   "id": "e1ab60f6",
   "metadata": {},
   "outputs": [],
   "source": []
  },
  {
   "cell_type": "code",
   "execution_count": null,
   "id": "6fae3209",
   "metadata": {},
   "outputs": [],
   "source": []
  },
  {
   "cell_type": "markdown",
   "id": "420c037c",
   "metadata": {},
   "source": [
    "### Qual o produto com menor variação nas vendas ao longo da semana?"
   ]
  },
  {
   "cell_type": "code",
   "execution_count": null,
   "id": "7f29238f",
   "metadata": {},
   "outputs": [],
   "source": []
  },
  {
   "cell_type": "markdown",
   "id": "f2d31700",
   "metadata": {},
   "source": [
    "### Identificar o produto com maior e menor vendas na semana"
   ]
  },
  {
   "cell_type": "code",
   "execution_count": null,
   "id": "72652503",
   "metadata": {},
   "outputs": [],
   "source": []
  },
  {
   "cell_type": "markdown",
   "id": "f2a3ab1a",
   "metadata": {},
   "source": [
    "### Calcular a média de vendas diárias e variação entre os dias da semana"
   ]
  },
  {
   "cell_type": "code",
   "execution_count": null,
   "id": "6d7372e7",
   "metadata": {},
   "outputs": [],
   "source": []
  },
  {
   "cell_type": "code",
   "execution_count": null,
   "id": "44117651",
   "metadata": {},
   "outputs": [],
   "source": []
  }
 ],
 "metadata": {
  "kernelspec": {
   "display_name": "analise_dados",
   "language": "python",
   "name": "analise_dados"
  },
  "language_info": {
   "codemirror_mode": {
    "name": "ipython",
    "version": 3
   },
   "file_extension": ".py",
   "mimetype": "text/x-python",
   "name": "python",
   "nbconvert_exporter": "python",
   "pygments_lexer": "ipython3",
   "version": "3.11.3"
  }
 },
 "nbformat": 4,
 "nbformat_minor": 5
}

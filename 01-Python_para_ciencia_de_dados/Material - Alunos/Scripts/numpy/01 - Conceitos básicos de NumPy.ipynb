{
 "cells": [
  {
   "cell_type": "markdown",
   "id": "3c66eb6e",
   "metadata": {},
   "source": [
    "# Conceitos básicos de NumPy\n",
    "***\n",
    "\n",
    "O NumPy é uma biblioteca do Python que é amplamente usada para análise de dados, especialmente quando se trabalha com matrizes e arrays multidimensionais. O NumPy oferece muitas funções para operações em arrays, como soma, subtração, multiplicação, divisão e muito mais."
   ]
  },
  {
   "cell_type": "markdown",
   "id": "20060560",
   "metadata": {},
   "source": [
    "### Importação da biblioteca"
   ]
  },
  {
   "cell_type": "code",
   "execution_count": null,
   "id": "b3123be1",
   "metadata": {},
   "outputs": [],
   "source": []
  },
  {
   "cell_type": "markdown",
   "id": "09e6435a",
   "metadata": {},
   "source": [
    "### Criar um array NumPy simples\n",
    "\n",
    "Em programação, um array é uma coleção de elementos do mesmo tipo, que são armazenados em uma sequência contígua na memória. Em outras palavras, é uma estrutura de dados que contém um conjunto de valores do mesmo tipo.\n",
    "\n",
    "No NumPy, um array é um objeto multidimensional que pode conter elementos de diferentes tipos. Arrays NumPy são geralmente mais eficientes e poderosos do que listas do Python, pois permitem operações matemáticas eficientes em grande quantidade de dados."
   ]
  },
  {
   "cell_type": "code",
   "execution_count": null,
   "id": "43e5290e",
   "metadata": {},
   "outputs": [],
   "source": []
  },
  {
   "cell_type": "markdown",
   "id": "843b24ac",
   "metadata": {},
   "source": [
    "### Acessar os elementos em um array\n",
    "Os índices em NumPy começam em 0. Por exemplo, para acessar o segundo elemento do array acima, você pode usar o índice 1,"
   ]
  },
  {
   "cell_type": "code",
   "execution_count": null,
   "id": "f35db311",
   "metadata": {},
   "outputs": [],
   "source": [
    "# Acessar o segundo elemento do array\n"
   ]
  },
  {
   "cell_type": "code",
   "execution_count": null,
   "id": "38b435be",
   "metadata": {},
   "outputs": [],
   "source": [
    "# Acessar o último elemento do array\n"
   ]
  },
  {
   "cell_type": "markdown",
   "id": "5c0c6c07",
   "metadata": {},
   "source": [
    "### Alterar o formato de um array \n",
    " Nesse exemplo criamos um array unidimensional com seis elementos e, em seguida, o convertemos em um array bidimensional com duas linhas e três colunas:"
   ]
  },
  {
   "cell_type": "code",
   "execution_count": null,
   "id": "14b888a9",
   "metadata": {},
   "outputs": [],
   "source": []
  },
  {
   "cell_type": "code",
   "execution_count": null,
   "id": "e7c01a2a",
   "metadata": {},
   "outputs": [],
   "source": [
    "#Acessar o segundo elemento do array\n"
   ]
  },
  {
   "cell_type": "code",
   "execution_count": null,
   "id": "15916bfa",
   "metadata": {},
   "outputs": [],
   "source": [
    "#Acessar o segundo elemento do array\n"
   ]
  },
  {
   "cell_type": "markdown",
   "id": "487e8262",
   "metadata": {},
   "source": [
    "### Operações aritméticas em arrays NumPy"
   ]
  },
  {
   "cell_type": "code",
   "execution_count": null,
   "id": "cb3a63c2",
   "metadata": {},
   "outputs": [],
   "source": []
  },
  {
   "cell_type": "code",
   "execution_count": null,
   "id": "fd7e0bed",
   "metadata": {},
   "outputs": [],
   "source": []
  },
  {
   "cell_type": "code",
   "execution_count": null,
   "id": "a478901b",
   "metadata": {},
   "outputs": [],
   "source": []
  },
  {
   "cell_type": "code",
   "execution_count": null,
   "id": "945627b4",
   "metadata": {},
   "outputs": [],
   "source": []
  }
 ],
 "metadata": {
  "kernelspec": {
   "display_name": "analise_dados",
   "language": "python",
   "name": "analise_dados"
  },
  "language_info": {
   "codemirror_mode": {
    "name": "ipython",
    "version": 3
   },
   "file_extension": ".py",
   "mimetype": "text/x-python",
   "name": "python",
   "nbconvert_exporter": "python",
   "pygments_lexer": "ipython3",
   "version": "3.11.3"
  }
 },
 "nbformat": 4,
 "nbformat_minor": 5
}

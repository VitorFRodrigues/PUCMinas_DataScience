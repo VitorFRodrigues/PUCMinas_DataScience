{
 "cells": [
  {
   "cell_type": "markdown",
   "id": "3c66eb6e",
   "metadata": {},
   "source": [
    "# Funções do NumPy\n",
    "***\n",
    "\n",
    "O NumPy possui diversas funções que facilitam a manipulação e análise de dados em arrays multidimensionais. Nesse notebook vamos demonstrar algumas delas. "
   ]
  },
  {
   "cell_type": "markdown",
   "id": "20060560",
   "metadata": {},
   "source": [
    "### Importação da biblioteca"
   ]
  },
  {
   "cell_type": "code",
   "execution_count": null,
   "id": "b3123be1",
   "metadata": {},
   "outputs": [],
   "source": []
  },
  {
   "cell_type": "markdown",
   "id": "09e6435a",
   "metadata": {},
   "source": [
    "### np.arange()\n",
    "Cria um array com valores sequenciais em um intervalo especificado;"
   ]
  },
  {
   "cell_type": "code",
   "execution_count": null,
   "id": "43e5290e",
   "metadata": {},
   "outputs": [],
   "source": [
    "# cria um array com valores sequenciais de 0 a 9\n"
   ]
  },
  {
   "cell_type": "markdown",
   "id": "843b24ac",
   "metadata": {},
   "source": [
    "### np.zeros()\n",
    "Cria um array preenchido com zeros;"
   ]
  },
  {
   "cell_type": "code",
   "execution_count": null,
   "id": "f35db311",
   "metadata": {},
   "outputs": [],
   "source": [
    "# cria um array com 3 elementos preenchidos com zeros\n"
   ]
  },
  {
   "cell_type": "markdown",
   "id": "5c0c6c07",
   "metadata": {},
   "source": [
    "### np.ones()\n",
    "Cria um array preenchido com uns;"
   ]
  },
  {
   "cell_type": "code",
   "execution_count": null,
   "id": "14b888a9",
   "metadata": {},
   "outputs": [],
   "source": []
  },
  {
   "cell_type": "markdown",
   "id": "487e8262",
   "metadata": {},
   "source": [
    "### np.eye()\n",
    "Cria uma matriz identidade;\n",
    "\n",
    "Uma matriz identidade é uma matriz quadrada em que todos os elementos da diagonal principal são iguais a 1 e todos os outros elementos são iguais a 0."
   ]
  },
  {
   "cell_type": "code",
   "execution_count": null,
   "id": "cb3a63c2",
   "metadata": {},
   "outputs": [],
   "source": [
    " \n"
   ]
  },
  {
   "cell_type": "markdown",
   "id": "c2976527",
   "metadata": {},
   "source": [
    "### np.random.rand()\n",
    "Gera um array com valores aleatórios entre 0 e 1."
   ]
  },
  {
   "cell_type": "code",
   "execution_count": null,
   "id": "922c1786",
   "metadata": {},
   "outputs": [],
   "source": [
    "# Gera um array de shape (2,3) com valores aleatórios entre 0 e 1\n"
   ]
  },
  {
   "cell_type": "markdown",
   "id": "bd46e010",
   "metadata": {},
   "source": [
    "### np.random.randn()\n",
    "Gera um array com valores aleatórios seguindo uma distribuição normal."
   ]
  },
  {
   "cell_type": "code",
   "execution_count": null,
   "id": "f633517f",
   "metadata": {},
   "outputs": [],
   "source": [
    "# Gera um array de shape (3,4) com valores aleatórios seguindo uma distribuição normal\n"
   ]
  },
  {
   "cell_type": "code",
   "execution_count": null,
   "id": "82c51a10",
   "metadata": {},
   "outputs": [],
   "source": []
  },
  {
   "cell_type": "markdown",
   "id": "efa48ece",
   "metadata": {},
   "source": [
    "### np.reshape()\n",
    "Modifica a forma de um array."
   ]
  },
  {
   "cell_type": "code",
   "execution_count": null,
   "id": "5fc634e0",
   "metadata": {},
   "outputs": [],
   "source": [
    "# Cria um array de shape (3,4)\n"
   ]
  },
  {
   "cell_type": "markdown",
   "id": "f0510cbc",
   "metadata": {},
   "source": [
    "### np.transpose()\n",
    "Transpõe um array."
   ]
  },
  {
   "cell_type": "code",
   "execution_count": null,
   "id": "2c15f174",
   "metadata": {},
   "outputs": [],
   "source": [
    "# Cria um array de shape (2,3)\n"
   ]
  },
  {
   "cell_type": "markdown",
   "id": "a49dad4d",
   "metadata": {},
   "source": [
    "### np.concatenate()\n",
    "Concatena arrays."
   ]
  },
  {
   "cell_type": "code",
   "execution_count": null,
   "id": "80087e98",
   "metadata": {},
   "outputs": [],
   "source": [
    "# Cria dois arrays de shape (2,2)\n"
   ]
  },
  {
   "cell_type": "markdown",
   "id": "54c1a125",
   "metadata": {},
   "source": [
    "### np.split()\n",
    "Divide um array em partes."
   ]
  },
  {
   "cell_type": "code",
   "execution_count": null,
   "id": "e5620935",
   "metadata": {},
   "outputs": [],
   "source": [
    "\n"
   ]
  },
  {
   "cell_type": "markdown",
   "id": "10872636",
   "metadata": {},
   "source": [
    "### np.max()\n",
    "A função np.max() retorna o valor máximo de um array."
   ]
  },
  {
   "cell_type": "code",
   "execution_count": null,
   "id": "d2eeb1bb",
   "metadata": {},
   "outputs": [],
   "source": [
    "\n"
   ]
  },
  {
   "cell_type": "markdown",
   "id": "4ec82de7",
   "metadata": {},
   "source": [
    "### np.min()\n",
    "A função np.min() retorna o valor mínimo de um array."
   ]
  },
  {
   "cell_type": "code",
   "execution_count": null,
   "id": "f6542b7f",
   "metadata": {},
   "outputs": [],
   "source": []
  },
  {
   "cell_type": "markdown",
   "id": "eb0f09fe",
   "metadata": {},
   "source": [
    "### np.mean()\n",
    "A função np.mean() retorna a média dos valores em um array."
   ]
  },
  {
   "cell_type": "code",
   "execution_count": null,
   "id": "f834d11f",
   "metadata": {},
   "outputs": [],
   "source": []
  },
  {
   "cell_type": "markdown",
   "id": "4d24ce9f",
   "metadata": {},
   "source": [
    "### np.std()\n",
    "A função np.std() retorna o desvio padrão dos valores em um array."
   ]
  },
  {
   "cell_type": "code",
   "execution_count": null,
   "id": "b9038f1c",
   "metadata": {},
   "outputs": [],
   "source": []
  },
  {
   "cell_type": "markdown",
   "id": "a91d9f19",
   "metadata": {},
   "source": [
    "### np.sum()\n",
    "A função np.sum() retorna a soma dos valores em um array."
   ]
  },
  {
   "cell_type": "code",
   "execution_count": null,
   "id": "3ca21f0a",
   "metadata": {},
   "outputs": [],
   "source": []
  }
 ],
 "metadata": {
  "kernelspec": {
   "display_name": "analise_dados",
   "language": "python",
   "name": "analise_dados"
  },
  "language_info": {
   "codemirror_mode": {
    "name": "ipython",
    "version": 3
   },
   "file_extension": ".py",
   "mimetype": "text/x-python",
   "name": "python",
   "nbconvert_exporter": "python",
   "pygments_lexer": "ipython3",
   "version": "3.11.3"
  }
 },
 "nbformat": 4,
 "nbformat_minor": 5
}

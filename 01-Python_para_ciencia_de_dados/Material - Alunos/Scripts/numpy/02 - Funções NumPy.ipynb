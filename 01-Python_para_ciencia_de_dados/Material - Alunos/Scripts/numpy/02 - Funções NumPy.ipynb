{
 "cells": [
  {
   "cell_type": "markdown",
   "id": "3c66eb6e",
   "metadata": {},
   "source": [
    "# Funções do NumPy\n",
    "***\n",
    "\n",
    "O NumPy possui diversas funções que facilitam a manipulação e análise de dados em arrays multidimensionais. Nesse notebook vamos demonstrar algumas delas. "
   ]
  },
  {
   "cell_type": "markdown",
   "id": "20060560",
   "metadata": {},
   "source": [
    "### Importação da biblioteca"
   ]
  },
  {
   "cell_type": "code",
   "execution_count": 1,
   "id": "b3123be1",
   "metadata": {},
   "outputs": [],
   "source": [
    "import numpy as np"
   ]
  },
  {
   "cell_type": "markdown",
   "id": "09e6435a",
   "metadata": {},
   "source": [
    "### np.arange()\n",
    "Cria um array com valores sequenciais em um intervalo especificado;"
   ]
  },
  {
   "cell_type": "code",
   "execution_count": 2,
   "id": "43e5290e",
   "metadata": {},
   "outputs": [
    {
     "data": {
      "text/plain": [
       "array([0, 1, 2, 3, 4, 5, 6, 7, 8, 9])"
      ]
     },
     "execution_count": 2,
     "metadata": {},
     "output_type": "execute_result"
    }
   ],
   "source": [
    "# cria um array com valores sequenciais de 0 a 9\n",
    "np.arange(10)"
   ]
  },
  {
   "cell_type": "code",
   "execution_count": 3,
   "id": "b9714796",
   "metadata": {},
   "outputs": [
    {
     "data": {
      "text/plain": [
       "array([ 1,  2,  3,  4,  5,  6,  7,  8,  9, 10])"
      ]
     },
     "execution_count": 3,
     "metadata": {},
     "output_type": "execute_result"
    }
   ],
   "source": [
    "np.arange(1,11)"
   ]
  },
  {
   "cell_type": "code",
   "execution_count": 4,
   "id": "c29f818b",
   "metadata": {},
   "outputs": [
    {
     "data": {
      "text/plain": [
       "array([ 0,  2,  4,  6,  8, 10])"
      ]
     },
     "execution_count": 4,
     "metadata": {},
     "output_type": "execute_result"
    }
   ],
   "source": [
    "np.arange(0,11, 2)"
   ]
  },
  {
   "cell_type": "markdown",
   "id": "843b24ac",
   "metadata": {},
   "source": [
    "### np.zeros()\n",
    "Cria um array preenchido com zeros;"
   ]
  },
  {
   "cell_type": "code",
   "execution_count": 5,
   "id": "f35db311",
   "metadata": {},
   "outputs": [
    {
     "data": {
      "text/plain": [
       "array([0., 0., 0.])"
      ]
     },
     "execution_count": 5,
     "metadata": {},
     "output_type": "execute_result"
    }
   ],
   "source": [
    "# cria um array com 3 elementos preenchidos com zeros\n",
    "np.zeros(3)"
   ]
  },
  {
   "cell_type": "code",
   "execution_count": 9,
   "id": "239301c2",
   "metadata": {},
   "outputs": [
    {
     "data": {
      "text/plain": [
       "array([[0., 0., 0.],\n",
       "       [0., 0., 0.]])"
      ]
     },
     "execution_count": 9,
     "metadata": {},
     "output_type": "execute_result"
    }
   ],
   "source": [
    "a = np.zeros([2,3])\n",
    "a"
   ]
  },
  {
   "cell_type": "code",
   "execution_count": 10,
   "id": "a661de0f",
   "metadata": {},
   "outputs": [
    {
     "data": {
      "text/plain": [
       "numpy.float64"
      ]
     },
     "execution_count": 10,
     "metadata": {},
     "output_type": "execute_result"
    }
   ],
   "source": [
    "type(a[0][0])"
   ]
  },
  {
   "cell_type": "markdown",
   "id": "5c0c6c07",
   "metadata": {},
   "source": [
    "### np.ones()\n",
    "Cria um array preenchido com uns;"
   ]
  },
  {
   "cell_type": "code",
   "execution_count": 12,
   "id": "14b888a9",
   "metadata": {},
   "outputs": [
    {
     "data": {
      "text/plain": [
       "array([[1., 1., 1.],\n",
       "       [1., 1., 1.]])"
      ]
     },
     "execution_count": 12,
     "metadata": {},
     "output_type": "execute_result"
    }
   ],
   "source": [
    "np.ones([2,3])"
   ]
  },
  {
   "cell_type": "markdown",
   "id": "487e8262",
   "metadata": {},
   "source": [
    "### np.eye()\n",
    "Cria uma matriz identidade;\n",
    "\n",
    "Uma matriz identidade é uma matriz quadrada em que todos os elementos da diagonal principal são iguais a 1 e todos os outros elementos são iguais a 0."
   ]
  },
  {
   "cell_type": "code",
   "execution_count": 13,
   "id": "cb3a63c2",
   "metadata": {},
   "outputs": [
    {
     "data": {
      "text/plain": [
       "array([[1., 0., 0.],\n",
       "       [0., 1., 0.],\n",
       "       [0., 0., 1.]])"
      ]
     },
     "execution_count": 13,
     "metadata": {},
     "output_type": "execute_result"
    }
   ],
   "source": [
    "np.eye(3)"
   ]
  },
  {
   "cell_type": "markdown",
   "id": "c2976527",
   "metadata": {},
   "source": [
    "### np.random.rand()\n",
    "Gera um array com valores aleatórios entre 0 e 1."
   ]
  },
  {
   "cell_type": "code",
   "execution_count": 21,
   "id": "922c1786",
   "metadata": {},
   "outputs": [
    {
     "data": {
      "text/plain": [
       "array([[0.15051468, 0.33976482, 0.59263735],\n",
       "       [0.79897314, 0.66122784, 0.42727207]])"
      ]
     },
     "execution_count": 21,
     "metadata": {},
     "output_type": "execute_result"
    }
   ],
   "source": [
    "# Gera um array de shape (2,3) com valores aleatórios entre 0 e 1\n",
    "np.random.rand(2, 3)"
   ]
  },
  {
   "cell_type": "markdown",
   "id": "bd46e010",
   "metadata": {},
   "source": [
    "### np.random.randn()\n",
    "Gera um array com valores aleatórios seguindo uma distribuição normal."
   ]
  },
  {
   "cell_type": "code",
   "execution_count": 22,
   "id": "f633517f",
   "metadata": {},
   "outputs": [
    {
     "data": {
      "text/plain": [
       "array([[ 1.45379864, -2.01085995,  0.63630572, -0.12888439],\n",
       "       [-2.42012386, -0.34060927, -1.08088151, -0.71074143],\n",
       "       [ 1.08665241,  2.86615622, -2.59684149, -0.59066175]])"
      ]
     },
     "execution_count": 22,
     "metadata": {},
     "output_type": "execute_result"
    }
   ],
   "source": [
    "# Gera um array de shape (3,4) com valores aleatórios seguindo uma distribuição normal\n",
    "np.random.randn(3, 4)"
   ]
  },
  {
   "cell_type": "markdown",
   "id": "efa48ece",
   "metadata": {},
   "source": [
    "### np.reshape()\n",
    "Modifica a forma de um array."
   ]
  },
  {
   "cell_type": "code",
   "execution_count": 23,
   "id": "5fc634e0",
   "metadata": {},
   "outputs": [
    {
     "data": {
      "text/plain": [
       "array([[ 0,  1,  2,  3,  4,  5],\n",
       "       [ 6,  7,  8,  9, 10, 11]])"
      ]
     },
     "execution_count": 23,
     "metadata": {},
     "output_type": "execute_result"
    }
   ],
   "source": [
    "# Cria um array de shape (3,4)\n",
    "arr = np.arange(12).reshape(2,6)\n",
    "arr"
   ]
  },
  {
   "cell_type": "markdown",
   "id": "f0510cbc",
   "metadata": {},
   "source": [
    "### np.transpose()\n",
    "Transpõe um array."
   ]
  },
  {
   "cell_type": "code",
   "execution_count": 24,
   "id": "2c15f174",
   "metadata": {},
   "outputs": [
    {
     "data": {
      "text/plain": [
       "array([[ 0,  6],\n",
       "       [ 1,  7],\n",
       "       [ 2,  8],\n",
       "       [ 3,  9],\n",
       "       [ 4, 10],\n",
       "       [ 5, 11]])"
      ]
     },
     "execution_count": 24,
     "metadata": {},
     "output_type": "execute_result"
    }
   ],
   "source": [
    "# Cria um array de shape (2,3)\n",
    "np.transpose(arr)"
   ]
  },
  {
   "cell_type": "markdown",
   "id": "a49dad4d",
   "metadata": {},
   "source": [
    "### np.concatenate()\n",
    "Concatena arrays."
   ]
  },
  {
   "cell_type": "code",
   "execution_count": 29,
   "id": "80087e98",
   "metadata": {},
   "outputs": [
    {
     "data": {
      "text/plain": [
       "array([0.        , 1.        , 2.        , 3.        , 4.        ,\n",
       "       0.74465238, 0.23340562, 0.47931399, 0.95447416, 0.63357204])"
      ]
     },
     "execution_count": 29,
     "metadata": {},
     "output_type": "execute_result"
    }
   ],
   "source": [
    "# Cria dois arrays de shape (2,2)\n",
    "arr1 = np.arange(5)\n",
    "arr2 = np.random.rand(5)\n",
    "np.concatenate((arr1, arr2))"
   ]
  },
  {
   "cell_type": "markdown",
   "id": "54c1a125",
   "metadata": {},
   "source": [
    "### np.split()\n",
    "Divide um array em partes."
   ]
  },
  {
   "cell_type": "code",
   "execution_count": 35,
   "id": "e5620935",
   "metadata": {},
   "outputs": [
    {
     "data": {
      "text/plain": [
       "[array([1, 2, 3]), array([4, 5, 6])]"
      ]
     },
     "execution_count": 35,
     "metadata": {},
     "output_type": "execute_result"
    }
   ],
   "source": [
    "arr = np.array([1, 2, 3 ,4, 5, 6])\n",
    "array_split = np.split(arr, 2)\n",
    "array_split\n"
   ]
  },
  {
   "cell_type": "code",
   "execution_count": 36,
   "id": "0e646c21",
   "metadata": {},
   "outputs": [
    {
     "data": {
      "text/plain": [
       "list"
      ]
     },
     "execution_count": 36,
     "metadata": {},
     "output_type": "execute_result"
    }
   ],
   "source": [
    "type(array_split)"
   ]
  },
  {
   "cell_type": "code",
   "execution_count": 37,
   "id": "6c314082",
   "metadata": {},
   "outputs": [
    {
     "data": {
      "text/plain": [
       "array([1, 2, 3])"
      ]
     },
     "execution_count": 37,
     "metadata": {},
     "output_type": "execute_result"
    }
   ],
   "source": [
    "array_split[0]"
   ]
  },
  {
   "cell_type": "markdown",
   "id": "10872636",
   "metadata": {},
   "source": [
    "### np.max()\n",
    "A função np.max() retorna o valor máximo de um array."
   ]
  },
  {
   "cell_type": "code",
   "execution_count": 31,
   "id": "d2eeb1bb",
   "metadata": {},
   "outputs": [
    {
     "data": {
      "text/plain": [
       "6"
      ]
     },
     "execution_count": 31,
     "metadata": {},
     "output_type": "execute_result"
    }
   ],
   "source": [
    "arr.max()"
   ]
  },
  {
   "cell_type": "markdown",
   "id": "4ec82de7",
   "metadata": {},
   "source": [
    "### np.min()\n",
    "A função np.min() retorna o valor mínimo de um array."
   ]
  },
  {
   "cell_type": "code",
   "execution_count": 32,
   "id": "f6542b7f",
   "metadata": {},
   "outputs": [
    {
     "data": {
      "text/plain": [
       "1"
      ]
     },
     "execution_count": 32,
     "metadata": {},
     "output_type": "execute_result"
    }
   ],
   "source": [
    "arr.min()"
   ]
  },
  {
   "cell_type": "markdown",
   "id": "eb0f09fe",
   "metadata": {},
   "source": [
    "### np.mean()\n",
    "A função np.mean() retorna a média dos valores em um array."
   ]
  },
  {
   "cell_type": "code",
   "execution_count": 33,
   "id": "f834d11f",
   "metadata": {},
   "outputs": [
    {
     "data": {
      "text/plain": [
       "3.5"
      ]
     },
     "execution_count": 33,
     "metadata": {},
     "output_type": "execute_result"
    }
   ],
   "source": [
    "arr.mean()"
   ]
  },
  {
   "cell_type": "markdown",
   "id": "4d24ce9f",
   "metadata": {},
   "source": [
    "### np.std()\n",
    "A função np.std() retorna o desvio padrão dos valores em um array."
   ]
  },
  {
   "cell_type": "code",
   "execution_count": 34,
   "id": "b9038f1c",
   "metadata": {},
   "outputs": [
    {
     "data": {
      "text/plain": [
       "1.707825127659933"
      ]
     },
     "execution_count": 34,
     "metadata": {},
     "output_type": "execute_result"
    }
   ],
   "source": [
    "arr.std()"
   ]
  },
  {
   "cell_type": "markdown",
   "id": "a91d9f19",
   "metadata": {},
   "source": [
    "### np.sum()\n",
    "A função np.sum() retorna a soma dos valores em um array."
   ]
  },
  {
   "cell_type": "code",
   "execution_count": 38,
   "id": "3ca21f0a",
   "metadata": {},
   "outputs": [
    {
     "data": {
      "text/plain": [
       "21"
      ]
     },
     "execution_count": 38,
     "metadata": {},
     "output_type": "execute_result"
    }
   ],
   "source": [
    "arr.sum()"
   ]
  }
 ],
 "metadata": {
  "kernelspec": {
   "display_name": "pucminas",
   "language": "python",
   "name": "python3"
  },
  "language_info": {
   "codemirror_mode": {
    "name": "ipython",
    "version": 3
   },
   "file_extension": ".py",
   "mimetype": "text/x-python",
   "name": "python",
   "nbconvert_exporter": "python",
   "pygments_lexer": "ipython3",
   "version": "3.12.3"
  }
 },
 "nbformat": 4,
 "nbformat_minor": 5
}

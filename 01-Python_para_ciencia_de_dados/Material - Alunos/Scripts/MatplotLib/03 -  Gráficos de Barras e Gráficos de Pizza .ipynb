{
 "cells": [
  {
   "cell_type": "markdown",
   "id": "f3f2076e",
   "metadata": {},
   "source": [
    "#  Gráficos de Barras e Gráficos de Pizza\n",
    "***\n",
    "Os gráficos de barras e os gráficos de pizza são duas formas populares de visualização de dados, amplamente utilizadas para representar informações de maneira clara e intuitiva. Cada um desses tipos de gráfico possui características distintas e é adequado para diferentes propósitos de análise e apresentação."
   ]
  },
  {
   "cell_type": "markdown",
   "id": "6072fe86",
   "metadata": {},
   "source": [
    "### Importação das bibliotecas\n"
   ]
  },
  {
   "cell_type": "code",
   "execution_count": 1,
   "id": "f42670ce",
   "metadata": {},
   "outputs": [],
   "source": [
    "import pandas as pd\n",
    "import numpy as np\n",
    "import seaborn as sns\n",
    "import matplotlib.pyplot as plt"
   ]
  },
  {
   "cell_type": "markdown",
   "id": "be47e44e",
   "metadata": {},
   "source": [
    "### Dados de exemplo"
   ]
  },
  {
   "cell_type": "code",
   "execution_count": 2,
   "id": "ab54a77d",
   "metadata": {},
   "outputs": [
    {
     "data": {
      "text/html": [
       "<div>\n",
       "<style scoped>\n",
       "    .dataframe tbody tr th:only-of-type {\n",
       "        vertical-align: middle;\n",
       "    }\n",
       "\n",
       "    .dataframe tbody tr th {\n",
       "        vertical-align: top;\n",
       "    }\n",
       "\n",
       "    .dataframe thead th {\n",
       "        text-align: right;\n",
       "    }\n",
       "</style>\n",
       "<table border=\"1\" class=\"dataframe\">\n",
       "  <thead>\n",
       "    <tr style=\"text-align: right;\">\n",
       "      <th></th>\n",
       "      <th>Nome do vendedor</th>\n",
       "      <th>Produto vendido</th>\n",
       "      <th>Quantidade unitária</th>\n",
       "      <th>Valor do produto</th>\n",
       "      <th>Valor da venda</th>\n",
       "      <th>Data da compra</th>\n",
       "      <th>Localização</th>\n",
       "    </tr>\n",
       "  </thead>\n",
       "  <tbody>\n",
       "    <tr>\n",
       "      <th>0</th>\n",
       "      <td>Joaquim Souza</td>\n",
       "      <td>Produto B</td>\n",
       "      <td>9</td>\n",
       "      <td>33.32</td>\n",
       "      <td>299.88</td>\n",
       "      <td>12/01/2023</td>\n",
       "      <td>PI</td>\n",
       "    </tr>\n",
       "    <tr>\n",
       "      <th>1</th>\n",
       "      <td>Lorenzo da Luz</td>\n",
       "      <td>Produto B</td>\n",
       "      <td>10</td>\n",
       "      <td>94.38</td>\n",
       "      <td>943.80</td>\n",
       "      <td>24/03/2023</td>\n",
       "      <td>DF</td>\n",
       "    </tr>\n",
       "    <tr>\n",
       "      <th>2</th>\n",
       "      <td>Gustavo Henrique Moreira</td>\n",
       "      <td>Produto E</td>\n",
       "      <td>9</td>\n",
       "      <td>84.45</td>\n",
       "      <td>760.05</td>\n",
       "      <td>11/06/2022</td>\n",
       "      <td>PE</td>\n",
       "    </tr>\n",
       "    <tr>\n",
       "      <th>3</th>\n",
       "      <td>Lorena da Costa</td>\n",
       "      <td>Produto C</td>\n",
       "      <td>5</td>\n",
       "      <td>34.14</td>\n",
       "      <td>170.70</td>\n",
       "      <td>24/12/2022</td>\n",
       "      <td>RO</td>\n",
       "    </tr>\n",
       "    <tr>\n",
       "      <th>4</th>\n",
       "      <td>Caio Monteiro</td>\n",
       "      <td>Produto C</td>\n",
       "      <td>2</td>\n",
       "      <td>94.42</td>\n",
       "      <td>188.84</td>\n",
       "      <td>27/05/2022</td>\n",
       "      <td>MG</td>\n",
       "    </tr>\n",
       "  </tbody>\n",
       "</table>\n",
       "</div>"
      ],
      "text/plain": [
       "           Nome do vendedor Produto vendido  Quantidade unitária  \\\n",
       "0             Joaquim Souza       Produto B                    9   \n",
       "1            Lorenzo da Luz       Produto B                   10   \n",
       "2  Gustavo Henrique Moreira       Produto E                    9   \n",
       "3           Lorena da Costa       Produto C                    5   \n",
       "4             Caio Monteiro       Produto C                    2   \n",
       "\n",
       "   Valor do produto  Valor da venda Data da compra Localização  \n",
       "0             33.32          299.88     12/01/2023          PI  \n",
       "1             94.38          943.80     24/03/2023          DF  \n",
       "2             84.45          760.05     11/06/2022          PE  \n",
       "3             34.14          170.70     24/12/2022          RO  \n",
       "4             94.42          188.84     27/05/2022          MG  "
      ]
     },
     "execution_count": 2,
     "metadata": {},
     "output_type": "execute_result"
    }
   ],
   "source": [
    "df = pd.read_csv('../pandas/datasets/dados_vendas_produtos.csv', encoding='latin1', sep=';')\n",
    "df.head()"
   ]
  },
  {
   "cell_type": "markdown",
   "id": "6c326736",
   "metadata": {},
   "source": [
    "### Gráfico de barras\n",
    "***\n",
    "Os gráficos de barras são uma forma popular de visualização de dados, amplamente utilizada em diversas áreas para representar informações quantitativas de maneira clara e intuitiva. Nesse tipo de gráfico, as barras retangulares são usadas para comparar valores entre diferentes categorias.\n",
    "\n",
    "A principal vantagem dos gráficos de barras é sua capacidade de facilitar a comparação visual de dados entre categorias distintas. Isso permite identificar padrões, tendências e diferenças significativas nos valores representados. Além disso, os gráficos de barras são amplamente aceitos e compreendidos por uma variedade de públicos, tornando-os uma ferramenta de comunicação eficaz.\n",
    "\n",
    "Existem várias situações em que os gráficos de barras podem ser utilizados:\n",
    "\n",
    "<input type=\"checkbox\" checked disabled> **Comparação de Vendas:** Um exemplo comum é comparar as vendas de diferentes produtos ao longo de um determinado período. As barras podem representar as vendas de cada produto, facilitando a identificação dos produtos mais vendidos e possibilitando análises de desempenho.\n",
    "\n",
    "<input type=\"checkbox\" checked disabled> **Análise de Pesquisas:** Os gráficos de barras são frequentemente utilizados para apresentar os resultados de pesquisas, onde as barras representam as frequências ou percentagens de diferentes respostas. Isso ajuda a visualizar claramente as preferências ou opiniões dos participantes da pesquisa.\n",
    "\n",
    "<input type=\"checkbox\" checked disabled> **Análise de Desempenho Financeiro:** Os gráficos de barras são úteis para comparar o desempenho financeiro de diferentes empresas ou períodos. As barras podem representar métricas financeiras, como receitas, despesas ou lucros, permitindo uma análise rápida e fácil da situação financeira.\n",
    "\n",
    "<input type=\"checkbox\" checked disabled> **Visualização de Dados Demográficos:** Os gráficos de barras podem ser usados para representar dados demográficos, como faixa etária, nível de escolaridade, ocupação, entre outros. Isso facilita a compreensão das características de determinado grupo populacional.\n",
    "\n",
    "<input type=\"checkbox\" checked disabled> **Monitoramento de Metas e Indicadores de Desempenho:** Os gráficos de barras podem ser empregados para monitorar o progresso em relação a metas ou indicadores de desempenho. As barras podem representar os valores reais e as metas estabelecidas, possibilitando uma visualização clara do desempenho em relação aos objetivos.\n",
    "\n",
    "<input type=\"checkbox\" checked disabled> **Comparação de Resultados Experimentais:** Os gráficos de barras são frequentemente utilizados em experimentos científicos para comparar resultados entre diferentes grupos experimentais ou condições. Isso permite identificar diferenças significativas e tirar conclusões sobre o efeito de determinadas variáveis.\n",
    "\n"
   ]
  },
  {
   "cell_type": "code",
   "execution_count": 8,
   "id": "01f887f7",
   "metadata": {},
   "outputs": [],
   "source": [
    "grouped = df.groupby('Produto vendido')\n",
    "dados_agrupados = grouped.agg(\n",
    "    total_vendas = ('Valor da venda', 'sum')\n",
    ").reset_index()"
   ]
  },
  {
   "cell_type": "code",
   "execution_count": 9,
   "id": "9af80fc8",
   "metadata": {},
   "outputs": [
    {
     "data": {
      "text/html": [
       "<div>\n",
       "<style scoped>\n",
       "    .dataframe tbody tr th:only-of-type {\n",
       "        vertical-align: middle;\n",
       "    }\n",
       "\n",
       "    .dataframe tbody tr th {\n",
       "        vertical-align: top;\n",
       "    }\n",
       "\n",
       "    .dataframe thead th {\n",
       "        text-align: right;\n",
       "    }\n",
       "</style>\n",
       "<table border=\"1\" class=\"dataframe\">\n",
       "  <thead>\n",
       "    <tr style=\"text-align: right;\">\n",
       "      <th></th>\n",
       "      <th>Produto vendido</th>\n",
       "      <th>total_vendas</th>\n",
       "    </tr>\n",
       "  </thead>\n",
       "  <tbody>\n",
       "    <tr>\n",
       "      <th>0</th>\n",
       "      <td>Produto A</td>\n",
       "      <td>51579.02</td>\n",
       "    </tr>\n",
       "    <tr>\n",
       "      <th>1</th>\n",
       "      <td>Produto B</td>\n",
       "      <td>70206.73</td>\n",
       "    </tr>\n",
       "    <tr>\n",
       "      <th>2</th>\n",
       "      <td>Produto C</td>\n",
       "      <td>64248.03</td>\n",
       "    </tr>\n",
       "    <tr>\n",
       "      <th>3</th>\n",
       "      <td>Produto D</td>\n",
       "      <td>59811.19</td>\n",
       "    </tr>\n",
       "    <tr>\n",
       "      <th>4</th>\n",
       "      <td>Produto E</td>\n",
       "      <td>54104.41</td>\n",
       "    </tr>\n",
       "  </tbody>\n",
       "</table>\n",
       "</div>"
      ],
      "text/plain": [
       "  Produto vendido  total_vendas\n",
       "0       Produto A      51579.02\n",
       "1       Produto B      70206.73\n",
       "2       Produto C      64248.03\n",
       "3       Produto D      59811.19\n",
       "4       Produto E      54104.41"
      ]
     },
     "execution_count": 9,
     "metadata": {},
     "output_type": "execute_result"
    }
   ],
   "source": [
    "dados_agrupados"
   ]
  },
  {
   "cell_type": "code",
   "execution_count": 18,
   "id": "04143c58",
   "metadata": {},
   "outputs": [
    {
     "name": "stderr",
     "output_type": "stream",
     "text": [
      "C:\\Users\\vitor\\AppData\\Local\\Temp\\ipykernel_11776\\4148734724.py:2: FutureWarning: \n",
      "\n",
      "Passing `palette` without assigning `hue` is deprecated and will be removed in v0.14.0. Assign the `y` variable to `hue` and set `legend=False` for the same effect.\n",
      "\n",
      "  sns.barplot(data=dados_agrupados, y='Produto vendido', x='total_vendas', palette='tab10', orient='h')\n"
     ]
    },
    {
     "data": {
      "image/png": "[encoded data removed]",
      "text/plain": [
       "<Figure size 640x480 with 1 Axes>"
      ]
     },
     "metadata": {},
     "output_type": "display_data"
    }
   ],
   "source": [
    "sns.set(style=('darkgrid'))\n",
    "sns.barplot(data=dados_agrupados, y='Produto vendido', x='total_vendas', palette='tab10', orient='h')\n",
    "plt.show()"
   ]
  },
  {
   "cell_type": "code",
   "execution_count": null,
   "id": "8e82ce61",
   "metadata": {},
   "outputs": [],
   "source": []
  },
  {
   "cell_type": "markdown",
   "id": "c9f78ee7",
   "metadata": {},
   "source": [
    "### Personalização de altura e espaçamento\n"
   ]
  },
  {
   "cell_type": "code",
   "execution_count": null,
   "id": "6f99274f",
   "metadata": {},
   "outputs": [],
   "source": []
  },
  {
   "cell_type": "code",
   "execution_count": null,
   "id": "7dcfa7ea",
   "metadata": {},
   "outputs": [],
   "source": [
    "\n"
   ]
  },
  {
   "cell_type": "markdown",
   "id": "87937587",
   "metadata": {},
   "source": [
    "### Personalização utilizando dados de DataFrame"
   ]
  },
  {
   "cell_type": "code",
   "execution_count": null,
   "id": "0d3ad4a4",
   "metadata": {},
   "outputs": [],
   "source": []
  },
  {
   "cell_type": "markdown",
   "id": "9b8ba583",
   "metadata": {},
   "source": [
    "### Gráfico de Pizza\n",
    "***\n",
    "O gráfico de pizza é um tipo de visualização de dados que utiliza uma representação circular para mostrar a distribuição proporcional de diferentes categorias ou partes de um todo. Também conhecido como gráfico de setores ou gráfico de torta, ele é amplamente utilizado para apresentar dados que envolvem porcentagens ou proporções.\n",
    "\n",
    "Esse tipo de gráfico é composto por diferentes fatias, cada uma representando uma categoria ou parte do todo. A área de cada fatia é proporcional à quantidade que ela representa em relação ao total, permitindo uma compreensão rápida e intuitiva da distribuição dos dados.\n",
    "\n",
    "Situações de uso do Gráfico de Pizza:\n",
    "\n",
    "\n",
    "<input type=\"checkbox\" checked disabled> **Composição de uma amostra:** O gráfico de pizza pode ser usado para representar a composição de uma amostra em termos de diferentes grupos ou categorias. Por exemplo, em uma pesquisa de opinião, podemos usar um gráfico de pizza para mostrar a proporção de entrevistados que têm determinadas preferências ou opiniões.\n",
    "\n",
    "<input type=\"checkbox\" checked disabled> **Participação de mercado:** Em análises de negócios, o gráfico de pizza pode ser útil para mostrar a participação de mercado de diferentes empresas ou marcas em um determinado setor. Isso permite uma visualização clara da fatia de mercado que cada concorrente possui.\n",
    "\n",
    "<input type=\"checkbox\" checked disabled> **Distribuição de gastos:** Para análises financeiras pessoais ou empresariais, o gráfico de pizza pode representar a distribuição de gastos em diferentes categorias, como alimentação, moradia, transporte, entre outros. Isso ajuda a identificar onde os recursos estão sendo direcionados.\n",
    "\n",
    "<input type=\"checkbox\" checked disabled> **Distribuição demográfica:** Em estudos demográficos, o gráfico de pizza pode ser usado para ilustrar a distribuição da população em diferentes grupos etários, gêneros, níveis de educação, entre outros. Isso fornece uma visão geral da composição demográfica de uma determinada área ou população.\n",
    "\n",
    "<input type=\"checkbox\" checked disabled> **Percentuais e proporções:** O gráfico de pizza é especialmente útil quando queremos destacar as proporções ou percentuais de diferentes categorias em relação ao todo. Ele permite identificar rapidamente as porcentagens de cada categoria e fazer comparações visuais entre elas.\n"
   ]
  },
  {
   "cell_type": "markdown",
   "id": "73b83359",
   "metadata": {},
   "source": [
    "### Criação de gráfico de pizza simples"
   ]
  },
  {
   "cell_type": "code",
   "execution_count": 33,
   "id": "10d1458a",
   "metadata": {},
   "outputs": [
    {
     "data": {
      "image/png": "[encoded data removed]",
      "text/plain": [
       "<Figure size 640x480 with 1 Axes>"
      ]
     },
     "metadata": {},
     "output_type": "display_data"
    }
   ],
   "source": [
    "indice_maior_percentual = dados_agrupados['total_vendas'].idxmax()\n",
    "explode = [0.1 if i==indice_maior_percentual else 0 for i in dados_agrupados.index]\n",
    "plt.pie(x=dados_agrupados['total_vendas'], \n",
    "        labels=dados_agrupados['Produto vendido'],\n",
    "        autopct='%1.1f%%',\n",
    "        explode=explode)\n",
    "plt.show()"
   ]
  },
  {
   "cell_type": "markdown",
   "id": "9e081731",
   "metadata": {},
   "source": [
    "### Destacando fatias em gráficos de pizza"
   ]
  },
  {
   "cell_type": "code",
   "execution_count": 26,
   "id": "772655c1",
   "metadata": {},
   "outputs": [],
   "source": [
    "indice_maior_percentual = dados_agrupados['total_vendas'].idxmax()"
   ]
  },
  {
   "cell_type": "code",
   "execution_count": 28,
   "id": "82e10290",
   "metadata": {},
   "outputs": [
    {
     "data": {
      "text/plain": [
       "[0, 0.1, 0, 0, 0]"
      ]
     },
     "execution_count": 28,
     "metadata": {},
     "output_type": "execute_result"
    }
   ],
   "source": [
    "explode = [0.1 if i==indice_maior_percentual else 0 for i in dados_agrupados.index]\n",
    "explode\n"
   ]
  },
  {
   "cell_type": "markdown",
   "id": "8c246e7a",
   "metadata": {},
   "source": [
    "### Alerando paleta de cores"
   ]
  },
  {
   "cell_type": "code",
   "execution_count": null,
   "id": "b3a0286c",
   "metadata": {},
   "outputs": [],
   "source": []
  }
 ],
 "metadata": {
  "kernelspec": {
   "display_name": "pucminas",
   "language": "python",
   "name": "pucminas"
  },
  "language_info": {
   "codemirror_mode": {
    "name": "ipython",
    "version": 3
   },
   "file_extension": ".py",
   "mimetype": "text/x-python",
   "name": "python",
   "nbconvert_exporter": "python",
   "pygments_lexer": "ipython3",
   "version": "3.12.3"
  }
 },
 "nbformat": 4,
 "nbformat_minor": 5
}

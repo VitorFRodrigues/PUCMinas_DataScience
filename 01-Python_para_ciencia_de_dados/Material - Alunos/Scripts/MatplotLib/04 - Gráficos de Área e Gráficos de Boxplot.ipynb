{
 "cells": [
  {
   "cell_type": "markdown",
   "id": "f3f2076e",
   "metadata": {},
   "source": [
    "#  Gráficos de Área e Gráficos de Boxplot\n",
    "***\n",
    "Os gráficos de área e os gráficos de boxplot são ferramentas úteis para a visualização e análise de dados em diferentes contextos. Eles fornecem informações valiosas sobre a distribuição, variabilidade e tendências dos dados, permitindo uma compreensão mais profunda do conjunto de dados em estudo."
   ]
  },
  {
   "cell_type": "markdown",
   "id": "6072fe86",
   "metadata": {},
   "source": [
    "### Importação das bibliotecas\n"
   ]
  },
  {
   "cell_type": "code",
   "execution_count": 2,
   "id": "f42670ce",
   "metadata": {},
   "outputs": [],
   "source": [
    "import pandas as pd\n",
    "import numpy as np\n",
    "import seaborn as sns\n",
    "import matplotlib.pyplot as plt"
   ]
  },
  {
   "cell_type": "markdown",
   "id": "6c326736",
   "metadata": {},
   "source": [
    "### Gráfico de Área\n",
    "***\n",
    "O gráfico de área é uma forma visualmente atraente de representar a evolução de uma variável ao longo do tempo ou comparar a contribuição de diferentes categorias para um todo. Esse tipo de gráfico é composto por uma linha que representa a tendência da variável e uma área preenchida abaixo dessa linha, destacando a magnitude ou proporção da variável em cada ponto.\n",
    "\n",
    "Os gráficos de área são particularmente úteis quando se deseja analisar mudanças ao longo do tempo, identificar tendências, avaliar a distribuição de uma variável em relação a outras ou destacar a contribuição de diferentes componentes para um total. Eles oferecem uma representação visual eficaz que permite aos espectadores compreender facilmente o padrão de variação da variável ao longo do período considerado.\n",
    "\n",
    "Existem várias situações em que os gráficos de áreas podem ser utilizados:\n",
    "\n",
    "<input type=\"checkbox\" checked disabled> **Análise de Séries Temporais:** são amplamente utilizados para visualizar a evolução de uma variável ao longo do tempo. Isso pode ser aplicado a diferentes contextos, como dados econômicos, indicadores de desempenho, previsões climáticas ou tendências demográficas. Com um gráfico de área, é possível identificar padrões de crescimento, sazonalidade e flutuações em um intervalo de tempo.\n",
    "\n",
    "<input type=\"checkbox\" checked disabled> **Comparação de Categorias:** são úteis para comparar a contribuição de diferentes categorias para um todo. Por exemplo, em um gráfico de área empilhada, cada categoria é representada por uma área preenchida abaixo da linha principal. Isso permite visualizar a participação relativa de cada categoria e identificar aquelas que têm maior ou menor influência no total.\n",
    "\n",
    "<input type=\"checkbox\" checked disabled> **Visualização de Dados de Pesquisa:** podem ser utilizados para apresentar dados de pesquisa de forma visualmente atraente. Por exemplo, em uma pesquisa de opinião com múltiplas respostas possíveis, é possível criar um gráfico de área empilhada para mostrar a distribuição das respostas em cada categoria. Isso ajuda a entender as proporções de cada resposta e identificar padrões ou preferências.\n",
    "\n",
    "<input type=\"checkbox\" checked disabled> **Representação de Dados Geográficos:** Em mapas temáticos, os gráficos de área podem ser utilizados para representar dados geográficos. Por exemplo, em um mapa de densidade populacional, diferentes áreas geográficas podem ser preenchidas com cores de acordo com a quantidade de população residente, fornecendo uma representação visual clara das variações espaciais.\n",
    "\n",
    "<input type=\"checkbox\" checked disabled> **Análise de Contribuição Percentual:** Gráficos de área são úteis quando se deseja avaliar a contribuição percentual de diferentes componentes para um total. Por exemplo, em um gráfico de área 100% empilhada, cada componente é representado como uma área preenchida proporcional ao seu percentual em relação ao todo. Isso permite identificar facilmente as partes que têm maior ou menor impacto no total."
   ]
  },
  {
   "cell_type": "markdown",
   "id": "be47e44e",
   "metadata": {},
   "source": [
    "### Dados de exemplo"
   ]
  },
  {
   "cell_type": "code",
   "execution_count": 3,
   "id": "ab54a77d",
   "metadata": {},
   "outputs": [],
   "source": [
    "data = {'launch_year': [1957, 1958, 1959, 1960, 1961, 1957, 1958, 1959, 1960, 1961, 1957, 1958, 1959,\n",
    "                        1960, 1961, 1957, 1958, 1959, 1960, 1961, 1957, 1958, 1959, 1960, 1961],\n",
    "        'state_code': ['China', 'China', 'China', 'China', 'China', 'France', 'France', 'France', 'France',\n",
    "                       'France', 'Japan', 'Japan', 'Japan', 'Japan', 'Japan', 'Russia', 'Russia', 'Russia',\n",
    "                       'Russia', 'Russia', 'United States', 'United States', 'United States', 'United States', 'United States'],\n",
    "        'value': [0, 0, 0, 0, 0, 0, 0, 0, 0, 0, 0, 0, 0, 0, 0, 2, 5, 4, 8, 9, 1, 22, 18, 29, 41]}\n",
    " \n",
    "# create a long format DataFrame\n",
    "df = pd.DataFrame(data)"
   ]
  },
  {
   "cell_type": "code",
   "execution_count": 5,
   "id": "01f887f7",
   "metadata": {},
   "outputs": [
    {
     "data": {
      "text/html": [
       "<div>\n",
       "<style scoped>\n",
       "    .dataframe tbody tr th:only-of-type {\n",
       "        vertical-align: middle;\n",
       "    }\n",
       "\n",
       "    .dataframe tbody tr th {\n",
       "        vertical-align: top;\n",
       "    }\n",
       "\n",
       "    .dataframe thead th {\n",
       "        text-align: right;\n",
       "    }\n",
       "</style>\n",
       "<table border=\"1\" class=\"dataframe\">\n",
       "  <thead>\n",
       "    <tr style=\"text-align: right;\">\n",
       "      <th></th>\n",
       "      <th>launch_year</th>\n",
       "      <th>state_code</th>\n",
       "      <th>value</th>\n",
       "    </tr>\n",
       "  </thead>\n",
       "  <tbody>\n",
       "    <tr>\n",
       "      <th>0</th>\n",
       "      <td>1957</td>\n",
       "      <td>China</td>\n",
       "      <td>0</td>\n",
       "    </tr>\n",
       "    <tr>\n",
       "      <th>1</th>\n",
       "      <td>1958</td>\n",
       "      <td>China</td>\n",
       "      <td>0</td>\n",
       "    </tr>\n",
       "    <tr>\n",
       "      <th>2</th>\n",
       "      <td>1959</td>\n",
       "      <td>China</td>\n",
       "      <td>0</td>\n",
       "    </tr>\n",
       "    <tr>\n",
       "      <th>3</th>\n",
       "      <td>1960</td>\n",
       "      <td>China</td>\n",
       "      <td>0</td>\n",
       "    </tr>\n",
       "    <tr>\n",
       "      <th>4</th>\n",
       "      <td>1961</td>\n",
       "      <td>China</td>\n",
       "      <td>0</td>\n",
       "    </tr>\n",
       "  </tbody>\n",
       "</table>\n",
       "</div>"
      ],
      "text/plain": [
       "   launch_year state_code  value\n",
       "0         1957      China      0\n",
       "1         1958      China      0\n",
       "2         1959      China      0\n",
       "3         1960      China      0\n",
       "4         1961      China      0"
      ]
     },
     "execution_count": 5,
     "metadata": {},
     "output_type": "execute_result"
    }
   ],
   "source": [
    "df.head()"
   ]
  },
  {
   "cell_type": "markdown",
   "id": "c9f78ee7",
   "metadata": {},
   "source": [
    "### Personalizaçãode cores, preenchimento e transparência nas áreas"
   ]
  },
  {
   "cell_type": "code",
   "execution_count": 12,
   "id": "6f99274f",
   "metadata": {},
   "outputs": [
    {
     "data": {
      "text/plain": [
       "<matplotlib.collections.PolyCollection at 0x1d9a8c806b0>"
      ]
     },
     "execution_count": 12,
     "metadata": {},
     "output_type": "execute_result"
    },
    {
     "data": {
      "image/png": "[encoded data removed]",
      "text/plain": [
       "<Figure size 640x480 with 1 Axes>"
      ]
     },
     "metadata": {},
     "output_type": "display_data"
    }
   ],
   "source": [
    "sns.lineplot(data=df, x='launch_year', y='value', hue='state_code')\n",
    "plt.fill_between(df['launch_year'], df['value'], color='skyblue', alpha=0.3)"
   ]
  },
  {
   "cell_type": "code",
   "execution_count": null,
   "id": "104f0b89",
   "metadata": {},
   "outputs": [],
   "source": []
  },
  {
   "cell_type": "markdown",
   "id": "9b8ba583",
   "metadata": {},
   "source": [
    "### Gráfico de Boxspot\n",
    "***\n",
    "Os gráficos de boxplot são uma forma eficaz de visualizar a distribuição estatística de um conjunto de dados. Eles são amplamente utilizados em análises exploratórias de dados e permitem identificar medidas-chave, como a mediana, quartis e possíveis valores discrepantes (outliers). O gráfico de boxplot é composto por uma \"caixa\" que representa o intervalo interquartil (IQR), ou seja, a faixa que contém 50% dos dados. Dentro da caixa, uma linha representa a mediana, que divide o conjunto de dados em duas partes iguais. Além disso, há duas \"hastes\" chamadas de bigodes, que se estendem a partir da caixa e representam a variação dos dados dentro de um intervalo aceitável. Valores fora desse intervalo são considerados possíveis outliers e são exibidos como pontos individuais.\n",
    "\n",
    "Situações de uso do Gráfico de Boxspot:\n",
    "\n",
    "\n",
    "<input type=\"checkbox\" checked disabled> **Comparação de distribuições:** Podemos utilizar o boxplot para comparar a distribuição de uma variável em diferentes grupos ou categorias. Isso nos permite identificar diferenças significativas nas medidas estatísticas entre os grupos.\n",
    "\n",
    "<input type=\"checkbox\" checked disabled> **Detecção de outliers:** O boxplot é especialmente eficaz na identificação de possíveis valores discrepantes (outliers). Esses valores são representados como pontos individuais fora dos limites dos bigodes, e podem ser indicativos de dados incomuns ou erros de medição.\n",
    "\n",
    "<input type=\"checkbox\" checked disabled> **Monitoramento de tendências ao longo do tempo:** Ao utilizar o boxplot em conjuntos de dados temporais, podemos visualizar as mudanças nas distribuições ao longo do tempo. Isso é útil para identificar padrões sazonais, tendências de crescimento ou flutuações significativas.\n",
    "\n",
    "<input type=\"checkbox\" checked disabled> **Análise comparativa:** O boxplot também pode ser utilizado para comparar a distribuição de uma variável em relação a uma referência, como uma média ou valor de referência. Isso nos permite avaliar se os dados estão acima ou abaixo da média esperada.\n",
    "\n",
    "<input type=\"checkbox\" checked disabled> **Análise de resultados de experimentos:** Em experimentos científicos ou estudos clínicos, o boxplot é uma ferramenta valiosa para visualizar e comparar os resultados obtidos em diferentes grupos de tratamento. Podemos identificar diferenças significativas nas medidas estatísticas entre os grupos, como medianas e variações\n"
   ]
  },
  {
   "cell_type": "code",
   "execution_count": 13,
   "id": "10d1458a",
   "metadata": {},
   "outputs": [
    {
     "data": {
      "text/html": [
       "<div>\n",
       "<style scoped>\n",
       "    .dataframe tbody tr th:only-of-type {\n",
       "        vertical-align: middle;\n",
       "    }\n",
       "\n",
       "    .dataframe tbody tr th {\n",
       "        vertical-align: top;\n",
       "    }\n",
       "\n",
       "    .dataframe thead th {\n",
       "        text-align: right;\n",
       "    }\n",
       "</style>\n",
       "<table border=\"1\" class=\"dataframe\">\n",
       "  <thead>\n",
       "    <tr style=\"text-align: right;\">\n",
       "      <th></th>\n",
       "      <th>id_cliente</th>\n",
       "      <th>peso</th>\n",
       "      <th>colesterol</th>\n",
       "      <th>genero</th>\n",
       "    </tr>\n",
       "  </thead>\n",
       "  <tbody>\n",
       "    <tr>\n",
       "      <th>0</th>\n",
       "      <td>1</td>\n",
       "      <td>102.0</td>\n",
       "      <td>111</td>\n",
       "      <td>Masculino</td>\n",
       "    </tr>\n",
       "    <tr>\n",
       "      <th>1</th>\n",
       "      <td>2</td>\n",
       "      <td>115.0</td>\n",
       "      <td>135</td>\n",
       "      <td>Masculino</td>\n",
       "    </tr>\n",
       "    <tr>\n",
       "      <th>2</th>\n",
       "      <td>3</td>\n",
       "      <td>115.0</td>\n",
       "      <td>136</td>\n",
       "      <td>Masculino</td>\n",
       "    </tr>\n",
       "    <tr>\n",
       "      <th>3</th>\n",
       "      <td>4</td>\n",
       "      <td>140.0</td>\n",
       "      <td>167</td>\n",
       "      <td>Feminino</td>\n",
       "    </tr>\n",
       "    <tr>\n",
       "      <th>4</th>\n",
       "      <td>5</td>\n",
       "      <td>130.0</td>\n",
       "      <td>158</td>\n",
       "      <td>Masculino</td>\n",
       "    </tr>\n",
       "  </tbody>\n",
       "</table>\n",
       "</div>"
      ],
      "text/plain": [
       "   id_cliente   peso  colesterol     genero\n",
       "0           1  102.0         111  Masculino\n",
       "1           2  115.0         135  Masculino\n",
       "2           3  115.0         136  Masculino\n",
       "3           4  140.0         167   Feminino\n",
       "4           5  130.0         158  Masculino"
      ]
     },
     "execution_count": 13,
     "metadata": {},
     "output_type": "execute_result"
    }
   ],
   "source": [
    "df = pd.read_csv('./datasets/dados_clinicos.csv', sep=';')\n",
    "df.head()"
   ]
  },
  {
   "cell_type": "code",
   "execution_count": 15,
   "id": "8e8a8c2f",
   "metadata": {},
   "outputs": [
    {
     "data": {
      "text/plain": [
       "<Axes: xlabel='colesterol', ylabel='genero'>"
      ]
     },
     "execution_count": 15,
     "metadata": {},
     "output_type": "execute_result"
    },
    {
     "data": {
      "image/png": "[encoded data removed]",
      "text/plain": [
       "<Figure size 640x480 with 1 Axes>"
      ]
     },
     "metadata": {},
     "output_type": "display_data"
    }
   ],
   "source": [
    "sns.boxplot(data=df, x='colesterol', y='genero')\n"
   ]
  },
  {
   "cell_type": "code",
   "execution_count": 21,
   "id": "56e8adad",
   "metadata": {},
   "outputs": [
    {
     "data": {
      "text/html": [
       "<div>\n",
       "<style scoped>\n",
       "    .dataframe tbody tr th:only-of-type {\n",
       "        vertical-align: middle;\n",
       "    }\n",
       "\n",
       "    .dataframe tbody tr th {\n",
       "        vertical-align: top;\n",
       "    }\n",
       "\n",
       "    .dataframe thead th {\n",
       "        text-align: right;\n",
       "    }\n",
       "</style>\n",
       "<table border=\"1\" class=\"dataframe\">\n",
       "  <thead>\n",
       "    <tr style=\"text-align: right;\">\n",
       "      <th></th>\n",
       "      <th>peso</th>\n",
       "      <th>colesterol</th>\n",
       "    </tr>\n",
       "  </thead>\n",
       "  <tbody>\n",
       "    <tr>\n",
       "      <th>peso</th>\n",
       "      <td>1.000000</td>\n",
       "      <td>0.988741</td>\n",
       "    </tr>\n",
       "    <tr>\n",
       "      <th>colesterol</th>\n",
       "      <td>0.988741</td>\n",
       "      <td>1.000000</td>\n",
       "    </tr>\n",
       "  </tbody>\n",
       "</table>\n",
       "</div>"
      ],
      "text/plain": [
       "                peso  colesterol\n",
       "peso        1.000000    0.988741\n",
       "colesterol  0.988741    1.000000"
      ]
     },
     "execution_count": 21,
     "metadata": {},
     "output_type": "execute_result"
    }
   ],
   "source": [
    "corr= df[['peso', 'colesterol']].corr()\n",
    "corr"
   ]
  },
  {
   "cell_type": "code",
   "execution_count": 20,
   "id": "0b970d86",
   "metadata": {},
   "outputs": [
    {
     "data": {
      "text/plain": [
       "<Axes: >"
      ]
     },
     "execution_count": 20,
     "metadata": {},
     "output_type": "execute_result"
    },
    {
     "data": {
      "image/png": "[encoded data removed]",
      "text/plain": [
       "<Figure size 640x480 with 2 Axes>"
      ]
     },
     "metadata": {},
     "output_type": "display_data"
    }
   ],
   "source": [
    "sns.heatmap(corr, annot=True)"
   ]
  }
 ],
 "metadata": {
  "kernelspec": {
   "display_name": "pucminas",
   "language": "python",
   "name": "pucminas"
  },
  "language_info": {
   "codemirror_mode": {
    "name": "ipython",
    "version": 3
   },
   "file_extension": ".py",
   "mimetype": "text/x-python",
   "name": "python",
   "nbconvert_exporter": "python",
   "pygments_lexer": "ipython3",
   "version": "3.12.3"
  }
 },
 "nbformat": 4,
 "nbformat_minor": 5
}

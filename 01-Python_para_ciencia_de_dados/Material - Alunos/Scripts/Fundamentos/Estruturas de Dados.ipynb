{
 "cells": [
  {
   "cell_type": "markdown",
   "id": "316736c2",
   "metadata": {},
   "source": [
    "# Estruturas de Dados\n",
    "****\n",
    "As estruturas de dados desempenham um papel fundamental na organização e manipulação de informações em qualquer linguagem de programação. Em Python, uma linguagem conhecida por sua simplicidade e flexibilidade, uma variedade de estruturas de dados está disponível para lidar com diferentes necessidades de armazenamento e processamento de dados.\n",
    "\n",
    "Nesta aula, exploraremos algumas das estruturas de dados mais comuns em Python, incluindo listas, tuplas, conjuntos, dicionários, séries e dataframes. Cada uma dessas estruturas possui características únicas que a tornam adequada para diferentes tipos de tarefas.\n",
    "***"
   ]
  },
  {
   "cell_type": "markdown",
   "id": "2d53db6b",
   "metadata": {},
   "source": [
    "##### Lista (list)\n",
    "\n",
    "As listas em Python são estruturas de dados fundamentais que permitem armazenar coleções ordenadas de itens. Elas são mutáveis, o que significa que você pode adicionar, remover e modificar elementos após a criação da lista. As listas são muito versáteis e são amplamente utilizadas em programação Python para armazenar e manipular conjuntos de dados.\n",
    "\n",
    "O tipo de dados lista é utilizado para representar uma sequência **mutável** de valores. Uma lista é criada colocando valores separados por vírgulas entre colchetes. Os valores podem ser de qualquer tipo.\n"
   ]
  },
  {
   "cell_type": "code",
   "execution_count": 39,
   "id": "64b950f9",
   "metadata": {},
   "outputs": [],
   "source": [
    "lista_numeros = [10, 20, 30, 40, 50]"
   ]
  },
  {
   "cell_type": "markdown",
   "id": "e2fd481d",
   "metadata": {},
   "source": [
    "Acesso a Elementos \n",
    "\n",
    "Para acessar elementos individuais em uma lista, utilize índices começando do 0."
   ]
  },
  {
   "cell_type": "code",
   "execution_count": 40,
   "id": "150908a5",
   "metadata": {},
   "outputs": [
    {
     "name": "stdout",
     "output_type": "stream",
     "text": [
      "O primeiro elemento da lista e: 10\n",
      "O último elemento da lista e: 50\n"
     ]
    }
   ],
   "source": [
    "print(f'O primeiro elemento da lista e: {lista_numeros[0]}')\n",
    "print(f'O último elemento da lista e: {lista_numeros[-1]}')"
   ]
  },
  {
   "cell_type": "code",
   "execution_count": 41,
   "id": "b981c47d",
   "metadata": {},
   "outputs": [
    {
     "name": "stdout",
     "output_type": "stream",
     "text": [
      "Inserindo no banco de dados a pessoa: priscila\n",
      "insert into tb_pessoas(pessoas) values (priscila)\n",
      "Inserindo no banco de dados a pessoa: leandro\n",
      "insert into tb_pessoas(pessoas) values (leandro)\n",
      "Inserindo no banco de dados a pessoa: joao\n",
      "insert into tb_pessoas(pessoas) values (joao)\n"
     ]
    }
   ],
   "source": [
    "lista_nomes = ['priscila', 'leandro', 'joao']\n",
    "for nome in lista_nomes:\n",
    "    print(f'Inserindo no banco de dados a pessoa: {nome}')\n",
    "    query = f'insert into tb_pessoas(pessoas) values ({nome})'\n",
    "    print(query)"
   ]
  },
  {
   "cell_type": "markdown",
   "id": "60e04a74",
   "metadata": {},
   "source": [
    "Adição de Elementos\n",
    "\n",
    "Adicione elementos ao final da lista com append() ou insira em uma posição específica com insert()."
   ]
  },
  {
   "cell_type": "code",
   "execution_count": 42,
   "id": "80633ca6",
   "metadata": {},
   "outputs": [],
   "source": [
    "lista_numeros.append(14)"
   ]
  },
  {
   "cell_type": "code",
   "execution_count": 43,
   "id": "edc4152a",
   "metadata": {},
   "outputs": [
    {
     "name": "stdout",
     "output_type": "stream",
     "text": [
      "[10, 15, 20, 30, 40, 50, 14]\n"
     ]
    }
   ],
   "source": [
    "lista_numeros.insert(1, 15)\n",
    "print(lista_numeros)"
   ]
  },
  {
   "cell_type": "markdown",
   "id": "92827047",
   "metadata": {},
   "source": [
    "Remoção de Elementos\n",
    "\n",
    "Remova elementos com del, remove() ou pop()."
   ]
  },
  {
   "cell_type": "code",
   "execution_count": 44,
   "id": "fc89e965",
   "metadata": {},
   "outputs": [],
   "source": [
    "del lista_numeros[2]"
   ]
  },
  {
   "cell_type": "code",
   "execution_count": 45,
   "id": "8a5091bc",
   "metadata": {},
   "outputs": [
    {
     "data": {
      "text/plain": [
       "[10, 15, 30, 40, 50, 14]"
      ]
     },
     "execution_count": 45,
     "metadata": {},
     "output_type": "execute_result"
    }
   ],
   "source": [
    "lista_numeros"
   ]
  },
  {
   "cell_type": "code",
   "execution_count": 46,
   "id": "26e5150c",
   "metadata": {},
   "outputs": [],
   "source": [
    "lista_numeros.remove(10)"
   ]
  },
  {
   "cell_type": "code",
   "execution_count": 47,
   "id": "d465448b",
   "metadata": {},
   "outputs": [
    {
     "data": {
      "text/plain": [
       "[15, 30, 40, 50, 14]"
      ]
     },
     "execution_count": 47,
     "metadata": {},
     "output_type": "execute_result"
    }
   ],
   "source": [
    "lista_numeros"
   ]
  },
  {
   "cell_type": "code",
   "execution_count": 48,
   "id": "a9779869",
   "metadata": {},
   "outputs": [
    {
     "data": {
      "text/plain": [
       "14"
      ]
     },
     "execution_count": 48,
     "metadata": {},
     "output_type": "execute_result"
    }
   ],
   "source": [
    "lista_numeros.pop()"
   ]
  },
  {
   "cell_type": "code",
   "execution_count": 49,
   "id": "43f949a6",
   "metadata": {},
   "outputs": [
    {
     "data": {
      "text/plain": [
       "[15, 30, 40, 50]"
      ]
     },
     "execution_count": 49,
     "metadata": {},
     "output_type": "execute_result"
    }
   ],
   "source": [
    "lista_numeros"
   ]
  },
  {
   "cell_type": "code",
   "execution_count": 50,
   "id": "6246f98f",
   "metadata": {},
   "outputs": [],
   "source": [
    "lista_numeros_novas = [20, 15, 10, 2, 15]"
   ]
  },
  {
   "cell_type": "markdown",
   "id": "ab1d738c",
   "metadata": {},
   "source": [
    "Concatenação de Listas\n",
    "\n",
    "Concatene listas com o operador +."
   ]
  },
  {
   "cell_type": "code",
   "execution_count": 51,
   "id": "4ca918b5",
   "metadata": {},
   "outputs": [],
   "source": [
    "nova_lista = lista_numeros + lista_numeros_novas + lista_nomes"
   ]
  },
  {
   "cell_type": "markdown",
   "id": "f8662f31",
   "metadata": {},
   "source": [
    "Fatiamento (Slicing)\n",
    "\n",
    "Extraia partes da lista usando a notação de fatiamento."
   ]
  },
  {
   "cell_type": "code",
   "execution_count": 52,
   "id": "3c734408",
   "metadata": {},
   "outputs": [
    {
     "data": {
      "text/plain": [
       "[30, 40, 50, 20]"
      ]
     },
     "execution_count": 52,
     "metadata": {},
     "output_type": "execute_result"
    }
   ],
   "source": [
    "nova_lista[1:5]"
   ]
  },
  {
   "cell_type": "code",
   "execution_count": 53,
   "id": "4e14ca38",
   "metadata": {},
   "outputs": [
    {
     "data": {
      "text/plain": [
       "[40, 50, 20, 15, 10, 2, 15, 'priscila', 'leandro']"
      ]
     },
     "execution_count": 53,
     "metadata": {},
     "output_type": "execute_result"
    }
   ],
   "source": [
    "nova_lista[2:-1]"
   ]
  },
  {
   "cell_type": "markdown",
   "id": "1432ca74",
   "metadata": {},
   "source": [
    "Ordenação\n",
    "\n",
    "Ordene os elementos de uma lista com sort() e inverta a ordem com reverse()."
   ]
  },
  {
   "cell_type": "code",
   "execution_count": 54,
   "id": "6e745735",
   "metadata": {},
   "outputs": [
    {
     "data": {
      "text/plain": [
       "[15, 30, 40, 50, 1, 3, 75]"
      ]
     },
     "execution_count": 54,
     "metadata": {},
     "output_type": "execute_result"
    }
   ],
   "source": [
    "lista_numeros.append(1)\n",
    "lista_numeros.append(3)\n",
    "lista_numeros.append(75)\n",
    "lista_numeros"
   ]
  },
  {
   "cell_type": "code",
   "execution_count": 55,
   "id": "fac7e9ed",
   "metadata": {},
   "outputs": [
    {
     "data": {
      "text/plain": [
       "[15, 30, 40, 50, 1, 3, 75]"
      ]
     },
     "execution_count": 55,
     "metadata": {},
     "output_type": "execute_result"
    }
   ],
   "source": [
    "lista_numeros"
   ]
  },
  {
   "cell_type": "code",
   "execution_count": 56,
   "id": "423afcc5",
   "metadata": {},
   "outputs": [],
   "source": [
    "lista_ordenada_crescente = lista_numeros.sort()\n",
    "lista_ordenada_crescente"
   ]
  },
  {
   "cell_type": "code",
   "execution_count": 57,
   "id": "2030c220",
   "metadata": {},
   "outputs": [],
   "source": [
    "lista_ordenada_decrescente = lista_numeros.reverse()\n",
    "lista_ordenada_decrescente"
   ]
  },
  {
   "cell_type": "markdown",
   "id": "a1cb9db1",
   "metadata": {},
   "source": [
    "Busca de Elementos\n",
    "\n",
    "Verifique a presença de um elemento com in ou conte ocorrências com count()."
   ]
  },
  {
   "cell_type": "code",
   "execution_count": 58,
   "id": "88215198",
   "metadata": {},
   "outputs": [],
   "source": [
    "novos_alunos = ['vitor', 'eduardo', 'irla']"
   ]
  },
  {
   "cell_type": "code",
   "execution_count": 59,
   "id": "395f2696",
   "metadata": {},
   "outputs": [
    {
     "name": "stdout",
     "output_type": "stream",
     "text": [
      "['priscila', 'leandro', 'joao', 'vitor', 'eduardo', 'irla']\n"
     ]
    }
   ],
   "source": [
    "for aluno in novos_alunos:\n",
    "    lista_nomes.append(aluno)\n",
    "\n",
    "print(lista_nomes)"
   ]
  },
  {
   "cell_type": "code",
   "execution_count": 62,
   "id": "64a2180a",
   "metadata": {},
   "outputs": [
    {
     "name": "stdout",
     "output_type": "stream",
     "text": [
      "Não está na lista\n"
     ]
    }
   ],
   "source": [
    "# procurando nome\n",
    "if 'Vitor' in lista_nomes:\n",
    "    print('Está na lista')\n",
    "else:\n",
    "    print('Não está na lista')"
   ]
  },
  {
   "cell_type": "code",
   "execution_count": 63,
   "id": "9febf62f",
   "metadata": {},
   "outputs": [
    {
     "data": {
      "text/plain": [
       "1"
      ]
     },
     "execution_count": 63,
     "metadata": {},
     "output_type": "execute_result"
    }
   ],
   "source": [
    "novos_alunos.count('vitor')"
   ]
  },
  {
   "cell_type": "markdown",
   "id": "ca5291b3",
   "metadata": {},
   "source": [
    "***"
   ]
  },
  {
   "cell_type": "markdown",
   "id": "9c92e7b9",
   "metadata": {},
   "source": [
    "##### Tupla (tuple)\n",
    "O tipo de dados tupla é utilizado para representar uma sequência **imutável** de valores. Uma tupla é criada colocando valores separados por vírgulas entre parênteses. Os valores podem ser de qualquer tipo.\n",
    "\n",
    "1. O uso de tuplas em Python é muito comum quando se deseja armazenar um conjunto de valores que não devem ser modificados.\n",
    "\n",
    "2. As tuplas são utilizadas em diversas situações, como por exemplo, na representação de coordenadas geográficas (latitude e longitude), na definição de cores em sistemas de design gráfico, na criação de jogos que requerem o armazenamento de posições de elementos em uma grade, entre outros."
   ]
  },
  {
   "cell_type": "markdown",
   "id": "6c221a6d",
   "metadata": {},
   "source": [
    "Criação de uma Tupla\n",
    "\n",
    "Para criar uma tupla, você pode usar parênteses e separar os elementos por vírgulas."
   ]
  },
  {
   "cell_type": "code",
   "execution_count": 68,
   "id": "f1958448",
   "metadata": {},
   "outputs": [
    {
     "data": {
      "text/plain": [
       "(1, 5, 8, 10)"
      ]
     },
     "execution_count": 68,
     "metadata": {},
     "output_type": "execute_result"
    }
   ],
   "source": [
    "tupla = (1, 5, 8, 10)\n",
    "tupla"
   ]
  },
  {
   "cell_type": "markdown",
   "id": "87d36d39",
   "metadata": {},
   "source": [
    "Acesso a Elementos\n",
    "\n",
    "Os elementos de uma tupla são acessados por índices, começando do 0."
   ]
  },
  {
   "cell_type": "code",
   "execution_count": 69,
   "id": "5a1c6e8f",
   "metadata": {},
   "outputs": [
    {
     "data": {
      "text/plain": [
       "10"
      ]
     },
     "execution_count": 69,
     "metadata": {},
     "output_type": "execute_result"
    }
   ],
   "source": [
    "tupla[-1]"
   ]
  },
  {
   "cell_type": "markdown",
   "id": "b1e648c5",
   "metadata": {},
   "source": [
    "Fatiamento (Slicing) de uma Tupla\n",
    "\n",
    "Você pode extrair partes de uma tupla usando a notação de fatiamento."
   ]
  },
  {
   "cell_type": "code",
   "execution_count": 70,
   "id": "f2f90a7f",
   "metadata": {},
   "outputs": [
    {
     "data": {
      "text/plain": [
       "(8, 10)"
      ]
     },
     "execution_count": 70,
     "metadata": {},
     "output_type": "execute_result"
    }
   ],
   "source": [
    "tupla[-2:]"
   ]
  },
  {
   "cell_type": "markdown",
   "id": "a78acac3",
   "metadata": {},
   "source": [
    "Concatenação de Tuplas\n",
    "\n",
    "Concatene tuplas usando o operador +."
   ]
  },
  {
   "cell_type": "code",
   "execution_count": 72,
   "id": "03924ddc",
   "metadata": {},
   "outputs": [],
   "source": [
    "tupla_nomes = ('Leandro', 'Vitor')\n",
    "\n",
    "tupla_nova = tupla + tupla_nomes"
   ]
  },
  {
   "cell_type": "markdown",
   "id": "32f53d2c",
   "metadata": {},
   "source": [
    "Imutabilidade\n",
    "\n",
    "Tentativas de modificar elementos de uma tupla resultarão em erro."
   ]
  },
  {
   "cell_type": "code",
   "execution_count": 73,
   "id": "32d496da",
   "metadata": {},
   "outputs": [
    {
     "ename": "TypeError",
     "evalue": "'tuple' object does not support item assignment",
     "output_type": "error",
     "traceback": [
      "\u001b[1;31m---------------------------------------------------------------------------\u001b[0m",
      "\u001b[1;31mTypeError\u001b[0m                                 Traceback (most recent call last)",
      "Cell \u001b[1;32mIn[73], line 1\u001b[0m\n\u001b[1;32m----> 1\u001b[0m \u001b[43mtupla_nova\u001b[49m\u001b[43m[\u001b[49m\u001b[38;5;241;43m0\u001b[39;49m\u001b[43m]\u001b[49m \u001b[38;5;241m=\u001b[39m \u001b[38;5;241m10\u001b[39m\n",
      "\u001b[1;31mTypeError\u001b[0m: 'tuple' object does not support item assignment"
     ]
    }
   ],
   "source": [
    "tupla_nova[0] = 10"
   ]
  },
  {
   "cell_type": "code",
   "execution_count": 74,
   "id": "5954cafe",
   "metadata": {},
   "outputs": [],
   "source": [
    "lista_tuplas = [('Leandro', 18), ('Joao', 20)]"
   ]
  },
  {
   "cell_type": "code",
   "execution_count": 77,
   "id": "eccefe85",
   "metadata": {},
   "outputs": [
    {
     "data": {
      "text/plain": [
       "18"
      ]
     },
     "execution_count": 77,
     "metadata": {},
     "output_type": "execute_result"
    }
   ],
   "source": [
    "lista_tuplas[0][1]"
   ]
  },
  {
   "cell_type": "markdown",
   "id": "c0b287a2",
   "metadata": {},
   "source": [
    "***"
   ]
  },
  {
   "cell_type": "markdown",
   "id": "03c3b87b",
   "metadata": {},
   "source": [
    "##### Dicionário (dict)\n",
    "O tipo de dado dicionário (dict) em Python é uma estrutura de dados que armazena valores em pares de chave-valor.\n",
    "\n",
    "Os dicionários em Python são estruturas de dados que permitem armazenar pares chave-valor, onde cada valor é associado a uma chave única. Eles são muito úteis para representar dados estruturados e indexados por chaves significativas, facilitando o acesso e a manipulação dos dados. Aqui estão algumas características importantes dos dicionários\n",
    "\n",
    "\n",
    "- Chaves Únicas: Cada chave em um dicionário é única, o que significa que não pode haver duas chaves iguais no mesmo dicionário. No entanto, os valores associados às chaves podem ser duplicados.\n",
    "\n",
    "- Mutabilidade: Os dicionários são mutáveis, o que significa que você pode adicionar, modificar e remover pares chave-valor após a criação do dicionário.\n",
    "\n",
    "- Flexibilidade: Os valores em um dicionário podem ser de qualquer tipo de dado, incluindo inteiros, strings, floats, listas, tuplas, conjuntos, outros dicionários e até mesmo funções.\n",
    "\n",
    "- Indexação por Chaves: Os elementos em um dicionário são acessados não por índices numéricos, como em listas e tuplas, mas sim por meio de chaves significativas."
   ]
  },
  {
   "cell_type": "markdown",
   "id": "ed0fcba8",
   "metadata": {},
   "source": [
    "Criação de um Dicionário\n",
    "\n",
    "Para criar um dicionário, você pode usar chaves {} e especificar pares chave-valor separados por vírgulas."
   ]
  },
  {
   "cell_type": "code",
   "execution_count": 78,
   "id": "795b7059",
   "metadata": {},
   "outputs": [],
   "source": [
    "pessoa = {\n",
    "    'nome': 'vitor',\n",
    "    'idade': 30,\n",
    "    'cidade': 'BH'\n",
    "}"
   ]
  },
  {
   "cell_type": "code",
   "execution_count": 79,
   "id": "27b6ce54",
   "metadata": {},
   "outputs": [
    {
     "data": {
      "text/plain": [
       "{'nome': 'vitor', 'idade': 30, 'cidade': 'BH'}"
      ]
     },
     "execution_count": 79,
     "metadata": {},
     "output_type": "execute_result"
    }
   ],
   "source": [
    "pessoa"
   ]
  },
  {
   "cell_type": "markdown",
   "id": "790f178b",
   "metadata": {},
   "source": [
    "Acesso a Elementos por Chave\n",
    "\n",
    "Os elementos em um dicionário são acessados por suas chaves."
   ]
  },
  {
   "cell_type": "code",
   "execution_count": 80,
   "id": "2eb4efc1",
   "metadata": {},
   "outputs": [
    {
     "data": {
      "text/plain": [
       "'vitor'"
      ]
     },
     "execution_count": 80,
     "metadata": {},
     "output_type": "execute_result"
    }
   ],
   "source": [
    "pessoa['nome']"
   ]
  },
  {
   "cell_type": "markdown",
   "id": "f535dbd5",
   "metadata": {},
   "source": [
    "Adição de Novos Pares Chave-Valor\n",
    "\n",
    "Você pode adicionar novos pares chave-valor a um dicionário atribuindo um valor a uma nova chave."
   ]
  },
  {
   "cell_type": "code",
   "execution_count": 81,
   "id": "140beb78",
   "metadata": {},
   "outputs": [],
   "source": [
    "pessoa['profissão'] = 'Cientista de dados'"
   ]
  },
  {
   "cell_type": "markdown",
   "id": "b3fff67b",
   "metadata": {},
   "source": [
    "Modificação de Valores de Chaves Existentes\n",
    "\n",
    "Você pode modificar o valor associado a uma chave existente atribuindo um novo valor a essa chave."
   ]
  },
  {
   "cell_type": "code",
   "execution_count": 82,
   "id": "83cb5c0d",
   "metadata": {},
   "outputs": [],
   "source": [
    "pessoa['nome'] = 'Leandro'"
   ]
  },
  {
   "cell_type": "code",
   "execution_count": 83,
   "id": "1cd59723",
   "metadata": {},
   "outputs": [
    {
     "data": {
      "text/plain": [
       "{'nome': 'Leandro',\n",
       " 'idade': 30,\n",
       " 'cidade': 'BH',\n",
       " 'profissão': 'Cientista de dados'}"
      ]
     },
     "execution_count": 83,
     "metadata": {},
     "output_type": "execute_result"
    }
   ],
   "source": [
    "pessoa"
   ]
  },
  {
   "cell_type": "markdown",
   "id": "b8fd11ef",
   "metadata": {},
   "source": [
    "Remoção de Pares Chave-Valor\n",
    "\n",
    "Você pode remover pares chave-valor de um dicionário usando o comando del seguido da chave que deseja remover."
   ]
  },
  {
   "cell_type": "code",
   "execution_count": 84,
   "id": "9231a592",
   "metadata": {},
   "outputs": [],
   "source": [
    "del pessoa['cidade']"
   ]
  },
  {
   "cell_type": "code",
   "execution_count": 86,
   "id": "e3d4d59c",
   "metadata": {},
   "outputs": [
    {
     "data": {
      "text/plain": [
       "{'nome': 'Leandro', 'idade': 30, 'profissão': 'Cientista de dados'}"
      ]
     },
     "execution_count": 86,
     "metadata": {},
     "output_type": "execute_result"
    }
   ],
   "source": [
    "pessoa"
   ]
  },
  {
   "cell_type": "markdown",
   "id": "7d1387c8",
   "metadata": {},
   "source": [
    "Iteração sobre Chaves e Valores\n",
    "\n",
    "Você pode iterar sobre as chaves, os valores ou ambos em um dicionário usando loops for."
   ]
  },
  {
   "cell_type": "code",
   "execution_count": 87,
   "id": "3282f4ae",
   "metadata": {},
   "outputs": [
    {
     "name": "stdout",
     "output_type": "stream",
     "text": [
      "nome\n",
      "idade\n",
      "profissão\n"
     ]
    }
   ],
   "source": [
    "for chave in pessoa:\n",
    "    print(chave)\n"
   ]
  },
  {
   "cell_type": "code",
   "execution_count": 89,
   "id": "e84d329b",
   "metadata": {},
   "outputs": [
    {
     "name": "stdout",
     "output_type": "stream",
     "text": [
      "Leandro\n",
      "30\n",
      "Cientista de dados\n"
     ]
    }
   ],
   "source": [
    "for valor in pessoa.values():\n",
    "    print(valor)"
   ]
  },
  {
   "cell_type": "code",
   "execution_count": 90,
   "id": "30f4d9aa",
   "metadata": {},
   "outputs": [
    {
     "name": "stdout",
     "output_type": "stream",
     "text": [
      "chave: nome\n",
      "valor:Leandro\n",
      "chave: idade\n",
      "valor:30\n",
      "chave: profissão\n",
      "valor:Cientista de dados\n"
     ]
    }
   ],
   "source": [
    "for chave, valor in pessoa.items():\n",
    "    print(f'chave: {chave}\\nvalor:{valor}')"
   ]
  },
  {
   "cell_type": "code",
   "execution_count": null,
   "id": "e48689d9",
   "metadata": {},
   "outputs": [],
   "source": []
  },
  {
   "cell_type": "markdown",
   "id": "7fdf73c2",
   "metadata": {},
   "source": [
    "Criando uma lista de dicionários\n",
    "\n",
    "As listas de dicionários são úteis para armazenar e manipular coleções de registros com vários campos. Elas podem ser usadas em muitas aplicações, como por exemplo:\n",
    "\n",
    "- Banco de dados em memória: podem ser usadas para armazenar dados em memória, como se fosse um banco de dados.\n",
    "\n",
    "- Análise de dados:  podem ser usadas para armazenar dados de pesquisa, tais como resultados de experimentos científicos ou pesquisas de mercado.\n",
    "\n",
    "- Processamento de texto: podem ser usadas para armazenar dados de texto, tais como resultados de análise de sentimento ou de mineração de dados.\n",
    "\n",
    "- Configurações de aplicativos: podem ser usadas para armazenar configurações de aplicativos e preferências do usuário."
   ]
  },
  {
   "cell_type": "code",
   "execution_count": 92,
   "id": "a4a8331f",
   "metadata": {},
   "outputs": [],
   "source": [
    "lista_pessoas = []\n",
    "pessoa = {\n",
    "    'nome': 'vitor',\n",
    "    'idade': 30,\n",
    "    'cidade': 'BH'\n",
    "}\n",
    "lista_pessoas.append(pessoa)"
   ]
  },
  {
   "cell_type": "code",
   "execution_count": 95,
   "id": "80cb8df6",
   "metadata": {},
   "outputs": [],
   "source": [
    "pessoa2 = {\n",
    "    'nome': 'leandro',\n",
    "    'idade': 30,\n",
    "    'cidade': 'Charlote'\n",
    "}\n",
    "pessoa3 = {\n",
    "    'nome': 'irla',\n",
    "    'idade': 31,\n",
    "    'cidade': 'São Paulo'\n",
    "}\n",
    "lista_pessoas.append(pessoa2)\n",
    "lista_pessoas.append(pessoa3)"
   ]
  },
  {
   "cell_type": "code",
   "execution_count": 96,
   "id": "589685cb",
   "metadata": {},
   "outputs": [
    {
     "data": {
      "text/plain": [
       "[{'nome': 'vitor', 'idade': 30, 'cidade': 'BH'},\n",
       " {'nome': 'leandro', 'idade': 30, 'cidade': 'Charlote'},\n",
       " {'nome': 'irla', 'idade': 31, 'cidade': 'São Paulo'}]"
      ]
     },
     "execution_count": 96,
     "metadata": {},
     "output_type": "execute_result"
    }
   ],
   "source": [
    "lista_pessoas"
   ]
  },
  {
   "cell_type": "markdown",
   "id": "291a8c17",
   "metadata": {},
   "source": [
    "Alterando valor em uma lista de dicionário"
   ]
  },
  {
   "cell_type": "code",
   "execution_count": 98,
   "id": "ae8a914a",
   "metadata": {},
   "outputs": [],
   "source": [
    "lista_pessoas[0]['nome'] = 'Lucas'"
   ]
  },
  {
   "cell_type": "code",
   "execution_count": 99,
   "id": "d9b4f45e",
   "metadata": {},
   "outputs": [
    {
     "data": {
      "text/plain": [
       "[{'nome': 'Lucas', 'idade': 30, 'cidade': 'BH'},\n",
       " {'nome': 'leandro', 'idade': 30, 'cidade': 'Charlote'},\n",
       " {'nome': 'irla', 'idade': 31, 'cidade': 'São Paulo'}]"
      ]
     },
     "execution_count": 99,
     "metadata": {},
     "output_type": "execute_result"
    }
   ],
   "source": [
    "lista_pessoas"
   ]
  },
  {
   "cell_type": "code",
   "execution_count": 100,
   "id": "95b230c2",
   "metadata": {},
   "outputs": [],
   "source": [
    "for registro in lista_pessoas:\n",
    "    registro['cidade'] = 'SP'"
   ]
  },
  {
   "cell_type": "code",
   "execution_count": 101,
   "id": "2cc5b06e",
   "metadata": {},
   "outputs": [
    {
     "data": {
      "text/plain": [
       "[{'nome': 'Lucas', 'idade': 30, 'cidade': 'SP'},\n",
       " {'nome': 'leandro', 'idade': 30, 'cidade': 'SP'},\n",
       " {'nome': 'irla', 'idade': 31, 'cidade': 'SP'}]"
      ]
     },
     "execution_count": 101,
     "metadata": {},
     "output_type": "execute_result"
    }
   ],
   "source": [
    "lista_pessoas"
   ]
  },
  {
   "cell_type": "markdown",
   "id": "3e5d9b22",
   "metadata": {},
   "source": [
    "Adicionando uma lista em uma chave de um dicionário"
   ]
  },
  {
   "cell_type": "code",
   "execution_count": 102,
   "id": "3149fb6b",
   "metadata": {},
   "outputs": [],
   "source": [
    "lista_pessoas[0]['telefone'] = 123456789"
   ]
  },
  {
   "cell_type": "code",
   "execution_count": 103,
   "id": "58326e80",
   "metadata": {},
   "outputs": [
    {
     "data": {
      "text/plain": [
       "[{'nome': 'Lucas', 'idade': 30, 'cidade': 'SP', 'telefone': 123456789},\n",
       " {'nome': 'leandro', 'idade': 30, 'cidade': 'SP'},\n",
       " {'nome': 'irla', 'idade': 31, 'cidade': 'SP'}]"
      ]
     },
     "execution_count": 103,
     "metadata": {},
     "output_type": "execute_result"
    }
   ],
   "source": [
    "lista_pessoas"
   ]
  },
  {
   "cell_type": "markdown",
   "id": "ece6707f",
   "metadata": {},
   "source": [
    "***"
   ]
  },
  {
   "cell_type": "markdown",
   "id": "5537ce71",
   "metadata": {},
   "source": [
    "##### Conjuntos \n",
    "Os conjuntos em Python são estruturas de dados que representam coleções de elementos únicos e não ordenados. Eles são úteis para operações que envolvem testes de pertencimento, remoção de duplicatas e operações de conjunto como união, interseção e diferença. Aqui estão algumas características importantes dos conjuntos:\n",
    "\n",
    "- Elementos Únicos: Os conjuntos em Python não contêm elementos duplicados. Se você tentar adicionar um elemento que já está presente no conjunto, ele será ignorado.\n",
    "\n",
    "- Não Ordenados: Os elementos em um conjunto não têm uma ordem específica. Isso significa que você não pode acessar elementos em um conjunto por índices como em listas e tuplas.\n",
    "\n",
    "- Mutabilidade Limitada: Embora os elementos individuais em um conjunto sejam imutáveis (por exemplo, strings e tuplas), você pode adicionar e remover elementos de um conjunto.\n",
    "\n",
    "- Eficiência em Testes de Pertencimento: Os conjuntos são otimizados para testes de pertencimento, o que significa que verificar se um elemento está presente em um conjunto é uma operação muito rápida."
   ]
  },
  {
   "cell_type": "markdown",
   "id": "18fdb9eb",
   "metadata": {},
   "source": [
    "Criação de um Conjunto\n",
    "\n",
    "Para criar um conjunto, você pode usar chaves { } e listar os elementos separados por vírgulas."
   ]
  },
  {
   "cell_type": "code",
   "execution_count": 104,
   "id": "f02cb9c7",
   "metadata": {},
   "outputs": [],
   "source": [
    "conjunto = {8, 1, 5,7}"
   ]
  },
  {
   "cell_type": "markdown",
   "id": "38754223",
   "metadata": {},
   "source": [
    "Remoção de Duplicatas de uma Lista\n",
    "\n",
    "Você pode converter uma lista em um conjunto para remover elementos duplicados."
   ]
  },
  {
   "cell_type": "code",
   "execution_count": 105,
   "id": "4c491cab",
   "metadata": {},
   "outputs": [
    {
     "name": "stdout",
     "output_type": "stream",
     "text": [
      "[20, 15, 10, 2, 15]\n",
      "{10, 2, 20, 15}\n"
     ]
    }
   ],
   "source": [
    "print(lista_numeros_novas)\n",
    "conjunto_novo = set(lista_numeros_novas)\n",
    "print(conjunto_novo)"
   ]
  },
  {
   "cell_type": "markdown",
   "id": "7c1dd89a",
   "metadata": {},
   "source": [
    "Adição de Elementos\n",
    "\n",
    "Você pode adicionar elementos a um conjunto usando o método add()."
   ]
  },
  {
   "cell_type": "code",
   "execution_count": 106,
   "id": "2ac30f44",
   "metadata": {},
   "outputs": [
    {
     "data": {
      "text/plain": [
       "{2, 10, 14, 15, 20}"
      ]
     },
     "execution_count": 106,
     "metadata": {},
     "output_type": "execute_result"
    }
   ],
   "source": [
    "conjunto_novo.add(14)\n",
    "conjunto_novo"
   ]
  },
  {
   "cell_type": "markdown",
   "id": "4116c59c",
   "metadata": {},
   "source": [
    "Remoção de Elementos\n",
    "\n",
    "Você pode remover elementos de um conjunto usando os métodos remove() ou discard()."
   ]
  },
  {
   "cell_type": "code",
   "execution_count": 107,
   "id": "5c5ec672",
   "metadata": {},
   "outputs": [],
   "source": [
    "conjunto_novo.remove(14)"
   ]
  },
  {
   "cell_type": "code",
   "execution_count": 108,
   "id": "425bcd23",
   "metadata": {},
   "outputs": [
    {
     "data": {
      "text/plain": [
       "{2, 10, 15, 20}"
      ]
     },
     "execution_count": 108,
     "metadata": {},
     "output_type": "execute_result"
    }
   ],
   "source": [
    "conjunto_novo"
   ]
  },
  {
   "cell_type": "code",
   "execution_count": 109,
   "id": "1974b39e",
   "metadata": {},
   "outputs": [
    {
     "data": {
      "text/plain": [
       "{2, 15, 20}"
      ]
     },
     "execution_count": 109,
     "metadata": {},
     "output_type": "execute_result"
    }
   ],
   "source": [
    "conjunto_novo.discard(10)\n",
    "conjunto_novo"
   ]
  },
  {
   "cell_type": "markdown",
   "id": "84c11d38",
   "metadata": {},
   "source": [
    "Operações de Conjunto\n",
    "\n",
    "Você pode realizar operações de conjunto como união, interseção e diferença."
   ]
  },
  {
   "cell_type": "code",
   "execution_count": 111,
   "id": "f6ac7bc3",
   "metadata": {},
   "outputs": [
    {
     "name": "stdout",
     "output_type": "stream",
     "text": [
      "{1, 2, 3, 4, 5, 6}\n",
      "{4}\n",
      "{1, 2, 3}\n"
     ]
    }
   ],
   "source": [
    "conjunto1 = {1,2,3, 4}\n",
    "conjunto2 = {4,5,6}\n",
    "\n",
    "uniao = conjunto1 | conjunto2\n",
    "print(uniao)\n",
    "\n",
    "intersecao = conjunto1 & conjunto2\n",
    "print(intersecao)\n",
    "\n",
    "diferenca = conjunto1 - conjunto2\n",
    "print(diferenca)\n"
   ]
  },
  {
   "cell_type": "markdown",
   "id": "67c21592",
   "metadata": {},
   "source": [
    "Nota: A diferença entre dois conjuntos, denotada por conjunto1 - conjunto2, retorna um novo conjunto contendo todos os elementos que estão presentes no conjunto1 e não estão presentes no conjunto2. Em outras palavras, são todos os elementos que pertencem ao conjunto1 mas não pertencem ao conjunto2.\n",
    "\n",
    "Nesse caso específico, a diferença será {1, 2}, pois os elementos 1 e 2 estão presentes em conjunto1 e não estão presentes em conjunto2. O elemento 3 não será incluído na diferença, pois ele está presente em ambos os conjuntos.\n",
    "\n",
    "\n",
    "***"
   ]
  },
  {
   "cell_type": "markdown",
   "id": "35c52972",
   "metadata": {},
   "source": [
    "##### Séries\n",
    "Uma série é uma estrutura de dados unidimensional que pode conter qualquer tipo de dados, como números inteiros, números de ponto flutuante, strings, entre outros. Cada elemento em uma série possui um rótulo associado, chamado de índice. A série pode ser vista como uma coluna em uma planilha ou uma matriz com apenas uma linha."
   ]
  },
  {
   "cell_type": "markdown",
   "id": "a6cf7d8a",
   "metadata": {},
   "source": [
    "Exemplo no mundo real: Uma série pode representar as temperaturas registradas diariamente em uma cidade ao longo de um mês, onde cada temperatura está associada a uma data."
   ]
  },
  {
   "cell_type": "code",
   "execution_count": 115,
   "id": "e865131b",
   "metadata": {},
   "outputs": [
    {
     "data": {
      "text/plain": [
       "2024-04-01    25\n",
       "2024-04-02    28\n",
       "2024-04-03    35\n",
       "2024-04-04    40\n",
       "dtype: int64"
      ]
     },
     "execution_count": 115,
     "metadata": {},
     "output_type": "execute_result"
    }
   ],
   "source": [
    "import pandas as pd\n",
    "\n",
    "temperaturas = pd.Series([25, 28, 35, 40], index=['2024-04-01','2024-04-02','2024-04-03','2024-04-04'])\n",
    "temperaturas"
   ]
  },
  {
   "cell_type": "markdown",
   "id": "39a130ff",
   "metadata": {},
   "source": [
    "##### DataFrames\n",
    "Um DataFrame é uma estrutura de dados bidimensional semelhante a uma tabela de banco de dados ou uma planilha do Excel. Ele é composto por linhas e colunas, onde cada coluna pode ser de um tipo de dado diferente. Os DataFrames são altamente flexíveis e podem ser usados para armazenar e manipular dados heterogêneos.\n",
    "\n",
    "Exemplo no mundo real: Um DataFrame pode representar dados de vendas de uma empresa, onde cada linha corresponde a uma transação e as colunas representam informações como o ID do cliente, o produto vendido, a quantidade vendida e o valor da venda."
   ]
  },
  {
   "cell_type": "code",
   "execution_count": 116,
   "id": "0c58cd5f",
   "metadata": {},
   "outputs": [
    {
     "data": {
      "text/plain": [
       "[{'nome': 'Lucas', 'idade': 30, 'cidade': 'SP', 'telefone': 123456789},\n",
       " {'nome': 'leandro', 'idade': 30, 'cidade': 'SP'},\n",
       " {'nome': 'irla', 'idade': 31, 'cidade': 'SP'}]"
      ]
     },
     "execution_count": 116,
     "metadata": {},
     "output_type": "execute_result"
    }
   ],
   "source": [
    "lista_pessoas"
   ]
  },
  {
   "cell_type": "code",
   "execution_count": 119,
   "id": "abf43c68",
   "metadata": {},
   "outputs": [
    {
     "data": {
      "text/html": [
       "<div>\n",
       "<style scoped>\n",
       "    .dataframe tbody tr th:only-of-type {\n",
       "        vertical-align: middle;\n",
       "    }\n",
       "\n",
       "    .dataframe tbody tr th {\n",
       "        vertical-align: top;\n",
       "    }\n",
       "\n",
       "    .dataframe thead th {\n",
       "        text-align: right;\n",
       "    }\n",
       "</style>\n",
       "<table border=\"1\" class=\"dataframe\">\n",
       "  <thead>\n",
       "    <tr style=\"text-align: right;\">\n",
       "      <th></th>\n",
       "      <th>nome</th>\n",
       "      <th>idade</th>\n",
       "      <th>cidade</th>\n",
       "      <th>telefone</th>\n",
       "    </tr>\n",
       "  </thead>\n",
       "  <tbody>\n",
       "    <tr>\n",
       "      <th>0</th>\n",
       "      <td>Lucas</td>\n",
       "      <td>30</td>\n",
       "      <td>SP</td>\n",
       "      <td>123456789.0</td>\n",
       "    </tr>\n",
       "    <tr>\n",
       "      <th>1</th>\n",
       "      <td>leandro</td>\n",
       "      <td>30</td>\n",
       "      <td>SP</td>\n",
       "      <td>NaN</td>\n",
       "    </tr>\n",
       "    <tr>\n",
       "      <th>2</th>\n",
       "      <td>irla</td>\n",
       "      <td>31</td>\n",
       "      <td>SP</td>\n",
       "      <td>NaN</td>\n",
       "    </tr>\n",
       "  </tbody>\n",
       "</table>\n",
       "</div>"
      ],
      "text/plain": [
       "      nome  idade cidade     telefone\n",
       "0    Lucas     30     SP  123456789.0\n",
       "1  leandro     30     SP          NaN\n",
       "2     irla     31     SP          NaN"
      ]
     },
     "execution_count": 119,
     "metadata": {},
     "output_type": "execute_result"
    }
   ],
   "source": [
    "df = pd.DataFrame(lista_pessoas)\n",
    "df"
   ]
  },
  {
   "cell_type": "code",
   "execution_count": 120,
   "id": "e53f577f",
   "metadata": {},
   "outputs": [
    {
     "data": {
      "text/html": [
       "<div>\n",
       "<style scoped>\n",
       "    .dataframe tbody tr th:only-of-type {\n",
       "        vertical-align: middle;\n",
       "    }\n",
       "\n",
       "    .dataframe tbody tr th {\n",
       "        vertical-align: top;\n",
       "    }\n",
       "\n",
       "    .dataframe thead th {\n",
       "        text-align: right;\n",
       "    }\n",
       "</style>\n",
       "<table border=\"1\" class=\"dataframe\">\n",
       "  <thead>\n",
       "    <tr style=\"text-align: right;\">\n",
       "      <th></th>\n",
       "      <th>nome</th>\n",
       "      <th>idade</th>\n",
       "      <th>cidade</th>\n",
       "      <th>telefone</th>\n",
       "    </tr>\n",
       "  </thead>\n",
       "  <tbody>\n",
       "    <tr>\n",
       "      <th>0</th>\n",
       "      <td>Lucas</td>\n",
       "      <td>30</td>\n",
       "      <td>SP</td>\n",
       "      <td>123456789.0</td>\n",
       "    </tr>\n",
       "    <tr>\n",
       "      <th>1</th>\n",
       "      <td>leandro</td>\n",
       "      <td>30</td>\n",
       "      <td>SP</td>\n",
       "      <td>NaN</td>\n",
       "    </tr>\n",
       "    <tr>\n",
       "      <th>2</th>\n",
       "      <td>irla</td>\n",
       "      <td>31</td>\n",
       "      <td>SP</td>\n",
       "      <td>NaN</td>\n",
       "    </tr>\n",
       "  </tbody>\n",
       "</table>\n",
       "</div>"
      ],
      "text/plain": [
       "      nome  idade cidade     telefone\n",
       "0    Lucas     30     SP  123456789.0\n",
       "1  leandro     30     SP          NaN\n",
       "2     irla     31     SP          NaN"
      ]
     },
     "execution_count": 120,
     "metadata": {},
     "output_type": "execute_result"
    }
   ],
   "source": [
    "df.head()"
   ]
  },
  {
   "cell_type": "code",
   "execution_count": 121,
   "id": "68edb95e",
   "metadata": {},
   "outputs": [
    {
     "data": {
      "text/html": [
       "<div>\n",
       "<style scoped>\n",
       "    .dataframe tbody tr th:only-of-type {\n",
       "        vertical-align: middle;\n",
       "    }\n",
       "\n",
       "    .dataframe tbody tr th {\n",
       "        vertical-align: top;\n",
       "    }\n",
       "\n",
       "    .dataframe thead th {\n",
       "        text-align: right;\n",
       "    }\n",
       "</style>\n",
       "<table border=\"1\" class=\"dataframe\">\n",
       "  <thead>\n",
       "    <tr style=\"text-align: right;\">\n",
       "      <th></th>\n",
       "      <th>ID_cliente</th>\n",
       "      <th>Produto</th>\n",
       "      <th>quantidade</th>\n",
       "      <th>valor</th>\n",
       "    </tr>\n",
       "  </thead>\n",
       "  <tbody>\n",
       "    <tr>\n",
       "      <th>0</th>\n",
       "      <td>1</td>\n",
       "      <td>camisa</td>\n",
       "      <td>2</td>\n",
       "      <td>50</td>\n",
       "    </tr>\n",
       "    <tr>\n",
       "      <th>1</th>\n",
       "      <td>2</td>\n",
       "      <td>calça</td>\n",
       "      <td>1</td>\n",
       "      <td>89</td>\n",
       "    </tr>\n",
       "    <tr>\n",
       "      <th>2</th>\n",
       "      <td>3</td>\n",
       "      <td>tenis</td>\n",
       "      <td>3</td>\n",
       "      <td>200</td>\n",
       "    </tr>\n",
       "    <tr>\n",
       "      <th>3</th>\n",
       "      <td>4</td>\n",
       "      <td>bone</td>\n",
       "      <td>1</td>\n",
       "      <td>25</td>\n",
       "    </tr>\n",
       "  </tbody>\n",
       "</table>\n",
       "</div>"
      ],
      "text/plain": [
       "   ID_cliente Produto  quantidade  valor\n",
       "0           1  camisa           2     50\n",
       "1           2   calça           1     89\n",
       "2           3   tenis           3    200\n",
       "3           4    bone           1     25"
      ]
     },
     "execution_count": 121,
     "metadata": {},
     "output_type": "execute_result"
    }
   ],
   "source": [
    "data= {\n",
    "    'ID_cliente': [1,2,3,4],\n",
    "    'Produto': ['camisa', 'calça', 'tenis', 'bone'],\n",
    "    'quantidade': [2,1,3,1],\n",
    "    'valor': [50,89,200,25]\n",
    "}\n",
    "df2=pd.DataFrame(data)\n",
    "df2"
   ]
  },
  {
   "cell_type": "code",
   "execution_count": 122,
   "id": "3bfed994",
   "metadata": {},
   "outputs": [
    {
     "data": {
      "text/html": [
       "<div>\n",
       "<style scoped>\n",
       "    .dataframe tbody tr th:only-of-type {\n",
       "        vertical-align: middle;\n",
       "    }\n",
       "\n",
       "    .dataframe tbody tr th {\n",
       "        vertical-align: top;\n",
       "    }\n",
       "\n",
       "    .dataframe thead th {\n",
       "        text-align: right;\n",
       "    }\n",
       "</style>\n",
       "<table border=\"1\" class=\"dataframe\">\n",
       "  <thead>\n",
       "    <tr style=\"text-align: right;\">\n",
       "      <th></th>\n",
       "      <th>ID_cliente</th>\n",
       "      <th>Produto</th>\n",
       "      <th>quantidade</th>\n",
       "      <th>valor</th>\n",
       "      <th>valor_total_compra</th>\n",
       "    </tr>\n",
       "  </thead>\n",
       "  <tbody>\n",
       "    <tr>\n",
       "      <th>0</th>\n",
       "      <td>1</td>\n",
       "      <td>camisa</td>\n",
       "      <td>2</td>\n",
       "      <td>50</td>\n",
       "      <td>100</td>\n",
       "    </tr>\n",
       "    <tr>\n",
       "      <th>1</th>\n",
       "      <td>2</td>\n",
       "      <td>calça</td>\n",
       "      <td>1</td>\n",
       "      <td>89</td>\n",
       "      <td>89</td>\n",
       "    </tr>\n",
       "    <tr>\n",
       "      <th>2</th>\n",
       "      <td>3</td>\n",
       "      <td>tenis</td>\n",
       "      <td>3</td>\n",
       "      <td>200</td>\n",
       "      <td>600</td>\n",
       "    </tr>\n",
       "    <tr>\n",
       "      <th>3</th>\n",
       "      <td>4</td>\n",
       "      <td>bone</td>\n",
       "      <td>1</td>\n",
       "      <td>25</td>\n",
       "      <td>25</td>\n",
       "    </tr>\n",
       "  </tbody>\n",
       "</table>\n",
       "</div>"
      ],
      "text/plain": [
       "   ID_cliente Produto  quantidade  valor  valor_total_compra\n",
       "0           1  camisa           2     50                 100\n",
       "1           2   calça           1     89                  89\n",
       "2           3   tenis           3    200                 600\n",
       "3           4    bone           1     25                  25"
      ]
     },
     "execution_count": 122,
     "metadata": {},
     "output_type": "execute_result"
    }
   ],
   "source": [
    "df2['valor_total_compra'] = df2['quantidade'] * df2['valor']\n",
    "df2"
   ]
  }
 ],
 "metadata": {
  "kernelspec": {
   "display_name": "avaliacao",
   "language": "python",
   "name": "python3"
  },
  "language_info": {
   "codemirror_mode": {
    "name": "ipython",
    "version": 3
   },
   "file_extension": ".py",
   "mimetype": "text/x-python",
   "name": "python",
   "nbconvert_exporter": "python",
   "pygments_lexer": "ipython3",
   "version": "3.12.3"
  }
 },
 "nbformat": 4,
 "nbformat_minor": 5
}

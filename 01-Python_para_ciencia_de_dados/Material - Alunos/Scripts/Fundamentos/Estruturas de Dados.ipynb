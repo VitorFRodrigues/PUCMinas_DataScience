{
 "cells": [
  {
   "cell_type": "markdown",
   "id": "316736c2",
   "metadata": {},
   "source": [
    "# Estruturas de Dados\n",
    "****\n",
    "As estruturas de dados desempenham um papel fundamental na organização e manipulação de informações em qualquer linguagem de programação. Em Python, uma linguagem conhecida por sua simplicidade e flexibilidade, uma variedade de estruturas de dados está disponível para lidar com diferentes necessidades de armazenamento e processamento de dados.\n",
    "\n",
    "Nesta aula, exploraremos algumas das estruturas de dados mais comuns em Python, incluindo listas, tuplas, conjuntos, dicionários, séries e dataframes. Cada uma dessas estruturas possui características únicas que a tornam adequada para diferentes tipos de tarefas.\n",
    "***"
   ]
  },
  {
   "cell_type": "markdown",
   "id": "2d53db6b",
   "metadata": {},
   "source": [
    "##### Lista (list)\n",
    "\n",
    "As listas em Python são estruturas de dados fundamentais que permitem armazenar coleções ordenadas de itens. Elas são mutáveis, o que significa que você pode adicionar, remover e modificar elementos após a criação da lista. As listas são muito versáteis e são amplamente utilizadas em programação Python para armazenar e manipular conjuntos de dados.\n",
    "\n",
    "O tipo de dados lista é utilizado para representar uma sequência **mutável** de valores. Uma lista é criada colocando valores separados por vírgulas entre colchetes. Os valores podem ser de qualquer tipo.\n"
   ]
  },
  {
   "cell_type": "code",
   "execution_count": null,
   "id": "64b950f9",
   "metadata": {},
   "outputs": [],
   "source": []
  },
  {
   "cell_type": "markdown",
   "id": "e2fd481d",
   "metadata": {},
   "source": [
    "Acesso a Elementos \n",
    "\n",
    "Para acessar elementos individuais em uma lista, utilize índices começando do 0."
   ]
  },
  {
   "cell_type": "code",
   "execution_count": null,
   "id": "150908a5",
   "metadata": {},
   "outputs": [],
   "source": []
  },
  {
   "cell_type": "markdown",
   "id": "60e04a74",
   "metadata": {},
   "source": [
    "Adição de Elementos\n",
    "\n",
    "Adicione elementos ao final da lista com append() ou insira em uma posição específica com insert()."
   ]
  },
  {
   "cell_type": "code",
   "execution_count": null,
   "id": "80633ca6",
   "metadata": {},
   "outputs": [],
   "source": []
  },
  {
   "cell_type": "markdown",
   "id": "92827047",
   "metadata": {},
   "source": [
    "Remoção de Elementos\n",
    "\n",
    "Remova elementos com del, remove() ou pop()."
   ]
  },
  {
   "cell_type": "code",
   "execution_count": null,
   "id": "fc89e965",
   "metadata": {},
   "outputs": [],
   "source": []
  },
  {
   "cell_type": "markdown",
   "id": "ab1d738c",
   "metadata": {},
   "source": [
    "Concatenação de Listas\n",
    "\n",
    "Concatene listas com o operador +."
   ]
  },
  {
   "cell_type": "code",
   "execution_count": null,
   "id": "4ca918b5",
   "metadata": {},
   "outputs": [],
   "source": []
  },
  {
   "cell_type": "markdown",
   "id": "f8662f31",
   "metadata": {},
   "source": [
    "Fatiamento (Slicing)\n",
    "\n",
    "Extraia partes da lista usando a notação de fatiamento."
   ]
  },
  {
   "cell_type": "code",
   "execution_count": null,
   "id": "3c734408",
   "metadata": {},
   "outputs": [],
   "source": []
  },
  {
   "cell_type": "markdown",
   "id": "1432ca74",
   "metadata": {},
   "source": [
    "Ordenação\n",
    "\n",
    "Ordene os elementos de uma lista com sort() e inverta a ordem com reverse()."
   ]
  },
  {
   "cell_type": "code",
   "execution_count": null,
   "id": "6e745735",
   "metadata": {},
   "outputs": [],
   "source": []
  },
  {
   "cell_type": "markdown",
   "id": "a1cb9db1",
   "metadata": {},
   "source": [
    "Busca de Elementos\n",
    "\n",
    "Verifique a presença de um elemento com in ou conte ocorrências com count()."
   ]
  },
  {
   "cell_type": "code",
   "execution_count": null,
   "id": "88215198",
   "metadata": {},
   "outputs": [],
   "source": []
  },
  {
   "cell_type": "code",
   "execution_count": null,
   "id": "395f2696",
   "metadata": {},
   "outputs": [],
   "source": [
    "\n",
    "\n"
   ]
  },
  {
   "cell_type": "markdown",
   "id": "ca5291b3",
   "metadata": {},
   "source": [
    "***"
   ]
  },
  {
   "cell_type": "markdown",
   "id": "9c92e7b9",
   "metadata": {},
   "source": [
    "##### Tupla (tuple)\n",
    "O tipo de dados tupla é utilizado para representar uma sequência **imutável** de valores. Uma tupla é criada colocando valores separados por vírgulas entre parênteses. Os valores podem ser de qualquer tipo.\n",
    "\n",
    "1. O uso de tuplas em Python é muito comum quando se deseja armazenar um conjunto de valores que não devem ser modificados.\n",
    "\n",
    "2. As tuplas são utilizadas em diversas situações, como por exemplo, na representação de coordenadas geográficas (latitude e longitude), na definição de cores em sistemas de design gráfico, na criação de jogos que requerem o armazenamento de posições de elementos em uma grade, entre outros."
   ]
  },
  {
   "cell_type": "markdown",
   "id": "6c221a6d",
   "metadata": {},
   "source": [
    "Criação de uma Tupla\n",
    "\n",
    "Para criar uma tupla, você pode usar parênteses e separar os elementos por vírgulas."
   ]
  },
  {
   "cell_type": "code",
   "execution_count": null,
   "id": "f1958448",
   "metadata": {},
   "outputs": [],
   "source": []
  },
  {
   "cell_type": "markdown",
   "id": "87d36d39",
   "metadata": {},
   "source": [
    "Acesso a Elementos\n",
    "\n",
    "Os elementos de uma tupla são acessados por índices, começando do 0."
   ]
  },
  {
   "cell_type": "code",
   "execution_count": null,
   "id": "5a1c6e8f",
   "metadata": {},
   "outputs": [],
   "source": [
    "    "
   ]
  },
  {
   "cell_type": "markdown",
   "id": "b1e648c5",
   "metadata": {},
   "source": [
    "Fatiamento (Slicing) de uma Tupla\n",
    "\n",
    "Você pode extrair partes de uma tupla usando a notação de fatiamento."
   ]
  },
  {
   "cell_type": "code",
   "execution_count": null,
   "id": "f2f90a7f",
   "metadata": {},
   "outputs": [],
   "source": []
  },
  {
   "cell_type": "markdown",
   "id": "a78acac3",
   "metadata": {},
   "source": [
    "Concatenação de Tuplas\n",
    "\n",
    "Concatene tuplas usando o operador +."
   ]
  },
  {
   "cell_type": "code",
   "execution_count": null,
   "id": "03924ddc",
   "metadata": {},
   "outputs": [],
   "source": []
  },
  {
   "cell_type": "markdown",
   "id": "32f53d2c",
   "metadata": {},
   "source": [
    "Imutabilidade\n",
    "\n",
    "Tentativas de modificar elementos de uma tupla resultarão em erro."
   ]
  },
  {
   "cell_type": "code",
   "execution_count": null,
   "id": "32d496da",
   "metadata": {},
   "outputs": [],
   "source": []
  },
  {
   "cell_type": "markdown",
   "id": "c0b287a2",
   "metadata": {},
   "source": [
    "***"
   ]
  },
  {
   "cell_type": "markdown",
   "id": "03c3b87b",
   "metadata": {},
   "source": [
    "##### Dicionário (dict)\n",
    "O tipo de dado dicionário (dict) em Python é uma estrutura de dados que armazena valores em pares de chave-valor.\n",
    "\n",
    "Os dicionários em Python são estruturas de dados que permitem armazenar pares chave-valor, onde cada valor é associado a uma chave única. Eles são muito úteis para representar dados estruturados e indexados por chaves significativas, facilitando o acesso e a manipulação dos dados. Aqui estão algumas características importantes dos dicionários\n",
    "\n",
    "\n",
    "- Chaves Únicas: Cada chave em um dicionário é única, o que significa que não pode haver duas chaves iguais no mesmo dicionário. No entanto, os valores associados às chaves podem ser duplicados.\n",
    "\n",
    "- Mutabilidade: Os dicionários são mutáveis, o que significa que você pode adicionar, modificar e remover pares chave-valor após a criação do dicionário.\n",
    "\n",
    "- Flexibilidade: Os valores em um dicionário podem ser de qualquer tipo de dado, incluindo inteiros, strings, floats, listas, tuplas, conjuntos, outros dicionários e até mesmo funções.\n",
    "\n",
    "- Indexação por Chaves: Os elementos em um dicionário são acessados não por índices numéricos, como em listas e tuplas, mas sim por meio de chaves significativas."
   ]
  },
  {
   "cell_type": "markdown",
   "id": "ed0fcba8",
   "metadata": {},
   "source": [
    "Criação de um Dicionário\n",
    "\n",
    "Para criar um dicionário, você pode usar chaves {} e especificar pares chave-valor separados por vírgulas."
   ]
  },
  {
   "cell_type": "code",
   "execution_count": null,
   "id": "795b7059",
   "metadata": {},
   "outputs": [],
   "source": []
  },
  {
   "cell_type": "markdown",
   "id": "790f178b",
   "metadata": {},
   "source": [
    "Acesso a Elementos por Chave\n",
    "\n",
    "Os elementos em um dicionário são acessados por suas chaves."
   ]
  },
  {
   "cell_type": "code",
   "execution_count": null,
   "id": "2eb4efc1",
   "metadata": {},
   "outputs": [],
   "source": []
  },
  {
   "cell_type": "markdown",
   "id": "f535dbd5",
   "metadata": {},
   "source": [
    "Adição de Novos Pares Chave-Valor\n",
    "\n",
    "Você pode adicionar novos pares chave-valor a um dicionário atribuindo um valor a uma nova chave."
   ]
  },
  {
   "cell_type": "code",
   "execution_count": null,
   "id": "140beb78",
   "metadata": {},
   "outputs": [],
   "source": []
  },
  {
   "cell_type": "markdown",
   "id": "b3fff67b",
   "metadata": {},
   "source": [
    "Modificação de Valores de Chaves Existentes\n",
    "\n",
    "Você pode modificar o valor associado a uma chave existente atribuindo um novo valor a essa chave."
   ]
  },
  {
   "cell_type": "code",
   "execution_count": null,
   "id": "83cb5c0d",
   "metadata": {},
   "outputs": [],
   "source": []
  },
  {
   "cell_type": "markdown",
   "id": "b8fd11ef",
   "metadata": {},
   "source": [
    "Remoção de Pares Chave-Valor\n",
    "\n",
    "Você pode remover pares chave-valor de um dicionário usando o comando del seguido da chave que deseja remover."
   ]
  },
  {
   "cell_type": "code",
   "execution_count": null,
   "id": "9231a592",
   "metadata": {},
   "outputs": [],
   "source": []
  },
  {
   "cell_type": "markdown",
   "id": "7d1387c8",
   "metadata": {},
   "source": [
    "Iteração sobre Chaves e Valores\n",
    "\n",
    "Você pode iterar sobre as chaves, os valores ou ambos em um dicionário usando loops for."
   ]
  },
  {
   "cell_type": "code",
   "execution_count": null,
   "id": "3282f4ae",
   "metadata": {},
   "outputs": [],
   "source": [
    "\n"
   ]
  },
  {
   "cell_type": "code",
   "execution_count": null,
   "id": "e84d329b",
   "metadata": {},
   "outputs": [],
   "source": []
  },
  {
   "cell_type": "code",
   "execution_count": null,
   "id": "30f4d9aa",
   "metadata": {},
   "outputs": [],
   "source": []
  },
  {
   "cell_type": "code",
   "execution_count": null,
   "id": "e48689d9",
   "metadata": {},
   "outputs": [],
   "source": []
  },
  {
   "cell_type": "markdown",
   "id": "7fdf73c2",
   "metadata": {},
   "source": [
    "Criando uma lista de dicionários\n",
    "\n",
    "As listas de dicionários são úteis para armazenar e manipular coleções de registros com vários campos. Elas podem ser usadas em muitas aplicações, como por exemplo:\n",
    "\n",
    "- Banco de dados em memória: podem ser usadas para armazenar dados em memória, como se fosse um banco de dados.\n",
    "\n",
    "- Análise de dados:  podem ser usadas para armazenar dados de pesquisa, tais como resultados de experimentos científicos ou pesquisas de mercado.\n",
    "\n",
    "- Processamento de texto: podem ser usadas para armazenar dados de texto, tais como resultados de análise de sentimento ou de mineração de dados.\n",
    "\n",
    "- Configurações de aplicativos: podem ser usadas para armazenar configurações de aplicativos e preferências do usuário."
   ]
  },
  {
   "cell_type": "code",
   "execution_count": null,
   "id": "a4a8331f",
   "metadata": {},
   "outputs": [],
   "source": []
  },
  {
   "cell_type": "code",
   "execution_count": null,
   "id": "80cb8df6",
   "metadata": {},
   "outputs": [],
   "source": []
  },
  {
   "cell_type": "code",
   "execution_count": null,
   "id": "589685cb",
   "metadata": {},
   "outputs": [],
   "source": []
  },
  {
   "cell_type": "code",
   "execution_count": null,
   "id": "cee8782f",
   "metadata": {},
   "outputs": [],
   "source": []
  },
  {
   "cell_type": "code",
   "execution_count": null,
   "id": "1829abf7",
   "metadata": {},
   "outputs": [],
   "source": []
  },
  {
   "cell_type": "markdown",
   "id": "291a8c17",
   "metadata": {},
   "source": [
    "Alterando valor em uma lista de dicionário"
   ]
  },
  {
   "cell_type": "code",
   "execution_count": null,
   "id": "ae8a914a",
   "metadata": {},
   "outputs": [],
   "source": []
  },
  {
   "cell_type": "code",
   "execution_count": null,
   "id": "d9b4f45e",
   "metadata": {},
   "outputs": [],
   "source": []
  },
  {
   "cell_type": "markdown",
   "id": "3e5d9b22",
   "metadata": {},
   "source": [
    "Adiconando uma lista em uma chave de um dicionário"
   ]
  },
  {
   "cell_type": "code",
   "execution_count": null,
   "id": "3149fb6b",
   "metadata": {},
   "outputs": [],
   "source": []
  },
  {
   "cell_type": "code",
   "execution_count": null,
   "id": "58326e80",
   "metadata": {},
   "outputs": [],
   "source": []
  },
  {
   "cell_type": "markdown",
   "id": "ece6707f",
   "metadata": {},
   "source": [
    "***"
   ]
  },
  {
   "cell_type": "markdown",
   "id": "5537ce71",
   "metadata": {},
   "source": [
    "##### Conjuntos \n",
    "Os conjuntos em Python são estruturas de dados que representam coleções de elementos únicos e não ordenados. Eles são úteis para operações que envolvem testes de pertencimento, remoção de duplicatas e operações de conjunto como união, interseção e diferença. Aqui estão algumas características importantes dos conjuntos:\n",
    "\n",
    "- Elementos Únicos: Os conjuntos em Python não contêm elementos duplicados. Se você tentar adicionar um elemento que já está presente no conjunto, ele será ignorado.\n",
    "\n",
    "- Não Ordenados: Os elementos em um conjunto não têm uma ordem específica. Isso significa que você não pode acessar elementos em um conjunto por índices como em listas e tuplas.\n",
    "\n",
    "- Mutabilidade Limitada: Embora os elementos individuais em um conjunto sejam imutáveis (por exemplo, strings e tuplas), você pode adicionar e remover elementos de um conjunto.\n",
    "\n",
    "- Eficiência em Testes de Pertencimento: Os conjuntos são otimizados para testes de pertencimento, o que significa que verificar se um elemento está presente em um conjunto é uma operação muito rápida."
   ]
  },
  {
   "cell_type": "markdown",
   "id": "18fdb9eb",
   "metadata": {},
   "source": [
    "Criação de um Conjunto\n",
    "\n",
    "Para criar um conjunto, você pode usar chaves { } e listar os elementos separados por vírgulas."
   ]
  },
  {
   "cell_type": "code",
   "execution_count": null,
   "id": "f02cb9c7",
   "metadata": {},
   "outputs": [],
   "source": []
  },
  {
   "cell_type": "markdown",
   "id": "38754223",
   "metadata": {},
   "source": [
    "Remoção de Duplicatas de uma Lista\n",
    "\n",
    "Você pode converter uma lista em um conjunto para remover elementos duplicados."
   ]
  },
  {
   "cell_type": "code",
   "execution_count": null,
   "id": "4c491cab",
   "metadata": {},
   "outputs": [],
   "source": []
  },
  {
   "cell_type": "markdown",
   "id": "7c1dd89a",
   "metadata": {},
   "source": [
    "Adição de Elementos\n",
    "\n",
    "Você pode adicionar elementos a um conjunto usando o método add()."
   ]
  },
  {
   "cell_type": "code",
   "execution_count": null,
   "id": "2ac30f44",
   "metadata": {},
   "outputs": [],
   "source": []
  },
  {
   "cell_type": "markdown",
   "id": "4116c59c",
   "metadata": {},
   "source": [
    "Remoção de Elementos\n",
    "\n",
    "Você pode remover elementos de um conjunto usando os métodos remove() ou discard()."
   ]
  },
  {
   "cell_type": "code",
   "execution_count": null,
   "id": "5c5ec672",
   "metadata": {},
   "outputs": [],
   "source": []
  },
  {
   "cell_type": "code",
   "execution_count": null,
   "id": "425bcd23",
   "metadata": {},
   "outputs": [],
   "source": []
  },
  {
   "cell_type": "markdown",
   "id": "84c11d38",
   "metadata": {},
   "source": [
    "Operações de Conjunto\n",
    "\n",
    "Você pode realizar operações de conjunto como união, interseção e diferença."
   ]
  },
  {
   "cell_type": "code",
   "execution_count": null,
   "id": "f6ac7bc3",
   "metadata": {},
   "outputs": [],
   "source": [
    " "
   ]
  },
  {
   "cell_type": "markdown",
   "id": "67c21592",
   "metadata": {},
   "source": [
    "Nota: A diferença entre dois conjuntos, denotada por conjunto1 - conjunto2, retorna um novo conjunto contendo todos os elementos que estão presentes no conjunto1 e não estão presentes no conjunto2. Em outras palavras, são todos os elementos que pertencem ao conjunto1 mas não pertencem ao conjunto2.\n",
    "\n",
    "Nesse caso específico, a diferença será {1, 2}, pois os elementos 1 e 2 estão presentes em conjunto1 e não estão presentes em conjunto2. O elemento 3 não será incluído na diferença, pois ele está presente em ambos os conjuntos.\n",
    "\n",
    "\n",
    "***"
   ]
  },
  {
   "cell_type": "markdown",
   "id": "35c52972",
   "metadata": {},
   "source": [
    "##### Séries\n",
    "Uma série é uma estrutura de dados unidimensional que pode conter qualquer tipo de dados, como números inteiros, números de ponto flutuante, strings, entre outros. Cada elemento em uma série possui um rótulo associado, chamado de índice. A série pode ser vista como uma coluna em uma planilha ou uma matriz com apenas uma linha."
   ]
  },
  {
   "cell_type": "markdown",
   "id": "a6cf7d8a",
   "metadata": {},
   "source": [
    "Exemplo no mundo real: Uma série pode representar as temperaturas registradas diariamente em uma cidade ao longo de um mês, onde cada temperatura está associada a uma data."
   ]
  },
  {
   "cell_type": "code",
   "execution_count": null,
   "id": "e865131b",
   "metadata": {},
   "outputs": [],
   "source": []
  },
  {
   "cell_type": "markdown",
   "id": "39a130ff",
   "metadata": {},
   "source": [
    "##### DataFrames\n",
    "Um DataFrame é uma estrutura de dados bidimensional semelhante a uma tabela de banco de dados ou uma planilha do Excel. Ele é composto por linhas e colunas, onde cada coluna pode ser de um tipo de dado diferente. Os DataFrames são altamente flexíveis e podem ser usados para armazenar e manipular dados heterogêneos.\n",
    "\n",
    "Exemplo no mundo real: Um DataFrame pode representar dados de vendas de uma empresa, onde cada linha corresponde a uma transação e as colunas representam informações como o ID do cliente, o produto vendido, a quantidade vendida e o valor da venda."
   ]
  },
  {
   "cell_type": "code",
   "execution_count": null,
   "id": "0c58cd5f",
   "metadata": {},
   "outputs": [],
   "source": []
  }
 ],
 "metadata": {
  "kernelspec": {
   "display_name": "avaliacao",
   "language": "python",
   "name": "python3"
  },
  "language_info": {
   "codemirror_mode": {
    "name": "ipython",
    "version": 3
   },
   "file_extension": ".py",
   "mimetype": "text/x-python",
   "name": "python",
   "nbconvert_exporter": "python",
   "pygments_lexer": "ipython3",
   "version": "3.11.0"
  }
 },
 "nbformat": 4,
 "nbformat_minor": 5
}

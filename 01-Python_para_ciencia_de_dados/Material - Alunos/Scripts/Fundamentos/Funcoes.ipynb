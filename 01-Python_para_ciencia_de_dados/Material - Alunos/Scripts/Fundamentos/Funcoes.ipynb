{
 "cells": [
  {
   "cell_type": "markdown",
   "id": "592f918a",
   "metadata": {},
   "source": [
    "# Funções\n",
    "****\n",
    "\n",
    "Uma função em Python é um bloco de código reutilizável que executa uma tarefa específica. Ela recebe entradas (conhecidas como parâmetros ou argumentos), processa essas entradas e pode retornar um resultado. As funções são uma parte essencial da programação em Python, pois permitem dividir o código em partes menores e mais gerenciáveis, promovendo a reutilização e a modularidade do código.\n",
    "\n",
    "Para definir uma função em Python, você usa a palavra-chave def, seguida pelo nome da função e, opcionalmente, uma lista de parâmetros entre parênteses. O bloco de código da função é indentado e segue a definição da função. Aqui está um exemplo simples de uma função que soma dois números:"
   ]
  },
  {
   "cell_type": "markdown",
   "id": "9ac8dd15",
   "metadata": {},
   "source": [
    "Exemplo 1: Função Soma"
   ]
  },
  {
   "cell_type": "code",
   "execution_count": 2,
   "id": "e970def1",
   "metadata": {},
   "outputs": [],
   "source": [
    "def soma(a, b):\n",
    "    resultado = a + b\n",
    "    return resultado"
   ]
  },
  {
   "cell_type": "markdown",
   "id": "40e388b5",
   "metadata": {},
   "source": [
    "Este exemplo, a função soma recebe dois parâmetros a e b, realiza a soma deles e retorna o resultado. Você pode chamar essa função em qualquer lugar do seu código, fornecendo os valores desejados para a e b. Por exemplo:"
   ]
  },
  {
   "cell_type": "code",
   "execution_count": 3,
   "id": "e49d67fb",
   "metadata": {},
   "outputs": [
    {
     "name": "stdout",
     "output_type": "stream",
     "text": [
      "8\n"
     ]
    }
   ],
   "source": [
    "resultado_da_soma = soma(3,5)\n",
    "print(resultado_da_soma)"
   ]
  },
  {
   "cell_type": "markdown",
   "id": "8c828ce2",
   "metadata": {},
   "source": [
    "Exemplo 2: Função que verifica se um número é par"
   ]
  },
  {
   "cell_type": "code",
   "execution_count": 4,
   "id": "e8c630d5",
   "metadata": {},
   "outputs": [],
   "source": [
    "def is_par(numero):\n",
    "    if numero % 2 == 0:\n",
    "        return True\n",
    "    else:\n",
    "        return False"
   ]
  },
  {
   "cell_type": "code",
   "execution_count": 5,
   "id": "5b0baf49",
   "metadata": {},
   "outputs": [
    {
     "name": "stdout",
     "output_type": "stream",
     "text": [
      "True\n",
      "False\n"
     ]
    }
   ],
   "source": [
    "print(is_par(4))\n",
    "print(is_par(7))"
   ]
  },
  {
   "cell_type": "markdown",
   "id": "4f452d9c",
   "metadata": {},
   "source": [
    "Exemplo 3: Função que calcula a média de uma lista de números"
   ]
  },
  {
   "cell_type": "code",
   "execution_count": 7,
   "id": "fa301507",
   "metadata": {},
   "outputs": [],
   "source": [
    "def media_lista(lista):\n",
    "    return sum(lista) / len(lista) "
   ]
  },
  {
   "cell_type": "code",
   "execution_count": 10,
   "metadata": {},
   "outputs": [
    {
     "data": {
      "text/plain": [
       "6.25"
      ]
     },
     "execution_count": 10,
     "metadata": {},
     "output_type": "execute_result"
    }
   ],
   "source": [
    "media_lista([5, 5, 5, 10])"
   ]
  },
  {
   "cell_type": "code",
   "execution_count": null,
   "id": "2771020e",
   "metadata": {},
   "outputs": [],
   "source": []
  }
 ],
 "metadata": {
  "kernelspec": {
   "display_name": "avaliacao",
   "language": "python",
   "name": "python3"
  },
  "language_info": {
   "codemirror_mode": {
    "name": "ipython",
    "version": 3
   },
   "file_extension": ".py",
   "mimetype": "text/x-python",
   "name": "python",
   "nbconvert_exporter": "python",
   "pygments_lexer": "ipython3",
   "version": "3.12.3"
  }
 },
 "nbformat": 4,
 "nbformat_minor": 5
}

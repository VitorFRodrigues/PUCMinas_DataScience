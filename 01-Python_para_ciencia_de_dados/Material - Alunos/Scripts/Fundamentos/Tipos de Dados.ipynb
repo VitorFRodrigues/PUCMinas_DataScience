{
 "cells": [
  {
   "cell_type": "markdown",
   "id": "592f918a",
   "metadata": {},
   "source": [
    "# Fundamentos em Python\n",
    "****\n",
    "\n",
    "Essa aula tem objetivo de apresentar os principais fundamentos da linguagem python e suas aplicações no dia a dia. "
   ]
  },
  {
   "cell_type": "markdown",
   "id": "7eb794f2",
   "metadata": {},
   "source": [
    "### Aplicações \n",
    "- Desenvolvimento web: Python é muito utilizado no desenvolvimento de aplicações web, através de frameworks como Django e Flask.\n",
    "- Ciência de dados: Python é uma das linguagens mais utilizadas na área de ciência de dados, graças às bibliotecas Numpy, Pandas, Scikit-learn e outras, que permitem a análise e visualização de dados de forma eficiente e intuitiva.\n",
    "- Automação de tarefas: Python também é muito utilizado para automação de tarefas, desde scripts simples para renomear arquivos até sistemas de automação de processos empresariais.\n",
    "- Desenvolvimento de jogos: Python é uma linguagem bastante utilizada no desenvolvimento de jogos, principalmente através da biblioteca Pygame.\n"
   ]
  },
  {
   "cell_type": "markdown",
   "id": "316736c2",
   "metadata": {},
   "source": [
    "#### Conhecendo os Tipos de Dados \n",
    "Python é uma linguagem de programação dinamicamente tipada, o que significa que o tipo de dados é inferido a partir do valor atribuído a ele. Existem vários tipos de dados em Python, cada um com suas próprias características e métodos. Nesta resposta, vamos apresentar cada um desses tipos de dados e dar um exemplo prático de como utilizá-los.\n"
   ]
  },
  {
   "cell_type": "markdown",
   "id": "b97f5e31",
   "metadata": {},
   "source": [
    "##### String (str)\n",
    "\n",
    "O tipo de dados de string é uma sequência de caracteres que representa um texto. Ela é uma das principais estruturas de dados da linguagem, sendo amplamente utilizada em diversos contextos, como manipulação de arquivos, comunicação com banco de dados e processamento de texto.\n",
    "\n",
    "Para criar uma string em Python, basta envolver o texto entre aspas simples ou duplas. Por exemplo:"
   ]
  },
  {
   "cell_type": "code",
   "execution_count": 5,
   "id": "2b8f766c",
   "metadata": {},
   "outputs": [],
   "source": [
    "texto = 'Conhecendo o python'"
   ]
  },
  {
   "cell_type": "code",
   "execution_count": 6,
   "id": "37c3cbf4",
   "metadata": {},
   "outputs": [
    {
     "name": "stdout",
     "output_type": "stream",
     "text": [
      "Conhecendo o python\n"
     ]
    }
   ],
   "source": [
    "print(texto)"
   ]
  },
  {
   "cell_type": "markdown",
   "id": "395ee33b",
   "metadata": {},
   "source": [
    "Além disso, é possível usar aspas triplas para criar strings com múltiplas linhas. Por exemplo:"
   ]
  },
  {
   "cell_type": "code",
   "execution_count": 7,
   "id": "de17f207",
   "metadata": {},
   "outputs": [
    {
     "name": "stdout",
     "output_type": "stream",
     "text": [
      "\n",
      "select *\n",
      "from cursos\n",
      "\n"
     ]
    }
   ],
   "source": [
    "tabela = 'cursos'\n",
    "query = f'''\n",
    "select *\n",
    "from {tabela}\n",
    "'''\n",
    "print(query)"
   ]
  },
  {
   "cell_type": "markdown",
   "id": "4d7ac7e9",
   "metadata": {},
   "source": [
    "As strings em Python são imutáveis, o que significa que não é possível alterar um caractere específico de uma string. No entanto, é possível criar uma nova string a partir de uma existente, utilizando métodos de manipulação de strings, como o replace() e o split()."
   ]
  },
  {
   "cell_type": "code",
   "execution_count": 8,
   "id": "9aa47587",
   "metadata": {},
   "outputs": [
    {
     "name": "stdout",
     "output_type": "stream",
     "text": [
      "\n",
      "select *\n",
      "from pessoa\n",
      "\n"
     ]
    }
   ],
   "source": [
    "nova_query = query.replace('cursos', 'pessoa')\n",
    "print(nova_query)"
   ]
  },
  {
   "cell_type": "markdown",
   "id": "14a12004",
   "metadata": {},
   "source": [
    "Algumas operações comuns que podem ser realizadas com strings incluem concatenação (união de duas ou mais strings), indexação (acesso a um caractere específico da string) e fatiamento (obtenção de uma sub-string a partir da string original)."
   ]
  },
  {
   "cell_type": "code",
   "execution_count": 10,
   "id": "3a0d9a8b",
   "metadata": {},
   "outputs": [
    {
     "name": "stdout",
     "output_type": "stream",
     "text": [
      "Vitor Rodrigues\n"
     ]
    }
   ],
   "source": [
    "texto_1 = 'Vitor'\n",
    "texto_2 = 'Rodrigues'\n",
    "\n",
    "texto_3 = texto_1 + ' ' + texto_2\n",
    "\n",
    "print(texto_3)"
   ]
  },
  {
   "cell_type": "markdown",
   "id": "d42504ab",
   "metadata": {},
   "source": [
    "##### Inteiro (int)\n",
    "O tipo de dados inteiro (int) representa números inteiros positivos ou negativos. Inteiros podem ser criados simplesmente digitando um número inteiro diretamente no código Python ou podem ser o resultado de operações matemáticas."
   ]
  },
  {
   "cell_type": "code",
   "execution_count": 12,
   "id": "500f2e1d",
   "metadata": {},
   "outputs": [
    {
     "data": {
      "text/plain": [
       "15"
      ]
     },
     "execution_count": 12,
     "metadata": {},
     "output_type": "execute_result"
    }
   ],
   "source": [
    "a = 5\n",
    "b = 10\n",
    "a+b"
   ]
  },
  {
   "cell_type": "markdown",
   "id": "9ef630a8",
   "metadata": {},
   "source": [
    "##### Operações"
   ]
  },
  {
   "cell_type": "code",
   "execution_count": 14,
   "id": "5bdc037b",
   "metadata": {},
   "outputs": [
    {
     "name": "stdout",
     "output_type": "stream",
     "text": [
      "\n",
      "A soma de a + b = 15\n",
      "A multiplicação entre A e B = 50\n",
      "A divisão entre A e B = 0.5\n",
      "\n"
     ]
    }
   ],
   "source": [
    "soma = a + b\n",
    "multiplicacao = a * b\n",
    "divisao = a / b\n",
    "\n",
    "print(\n",
    "    f'''\n",
    "A soma de a + b = {soma}\n",
    "A multiplicação entre A e B = {multiplicacao}\n",
    "A divisão entre A e B = {divisao}\n",
    "'''\n",
    ")"
   ]
  },
  {
   "cell_type": "markdown",
   "id": "1fa0b832",
   "metadata": {},
   "source": [
    "##### Ponto Flutuante ou Decimal (float)\n",
    "O tipo de dados float representa números com casas decimais. Assim como os inteiros, os floats podem ser criados diretamente no código ou como resultado de operações matemáticas."
   ]
  },
  {
   "cell_type": "code",
   "execution_count": 15,
   "id": "24e1bd52",
   "metadata": {},
   "outputs": [
    {
     "data": {
      "text/plain": [
       "9.649999999999999"
      ]
     },
     "execution_count": 15,
     "metadata": {},
     "output_type": "execute_result"
    }
   ],
   "source": [
    "4.55 + 5.1"
   ]
  },
  {
   "cell_type": "markdown",
   "id": "8ae3f6fb",
   "metadata": {},
   "source": [
    "##### Conversão de Tipos de Dados\n",
    "É possível realizar conversão de tipos de dados de acordo com a necessidade do contexto."
   ]
  },
  {
   "cell_type": "code",
   "execution_count": 16,
   "id": "66a85d87",
   "metadata": {},
   "outputs": [],
   "source": [
    "valor = '4.87'"
   ]
  },
  {
   "cell_type": "code",
   "execution_count": 17,
   "id": "7a2a85b0",
   "metadata": {},
   "outputs": [
    {
     "data": {
      "text/plain": [
       "str"
      ]
     },
     "execution_count": 17,
     "metadata": {},
     "output_type": "execute_result"
    }
   ],
   "source": [
    "type(valor)"
   ]
  },
  {
   "cell_type": "code",
   "execution_count": 19,
   "id": "a6628c78",
   "metadata": {},
   "outputs": [
    {
     "data": {
      "text/plain": [
       "float"
      ]
     },
     "execution_count": 19,
     "metadata": {},
     "output_type": "execute_result"
    }
   ],
   "source": [
    "valor = float(valor)\n",
    "type(valor)"
   ]
  },
  {
   "cell_type": "markdown",
   "id": "6dcc6cf2",
   "metadata": {},
   "source": [
    "##### Boolean (bool)\n",
    "O tipo de dados boolean é utilizado para representar valores lógicos verdadeiro (True) ou falso (False). Booleans são frequentemente utilizados em estruturas de controle, como if e while."
   ]
  },
  {
   "cell_type": "code",
   "execution_count": 20,
   "id": "e40096de",
   "metadata": {},
   "outputs": [
    {
     "data": {
      "text/plain": [
       "bool"
      ]
     },
     "execution_count": 20,
     "metadata": {},
     "output_type": "execute_result"
    }
   ],
   "source": [
    "tem_permissao = True\n",
    "\n",
    "type(tem_permissao)"
   ]
  },
  {
   "cell_type": "markdown",
   "id": "48c244ad",
   "metadata": {},
   "source": [
    "Exemplo:"
   ]
  },
  {
   "cell_type": "code",
   "execution_count": 21,
   "id": "e3eb5ea8",
   "metadata": {},
   "outputs": [
    {
     "name": "stdout",
     "output_type": "stream",
     "text": [
      "Tem acesso a sala de aula\n"
     ]
    }
   ],
   "source": [
    "if tem_permissao:\n",
    "    print('Tem acesso a sala de aula')\n",
    "else:\n",
    "    print('Não tem acesso!')\n",
    "    "
   ]
  },
  {
   "cell_type": "code",
   "execution_count": 24,
   "id": "eb74aae3",
   "metadata": {},
   "outputs": [
    {
     "name": "stdout",
     "output_type": "stream",
     "text": [
      "Numero errado! Tente novamente.\n",
      "Numero errado! Tente novamente.\n",
      "Numero errado! Tente novamente.\n",
      "Numero errado! Tente novamente.\n",
      "número correto\n"
     ]
    }
   ],
   "source": [
    "numero_secreto = 7\n",
    "\n",
    "numero = int(input(\"Digite o numero da sorte: \"))\n",
    "while True:\n",
    "    if numero == numero_secreto:\n",
    "        print('número correto')\n",
    "        break\n",
    "    else:\n",
    "        print('Numero errado! Tente novamente.')\n",
    "        numero = int(input(\"Digite o numero da sorte: \"))"
   ]
  }
 ],
 "metadata": {
  "kernelspec": {
   "display_name": "avaliacao",
   "language": "python",
   "name": "python3"
  },
  "language_info": {
   "codemirror_mode": {
    "name": "ipython",
    "version": 3
   },
   "file_extension": ".py",
   "mimetype": "text/x-python",
   "name": "python",
   "nbconvert_exporter": "python",
   "pygments_lexer": "ipython3",
   "version": "3.12.3"
  }
 },
 "nbformat": 4,
 "nbformat_minor": 5
}

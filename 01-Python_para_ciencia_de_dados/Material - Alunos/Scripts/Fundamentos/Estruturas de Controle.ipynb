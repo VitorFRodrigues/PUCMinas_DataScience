{
 "cells": [
  {
   "cell_type": "markdown",
   "id": "592f918a",
   "metadata": {},
   "source": [
    "# Estruturas de controle\n",
    "****\n",
    "\n",
    "As estruturas de controle são essenciais em programação para controlar o fluxo de execução do código. Duas das estruturas mais fundamentais são as estruturas condicionais e de repetição."
   ]
  },
  {
   "cell_type": "markdown",
   "id": "7eb794f2",
   "metadata": {},
   "source": [
    "### Estruturas Condicionais\n",
    "As estruturas condicionais permitem que um programa tome decisões com base em condições específicas. Em Python, a estrutura condicional básica é o if, que pode ser estendido com elif e else para lidar com múltiplas condições."
   ]
  },
  {
   "cell_type": "markdown",
   "id": "9ac8dd15",
   "metadata": {},
   "source": [
    "Exemplo 1: Verificação de Idade para Entrada em um Bar"
   ]
  },
  {
   "cell_type": "code",
   "execution_count": 2,
   "id": "e970def1",
   "metadata": {},
   "outputs": [
    {
     "name": "stdout",
     "output_type": "stream",
     "text": [
      "entrada permitida\n"
     ]
    }
   ],
   "source": [
    "idade = 20\n",
    "if idade>= 18:\n",
    "    print('entrada permitida')\n",
    "else:\n",
    "    print('Não Permitido')"
   ]
  },
  {
   "cell_type": "code",
   "execution_count": null,
   "id": "dd9ad2db",
   "metadata": {},
   "outputs": [],
   "source": [
    "def verifica_entrada(idade):\n",
    "    if idade>= 18:\n",
    "        print('entrada permitida')\n",
    "    else:\n",
    "        print('Não Permitido')"
   ]
  },
  {
   "cell_type": "markdown",
   "id": "8c828ce2",
   "metadata": {},
   "source": [
    "Exemplo 2: Classificação de Números"
   ]
  },
  {
   "cell_type": "code",
   "execution_count": 3,
   "id": "4841e78d",
   "metadata": {},
   "outputs": [
    {
     "name": "stdout",
     "output_type": "stream",
     "text": [
      "Positivo\n"
     ]
    }
   ],
   "source": [
    "numero = 20\n",
    "\n",
    "if numero > 0:\n",
    "    print('Positivo')\n",
    "elif numero < 0:\n",
    "    print('Negativo')\n",
    "else:\n",
    "    print('O número é zero')"
   ]
  },
  {
   "cell_type": "markdown",
   "id": "acec2ede",
   "metadata": {},
   "source": [
    "### Estruturas de Repetição\n",
    "As estruturas de repetição permitem que um conjunto de instruções seja executado repetidamente enquanto uma condição é verdadeira. Em Python, temos os loops for e while."
   ]
  },
  {
   "cell_type": "markdown",
   "id": "2528a127",
   "metadata": {},
   "source": [
    "Exemplo 1: Impressão de Números Pares com Loop For"
   ]
  },
  {
   "cell_type": "code",
   "execution_count": 4,
   "id": "c5e4b5bb",
   "metadata": {},
   "outputs": [
    {
     "name": "stdout",
     "output_type": "stream",
     "text": [
      "0\n",
      "2\n",
      "4\n",
      "6\n",
      "8\n",
      "10\n"
     ]
    }
   ],
   "source": [
    "for i in range(0, 11, 2):\n",
    "    print(i)"
   ]
  },
  {
   "cell_type": "markdown",
   "id": "141dfc44",
   "metadata": {},
   "source": [
    "Exemplo 2: Impressão de tarefas em uma lista"
   ]
  },
  {
   "cell_type": "code",
   "execution_count": 5,
   "id": "6162ba68",
   "metadata": {},
   "outputs": [
    {
     "name": "stdout",
     "output_type": "stream",
     "text": [
      "levantar\n",
      "estudar\n",
      "trabalhar\n",
      "pagar boleto\n"
     ]
    }
   ],
   "source": [
    "lista_tarefa = ['levantar', 'estudar', 'trabalhar', 'pagar boleto']\n",
    "for tarefa in lista_tarefa:\n",
    "    print(tarefa)"
   ]
  },
  {
   "cell_type": "markdown",
   "id": "b32d481d",
   "metadata": {},
   "source": [
    "Exemplo 3: Impressão de tarefas em uma lista com indice"
   ]
  },
  {
   "cell_type": "code",
   "execution_count": 6,
   "id": "11a9160a",
   "metadata": {},
   "outputs": [
    {
     "name": "stdout",
     "output_type": "stream",
     "text": [
      "Numero da tarefa 1 - Tarefa: levantar\n",
      "Numero da tarefa 2 - Tarefa: estudar\n",
      "Numero da tarefa 3 - Tarefa: trabalhar\n",
      "Numero da tarefa 4 - Tarefa: pagar boleto\n"
     ]
    }
   ],
   "source": [
    "for indice, tarefa in enumerate(lista_tarefa, start=1):\n",
    "    print(f'Numero da tarefa {indice} - Tarefa: {tarefa}')"
   ]
  },
  {
   "cell_type": "markdown",
   "id": "c109d5ac",
   "metadata": {},
   "source": [
    "Exemplo 4: Impressão de dados em dicionário"
   ]
  },
  {
   "cell_type": "code",
   "execution_count": 8,
   "id": "2a0239ba",
   "metadata": {},
   "outputs": [
    {
     "name": "stdout",
     "output_type": "stream",
     "text": [
      "Chave: nome, Valor: João\n",
      "Chave: idade, Valor: 30\n",
      "Chave: cidade, Valor: São Paulo\n"
     ]
    }
   ],
   "source": [
    "meu_dicionario = {\"nome\": \"João\", \"idade\": 30, \"cidade\": \"São Paulo\"}\n",
    " \n",
    "for chave, valor in meu_dicionario.items():\n",
    "    print(f\"Chave: {chave}, Valor: {valor}\")"
   ]
  },
  {
   "cell_type": "markdown",
   "id": "bc649db7",
   "metadata": {},
   "source": [
    "Exemplo 5: Impressão de dados em uma lista de dicionários"
   ]
  },
  {
   "cell_type": "code",
   "execution_count": 7,
   "id": "ceb11fd4",
   "metadata": {},
   "outputs": [
    {
     "name": "stdout",
     "output_type": "stream",
     "text": [
      "\n",
      "        Índice: 1,\n",
      "        Nome: João,\n",
      "        Idade: 30,\n",
      "        Cidade: São Paulo\n",
      "     \n",
      "\n",
      "        Índice: 2,\n",
      "        Nome: Maria,\n",
      "        Idade: 25,\n",
      "        Cidade: Rio de Janeiro\n",
      "     \n",
      "\n",
      "        Índice: 3,\n",
      "        Nome: Pedro,\n",
      "        Idade: 35,\n",
      "        Cidade: Belo Horizonte\n",
      "     \n"
     ]
    }
   ],
   "source": [
    "meu_dicionario = [\n",
    "    {\"nome\": \"João\", \"idade\": 30, \"cidade\": \"São Paulo\"},\n",
    "    {\"nome\": \"Maria\", \"idade\": 25, \"cidade\": \"Rio de Janeiro\"},\n",
    "    {\"nome\": \"Pedro\", \"idade\": 35, \"cidade\": \"Belo Horizonte\"}\n",
    "]\n",
    " \n",
    "for indice, pessoa in enumerate(meu_dicionario, start=1):\n",
    "    print(f'''\n",
    "        Índice: {indice},\n",
    "        Nome: {pessoa['nome']},\n",
    "        Idade: {pessoa['idade']},\n",
    "        Cidade: {pessoa['cidade']}\n",
    "     ''')"
   ]
  },
  {
   "cell_type": "markdown",
   "id": "e3130e7a",
   "metadata": {},
   "source": [
    "Exemplo 6: Soma dos Números de 1 a 10 com Loop While:"
   ]
  },
  {
   "cell_type": "code",
   "execution_count": 10,
   "id": "2a5851f7",
   "metadata": {},
   "outputs": [
    {
     "name": "stdout",
     "output_type": "stream",
     "text": [
      "55\n"
     ]
    }
   ],
   "source": [
    "soma = 0\n",
    "contador = 1\n",
    "\n",
    "while contador <= 10:\n",
    "    soma += contador\n",
    "    contador +=1\n",
    "\n",
    "print(soma)"
   ]
  },
  {
   "cell_type": "markdown",
   "id": "fb682bc9",
   "metadata": {},
   "source": [
    "Exemplo 7: Busca em uma Lista com Loop For:"
   ]
  },
  {
   "cell_type": "code",
   "execution_count": 11,
   "metadata": {},
   "outputs": [
    {
     "name": "stdout",
     "output_type": "stream",
     "text": [
      "Encontrado\n"
     ]
    }
   ],
   "source": [
    "nomes = ['Leandro', 'jose', 'maria', 'joaquina']\n",
    "busca_nome = 'jose'\n",
    "encontrado = False\n",
    "\n",
    "for nome in nomes:\n",
    "    if nome == busca_nome:\n",
    "        print('Encontrado')\n",
    "        encontrado = True\n",
    "        break\n",
    "\n",
    "if not encontrado:\n",
    "    print('Não encontrado')"
   ]
  },
  {
   "cell_type": "markdown",
   "id": "4db8b719",
   "metadata": {},
   "source": [
    "Exemplo 8: Compreensão de Listas (List Comprehension)\n",
    "\n",
    "A compreensão de listas é uma maneira concisa de criar listas em Python, geralmente usando loops for. Ela permite criar listas de forma mais eficiente e legível."
   ]
  },
  {
   "cell_type": "code",
   "execution_count": 13,
   "id": "3e956543",
   "metadata": {},
   "outputs": [
    {
     "name": "stdout",
     "output_type": "stream",
     "text": [
      "O numero 0 é par. Adicionando na lista\n",
      "O numero 1 NÃO é par. Esse numero é impar\n",
      "O numero 2 é par. Adicionando na lista\n",
      "O numero 3 NÃO é par. Esse numero é impar\n",
      "O numero 4 é par. Adicionando na lista\n",
      "O numero 5 NÃO é par. Esse numero é impar\n",
      "O numero 6 é par. Adicionando na lista\n",
      "O numero 7 NÃO é par. Esse numero é impar\n",
      "O numero 8 é par. Adicionando na lista\n",
      "O numero 9 NÃO é par. Esse numero é impar\n",
      "lista de pares: [0, 2, 4, 6, 8]\n",
      "lista de impares: [1, 3, 5, 7, 9]\n"
     ]
    }
   ],
   "source": [
    "lista_pares = []\n",
    "lista_impar = []\n",
    "\n",
    "for numero in range(10):\n",
    "    if numero % 2 == 0 :\n",
    "        print(f'O numero {numero} é par. Adicionando na lista')\n",
    "        lista_pares.append(numero)\n",
    "    else:\n",
    "        print(f'O numero {numero} NÃO é par. Esse numero é impar')\n",
    "        lista_impar.append(numero)\n",
    "\n",
    "print(f'lista de pares: {lista_pares}')\n",
    "print(f'lista de impares: {lista_impar}')        "
   ]
  },
  {
   "cell_type": "markdown",
   "id": "4593d55c",
   "metadata": {},
   "source": [
    "### Controle de exceção try-except\n",
    "Ele é usado para lidar com exceções (erros) que podem ocorrer durante a execução do código. A estrutura try-except permite que você controle o fluxo do programa, capturando exceções específicas e tratando-as de maneira apropriada, evitando interrupções inesperadas na execução do código."
   ]
  },
  {
   "cell_type": "markdown",
   "id": "b0dd314d",
   "metadata": {},
   "source": [
    "Exemplo 1: Divisão por zero"
   ]
  },
  {
   "cell_type": "code",
   "execution_count": 14,
   "id": "7dcb1b13",
   "metadata": {},
   "outputs": [
    {
     "name": "stdout",
     "output_type": "stream",
     "text": [
      "Erro na divisão\n"
     ]
    }
   ],
   "source": [
    "try:\n",
    "    10/0\n",
    "except ZeroDivisionError:\n",
    "    print('Erro na divisão')"
   ]
  },
  {
   "cell_type": "markdown",
   "id": "7ec20769",
   "metadata": {},
   "source": [
    "Exemplo 2: Soma de tipos de dados diferentes"
   ]
  },
  {
   "cell_type": "code",
   "execution_count": 15,
   "id": "6f0a5153",
   "metadata": {},
   "outputs": [
    {
     "name": "stdout",
     "output_type": "stream",
     "text": [
      "unsupported operand type(s) for +: 'int' and 'str'\n"
     ]
    }
   ],
   "source": [
    "try:\n",
    "    10+ 'texto'\n",
    "except Exception as e:\n",
    "    print(e)"
   ]
  }
 ],
 "metadata": {
  "kernelspec": {
   "display_name": "avaliacao",
   "language": "python",
   "name": "python3"
  },
  "language_info": {
   "codemirror_mode": {
    "name": "ipython",
    "version": 3
   },
   "file_extension": ".py",
   "mimetype": "text/x-python",
   "name": "python",
   "nbconvert_exporter": "python",
   "pygments_lexer": "ipython3",
   "version": "3.12.3"
  }
 },
 "nbformat": 4,
 "nbformat_minor": 5
}

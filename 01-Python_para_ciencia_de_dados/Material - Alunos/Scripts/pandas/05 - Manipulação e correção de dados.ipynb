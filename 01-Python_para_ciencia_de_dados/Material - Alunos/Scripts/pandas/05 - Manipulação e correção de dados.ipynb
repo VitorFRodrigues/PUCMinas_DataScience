{
 "cells": [
  {
   "cell_type": "markdown",
   "id": "f3f2076e",
   "metadata": {},
   "source": [
    "# Manipulação e correção de dados\n",
    "***\n",
    "\n",
    "A manipulação e correção de dados são tarefas fundamentais em análise de dados. Em muitos casos, é comum termos dados incompletos ou corrompidos em um conjunto de dados. Para lidar com esses problemas, o pandas oferece diversas funções, como isna, where, mask, dropna, fillna, drop_duplicates, e replace, que permitem limpar, transformar e corrigir os dados."
   ]
  },
  {
   "cell_type": "markdown",
   "id": "6072fe86",
   "metadata": {},
   "source": [
    "### Importação das bibliotecas\n"
   ]
  },
  {
   "cell_type": "code",
   "execution_count": null,
   "id": "f42670ce",
   "metadata": {},
   "outputs": [],
   "source": []
  },
  {
   "cell_type": "markdown",
   "id": "be47e44e",
   "metadata": {},
   "source": [
    "### Criando  dataframe a partir de uma lista em Python"
   ]
  },
  {
   "cell_type": "code",
   "execution_count": null,
   "id": "ab54a77d",
   "metadata": {},
   "outputs": [],
   "source": []
  },
  {
   "cell_type": "code",
   "execution_count": null,
   "id": "7f6b5ee0",
   "metadata": {},
   "outputs": [],
   "source": []
  },
  {
   "cell_type": "markdown",
   "id": "6c326736",
   "metadata": {},
   "source": [
    "### Método isna\n",
    "***\n",
    "É utilizada para identificar valores faltantes em um dataframe. Ela retorna uma matriz booleana do mesmo tamanho do dataframe, em que cada elemento é True se o valor correspondente no dataframe for nulo (NaN) e False caso contrário.\n"
   ]
  },
  {
   "cell_type": "code",
   "execution_count": null,
   "id": "01f887f7",
   "metadata": {},
   "outputs": [],
   "source": []
  },
  {
   "cell_type": "markdown",
   "id": "7d331107",
   "metadata": {},
   "source": [
    "#### Identificando as colunas que possuem dados ausentes"
   ]
  },
  {
   "cell_type": "code",
   "execution_count": null,
   "id": "dbe39a9a",
   "metadata": {},
   "outputs": [],
   "source": []
  },
  {
   "cell_type": "markdown",
   "id": "87937587",
   "metadata": {},
   "source": [
    "### Método where\n",
    "***\n",
    "É uma forma de condicional do Pandas, similar ao if/else em outras linguagens de programação. Ela permite aplicar uma condição a um dataframe e, caso a condição seja verdadeira, retorna os valores do dataframe; caso contrário, retorna um valor específico (geralmente NaN). Essa função pode ser utilizada para filtrar dados, substituir valores ou criar novas colunas no dataframe.\n"
   ]
  },
  {
   "cell_type": "code",
   "execution_count": null,
   "id": "3f80e66e",
   "metadata": {},
   "outputs": [],
   "source": []
  },
  {
   "cell_type": "markdown",
   "id": "57f0bfa6",
   "metadata": {},
   "source": [
    "### Método mask\n",
    "***\n",
    "È um método similar ao where(), mas a lógica é invertida: ela retorna os valores do dataframe caso a condição seja falsa e NaN caso contrário. Ou seja, essa função pode ser utilizada para filtrar dados que não atendem a uma determinada condição."
   ]
  },
  {
   "cell_type": "code",
   "execution_count": null,
   "id": "9ae851c0",
   "metadata": {},
   "outputs": [],
   "source": []
  },
  {
   "cell_type": "markdown",
   "id": "ecbff513",
   "metadata": {},
   "source": [
    "O método mask e where do pandas são usados para aplicar uma máscara condicional em um DataFrame. Eles permitem substituir os valores do DataFrame com base em uma determinada condição booleana."
   ]
  },
  {
   "cell_type": "code",
   "execution_count": null,
   "id": "5733bb03",
   "metadata": {},
   "outputs": [],
   "source": []
  },
  {
   "cell_type": "code",
   "execution_count": null,
   "id": "341c6a13",
   "metadata": {},
   "outputs": [],
   "source": []
  },
  {
   "cell_type": "code",
   "execution_count": null,
   "id": "91ff12fa",
   "metadata": {},
   "outputs": [],
   "source": []
  },
  {
   "cell_type": "markdown",
   "id": "366dbfed",
   "metadata": {},
   "source": [
    "### Método dropna\n",
    "***\n",
    "O método dropna é uma das funções mais importantes do pandas quando se trata de lidar com dados faltantes em um conjunto de dados. Como o próprio nome sugere, ele permite que você elimine (drop) as linhas ou colunas que contêm valores ausentes ou nulos. É uma função muito útil para limpar e preparar dados para análise, pois dados faltantes podem comprometer a integridade das análises e modelos preditivos."
   ]
  },
  {
   "cell_type": "markdown",
   "id": "44aa5ee2",
   "metadata": {},
   "source": [
    "#### Eliminando todos os registros ausentes no dataframe"
   ]
  },
  {
   "cell_type": "code",
   "execution_count": null,
   "id": "4113f784",
   "metadata": {},
   "outputs": [],
   "source": []
  },
  {
   "cell_type": "markdown",
   "id": "09c425a5",
   "metadata": {},
   "source": [
    "#### Eliminando todos os registros ausentes da coluna específica"
   ]
  },
  {
   "cell_type": "code",
   "execution_count": null,
   "id": "9101f3af",
   "metadata": {},
   "outputs": [],
   "source": [
    "# Eliminando dados ausentes da coluna \"Quantidade\"\n"
   ]
  },
  {
   "cell_type": "markdown",
   "id": "f4c2d1c5",
   "metadata": {},
   "source": [
    "#### Eliminando todos os registros ausentes través de uma lista"
   ]
  },
  {
   "cell_type": "code",
   "execution_count": null,
   "id": "e0ed2528",
   "metadata": {},
   "outputs": [],
   "source": [
    "# Eliminando dados ausentes das colunas \"Quantidade\" e \"Valor_Unitário\"\n"
   ]
  },
  {
   "cell_type": "code",
   "execution_count": null,
   "id": "78e5c733",
   "metadata": {},
   "outputs": [],
   "source": [
    "df"
   ]
  },
  {
   "cell_type": "markdown",
   "id": "cf7b4a27",
   "metadata": {},
   "source": [
    "### Método drop_duplicates\n",
    "***\n",
    "É utilizado para remover as linhas duplicadas em um DataFrame. Quando trabalhamos com grandes conjuntos de dados, é comum termos linhas duplicadas, o que pode levar a análises e resultados imprecisos. Com o drop_duplicates(), é possível remover essas duplicações e ter um DataFrame mais limpo e confiável para análise.\n",
    "\n",
    "Ao utilizar o método drop_duplicates(), o Pandas irá verificar todas as colunas do DataFrame e remover as linhas que são completamente iguais em todas elas. É possível, também, especificar em quais colunas a verificação deve ser feita, utilizando o parâmetro subset."
   ]
  },
  {
   "cell_type": "code",
   "execution_count": null,
   "id": "171006ed",
   "metadata": {},
   "outputs": [],
   "source": []
  },
  {
   "cell_type": "code",
   "execution_count": null,
   "id": "dc15384b",
   "metadata": {},
   "outputs": [],
   "source": []
  },
  {
   "cell_type": "code",
   "execution_count": null,
   "id": "7e960864",
   "metadata": {},
   "outputs": [],
   "source": []
  },
  {
   "cell_type": "markdown",
   "id": "79183dac",
   "metadata": {},
   "source": [
    "### Método fillna\n",
    "***\n",
    "É utilizado para preencher valores ausentes ou faltantes em um dataframe. Esses valores faltantes podem ser gerados por diversas razões, como erros de registro, perda de informações ou mesmo falta de preenchimento. Esses valores ausentes podem atrapalhar a análise dos dados, pois podem distorcer as estatísticas descritivas e até mesmo prejudicar a validade das conclusões.\n",
    "\n",
    "Ao utilizar o fillna, é possível substituir esses valores faltantes por outros valores, como a média dos valores da coluna, o valor anterior ou posterior, ou mesmo um valor arbitrário. Além disso, também é possível escolher entre preencher os valores faltantes apenas para uma coluna específica ou para todo o dataframe.\n",
    "\n",
    "O fillna é uma ferramenta importante para garantir a qualidade dos dados e tornar a análise mais precisa e confiável."
   ]
  },
  {
   "cell_type": "code",
   "execution_count": null,
   "id": "46040531",
   "metadata": {},
   "outputs": [],
   "source": []
  },
  {
   "cell_type": "code",
   "execution_count": null,
   "id": "872cd03a",
   "metadata": {},
   "outputs": [],
   "source": []
  },
  {
   "cell_type": "code",
   "execution_count": null,
   "id": "28d67ac3",
   "metadata": {},
   "outputs": [],
   "source": []
  },
  {
   "cell_type": "markdown",
   "id": "133e977c",
   "metadata": {},
   "source": [
    "### Método replace\n",
    "***\n",
    "É uma das principais ferramentas do Pandas para manipulação e correção de dados em dataframes. Ele permite substituir valores de uma ou mais colunas por novos valores de forma fácil e eficiente.\n",
    "\n",
    "A função replace pode ser utilizada para corrigir valores incorretos, converter valores em tipos de dados diferentes, substituir valores nulos (NaN) ou para transformar uma string em outra."
   ]
  },
  {
   "cell_type": "code",
   "execution_count": null,
   "id": "fd912356",
   "metadata": {},
   "outputs": [],
   "source": []
  }
 ],
 "metadata": {
  "kernelspec": {
   "display_name": "avaliacao",
   "language": "python",
   "name": "avaliacao"
  },
  "language_info": {
   "codemirror_mode": {
    "name": "ipython",
    "version": 3
   },
   "file_extension": ".py",
   "mimetype": "text/x-python",
   "name": "python",
   "nbconvert_exporter": "python",
   "pygments_lexer": "ipython3",
   "version": "3.11.0"
  }
 },
 "nbformat": 4,
 "nbformat_minor": 5
}

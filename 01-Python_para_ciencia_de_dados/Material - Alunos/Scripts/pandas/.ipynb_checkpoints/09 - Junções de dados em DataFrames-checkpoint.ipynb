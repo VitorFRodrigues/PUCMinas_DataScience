{
 "cells": [
  {
   "cell_type": "markdown",
   "id": "f3f2076e",
   "metadata": {},
   "source": [
    "# Junções de dados em DataFrames\n",
    "***\n",
    "\n",
    "A junção de dados é uma operação fundamental na análise de dados, pois permite combinar informações de diferentes fontes com base em um critério comum. No pandas, existem diversos métodos para realizar junções eficientes entre DataFrames, permitindo a criação de análises mais completas e significativas.\n",
    "\n",
    "A importância das junções no DataFrame reside no fato de que os conjuntos de dados podem estar distribuídos em várias tabelas ou fontes de dados, cada uma contendo informações relevantes para a análise. Ao realizar junções, podemos combinar esses conjuntos de dados com base em colunas-chave compartilhadas, permitindo a integração das informações em um único DataFrame. Isso facilita a análise e a obtenção de insights abrangentes.\n"
   ]
  },
  {
   "cell_type": "markdown",
   "id": "6072fe86",
   "metadata": {},
   "source": [
    "### Importação das bibliotecas\n"
   ]
  },
  {
   "cell_type": "code",
   "execution_count": 1,
   "id": "f42670ce",
   "metadata": {},
   "outputs": [],
   "source": [
    "import numpy as np\n",
    "import pandas as pd"
   ]
  },
  {
   "cell_type": "markdown",
   "id": "be47e44e",
   "metadata": {},
   "source": [
    "### Criando  dataframe a partir de uma lista em Python"
   ]
  },
  {
   "cell_type": "code",
   "execution_count": 8,
   "id": "ab54a77d",
   "metadata": {},
   "outputs": [
    {
     "data": {
      "text/html": [
       "<div>\n",
       "<style scoped>\n",
       "    .dataframe tbody tr th:only-of-type {\n",
       "        vertical-align: middle;\n",
       "    }\n",
       "\n",
       "    .dataframe tbody tr th {\n",
       "        vertical-align: top;\n",
       "    }\n",
       "\n",
       "    .dataframe thead th {\n",
       "        text-align: right;\n",
       "    }\n",
       "</style>\n",
       "<table border=\"1\" class=\"dataframe\">\n",
       "  <thead>\n",
       "    <tr style=\"text-align: right;\">\n",
       "      <th></th>\n",
       "      <th>ID</th>\n",
       "      <th>Nome</th>\n",
       "      <th>Idade</th>\n",
       "    </tr>\n",
       "  </thead>\n",
       "  <tbody>\n",
       "    <tr>\n",
       "      <th>0</th>\n",
       "      <td>1</td>\n",
       "      <td>João</td>\n",
       "      <td>25</td>\n",
       "    </tr>\n",
       "    <tr>\n",
       "      <th>1</th>\n",
       "      <td>2</td>\n",
       "      <td>Maria</td>\n",
       "      <td>30</td>\n",
       "    </tr>\n",
       "    <tr>\n",
       "      <th>2</th>\n",
       "      <td>3</td>\n",
       "      <td>Pedro</td>\n",
       "      <td>28</td>\n",
       "    </tr>\n",
       "    <tr>\n",
       "      <th>3</th>\n",
       "      <td>4</td>\n",
       "      <td>Leandro</td>\n",
       "      <td>32</td>\n",
       "    </tr>\n",
       "  </tbody>\n",
       "</table>\n",
       "</div>"
      ],
      "text/plain": [
       "   ID     Nome  Idade\n",
       "0   1     João     25\n",
       "1   2    Maria     30\n",
       "2   3    Pedro     28\n",
       "3   4  Leandro     32"
      ]
     },
     "execution_count": 8,
     "metadata": {},
     "output_type": "execute_result"
    }
   ],
   "source": [
    "# Criação dos DataFrames\n",
    "df1 = pd.DataFrame({'ID': [1, 2, 3, 4],\n",
    "                    'Nome': ['João', 'Maria', 'Pedro', 'Leandro'],\n",
    "                    'Idade': [25, 30, 28, 32]})\n",
    "\n",
    "df2 = pd.DataFrame({'ID': [1, 2, 5, 6],\n",
    "                    'Profissão': ['Engenheiro', 'Advogado', 'Médico', 'Professor']})\n",
    "\n",
    "df1.head()"
   ]
  },
  {
   "cell_type": "code",
   "execution_count": 7,
   "id": "6dc68a44",
   "metadata": {},
   "outputs": [
    {
     "data": {
      "text/html": [
       "<div>\n",
       "<style scoped>\n",
       "    .dataframe tbody tr th:only-of-type {\n",
       "        vertical-align: middle;\n",
       "    }\n",
       "\n",
       "    .dataframe tbody tr th {\n",
       "        vertical-align: top;\n",
       "    }\n",
       "\n",
       "    .dataframe thead th {\n",
       "        text-align: right;\n",
       "    }\n",
       "</style>\n",
       "<table border=\"1\" class=\"dataframe\">\n",
       "  <thead>\n",
       "    <tr style=\"text-align: right;\">\n",
       "      <th></th>\n",
       "      <th>ID</th>\n",
       "      <th>Profissão</th>\n",
       "    </tr>\n",
       "  </thead>\n",
       "  <tbody>\n",
       "    <tr>\n",
       "      <th>0</th>\n",
       "      <td>1</td>\n",
       "      <td>Engenheiro</td>\n",
       "    </tr>\n",
       "    <tr>\n",
       "      <th>1</th>\n",
       "      <td>2</td>\n",
       "      <td>Advogado</td>\n",
       "    </tr>\n",
       "    <tr>\n",
       "      <th>2</th>\n",
       "      <td>5</td>\n",
       "      <td>Médico</td>\n",
       "    </tr>\n",
       "    <tr>\n",
       "      <th>3</th>\n",
       "      <td>6</td>\n",
       "      <td>Professor</td>\n",
       "    </tr>\n",
       "  </tbody>\n",
       "</table>\n",
       "</div>"
      ],
      "text/plain": [
       "   ID   Profissão\n",
       "0   1  Engenheiro\n",
       "1   2    Advogado\n",
       "2   5      Médico\n",
       "3   6   Professor"
      ]
     },
     "execution_count": 7,
     "metadata": {},
     "output_type": "execute_result"
    }
   ],
   "source": [
    "df2.head()"
   ]
  },
  {
   "cell_type": "markdown",
   "id": "6c326736",
   "metadata": {},
   "source": [
    "### Método merge\n",
    "***\n",
    "É o método mais comum para realizar junções no pandas. Ele combina DataFrames com base em colunas-chave compartilhadas, semelhante à cláusula JOIN em SQL. Podemos especificar o tipo de junção (inner, outer, left, right) e as colunas-chave a serem usadas na junção."
   ]
  },
  {
   "cell_type": "markdown",
   "id": "639d6664",
   "metadata": {},
   "source": [
    "##### Inner Join\n",
    "***\n",
    "A junção interna (inner join) retorna apenas os registros que têm um ID correspondente em ambos os DataFrames. Registros que não têm correspondência são excluídos. O resultado será apenas os registros com ID 3 e 4."
   ]
  },
  {
   "cell_type": "code",
   "execution_count": 12,
   "id": "2fbe1b89",
   "metadata": {},
   "outputs": [
    {
     "data": {
      "text/html": [
       "<div>\n",
       "<style scoped>\n",
       "    .dataframe tbody tr th:only-of-type {\n",
       "        vertical-align: middle;\n",
       "    }\n",
       "\n",
       "    .dataframe tbody tr th {\n",
       "        vertical-align: top;\n",
       "    }\n",
       "\n",
       "    .dataframe thead th {\n",
       "        text-align: right;\n",
       "    }\n",
       "</style>\n",
       "<table border=\"1\" class=\"dataframe\">\n",
       "  <thead>\n",
       "    <tr style=\"text-align: right;\">\n",
       "      <th></th>\n",
       "      <th>ID</th>\n",
       "      <th>Nome</th>\n",
       "      <th>Idade</th>\n",
       "      <th>Profissão</th>\n",
       "    </tr>\n",
       "  </thead>\n",
       "  <tbody>\n",
       "    <tr>\n",
       "      <th>0</th>\n",
       "      <td>1</td>\n",
       "      <td>João</td>\n",
       "      <td>25</td>\n",
       "      <td>Engenheiro</td>\n",
       "    </tr>\n",
       "    <tr>\n",
       "      <th>1</th>\n",
       "      <td>2</td>\n",
       "      <td>Maria</td>\n",
       "      <td>30</td>\n",
       "      <td>Advogado</td>\n",
       "    </tr>\n",
       "  </tbody>\n",
       "</table>\n",
       "</div>"
      ],
      "text/plain": [
       "   ID   Nome  Idade   Profissão\n",
       "0   1   João     25  Engenheiro\n",
       "1   2  Maria     30    Advogado"
      ]
     },
     "execution_count": 12,
     "metadata": {},
     "output_type": "execute_result"
    }
   ],
   "source": [
    "df_inner = pd.merge(df1, df2, on='ID', how='inner')\n",
    "df_inner"
   ]
  },
  {
   "cell_type": "markdown",
   "id": "ebb6a54f",
   "metadata": {},
   "source": [
    "##### Outer Join\n",
    "***\n",
    "A junção externa (outer join) retorna todos os registros dos dois DataFrames, incluindo aqueles que não têm correspondência. Os valores ausentes são preenchidos com NaN. O resultado incluirá todos os registros dos IDs 1, 2, 3, 4, 5 e 6."
   ]
  },
  {
   "cell_type": "code",
   "execution_count": 17,
   "id": "0b2fe1ea",
   "metadata": {},
   "outputs": [
    {
     "name": "stdout",
     "output_type": "stream",
     "text": [
      "\n",
      "Junção outer:\n"
     ]
    },
    {
     "data": {
      "text/html": [
       "<div>\n",
       "<style scoped>\n",
       "    .dataframe tbody tr th:only-of-type {\n",
       "        vertical-align: middle;\n",
       "    }\n",
       "\n",
       "    .dataframe tbody tr th {\n",
       "        vertical-align: top;\n",
       "    }\n",
       "\n",
       "    .dataframe thead th {\n",
       "        text-align: right;\n",
       "    }\n",
       "</style>\n",
       "<table border=\"1\" class=\"dataframe\">\n",
       "  <thead>\n",
       "    <tr style=\"text-align: right;\">\n",
       "      <th></th>\n",
       "      <th>ID</th>\n",
       "      <th>Nome</th>\n",
       "      <th>Idade</th>\n",
       "      <th>Profissão</th>\n",
       "    </tr>\n",
       "  </thead>\n",
       "  <tbody>\n",
       "    <tr>\n",
       "      <th>0</th>\n",
       "      <td>1</td>\n",
       "      <td>João</td>\n",
       "      <td>25.0</td>\n",
       "      <td>Engenheiro</td>\n",
       "    </tr>\n",
       "    <tr>\n",
       "      <th>1</th>\n",
       "      <td>2</td>\n",
       "      <td>Maria</td>\n",
       "      <td>30.0</td>\n",
       "      <td>Advogado</td>\n",
       "    </tr>\n",
       "    <tr>\n",
       "      <th>2</th>\n",
       "      <td>3</td>\n",
       "      <td>Pedro</td>\n",
       "      <td>28.0</td>\n",
       "      <td>NaN</td>\n",
       "    </tr>\n",
       "    <tr>\n",
       "      <th>3</th>\n",
       "      <td>4</td>\n",
       "      <td>Leandro</td>\n",
       "      <td>32.0</td>\n",
       "      <td>NaN</td>\n",
       "    </tr>\n",
       "    <tr>\n",
       "      <th>4</th>\n",
       "      <td>5</td>\n",
       "      <td>NaN</td>\n",
       "      <td>NaN</td>\n",
       "      <td>Médico</td>\n",
       "    </tr>\n",
       "    <tr>\n",
       "      <th>5</th>\n",
       "      <td>6</td>\n",
       "      <td>NaN</td>\n",
       "      <td>NaN</td>\n",
       "      <td>Professor</td>\n",
       "    </tr>\n",
       "  </tbody>\n",
       "</table>\n",
       "</div>"
      ],
      "text/plain": [
       "   ID     Nome  Idade   Profissão\n",
       "0   1     João   25.0  Engenheiro\n",
       "1   2    Maria   30.0    Advogado\n",
       "2   3    Pedro   28.0         NaN\n",
       "3   4  Leandro   32.0         NaN\n",
       "4   5      NaN    NaN      Médico\n",
       "5   6      NaN    NaN   Professor"
      ]
     },
     "execution_count": 17,
     "metadata": {},
     "output_type": "execute_result"
    }
   ],
   "source": [
    "df_outer = pd.merge(df1, df2, on='ID', how='outer')\n",
    "print(\"\\nJunção outer:\")\n",
    "df_outer"
   ]
  },
  {
   "cell_type": "markdown",
   "id": "49c1a929",
   "metadata": {},
   "source": [
    "##### Left Join\n",
    "***\n",
    "A junção à esquerda (left join) retorna todos os registros do DataFrame da esquerda (df1) e os registros correspondentes do DataFrame da direita (df2). Registros que não têm correspondência no df2 são preenchidos com NaN. O resultado incluirá todos os registros dos IDs 1, 2, 3 e 4."
   ]
  },
  {
   "cell_type": "code",
   "execution_count": 19,
   "id": "4d15a9fe",
   "metadata": {},
   "outputs": [
    {
     "name": "stdout",
     "output_type": "stream",
     "text": [
      "\n",
      "Junção left:\n"
     ]
    },
    {
     "data": {
      "text/html": [
       "<div>\n",
       "<style scoped>\n",
       "    .dataframe tbody tr th:only-of-type {\n",
       "        vertical-align: middle;\n",
       "    }\n",
       "\n",
       "    .dataframe tbody tr th {\n",
       "        vertical-align: top;\n",
       "    }\n",
       "\n",
       "    .dataframe thead th {\n",
       "        text-align: right;\n",
       "    }\n",
       "</style>\n",
       "<table border=\"1\" class=\"dataframe\">\n",
       "  <thead>\n",
       "    <tr style=\"text-align: right;\">\n",
       "      <th></th>\n",
       "      <th>ID</th>\n",
       "      <th>Nome</th>\n",
       "      <th>Idade</th>\n",
       "      <th>Profissão</th>\n",
       "    </tr>\n",
       "  </thead>\n",
       "  <tbody>\n",
       "    <tr>\n",
       "      <th>0</th>\n",
       "      <td>1</td>\n",
       "      <td>João</td>\n",
       "      <td>25</td>\n",
       "      <td>Engenheiro</td>\n",
       "    </tr>\n",
       "    <tr>\n",
       "      <th>1</th>\n",
       "      <td>2</td>\n",
       "      <td>Maria</td>\n",
       "      <td>30</td>\n",
       "      <td>Advogado</td>\n",
       "    </tr>\n",
       "    <tr>\n",
       "      <th>2</th>\n",
       "      <td>3</td>\n",
       "      <td>Pedro</td>\n",
       "      <td>28</td>\n",
       "      <td>NaN</td>\n",
       "    </tr>\n",
       "    <tr>\n",
       "      <th>3</th>\n",
       "      <td>4</td>\n",
       "      <td>Leandro</td>\n",
       "      <td>32</td>\n",
       "      <td>NaN</td>\n",
       "    </tr>\n",
       "  </tbody>\n",
       "</table>\n",
       "</div>"
      ],
      "text/plain": [
       "   ID     Nome  Idade   Profissão\n",
       "0   1     João     25  Engenheiro\n",
       "1   2    Maria     30    Advogado\n",
       "2   3    Pedro     28         NaN\n",
       "3   4  Leandro     32         NaN"
      ]
     },
     "execution_count": 19,
     "metadata": {},
     "output_type": "execute_result"
    }
   ],
   "source": [
    "# Junção left\n",
    "df_left = pd.merge(df1, df2, on='ID', how='left')\n",
    "print(\"\\nJunção left:\")\n",
    "df_left"
   ]
  },
  {
   "cell_type": "markdown",
   "id": "5295a1be",
   "metadata": {},
   "source": [
    "##### Right Join\n",
    "***\n",
    "A junção à direita (right join) retorna todos os registros do DataFrame da direita (df2) e os registros correspondentes do DataFrame da esquerda (df1). Registros que não têm correspondência no df1 são preenchidos com NaN. O resultado incluirá todos os registros dos IDs 3, 4, 5 e 6."
   ]
  },
  {
   "cell_type": "code",
   "execution_count": 20,
   "id": "36d4e671",
   "metadata": {},
   "outputs": [
    {
     "name": "stdout",
     "output_type": "stream",
     "text": [
      "\n",
      "Junção right:\n"
     ]
    },
    {
     "data": {
      "text/html": [
       "<div>\n",
       "<style scoped>\n",
       "    .dataframe tbody tr th:only-of-type {\n",
       "        vertical-align: middle;\n",
       "    }\n",
       "\n",
       "    .dataframe tbody tr th {\n",
       "        vertical-align: top;\n",
       "    }\n",
       "\n",
       "    .dataframe thead th {\n",
       "        text-align: right;\n",
       "    }\n",
       "</style>\n",
       "<table border=\"1\" class=\"dataframe\">\n",
       "  <thead>\n",
       "    <tr style=\"text-align: right;\">\n",
       "      <th></th>\n",
       "      <th>ID</th>\n",
       "      <th>Nome</th>\n",
       "      <th>Idade</th>\n",
       "      <th>Profissão</th>\n",
       "    </tr>\n",
       "  </thead>\n",
       "  <tbody>\n",
       "    <tr>\n",
       "      <th>0</th>\n",
       "      <td>1</td>\n",
       "      <td>João</td>\n",
       "      <td>25.0</td>\n",
       "      <td>Engenheiro</td>\n",
       "    </tr>\n",
       "    <tr>\n",
       "      <th>1</th>\n",
       "      <td>2</td>\n",
       "      <td>Maria</td>\n",
       "      <td>30.0</td>\n",
       "      <td>Advogado</td>\n",
       "    </tr>\n",
       "    <tr>\n",
       "      <th>2</th>\n",
       "      <td>5</td>\n",
       "      <td>NaN</td>\n",
       "      <td>NaN</td>\n",
       "      <td>Médico</td>\n",
       "    </tr>\n",
       "    <tr>\n",
       "      <th>3</th>\n",
       "      <td>6</td>\n",
       "      <td>NaN</td>\n",
       "      <td>NaN</td>\n",
       "      <td>Professor</td>\n",
       "    </tr>\n",
       "  </tbody>\n",
       "</table>\n",
       "</div>"
      ],
      "text/plain": [
       "   ID   Nome  Idade   Profissão\n",
       "0   1   João   25.0  Engenheiro\n",
       "1   2  Maria   30.0    Advogado\n",
       "2   5    NaN    NaN      Médico\n",
       "3   6    NaN    NaN   Professor"
      ]
     },
     "execution_count": 20,
     "metadata": {},
     "output_type": "execute_result"
    }
   ],
   "source": [
    "# Junção right\n",
    "df_right = pd.merge(df1, df2, on='ID', how='right')\n",
    "print(\"\\nJunção right:\")\n",
    "df_right"
   ]
  },
  {
   "cell_type": "markdown",
   "id": "e4dc86d6",
   "metadata": {},
   "source": [
    "### Método Join \n",
    "***\n",
    "Esse método permite a junção de DataFrames usando seus índices. Ele é útil quando os DataFrames têm índices comuns ou quando queremos combinar os DataFrames com base nos rótulos das colunas."
   ]
  },
  {
   "cell_type": "code",
   "execution_count": 22,
   "id": "2b5dece7",
   "metadata": {},
   "outputs": [
    {
     "name": "stdout",
     "output_type": "stream",
     "text": [
      "Junção inner:\n",
      "     Nome  Idade   Profissão\n",
      "ID                          \n",
      "1    João     25  Engenheiro\n",
      "2   Maria     30    Advogado\n",
      "\n",
      "Junção outer:\n",
      "       Nome  Idade   Profissão\n",
      "ID                            \n",
      "1      João   25.0  Engenheiro\n",
      "2     Maria   30.0    Advogado\n",
      "3     Pedro   28.0         NaN\n",
      "4   Leandro   32.0         NaN\n",
      "5       NaN    NaN      Médico\n",
      "6       NaN    NaN   Professor\n",
      "\n",
      "Junção left:\n",
      "       Nome  Idade   Profissão\n",
      "ID                            \n",
      "1      João     25  Engenheiro\n",
      "2     Maria     30    Advogado\n",
      "3     Pedro     28         NaN\n",
      "4   Leandro     32         NaN\n",
      "\n",
      "Junção right:\n",
      "     Nome  Idade   Profissão\n",
      "ID                          \n",
      "1    João   25.0  Engenheiro\n",
      "2   Maria   30.0    Advogado\n",
      "5     NaN    NaN      Médico\n",
      "6     NaN    NaN   Professor\n"
     ]
    }
   ],
   "source": [
    "# Junção inner usando join()\n",
    "df_inner = df1.set_index('ID').join(df2.set_index('ID'), how='inner')\n",
    "print(\"Junção inner:\")\n",
    "print(df_inner)\n",
    "\n",
    "# Junção outer usando join()\n",
    "df_outer = df1.set_index('ID').join(df2.set_index('ID'), how='outer')\n",
    "print(\"\\nJunção outer:\")\n",
    "print(df_outer)\n",
    "\n",
    "# Junção left usando join()\n",
    "df_left = df1.set_index('ID').join(df2.set_index('ID'), how='left')\n",
    "print(\"\\nJunção left:\")\n",
    "print(df_left)\n",
    "\n",
    "# Junção right usando join()\n",
    "df_right = df1.set_index('ID').join(df2.set_index('ID'), how='right')\n",
    "print(\"\\nJunção right:\")\n",
    "print(df_right)"
   ]
  },
  {
   "cell_type": "markdown",
   "id": "68c5aba8",
   "metadata": {},
   "source": [
    "### Método concat\n",
    "Embora não seja estritamente uma junção, o método concat() permite combinar DataFrames ao longo de um eixo específico. Ele é útil quando desejamos combinar dados verticalmente (ao longo das linhas) ou horizontalmente (ao longo das colunas)."
   ]
  },
  {
   "cell_type": "code",
   "execution_count": 24,
   "id": "09c704a1",
   "metadata": {},
   "outputs": [
    {
     "name": "stdout",
     "output_type": "stream",
     "text": [
      "Concatenação vertical:\n"
     ]
    },
    {
     "data": {
      "text/html": [
       "<div>\n",
       "<style scoped>\n",
       "    .dataframe tbody tr th:only-of-type {\n",
       "        vertical-align: middle;\n",
       "    }\n",
       "\n",
       "    .dataframe tbody tr th {\n",
       "        vertical-align: top;\n",
       "    }\n",
       "\n",
       "    .dataframe thead th {\n",
       "        text-align: right;\n",
       "    }\n",
       "</style>\n",
       "<table border=\"1\" class=\"dataframe\">\n",
       "  <thead>\n",
       "    <tr style=\"text-align: right;\">\n",
       "      <th></th>\n",
       "      <th>ID</th>\n",
       "      <th>Nome</th>\n",
       "      <th>Idade</th>\n",
       "      <th>Profissão</th>\n",
       "    </tr>\n",
       "  </thead>\n",
       "  <tbody>\n",
       "    <tr>\n",
       "      <th>0</th>\n",
       "      <td>1</td>\n",
       "      <td>João</td>\n",
       "      <td>25.0</td>\n",
       "      <td>NaN</td>\n",
       "    </tr>\n",
       "    <tr>\n",
       "      <th>1</th>\n",
       "      <td>2</td>\n",
       "      <td>Maria</td>\n",
       "      <td>30.0</td>\n",
       "      <td>NaN</td>\n",
       "    </tr>\n",
       "    <tr>\n",
       "      <th>2</th>\n",
       "      <td>3</td>\n",
       "      <td>Pedro</td>\n",
       "      <td>28.0</td>\n",
       "      <td>NaN</td>\n",
       "    </tr>\n",
       "    <tr>\n",
       "      <th>3</th>\n",
       "      <td>4</td>\n",
       "      <td>Leandro</td>\n",
       "      <td>32.0</td>\n",
       "      <td>NaN</td>\n",
       "    </tr>\n",
       "    <tr>\n",
       "      <th>0</th>\n",
       "      <td>1</td>\n",
       "      <td>NaN</td>\n",
       "      <td>NaN</td>\n",
       "      <td>Engenheiro</td>\n",
       "    </tr>\n",
       "    <tr>\n",
       "      <th>1</th>\n",
       "      <td>2</td>\n",
       "      <td>NaN</td>\n",
       "      <td>NaN</td>\n",
       "      <td>Advogado</td>\n",
       "    </tr>\n",
       "    <tr>\n",
       "      <th>2</th>\n",
       "      <td>5</td>\n",
       "      <td>NaN</td>\n",
       "      <td>NaN</td>\n",
       "      <td>Médico</td>\n",
       "    </tr>\n",
       "    <tr>\n",
       "      <th>3</th>\n",
       "      <td>6</td>\n",
       "      <td>NaN</td>\n",
       "      <td>NaN</td>\n",
       "      <td>Professor</td>\n",
       "    </tr>\n",
       "  </tbody>\n",
       "</table>\n",
       "</div>"
      ],
      "text/plain": [
       "   ID     Nome  Idade   Profissão\n",
       "0   1     João   25.0         NaN\n",
       "1   2    Maria   30.0         NaN\n",
       "2   3    Pedro   28.0         NaN\n",
       "3   4  Leandro   32.0         NaN\n",
       "0   1      NaN    NaN  Engenheiro\n",
       "1   2      NaN    NaN    Advogado\n",
       "2   5      NaN    NaN      Médico\n",
       "3   6      NaN    NaN   Professor"
      ]
     },
     "execution_count": 24,
     "metadata": {},
     "output_type": "execute_result"
    }
   ],
   "source": [
    "df_concat_vertical = pd.concat([df1, df2])\n",
    "print(\"Concatenação vertical:\")\n",
    "df_concat_vertical\n"
   ]
  },
  {
   "cell_type": "code",
   "execution_count": 30,
   "id": "09006ef0",
   "metadata": {},
   "outputs": [
    {
     "name": "stdout",
     "output_type": "stream",
     "text": [
      "\n",
      "Concatenação horizontal:\n"
     ]
    },
    {
     "data": {
      "text/html": [
       "<div>\n",
       "<style scoped>\n",
       "    .dataframe tbody tr th:only-of-type {\n",
       "        vertical-align: middle;\n",
       "    }\n",
       "\n",
       "    .dataframe tbody tr th {\n",
       "        vertical-align: top;\n",
       "    }\n",
       "\n",
       "    .dataframe thead th {\n",
       "        text-align: right;\n",
       "    }\n",
       "</style>\n",
       "<table border=\"1\" class=\"dataframe\">\n",
       "  <thead>\n",
       "    <tr style=\"text-align: right;\">\n",
       "      <th></th>\n",
       "      <th>ID</th>\n",
       "      <th>Nome</th>\n",
       "      <th>Idade</th>\n",
       "      <th>Nova_idade</th>\n",
       "    </tr>\n",
       "  </thead>\n",
       "  <tbody>\n",
       "    <tr>\n",
       "      <th>0</th>\n",
       "      <td>1</td>\n",
       "      <td>João</td>\n",
       "      <td>25</td>\n",
       "      <td>25.0</td>\n",
       "    </tr>\n",
       "    <tr>\n",
       "      <th>1</th>\n",
       "      <td>2</td>\n",
       "      <td>Maria</td>\n",
       "      <td>30</td>\n",
       "      <td>30.0</td>\n",
       "    </tr>\n",
       "    <tr>\n",
       "      <th>2</th>\n",
       "      <td>3</td>\n",
       "      <td>Pedro</td>\n",
       "      <td>28</td>\n",
       "      <td>35.0</td>\n",
       "    </tr>\n",
       "    <tr>\n",
       "      <th>3</th>\n",
       "      <td>4</td>\n",
       "      <td>Leandro</td>\n",
       "      <td>32</td>\n",
       "      <td>NaN</td>\n",
       "    </tr>\n",
       "  </tbody>\n",
       "</table>\n",
       "</div>"
      ],
      "text/plain": [
       "   ID     Nome  Idade  Nova_idade\n",
       "0   1     João     25        25.0\n",
       "1   2    Maria     30        30.0\n",
       "2   3    Pedro     28        35.0\n",
       "3   4  Leandro     32         NaN"
      ]
     },
     "execution_count": 30,
     "metadata": {},
     "output_type": "execute_result"
    }
   ],
   "source": [
    "# Concatenando os DataFrames horizontalmente\n",
    "df3 = pd.DataFrame({'Nova_idade': [25, 30, 35]})\n",
    "df_concat_horizontal = pd.concat([df1, df3], axis=1)\n",
    "print(\"\\nConcatenação horizontal:\")\n",
    "df_concat_horizontal"
   ]
  },
  {
   "cell_type": "markdown",
   "id": "4549a774",
   "metadata": {},
   "source": [
    "Estamos realizando uma concatenação horizontal, utilizando o parâmetro axis=1. Nesse caso, os DataFrames são concatenados lado a lado, criando novas colunas."
   ]
  }
 ],
 "metadata": {
  "kernelspec": {
   "display_name": "avaliacao",
   "language": "python",
   "name": "avaliacao"
  },
  "language_info": {
   "codemirror_mode": {
    "name": "ipython",
    "version": 3
   },
   "file_extension": ".py",
   "mimetype": "text/x-python",
   "name": "python",
   "nbconvert_exporter": "python",
   "pygments_lexer": "ipython3",
   "version": "3.11.0"
  }
 },
 "nbformat": 4,
 "nbformat_minor": 5
}

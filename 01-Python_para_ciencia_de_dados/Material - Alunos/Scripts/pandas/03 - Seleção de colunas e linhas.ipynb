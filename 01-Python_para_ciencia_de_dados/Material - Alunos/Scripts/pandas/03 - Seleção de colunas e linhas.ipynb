{
 "cells": [
  {
   "cell_type": "markdown",
   "id": "f3f2076e",
   "metadata": {},
   "source": [
    "#  Seleção de colunas e linhas\n",
    "***\n",
    "\n",
    "Ao trabalhar com análise de dados, muitas vezes precisamos extrair informações específicas de um grande conjunto de dados. Para isso, é fundamental saber como selecionar colunas e linhas relevantes em um dataframe do Pandas. \n",
    "\n",
    "A seleção de colunas e linhas nos permite filtrar e visualizar dados específicos em um dataframe, tornando mais fácil identificar tendências, anomalias e padrões em um conjunto de dados. Além disso, a seleção de dados permite a criação de subconjuntos de dados que podem ser mais facilmente analisados, visualizados e comparados.\n",
    "\n",
    "O Pandas oferece várias opções para seleção de colunas e linhas, como o uso do loc e iloc para acessar linhas e colunas por meio de rótulos ou índices, respectivamente. Além disso, o Pandas oferece outras funções úteis, como at, iat, head, tail e sample, que podem ser usadas para acessar dados específicos dentro de um dataframe.\n",
    "\n",
    "Ao selecionar colunas e linhas, é possível filtrar dados com base em valores específicos, como em uma consulta SQL, tornando mais fácil e intuitivo extrair informações relevantes de um grande conjunto de dados. Com a seleção adequada de colunas e linhas, podemos visualizar e analisar facilmente nossos dados, tomando decisões informadas e precisas com base em informações relevantes."
   ]
  },
  {
   "cell_type": "markdown",
   "id": "6072fe86",
   "metadata": {},
   "source": [
    "### Importação das bibliotecas\n"
   ]
  },
  {
   "cell_type": "code",
   "execution_count": null,
   "id": "f42670ce",
   "metadata": {},
   "outputs": [],
   "source": []
  },
  {
   "cell_type": "markdown",
   "id": "be47e44e",
   "metadata": {},
   "source": [
    "### Criando  dataframe a partir de uma lista em Python"
   ]
  },
  {
   "cell_type": "code",
   "execution_count": null,
   "id": "ab54a77d",
   "metadata": {},
   "outputs": [],
   "source": [
    "# Criando um dataframe a partir de uma lista de listas\n"
   ]
  },
  {
   "cell_type": "markdown",
   "id": "6c326736",
   "metadata": {},
   "source": [
    "### Método Loc\n",
    "***\n",
    "É usado para selecionar linhas e colunas por meio de rótulos. Ou seja, você pode usar este método para selecionar linhas específicas, colunas específicas ou um subconjunto de linhas e colunas, tudo com base nos rótulos dos índices das linhas e das colunas.\n",
    "\n",
    "#### Selecionando colunas específicas:\n",
    "Podemos selecionar uma ou mais colunas específicas utilizando o método loc e especificando os nomes das colunas desejadas. Por exemplo, para selecionar apenas as colunas \"Cliente\" e \"Produto\", podemos fazer:"
   ]
  },
  {
   "cell_type": "code",
   "execution_count": null,
   "id": "01f887f7",
   "metadata": {},
   "outputs": [],
   "source": [
    "# Seleção de todos os dados de Clientes e Produto\n"
   ]
  },
  {
   "cell_type": "markdown",
   "id": "ca402e3b",
   "metadata": {},
   "source": [
    "#### Selecionando linhas específicas:\n",
    "Podemos selecionar uma ou mais linhas específicas utilizando o método loc e especificando os índices das linhas desejadas. Por exemplo, para selecionar as linhas de índices 1 e 3, podemos fazer:"
   ]
  },
  {
   "cell_type": "code",
   "execution_count": null,
   "id": "d9efe2ea",
   "metadata": {},
   "outputs": [],
   "source": []
  },
  {
   "cell_type": "markdown",
   "id": "e9381c54",
   "metadata": {},
   "source": [
    "#### Selecionando linhas e colunas específicas:\n",
    "Podemos combinar as seleções de linhas e colunas para obter apenas as informações desejadas. Por exemplo, para selecionar as linhas de índices 2 a 4 e as colunas \"Produto\" e \"Valor_Unitário\", podemos fazer:"
   ]
  },
  {
   "cell_type": "code",
   "execution_count": null,
   "id": "75accdd7",
   "metadata": {},
   "outputs": [],
   "source": []
  },
  {
   "cell_type": "markdown",
   "id": "08357161",
   "metadata": {},
   "source": [
    "#### Selecionando linhas através de um produto específico \n",
    "Para selecionar apenas o nome da pessoa e a quantidade do produto \"Feijão\", você pode fazer o seguinte:"
   ]
  },
  {
   "cell_type": "code",
   "execution_count": null,
   "id": "bd8496a8",
   "metadata": {},
   "outputs": [],
   "source": [
    "# Selecionando todos as colunas \n"
   ]
  },
  {
   "cell_type": "code",
   "execution_count": null,
   "id": "9720fe66",
   "metadata": {},
   "outputs": [],
   "source": [
    "# Selecionando colunas específicas \n"
   ]
  },
  {
   "cell_type": "markdown",
   "id": "f1cf7a25",
   "metadata": {},
   "source": [
    "### Método iloc: \n",
    "***\n",
    "É usado para selecionar linhas e colunas por meio de índices inteiros. Ou seja, você pode usar este método para selecionar linhas específicas, colunas específicas ou um subconjunto de linhas e colunas, tudo com base em índices inteiros.\n",
    "\n",
    "#### Selecionando as linhas nas posições 0 e 2 e as colunas nas posições 1 e 3"
   ]
  },
  {
   "cell_type": "code",
   "execution_count": null,
   "id": "aa476df8",
   "metadata": {},
   "outputs": [],
   "source": []
  },
  {
   "cell_type": "markdown",
   "id": "199864c5",
   "metadata": {},
   "source": [
    "#### Selecionando todas as linhas e as colunas nas posições 0 e 1"
   ]
  },
  {
   "cell_type": "code",
   "execution_count": null,
   "id": "a5d447b2",
   "metadata": {},
   "outputs": [],
   "source": []
  },
  {
   "cell_type": "markdown",
   "id": "58e3b6d8",
   "metadata": {},
   "source": [
    "#### Selecionando a linha na posição 0 e todas as colunas"
   ]
  },
  {
   "cell_type": "code",
   "execution_count": null,
   "id": "5f061c9f",
   "metadata": {},
   "outputs": [],
   "source": []
  },
  {
   "cell_type": "markdown",
   "id": "87a8b04a",
   "metadata": {},
   "source": [
    "#### Selecionando todos os dados de linhas com índices de 2 a 4"
   ]
  },
  {
   "cell_type": "code",
   "execution_count": null,
   "id": "87b78f27",
   "metadata": {},
   "outputs": [],
   "source": []
  },
  {
   "cell_type": "markdown",
   "id": "cb1f2d23",
   "metadata": {},
   "source": [
    "### Método head\n",
    "*** \n",
    "É usado para mostrar as primeiras linhas de um dataframe. O número de linhas a serem mostradas pode ser especificado como argumento (padrão é 5)."
   ]
  },
  {
   "cell_type": "code",
   "execution_count": null,
   "id": "aed9a2a4",
   "metadata": {
    "scrolled": true
   },
   "outputs": [],
   "source": []
  },
  {
   "cell_type": "markdown",
   "id": "1a735d54",
   "metadata": {},
   "source": [
    "### Método tail\n",
    "***\n",
    "É usado para mostrar as últimas linhas de um dataframe. O número de linhas a serem mostradas pode ser especificado como argumento (padrão é 5)."
   ]
  },
  {
   "cell_type": "code",
   "execution_count": null,
   "id": "3c7622ad",
   "metadata": {},
   "outputs": [],
   "source": []
  },
  {
   "cell_type": "markdown",
   "id": "7560f295",
   "metadata": {},
   "source": [
    "### Método sample\n",
    "*** \n",
    "É usado para mostrar uma amostra aleatória de linhas do dataframe. O número de linhas a serem mostradas pode ser especificado como argumento (padrão é 1)."
   ]
  },
  {
   "cell_type": "code",
   "execution_count": null,
   "id": "e6793f53",
   "metadata": {},
   "outputs": [],
   "source": []
  }
 ],
 "metadata": {
  "kernelspec": {
   "display_name": "avaliacao",
   "language": "python",
   "name": "avaliacao"
  },
  "language_info": {
   "codemirror_mode": {
    "name": "ipython",
    "version": 3
   },
   "file_extension": ".py",
   "mimetype": "text/x-python",
   "name": "python",
   "nbconvert_exporter": "python",
   "pygments_lexer": "ipython3",
   "version": "3.11.0"
  }
 },
 "nbformat": 4,
 "nbformat_minor": 5
}

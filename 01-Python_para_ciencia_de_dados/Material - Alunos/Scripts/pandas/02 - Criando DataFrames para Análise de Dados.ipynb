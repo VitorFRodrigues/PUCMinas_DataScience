{
 "cells": [
  {
   "cell_type": "markdown",
   "id": "f3f2076e",
   "metadata": {},
   "source": [
    "#  Criando DataFrames para Análise de Dados\n",
    "***\n",
    "\n",
    "\n",
    "O gerenciamento de dados é uma tarefa crítica em qualquer projeto de análise de dados. Para trabalhar com dados de forma eficiente no Python, é fundamental que sejam utilizadas as estruturas de dados apropriadas. O dataframe do Pandas é uma dessas estruturas de dados muito utilizadas na análise de dados em Python.\n",
    "\n",
    "Um dataframe é uma tabela bidimensional que permite armazenar e manipular dados com facilidade. Cada coluna em um dataframe representa uma variável e cada linha representa uma observação. Com um dataframe, é possível realizar operações como selecionar, filtrar, agregar, transformar e visualizar dados de forma simples e eficiente.\n",
    "\n",
    "O objetivo de criar um dataframe é organizar e gerenciar os dados de uma forma que seja fácil de manipular e entender. A partir disso, é possível realizar análises mais complexas e obter insights valiosos a partir dos dados. O uso de dataframes é fundamental em áreas como ciência de dados, análise de negócios, finanças, marketing, entre outras. Portanto, entender como criar e trabalhar com dataframes é essencial para qualquer profissional que trabalhe com dados em Python."
   ]
  },
  {
   "cell_type": "markdown",
   "id": "6072fe86",
   "metadata": {},
   "source": [
    "### Importação das bibliotecas\n"
   ]
  },
  {
   "cell_type": "code",
   "execution_count": null,
   "id": "f42670ce",
   "metadata": {},
   "outputs": [],
   "source": [
    "import numpy as np\n",
    "import pandas as pd"
   ]
  },
  {
   "cell_type": "markdown",
   "id": "e403d4ec",
   "metadata": {},
   "source": [
    "### Como criar um DataFrame a partir de um array NumPy em Python"
   ]
  },
  {
   "cell_type": "code",
   "execution_count": null,
   "id": "bc3893d5",
   "metadata": {},
   "outputs": [],
   "source": [
    "# Criando um dataframe a partir de um array do Numpy\n",
    "array_vendas = np.array([['Leandro', 'Carne', np.random.randint(1, 6),np.round(np.random.uniform(10.0, 45.0),2)],\n",
    "                         ['Daniele', 'Macarrão', np.random.randint(1, 6),np.round(np.random.uniform(3.0, 15.0),2)],\n",
    "                         ['João', 'Arroz', np.random.randint(1, 6),np.round(np.random.uniform(5.0, 30.0),2)],\n",
    "                         ['Roberta', 'Feijão', np.random.randint(1, 6),np.round(np.random.uniform(5.0, 15.0),2)],\n",
    "                         ['Jessica', 'Carne', np.random.randint(1, 6),np.round(np.random.uniform(10.0, 45.0),2)],\n",
    "                        ])\n",
    "\n",
    "df1 = pd.DataFrame(array_vendas, columns=['Cliente', 'Produto', 'Quantidade', 'Valor_Unitário'])\n",
    "df1"
   ]
  },
  {
   "cell_type": "markdown",
   "id": "be47e44e",
   "metadata": {},
   "source": [
    "### Como criar um dataframe a partir de uma lista em Python"
   ]
  },
  {
   "cell_type": "code",
   "execution_count": null,
   "id": "ab54a77d",
   "metadata": {},
   "outputs": [],
   "source": [
    "# Criando um dataframe a partir de uma lista de listas\n",
    "lista_vendas = [['João', 'Arroz', 2, 10.50],\n",
    "                ['Maria', 'Feijão', 3, 8.00],\n",
    "                ['Pedro', 'Carne', 1, 25.00],\n",
    "                ['Ana', 'Frango', 2, 15.00],\n",
    "                ['Luiza', 'Leite', 4, 5.00],\n",
    "                ['Paulo', 'Arroz', 1, 10.50],\n",
    "                ['Fernanda', 'Feijão', 2, 8.00],\n",
    "                ['Ricardo', 'Carne', 3, 25.00],\n",
    "                ['Carlos', 'Frango', 1, 15.00],\n",
    "                ['Sara', 'Leite', 2, 5.00]]\n",
    "\n",
    "df2 = pd.DataFrame(lista_vendas, columns=['Cliente', 'Produto', 'Quantidade', 'Valor_Unitário'])\n",
    "df2"
   ]
  },
  {
   "cell_type": "markdown",
   "id": "0bc6b2a9",
   "metadata": {},
   "source": [
    "### Como criar um dataframe a partir de um discionário em Python"
   ]
  },
  {
   "cell_type": "code",
   "execution_count": null,
   "id": "8c9d9958",
   "metadata": {},
   "outputs": [],
   "source": [
    "# Criando um dataframe a partir de um dicionário\n",
    "dict_vendas = {'Cliente': ['João', 'Maria', 'Pedro', 'Ana', 'Luiza', 'Paulo', 'Fernanda', 'Ricardo', 'Carlos', 'Sara'],\n",
    "               'Produto': ['Arroz', 'Feijão', 'Carne', 'Frango', 'Leite', 'Arroz', 'Feijão', 'Carne', 'Frango', 'Leite'],\n",
    "               'Quantidade': [2, 3, 1, 2, 4, 1, 2, 3, 1, 2],\n",
    "               'Valor_Unitário': [10.50, 8.00, 25.00, 15.00, 5.00, 10.50, 8.00, 25.00, 15.00, 5.00]}\n",
    "\n",
    "# Visualizando dicionário de vendas \n",
    "print(dict_vendas)\n",
    "\n",
    "df3 = pd.DataFrame(dict_vendas)\n",
    "df3"
   ]
  },
  {
   "cell_type": "code",
   "execution_count": null,
   "id": "7d563e51",
   "metadata": {},
   "outputs": [],
   "source": [
    "dict_vendas"
   ]
  },
  {
   "cell_type": "code",
   "execution_count": null,
   "id": "03443c9d",
   "metadata": {},
   "outputs": [],
   "source": [
    "lista_dict = []\n",
    "\n",
    "registro_1 = {\"nome\": \"Leandro\", \n",
    "               \"idade\": 30, \n",
    "               \"cidade\": \"Belo Horizonte\"}\n",
    "\n",
    "registro_2 = { \"nome\": \"Daniele\", \n",
    "               \"idade\": 26, \n",
    "               \"cidade\": \"Porto Alegre\"}\n",
    "\n",
    "lista_dict.append(registro_1)\n",
    "lista_dict.append(registro_2)\n",
    "\n",
    "# Visualizando lista \n",
    "\n",
    "df4 = pd.DataFrame(lista_dict)\n",
    "df4"
   ]
  }
 ],
 "metadata": {
  "kernelspec": {
   "display_name": "avaliacao",
   "language": "python",
   "name": "avaliacao"
  },
  "language_info": {
   "codemirror_mode": {
    "name": "ipython",
    "version": 3
   },
   "file_extension": ".py",
   "mimetype": "text/x-python",
   "name": "python",
   "nbconvert_exporter": "python",
   "pygments_lexer": "ipython3",
   "version": "3.11.0"
  }
 },
 "nbformat": 4,
 "nbformat_minor": 5
}

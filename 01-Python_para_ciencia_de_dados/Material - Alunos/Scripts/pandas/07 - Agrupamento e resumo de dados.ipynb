{
 "cells": [
  {
   "cell_type": "markdown",
   "id": "f3f2076e",
   "metadata": {},
   "source": [
    "# Agrupamento e resumo de dados\n",
    "***\n",
    "\n",
    "O agrupamento e resumo de dados são etapas essenciais na análise de dados, permitindo extrair informações úteis e insights valiosos a partir de conjuntos de dados complexos. Essas técnicas nos permitem organizar, resumir e comparar os dados com base em categorias ou critérios específicos.\n"
   ]
  },
  {
   "cell_type": "markdown",
   "id": "6072fe86",
   "metadata": {},
   "source": [
    "### Importação das bibliotecas\n"
   ]
  },
  {
   "cell_type": "code",
   "execution_count": null,
   "id": "f42670ce",
   "metadata": {},
   "outputs": [],
   "source": []
  },
  {
   "cell_type": "markdown",
   "id": "be47e44e",
   "metadata": {},
   "source": [
    "### Criando  dataframe a partir de uma lista em Python"
   ]
  },
  {
   "cell_type": "code",
   "execution_count": null,
   "id": "ab54a77d",
   "metadata": {},
   "outputs": [],
   "source": []
  },
  {
   "cell_type": "markdown",
   "id": "6c326736",
   "metadata": {},
   "source": [
    "### Método groupby\n",
    "***\n",
    "Uma das principais ferramentas utilizadas para agrupar e resumir dados no pandas, uma biblioteca popular do Python para análise de dados, é o método groupby. Esse método permite agrupar os dados com base em uma ou mais colunas, criando grupos que compartilham características comuns. Em seguida, podemos aplicar funções de agregação aos grupos para resumir os dados, como contar, somar, calcular média, máximo, mínimo, entre outros."
   ]
  },
  {
   "cell_type": "code",
   "execution_count": null,
   "id": "01f887f7",
   "metadata": {},
   "outputs": [],
   "source": []
  },
  {
   "cell_type": "markdown",
   "id": "c9f78ee7",
   "metadata": {},
   "source": [
    "### Método agg\n",
    "***\n",
    "Esse método permite aplicar várias funções de agregação aos grupos definidos pelo groupby. Podemos calcular diferentes métricas para cada grupo ou até mesmo aplicar funções personalizadas."
   ]
  },
  {
   "cell_type": "code",
   "execution_count": null,
   "id": "e1803a36",
   "metadata": {},
   "outputs": [],
   "source": [
    "# Agrupar os dados por categoria e calcular a soma das vendas em cada categoria\n"
   ]
  },
  {
   "cell_type": "code",
   "execution_count": null,
   "id": "1984bd9a",
   "metadata": {},
   "outputs": [],
   "source": []
  },
  {
   "cell_type": "code",
   "execution_count": null,
   "id": "9d571a33",
   "metadata": {},
   "outputs": [],
   "source": []
  },
  {
   "cell_type": "code",
   "execution_count": null,
   "id": "d8086da8",
   "metadata": {},
   "outputs": [],
   "source": []
  },
  {
   "cell_type": "markdown",
   "id": "87937587",
   "metadata": {},
   "source": [
    "### Método pivot_table\n",
    "***\n",
    "Permite criar uma tabela dinâmica a partir dos dados, onde as linhas representam uma categoria, as colunas representam outra categoria e os valores são agregados com base em uma terceira categoria.\n"
   ]
  },
  {
   "cell_type": "code",
   "execution_count": null,
   "id": "03046c88",
   "metadata": {},
   "outputs": [],
   "source": [
    "# Criar uma tabela dinâmica com base nas colunas 'Categoria' e 'Nome'\n",
    "\n",
    "\n",
    "# Exibir a tabela dinâmica\n"
   ]
  },
  {
   "cell_type": "markdown",
   "id": "ed7cdc6f",
   "metadata": {},
   "source": [
    "### Método crosstab\n",
    "***\n",
    "Permite criar uma tabela de frequência cruzada, que mostra a contagem dos valores em duas ou mais colunas."
   ]
  },
  {
   "cell_type": "code",
   "execution_count": null,
   "id": "6fe51546",
   "metadata": {},
   "outputs": [],
   "source": [
    "# Criar uma tabela de frequência cruzada com base nas colunas 'Categoria' e 'Nome'\n",
    "\n",
    "\n",
    "# Exibir a tabela de frequência cruzada\n"
   ]
  },
  {
   "cell_type": "markdown",
   "id": "20d5eeff",
   "metadata": {},
   "source": [
    "### Método info\n",
    "***\n",
    "Fornece um resumo conciso das informações básicas sobre um DataFrame, incluindo o número de linhas, o número de colunas, os nomes das colunas e os tipos de dados de cada coluna. Além disso, ele também mostra a quantidade de memória usada pelo DataFrame. Isso é particularmente útil quando estamos lidando com conjuntos de dados grandes e queremos ter uma visão geral rápida de sua estrutura."
   ]
  },
  {
   "cell_type": "code",
   "execution_count": null,
   "id": "9371c352",
   "metadata": {},
   "outputs": [],
   "source": []
  },
  {
   "cell_type": "markdown",
   "id": "18f2c29d",
   "metadata": {},
   "source": [
    "### Método describe\n",
    "\n",
    "***\n",
    "Fornece um resumo estatístico das colunas numéricas de um DataFrame. Ele calcula várias estatísticas descritivas, como contagem, média, desvio padrão, valor mínimo, quartis e valor máximo. Essa função nos ajuda a ter uma visão rápida das principais informações estatísticas de cada coluna numérica, permitindo identificar tendências, distribuições e possíveis outliers nos dados."
   ]
  },
  {
   "cell_type": "code",
   "execution_count": null,
   "id": "4d693703",
   "metadata": {},
   "outputs": [],
   "source": []
  },
  {
   "cell_type": "code",
   "execution_count": null,
   "id": "505b6458",
   "metadata": {},
   "outputs": [],
   "source": []
  },
  {
   "cell_type": "markdown",
   "id": "2cf46e32",
   "metadata": {},
   "source": [
    "### Método Transpose\n",
    "\n",
    "***\n",
    "A função transpose pode ser útil em diversas situações, como quando queremos realizar operações em colunas específicas, quando precisamos ajustar a estrutura do DataFrame para uma determinada análise ou quando desejamos apresentar os dados de uma forma mais adequada para visualização.\n",
    "\n",
    "A função transpose do Pandas nos permite realizar a transposição de um DataFrame, trocando as linhas pelas colunas e as colunas pelas linhas. Essa função é útil quando queremos modificar a orientação dos dados para melhor adequá-los às nossas necessidades de análise e visualização."
   ]
  },
  {
   "cell_type": "code",
   "execution_count": null,
   "id": "dd600e5f",
   "metadata": {},
   "outputs": [],
   "source": []
  }
 ],
 "metadata": {
  "kernelspec": {
   "display_name": "avaliacao",
   "language": "python",
   "name": "avaliacao"
  },
  "language_info": {
   "codemirror_mode": {
    "name": "ipython",
    "version": 3
   },
   "file_extension": ".py",
   "mimetype": "text/x-python",
   "name": "python",
   "nbconvert_exporter": "python",
   "pygments_lexer": "ipython3",
   "version": "3.11.0"
  }
 },
 "nbformat": 4,
 "nbformat_minor": 5
}

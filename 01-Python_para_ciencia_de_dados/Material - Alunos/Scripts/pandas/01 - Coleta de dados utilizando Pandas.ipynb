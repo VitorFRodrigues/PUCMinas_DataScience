{
 "cells": [
  {
   "cell_type": "markdown",
   "id": "b1799ba2",
   "metadata": {},
   "source": [
    "# Coleta de dados \n",
    "***\n",
    "\n",
    "A coleta de dados é uma etapa fundamental para qualquer projeto de ciência de dados. É a partir dos dados que os cientistas podem realizar análises e extrair informações relevantes para tomada de decisões e resolução de problemas. Sem uma coleta adequada de dados, o projeto pode ser comprometido, levando a conclusões equivocadas e resultados ineficientes. \n",
    "\n",
    "Além disso, a qualidade dos dados coletados é fundamental para garantir a confiabilidade das análises realizadas e a validade das conclusões obtidas. \n",
    "Por isso, é essencial investir em técnicas e ferramentas que possibilitem uma coleta de dados eficiente e precisa, garantindo assim o sucesso dos projetos de ciência de dados."
   ]
  },
  {
   "cell_type": "markdown",
   "id": "b6994b8b",
   "metadata": {},
   "source": [
    "### Bibliotecas necessárias \n",
    "-  xlrd ➝ para coletar dados do tipo Excel\n",
    "-  lxml ➝ para coletar dados estruturados na web\n",
    "-  os   ➝ para acessar pastas do sistema operacional"
   ]
  },
  {
   "cell_type": "markdown",
   "id": "fcf29ed4",
   "metadata": {},
   "source": [
    "### Importando bibliotecas "
   ]
  },
  {
   "cell_type": "code",
   "execution_count": null,
   "id": "a5502861",
   "metadata": {},
   "outputs": [],
   "source": []
  },
  {
   "cell_type": "markdown",
   "id": "f78cc422",
   "metadata": {},
   "source": [
    "### Coletando dados de arquivo do tipo CSV"
   ]
  },
  {
   "cell_type": "code",
   "execution_count": null,
   "id": "0899a837",
   "metadata": {},
   "outputs": [],
   "source": []
  },
  {
   "cell_type": "code",
   "execution_count": null,
   "id": "2a43f203",
   "metadata": {},
   "outputs": [],
   "source": []
  },
  {
   "cell_type": "markdown",
   "id": "97564953",
   "metadata": {},
   "source": [
    "### Coletando dados de arquivo do tipo Excel"
   ]
  },
  {
   "cell_type": "code",
   "execution_count": null,
   "id": "8366759f",
   "metadata": {},
   "outputs": [],
   "source": []
  },
  {
   "cell_type": "code",
   "execution_count": null,
   "id": "5461e88a",
   "metadata": {},
   "outputs": [],
   "source": []
  },
  {
   "cell_type": "code",
   "execution_count": null,
   "id": "30897919",
   "metadata": {},
   "outputs": [],
   "source": [
    "# Selecionado planilha específica\n"
   ]
  },
  {
   "cell_type": "code",
   "execution_count": null,
   "id": "b4084b82",
   "metadata": {},
   "outputs": [],
   "source": []
  },
  {
   "cell_type": "markdown",
   "id": "51b451f8",
   "metadata": {},
   "source": [
    "### Coletando dados de arquivo do tipo texto"
   ]
  },
  {
   "cell_type": "code",
   "execution_count": null,
   "id": "6df7aa56",
   "metadata": {},
   "outputs": [],
   "source": []
  },
  {
   "cell_type": "code",
   "execution_count": null,
   "id": "fef3328c",
   "metadata": {},
   "outputs": [],
   "source": []
  },
  {
   "cell_type": "markdown",
   "id": "4275b1cc",
   "metadata": {},
   "source": [
    "### Coletando dados de arquivo do tipo JSON"
   ]
  },
  {
   "cell_type": "code",
   "execution_count": null,
   "id": "ad7369fe",
   "metadata": {},
   "outputs": [],
   "source": []
  },
  {
   "cell_type": "code",
   "execution_count": null,
   "id": "f0f6532c",
   "metadata": {},
   "outputs": [],
   "source": []
  },
  {
   "cell_type": "markdown",
   "id": "d28bbc24",
   "metadata": {},
   "source": [
    "### Coletando dados de tabelas estruturas na Web"
   ]
  },
  {
   "cell_type": "code",
   "execution_count": null,
   "id": "126fa398",
   "metadata": {},
   "outputs": [],
   "source": []
  },
  {
   "cell_type": "code",
   "execution_count": null,
   "id": "8a7fadef",
   "metadata": {},
   "outputs": [],
   "source": []
  },
  {
   "cell_type": "code",
   "execution_count": null,
   "id": "3695e1fc",
   "metadata": {},
   "outputs": [],
   "source": []
  },
  {
   "cell_type": "markdown",
   "id": "33a7bf4e",
   "metadata": {},
   "source": [
    "### Coletando dados de em lista de arquivos "
   ]
  },
  {
   "cell_type": "code",
   "execution_count": null,
   "id": "4bca3916",
   "metadata": {},
   "outputs": [],
   "source": []
  },
  {
   "cell_type": "code",
   "execution_count": null,
   "id": "57b57859",
   "metadata": {},
   "outputs": [],
   "source": []
  },
  {
   "cell_type": "code",
   "execution_count": null,
   "id": "0b6d4301",
   "metadata": {},
   "outputs": [],
   "source": []
  },
  {
   "cell_type": "code",
   "execution_count": null,
   "id": "aff6b6fc",
   "metadata": {},
   "outputs": [],
   "source": []
  },
  {
   "cell_type": "code",
   "execution_count": null,
   "id": "507a947b",
   "metadata": {},
   "outputs": [],
   "source": []
  }
 ],
 "metadata": {
  "kernelspec": {
   "display_name": "avaliacao",
   "language": "python",
   "name": "avaliacao"
  },
  "language_info": {
   "codemirror_mode": {
    "name": "ipython",
    "version": 3
   },
   "file_extension": ".py",
   "mimetype": "text/x-python",
   "name": "python",
   "nbconvert_exporter": "python",
   "pygments_lexer": "ipython3",
   "version": "3.11.0"
  }
 },
 "nbformat": 4,
 "nbformat_minor": 5
}

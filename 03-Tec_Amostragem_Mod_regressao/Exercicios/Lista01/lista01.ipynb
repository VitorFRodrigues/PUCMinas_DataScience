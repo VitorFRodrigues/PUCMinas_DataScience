{
 "cells": [
  {
   "cell_type": "markdown",
   "metadata": {},
   "source": [
    "# Lista 01\n",
    "\n",
    "Instituição: Pontifícia Universidade Católica de Minas Gerais\n",
    "\n",
    "Aluno: Vitor Fernando de Souza Rodrigues\n",
    "\n",
    "Disciplina: Técnicas de Amostragem e Modelos de Regressão\n",
    "\n",
    "Docente: Anaíle Mendes Rabelo"
   ]
  },
  {
   "cell_type": "markdown",
   "metadata": {},
   "source": [
    "Resolva a lista de exercício em python ou R - entregue o notebook. \n",
    "\n",
    "Obs.: Nos exercícios que envolvem proporção, sempre entregar a estimativa otimista e conservadora; "
   ]
  },
  {
   "cell_type": "code",
   "execution_count": 2,
   "metadata": {},
   "outputs": [],
   "source": [
    "import scipy.stats as stats\n",
    "import numpy as np"
   ]
  },
  {
   "cell_type": "markdown",
   "metadata": {},
   "source": [
    "1. Se uma amostra aleatória n=25, tem uma média amostral de 51,3 e uma desvio padrão populacional de σ=2. Construa o intervalo com 95% de confiança para a média populacional µ."
   ]
  },
  {
   "cell_type": "code",
   "execution_count": 3,
   "metadata": {},
   "outputs": [
    {
     "name": "stdout",
     "output_type": "stream",
     "text": [
      "O intervalo de confiança de 95% para a média populacional u é:\n",
      "(50.516, 52.084)\n"
     ]
    }
   ],
   "source": [
    "u = 51.3\n",
    "sigma = 2\n",
    "n = 25\n",
    "alpha = 1-95/100\n",
    "\n",
    "# Calculando erro padrão da média\n",
    "\n",
    "E = sigma / (n)**0.5\n",
    "\n",
    "zc = stats.norm.ppf(1 - alpha/2)\n",
    "\n",
    "print(f'O intervalo de confiança de 95% para a média populacional u é:')\n",
    "print(f'({u-zc*E:.3f}, {u+zc*E:.3f})')"
   ]
  },
  {
   "cell_type": "markdown",
   "metadata": {},
   "source": [
    "2. Sabe-se que a vida em horas de um bulbo de lâmpada de 75W é distribuída de forma aproximadamente normal com desvio padrão de σ=25. Uma amostra aleatória de 20 bulbos tem uma vida media de 1.014 horas. Construa um intervalo de confiança de 95% para a vida média. "
   ]
  },
  {
   "cell_type": "code",
   "execution_count": 4,
   "metadata": {},
   "outputs": [
    {
     "name": "stdout",
     "output_type": "stream",
     "text": [
      "O intervalo de confiança de 95% para a vida média dos bulbos de lâmpada de 75W é de aproximadamente\n",
      "1003.04 horas a 1024.96 horas.\n"
     ]
    }
   ],
   "source": [
    "sigma = 25\n",
    "n = 20\n",
    "u = 1014\n",
    "alpha = 1-95/100\n",
    "\n",
    "E = sigma / (n)**0.5\n",
    "\n",
    "zc = stats.norm.ppf(1 - alpha/2)\n",
    "\n",
    "print(f'O intervalo de confiança de 95% para a vida média dos bulbos de lâmpada de 75W é de aproximadamente')\n",
    "print(f'{u-zc*E:.2f} horas a {u+zc*E:.2f} horas.')"
   ]
  },
  {
   "cell_type": "markdown",
   "metadata": {},
   "source": [
    "3. Qual deve ser o tamanho da amostra para que o intervalo com 99,5% de confiança para a média populacional tenha uma semi amplitude não superior a 1,5? Sabe-se que a variância populacional é de 23."
   ]
  },
  {
   "cell_type": "code",
   "execution_count": 5,
   "metadata": {},
   "outputs": [
    {
     "name": "stdout",
     "output_type": "stream",
     "text": [
      "O tamanho da amostra necessário para que o intervalo de confiança de 99,5% tenha uma semi amplitude não superior a 1,5 é aproximadamente 81\n"
     ]
    }
   ],
   "source": [
    "alpha = 1-99.5/100\n",
    "\n",
    "zc = stats.norm.ppf(1 - alpha/2)\n",
    "\n",
    "sigma = 23**0.5\n",
    "\n",
    "Semi_Amplitude = 1.5\n",
    "\n",
    "# Semi_Amplitude <= zc*(sigma/sqrt(n))\n",
    "# Isolando n:\n",
    "# n = (zc*sigma/Semi_Amplitude)**2\n",
    "\n",
    "n = (zc*sigma/Semi_Amplitude)**2\n",
    "\n",
    "print(f'O tamanho da amostra necessário para que o intervalo de confiança de 99,5% tenha uma semi '\n",
    "      f'amplitude não superior a 1,5 é aproximadamente {round(n)}')"
   ]
  },
  {
   "cell_type": "markdown",
   "metadata": {},
   "source": [
    "4. Calcular o intervalo de confiança de 95% para a seguinte amostra, com variância populacional desconhecida:   19,8  18,5 17,6 16,7 15,8 15,4 14,1 13,6 11,9 11,4 11,4 8,8 7,5 15,4 15,4 19,5 14,9 12,7 11,9 11,4 10,1 7,9 "
   ]
  },
  {
   "cell_type": "code",
   "execution_count": 6,
   "metadata": {},
   "outputs": [
    {
     "name": "stdout",
     "output_type": "stream",
     "text": [
      "O intervalo de confiança de 95% para a amostra dada é de (12.14, 15.29)\n"
     ]
    }
   ],
   "source": [
    "x = [19.8, 18.5, 17.6, 16.7, 15.8, 15.4, 14.1, 13.6, 11.9, 11.4, 11.4, 8.8, 7.5, 15.4, 15.4, 19.5, 14.9, 12.7, 11.9, 11.4, 10.1, 7.9]\n",
    "\n",
    "n = len(x)\n",
    "\n",
    "u = np.mean(x)\n",
    "\n",
    "s = np.std(x, ddof=1)\n",
    "\n",
    "E = s / (n)**.5\n",
    "\n",
    "alpha = 1 - 95/100\n",
    "\n",
    "tc = stats.t.ppf(1 - alpha/2, n-1)\n",
    "\n",
    "print(f'O intervalo de confiança de 95% para a amostra dada é de '\n",
    "      f'({u-tc*E:.2f}, {u+tc*E:.2f})')"
   ]
  },
  {
   "cell_type": "markdown",
   "metadata": {},
   "source": [
    "5. Uma marca particular de margarina diet foi analisada para determinar o nível em porcentagem de ácidos graxos insaturados. Uma amostra de seis pacotes resultou nos seguintes dados: 16,8; 17,2; 17,4; 16,9; 16,5 e 17,1. Encontre o intervalo de confiança de 99% para a amostra. "
   ]
  },
  {
   "cell_type": "code",
   "execution_count": 7,
   "metadata": {},
   "outputs": [
    {
     "name": "stdout",
     "output_type": "stream",
     "text": [
      "O intervalo de confiança de 99% para a média dos níveis de ácidos graxos insaturados na amostraé aproximadamente de 16.46% a 17.51%\n"
     ]
    }
   ],
   "source": [
    "x = [16.8, 17.2, 17.4, 16.9, 16.5, 17.1]\n",
    "\n",
    "n = len(x)\n",
    "\n",
    "alpha = 1 - 99/100\n",
    "\n",
    "u = np.mean(x)\n",
    "\n",
    "s = np.std(x, ddof=1)\n",
    "\n",
    "E = s / (n)**.5\n",
    "\n",
    "tc = stats.t.ppf(1 - alpha/2, n-1)\n",
    "\n",
    "print(f'O intervalo de confiança de 99% para a média dos níveis de ácidos graxos insaturados na amostra'\n",
    "      f'é aproximadamente de {u-tc*E:.2f}% a {u+tc*E:.2f}%')"
   ]
  },
  {
   "cell_type": "markdown",
   "metadata": {},
   "source": [
    "6. Uma amostra piloto com 12 elementos tece média de 6,7 e desvio padrão de 1,7. Qual deve ser o tamanho da amostra para que a semi amplitude do intervalo de 99,5% de confiança da média populacional não seja superior a 0,8 ."
   ]
  },
  {
   "cell_type": "code",
   "execution_count": 8,
   "metadata": {},
   "outputs": [
    {
     "name": "stdout",
     "output_type": "stream",
     "text": [
      "O tamanho da amostra necessário para garantir que a semi amplitude do intervalo de confiança de 99.5% da média populacional não seja superior a 0.8 é de 36 elementos.\n"
     ]
    }
   ],
   "source": [
    "n = 12\n",
    "\n",
    "u = 6.7\n",
    "\n",
    "sigma = 1.7\n",
    "\n",
    "nivel_confianca = 99.5\n",
    "\n",
    "alpha = 1 - nivel_confianca/100\n",
    "\n",
    "# Semi Amplitude = E\n",
    "\n",
    "E = 0.8\n",
    "\n",
    "zc = stats.norm.ppf(1 - alpha/2)\n",
    "\n",
    "n = (zc*sigma/E)**2\n",
    "\n",
    "print(f'O tamanho da amostra necessário para garantir que a semi amplitude do intervalo de '\n",
    "      f'confiança de {nivel_confianca}% da média populacional não seja superior a {E} é de '\n",
    "      f'{round(n)} elementos.')"
   ]
  },
  {
   "cell_type": "markdown",
   "metadata": {},
   "source": [
    "7. Em uma amostra aleatória de 85 mancais de eixos de manivelas de motores de automóveis, 10 têm um acabamento superficial mais rugoso do que as especificações permitidas. Calcule um intervalo de confiança para o 95% da proporção. "
   ]
  },
  {
   "cell_type": "code",
   "execution_count": 9,
   "metadata": {},
   "outputs": [
    {
     "name": "stdout",
     "output_type": "stream",
     "text": [
      "o intervalo de confiança para a proporção com 95% de confiança é aproximadamente de 0.0492 a 0.1861\n"
     ]
    }
   ],
   "source": [
    "# Probabilidade de uma amostra de 85 mancais de eixos de manivelas, 10 deles ter um acabamento superficial\n",
    "# mais rugoso do que as especificações permitidas\n",
    "p = 10/85\n",
    "\n",
    "n = 85\n",
    "\n",
    "nivel_confianca = 95\n",
    "\n",
    "alpha = 1 - nivel_confianca/100\n",
    "\n",
    "zc = stats.norm.ppf(1 - alpha/2)\n",
    "\n",
    "E = (p*(1-p)/n)**.5\n",
    "\n",
    "print(f'o intervalo de confiança para a proporção com {nivel_confianca}% de confiança é aproximadamente'\n",
    "      f' de {p-zc*E:.4f} a {p+zc*E:.4f}')"
   ]
  },
  {
   "cell_type": "markdown",
   "metadata": {},
   "source": [
    "8. De 1.000 casos selecionados de aleatoriamente de câncer de pulmão, 823 resultaram em morte. Construa um intervalo de confiança de 95% para a taxa de morte de câncer de pulmão. "
   ]
  },
  {
   "cell_type": "code",
   "execution_count": 10,
   "metadata": {},
   "outputs": [
    {
     "name": "stdout",
     "output_type": "stream",
     "text": [
      "O intervalo de confiança para a taxa de morte de câncer de pulmão com 95% de confiança é aproximadamente de 0.7993 a 0.8467, ou seja, de 79.93% a 84.67%.\n"
     ]
    }
   ],
   "source": [
    "# Probabilidade de dados 1000 casos de câncer de pulmão e 823 resultaram em morte\n",
    "p = 823/1000\n",
    "\n",
    "n = 1000\n",
    "\n",
    "nivel_confianca = 95\n",
    "\n",
    "alpha = 1 - nivel_confianca/100\n",
    "\n",
    "zc = stats.norm.ppf(1 - alpha/2)\n",
    "\n",
    "E = (p*(1-p)/n)**.5\n",
    "\n",
    "print(f'O intervalo de confiança para a taxa de morte de câncer de pulmão com {nivel_confianca}% '\n",
    "    f'de confiança é aproximadamente de {p-zc*E:.4f} a {p+zc*E:.4f}, ou seja, de '\n",
    "    f'{(p-zc*E)*100:.2f}% a {(p+zc*E)*100:.2f}%.')"
   ]
  },
  {
   "cell_type": "markdown",
   "metadata": {},
   "source": [
    "\n",
    "9. Sabe-se que a proporção de animais contaminados com uma determinada doença não é superior a 10%. Qual deve o tamanho da amostra para que a semi amplitude do intervalo com 92% de confiança para a fração populacional não seja superior a 2%? "
   ]
  },
  {
   "cell_type": "markdown",
   "metadata": {},
   "source": [
    "Para determinar o tamanho da amostra necessário para atender às condições especificadas, podemos usar a fórmula do intervalo de confiança para proporções:\n",
    "$\\ n=Z^2*p*(1-p)/E^2$"
   ]
  },
  {
   "cell_type": "code",
   "execution_count": 11,
   "metadata": {},
   "outputs": [
    {
     "name": "stdout",
     "output_type": "stream",
     "text": [
      "Para garantir que a semi amplitude do intervalo com 92% de confiança para a fração populacional não seja superior a 2.0%, seria necessário um tamanho de amostra de pelo menos 690 animais.\n"
     ]
    }
   ],
   "source": [
    "nivel_confianca = 92\n",
    "\n",
    "alpha = 1 - nivel_confianca/100\n",
    "\n",
    "zc = stats.norm.ppf(1 - alpha/2)\n",
    "\n",
    "E= 2/100\n",
    "\n",
    "p = 10/100\n",
    "\n",
    "n = (zc**2 * p * (1-p))/ E**2\n",
    "\n",
    "print(f'Para garantir que a semi amplitude do intervalo com {nivel_confianca}% de confiança para a '\n",
    "      f'fração populacional não seja superior a {E*100}%, seria necessário um tamanho de amostra de '\n",
    "      f'pelo menos {round(n)} animais.')"
   ]
  }
 ],
 "metadata": {
  "kernelspec": {
   "display_name": "pucminas",
   "language": "python",
   "name": "python3"
  },
  "language_info": {
   "codemirror_mode": {
    "name": "ipython",
    "version": 3
   },
   "file_extension": ".py",
   "mimetype": "text/x-python",
   "name": "python",
   "nbconvert_exporter": "python",
   "pygments_lexer": "ipython3",
   "version": "3.12.3"
  }
 },
 "nbformat": 4,
 "nbformat_minor": 2
}

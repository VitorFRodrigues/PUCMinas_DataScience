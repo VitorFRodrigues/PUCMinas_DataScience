{
  "cells": [
    {
      "cell_type": "markdown",
      "metadata": {
        "id": "view-in-github",
        "colab_type": "text"
      },
      "source": [
        "<a href=\"https://colab.research.google.com/github/VitorFRodrigues/PUCMinas_DataScience/blob/main/03-Tec_Amostragem_Mod_regressao/Exercicios/TrabalhoFinal/TrabalhoFinal.ipynb\" target=\"_parent\"><img src=\"https://colab.research.google.com/assets/colab-badge.svg\" alt=\"Open In Colab\"/></a>"
      ]
    },
    {
      "cell_type": "markdown",
      "metadata": {
        "id": "R8Dk2Nb0NfjL"
      },
      "source": [
        "# Grupo 02\n",
        "\n",
        "Instituição: Pontifícia Universidade Católica de Minas Gerais\n",
        "\n",
        "Alunos:\n",
        "\n",
        "* Alessandro Augusto Bezerra\n",
        "* Robson Gomes de Lima\n",
        "* Tiago Henrique Lacerda\n",
        "* Vitor Fernando de Souza Rodrigues\n",
        "\n",
        "Disciplina: Técnicas de Amostragem e Modelos de Regressão\n",
        "\n",
        "Docente: Anaíle Mendes Rabelo"
      ]
    },
    {
      "cell_type": "code",
      "execution_count": 1,
      "metadata": {
        "id": "Nen8RPCJNfjN"
      },
      "outputs": [],
      "source": [
        "# Importação de bibliotecas usadas neste notebook\n",
        "import pandas as pd\n",
        "import numpy as np\n",
        "import seaborn as sns\n",
        "import matplotlib.pyplot as plt\n",
        "import statsmodels.api as sm\n",
        "import statsmodels.formula.api as smf\n",
        "import scipy.stats as stats\n",
        "import warnings\n",
        "warnings.filterwarnings('ignore')\n",
        "from sklearn.metrics import roc_curve, auc\n",
        "from sklearn.model_selection import train_test_split"
      ]
    },
    {
      "cell_type": "markdown",
      "metadata": {
        "id": "9fuLddOaNfjO"
      },
      "source": [
        "## Exercício 1 - Determinar a probabilidade do usuário de comprar uma SUV, baseado em sua idade e salário. Utilizando a base de dados  SUV_Network_Ads.csv"
      ]
    },
    {
      "cell_type": "markdown",
      "metadata": {
        "id": "6Diq-IBdNfjO"
      },
      "source": [
        "### 1. Análise descritiva"
      ]
    },
    {
      "cell_type": "markdown",
      "metadata": {
        "id": "yUG9YwYeNfjO"
      },
      "source": [
        "Leitura inicial do dataframe"
      ]
    },
    {
      "cell_type": "code",
      "execution_count": 2,
      "metadata": {
        "colab": {
          "base_uri": "https://localhost:8080/",
          "height": 206
        },
        "id": "j-ImYwYANfjO",
        "outputId": "4876e2f8-5f65-4973-818a-6e09c6c40bc8"
      },
      "outputs": [
        {
          "output_type": "execute_result",
          "data": {
            "text/plain": [
              "                                                 url          bairro  aluguel  \\\n",
              "0  https://www.quintoandar.com.br/imovel/89332996...       Liberdade   1900.0   \n",
              "1  https://www.quintoandar.com.br/imovel/89334069...   Santa Cecília   1190.0   \n",
              "2  https://www.quintoandar.com.br/imovel/89333859...       Aclimação   2330.0   \n",
              "3  https://www.quintoandar.com.br/imovel/89337065...       Liberdade   1850.0   \n",
              "4  https://www.quintoandar.com.br/imovel/89337700...  Vila Guilherme   2200.0   \n",
              "\n",
              "   condominio  iptu  seguro_incendio  taxa_serviço   total  metragem  quarto  \\\n",
              "0       424.0   5.0             25.0          38.0  2392.0      57.0     1.0   \n",
              "1       460.0   0.0             16.0          23.0  1689.0      56.0     1.0   \n",
              "2       450.0   5.0             30.0          46.0  2861.0      48.0     1.0   \n",
              "3       418.0   6.0             24.0          37.0  2335.0      44.0     1.0   \n",
              "4       392.0  10.0             28.0          44.0  2674.0      62.0     2.0   \n",
              "\n",
              "   banheiro  vaga_carro  andar  aceita_pet  mobilia  metro_prox  \n",
              "0       1.0         1.0   18.0         1.0      0.0         1.0  \n",
              "1       1.0         0.0   11.0         1.0      1.0         1.0  \n",
              "2       1.0         1.0   10.0         1.0      0.0         1.0  \n",
              "3       1.0         1.0    3.0         1.0      1.0         1.0  \n",
              "4       2.0         1.0    8.0         1.0      0.0         0.0  "
            ],
            "text/html": [
              "\n",
              "  <div id=\"df-948b620e-e994-4adf-8594-7754ecbc4879\" class=\"colab-df-container\">\n",
              "    <div>\n",
              "<style scoped>\n",
              "    .dataframe tbody tr th:only-of-type {\n",
              "        vertical-align: middle;\n",
              "    }\n",
              "\n",
              "    .dataframe tbody tr th {\n",
              "        vertical-align: top;\n",
              "    }\n",
              "\n",
              "    .dataframe thead th {\n",
              "        text-align: right;\n",
              "    }\n",
              "</style>\n",
              "<table border=\"1\" class=\"dataframe\">\n",
              "  <thead>\n",
              "    <tr style=\"text-align: right;\">\n",
              "      <th></th>\n",
              "      <th>url</th>\n",
              "      <th>bairro</th>\n",
              "      <th>aluguel</th>\n",
              "      <th>condominio</th>\n",
              "      <th>iptu</th>\n",
              "      <th>seguro_incendio</th>\n",
              "      <th>taxa_serviço</th>\n",
              "      <th>total</th>\n",
              "      <th>metragem</th>\n",
              "      <th>quarto</th>\n",
              "      <th>banheiro</th>\n",
              "      <th>vaga_carro</th>\n",
              "      <th>andar</th>\n",
              "      <th>aceita_pet</th>\n",
              "      <th>mobilia</th>\n",
              "      <th>metro_prox</th>\n",
              "    </tr>\n",
              "  </thead>\n",
              "  <tbody>\n",
              "    <tr>\n",
              "      <th>0</th>\n",
              "      <td>https://www.quintoandar.com.br/imovel/89332996...</td>\n",
              "      <td>Liberdade</td>\n",
              "      <td>1900.0</td>\n",
              "      <td>424.0</td>\n",
              "      <td>5.0</td>\n",
              "      <td>25.0</td>\n",
              "      <td>38.0</td>\n",
              "      <td>2392.0</td>\n",
              "      <td>57.0</td>\n",
              "      <td>1.0</td>\n",
              "      <td>1.0</td>\n",
              "      <td>1.0</td>\n",
              "      <td>18.0</td>\n",
              "      <td>1.0</td>\n",
              "      <td>0.0</td>\n",
              "      <td>1.0</td>\n",
              "    </tr>\n",
              "    <tr>\n",
              "      <th>1</th>\n",
              "      <td>https://www.quintoandar.com.br/imovel/89334069...</td>\n",
              "      <td>Santa Cecília</td>\n",
              "      <td>1190.0</td>\n",
              "      <td>460.0</td>\n",
              "      <td>0.0</td>\n",
              "      <td>16.0</td>\n",
              "      <td>23.0</td>\n",
              "      <td>1689.0</td>\n",
              "      <td>56.0</td>\n",
              "      <td>1.0</td>\n",
              "      <td>1.0</td>\n",
              "      <td>0.0</td>\n",
              "      <td>11.0</td>\n",
              "      <td>1.0</td>\n",
              "      <td>1.0</td>\n",
              "      <td>1.0</td>\n",
              "    </tr>\n",
              "    <tr>\n",
              "      <th>2</th>\n",
              "      <td>https://www.quintoandar.com.br/imovel/89333859...</td>\n",
              "      <td>Aclimação</td>\n",
              "      <td>2330.0</td>\n",
              "      <td>450.0</td>\n",
              "      <td>5.0</td>\n",
              "      <td>30.0</td>\n",
              "      <td>46.0</td>\n",
              "      <td>2861.0</td>\n",
              "      <td>48.0</td>\n",
              "      <td>1.0</td>\n",
              "      <td>1.0</td>\n",
              "      <td>1.0</td>\n",
              "      <td>10.0</td>\n",
              "      <td>1.0</td>\n",
              "      <td>0.0</td>\n",
              "      <td>1.0</td>\n",
              "    </tr>\n",
              "    <tr>\n",
              "      <th>3</th>\n",
              "      <td>https://www.quintoandar.com.br/imovel/89337065...</td>\n",
              "      <td>Liberdade</td>\n",
              "      <td>1850.0</td>\n",
              "      <td>418.0</td>\n",
              "      <td>6.0</td>\n",
              "      <td>24.0</td>\n",
              "      <td>37.0</td>\n",
              "      <td>2335.0</td>\n",
              "      <td>44.0</td>\n",
              "      <td>1.0</td>\n",
              "      <td>1.0</td>\n",
              "      <td>1.0</td>\n",
              "      <td>3.0</td>\n",
              "      <td>1.0</td>\n",
              "      <td>1.0</td>\n",
              "      <td>1.0</td>\n",
              "    </tr>\n",
              "    <tr>\n",
              "      <th>4</th>\n",
              "      <td>https://www.quintoandar.com.br/imovel/89337700...</td>\n",
              "      <td>Vila Guilherme</td>\n",
              "      <td>2200.0</td>\n",
              "      <td>392.0</td>\n",
              "      <td>10.0</td>\n",
              "      <td>28.0</td>\n",
              "      <td>44.0</td>\n",
              "      <td>2674.0</td>\n",
              "      <td>62.0</td>\n",
              "      <td>2.0</td>\n",
              "      <td>2.0</td>\n",
              "      <td>1.0</td>\n",
              "      <td>8.0</td>\n",
              "      <td>1.0</td>\n",
              "      <td>0.0</td>\n",
              "      <td>0.0</td>\n",
              "    </tr>\n",
              "  </tbody>\n",
              "</table>\n",
              "</div>\n",
              "    <div class=\"colab-df-buttons\">\n",
              "\n",
              "  <div class=\"colab-df-container\">\n",
              "    <button class=\"colab-df-convert\" onclick=\"convertToInteractive('df-948b620e-e994-4adf-8594-7754ecbc4879')\"\n",
              "            title=\"Convert this dataframe to an interactive table.\"\n",
              "            style=\"display:none;\">\n",
              "\n",
              "  <svg xmlns=\"http://www.w3.org/2000/svg\" height=\"24px\" viewBox=\"0 -960 960 960\">\n",
              "    <path d=\"M120-120v-720h720v720H120Zm60-500h600v-160H180v160Zm220 220h160v-160H400v160Zm0 220h160v-160H400v160ZM180-400h160v-160H180v160Zm440 0h160v-160H620v160ZM180-180h160v-160H180v160Zm440 0h160v-160H620v160Z\"/>\n",
              "  </svg>\n",
              "    </button>\n",
              "\n",
              "  <style>\n",
              "    .colab-df-container {\n",
              "      display:flex;\n",
              "      gap: 12px;\n",
              "    }\n",
              "\n",
              "    .colab-df-convert {\n",
              "      background-color: #E8F0FE;\n",
              "      border: none;\n",
              "      border-radius: 50%;\n",
              "      cursor: pointer;\n",
              "      display: none;\n",
              "      fill: #1967D2;\n",
              "      height: 32px;\n",
              "      padding: 0 0 0 0;\n",
              "      width: 32px;\n",
              "    }\n",
              "\n",
              "    .colab-df-convert:hover {\n",
              "      background-color: #E2EBFA;\n",
              "      box-shadow: 0px 1px 2px rgba(60, 64, 67, 0.3), 0px 1px 3px 1px rgba(60, 64, 67, 0.15);\n",
              "      fill: #174EA6;\n",
              "    }\n",
              "\n",
              "    .colab-df-buttons div {\n",
              "      margin-bottom: 4px;\n",
              "    }\n",
              "\n",
              "    [theme=dark] .colab-df-convert {\n",
              "      background-color: #3B4455;\n",
              "      fill: #D2E3FC;\n",
              "    }\n",
              "\n",
              "    [theme=dark] .colab-df-convert:hover {\n",
              "      background-color: #434B5C;\n",
              "      box-shadow: 0px 1px 3px 1px rgba(0, 0, 0, 0.15);\n",
              "      filter: drop-shadow(0px 1px 2px rgba(0, 0, 0, 0.3));\n",
              "      fill: #FFFFFF;\n",
              "    }\n",
              "  </style>\n",
              "\n",
              "    <script>\n",
              "      const buttonEl =\n",
              "        document.querySelector('#df-948b620e-e994-4adf-8594-7754ecbc4879 button.colab-df-convert');\n",
              "      buttonEl.style.display =\n",
              "        google.colab.kernel.accessAllowed ? 'block' : 'none';\n",
              "\n",
              "      async function convertToInteractive(key) {\n",
              "        const element = document.querySelector('#df-948b620e-e994-4adf-8594-7754ecbc4879');\n",
              "        const dataTable =\n",
              "          await google.colab.kernel.invokeFunction('convertToInteractive',\n",
              "                                                    [key], {});\n",
              "        if (!dataTable) return;\n",
              "\n",
              "        const docLinkHtml = 'Like what you see? Visit the ' +\n",
              "          '<a target=\"_blank\" href=https://colab.research.google.com/notebooks/data_table.ipynb>data table notebook</a>'\n",
              "          + ' to learn more about interactive tables.';\n",
              "        element.innerHTML = '';\n",
              "        dataTable['output_type'] = 'display_data';\n",
              "        await google.colab.output.renderOutput(dataTable, element);\n",
              "        const docLink = document.createElement('div');\n",
              "        docLink.innerHTML = docLinkHtml;\n",
              "        element.appendChild(docLink);\n",
              "      }\n",
              "    </script>\n",
              "  </div>\n",
              "\n",
              "\n",
              "<div id=\"df-c8a787c9-0ae0-4989-9d2d-284da8fd593d\">\n",
              "  <button class=\"colab-df-quickchart\" onclick=\"quickchart('df-c8a787c9-0ae0-4989-9d2d-284da8fd593d')\"\n",
              "            title=\"Suggest charts\"\n",
              "            style=\"display:none;\">\n",
              "\n",
              "<svg xmlns=\"http://www.w3.org/2000/svg\" height=\"24px\"viewBox=\"0 0 24 24\"\n",
              "     width=\"24px\">\n",
              "    <g>\n",
              "        <path d=\"M19 3H5c-1.1 0-2 .9-2 2v14c0 1.1.9 2 2 2h14c1.1 0 2-.9 2-2V5c0-1.1-.9-2-2-2zM9 17H7v-7h2v7zm4 0h-2V7h2v10zm4 0h-2v-4h2v4z\"/>\n",
              "    </g>\n",
              "</svg>\n",
              "  </button>\n",
              "\n",
              "<style>\n",
              "  .colab-df-quickchart {\n",
              "      --bg-color: #E8F0FE;\n",
              "      --fill-color: #1967D2;\n",
              "      --hover-bg-color: #E2EBFA;\n",
              "      --hover-fill-color: #174EA6;\n",
              "      --disabled-fill-color: #AAA;\n",
              "      --disabled-bg-color: #DDD;\n",
              "  }\n",
              "\n",
              "  [theme=dark] .colab-df-quickchart {\n",
              "      --bg-color: #3B4455;\n",
              "      --fill-color: #D2E3FC;\n",
              "      --hover-bg-color: #434B5C;\n",
              "      --hover-fill-color: #FFFFFF;\n",
              "      --disabled-bg-color: #3B4455;\n",
              "      --disabled-fill-color: #666;\n",
              "  }\n",
              "\n",
              "  .colab-df-quickchart {\n",
              "    background-color: var(--bg-color);\n",
              "    border: none;\n",
              "    border-radius: 50%;\n",
              "    cursor: pointer;\n",
              "    display: none;\n",
              "    fill: var(--fill-color);\n",
              "    height: 32px;\n",
              "    padding: 0;\n",
              "    width: 32px;\n",
              "  }\n",
              "\n",
              "  .colab-df-quickchart:hover {\n",
              "    background-color: var(--hover-bg-color);\n",
              "    box-shadow: 0 1px 2px rgba(60, 64, 67, 0.3), 0 1px 3px 1px rgba(60, 64, 67, 0.15);\n",
              "    fill: var(--button-hover-fill-color);\n",
              "  }\n",
              "\n",
              "  .colab-df-quickchart-complete:disabled,\n",
              "  .colab-df-quickchart-complete:disabled:hover {\n",
              "    background-color: var(--disabled-bg-color);\n",
              "    fill: var(--disabled-fill-color);\n",
              "    box-shadow: none;\n",
              "  }\n",
              "\n",
              "  .colab-df-spinner {\n",
              "    border: 2px solid var(--fill-color);\n",
              "    border-color: transparent;\n",
              "    border-bottom-color: var(--fill-color);\n",
              "    animation:\n",
              "      spin 1s steps(1) infinite;\n",
              "  }\n",
              "\n",
              "  @keyframes spin {\n",
              "    0% {\n",
              "      border-color: transparent;\n",
              "      border-bottom-color: var(--fill-color);\n",
              "      border-left-color: var(--fill-color);\n",
              "    }\n",
              "    20% {\n",
              "      border-color: transparent;\n",
              "      border-left-color: var(--fill-color);\n",
              "      border-top-color: var(--fill-color);\n",
              "    }\n",
              "    30% {\n",
              "      border-color: transparent;\n",
              "      border-left-color: var(--fill-color);\n",
              "      border-top-color: var(--fill-color);\n",
              "      border-right-color: var(--fill-color);\n",
              "    }\n",
              "    40% {\n",
              "      border-color: transparent;\n",
              "      border-right-color: var(--fill-color);\n",
              "      border-top-color: var(--fill-color);\n",
              "    }\n",
              "    60% {\n",
              "      border-color: transparent;\n",
              "      border-right-color: var(--fill-color);\n",
              "    }\n",
              "    80% {\n",
              "      border-color: transparent;\n",
              "      border-right-color: var(--fill-color);\n",
              "      border-bottom-color: var(--fill-color);\n",
              "    }\n",
              "    90% {\n",
              "      border-color: transparent;\n",
              "      border-bottom-color: var(--fill-color);\n",
              "    }\n",
              "  }\n",
              "</style>\n",
              "\n",
              "  <script>\n",
              "    async function quickchart(key) {\n",
              "      const quickchartButtonEl =\n",
              "        document.querySelector('#' + key + ' button');\n",
              "      quickchartButtonEl.disabled = true;  // To prevent multiple clicks.\n",
              "      quickchartButtonEl.classList.add('colab-df-spinner');\n",
              "      try {\n",
              "        const charts = await google.colab.kernel.invokeFunction(\n",
              "            'suggestCharts', [key], {});\n",
              "      } catch (error) {\n",
              "        console.error('Error during call to suggestCharts:', error);\n",
              "      }\n",
              "      quickchartButtonEl.classList.remove('colab-df-spinner');\n",
              "      quickchartButtonEl.classList.add('colab-df-quickchart-complete');\n",
              "    }\n",
              "    (() => {\n",
              "      let quickchartButtonEl =\n",
              "        document.querySelector('#df-c8a787c9-0ae0-4989-9d2d-284da8fd593d button');\n",
              "      quickchartButtonEl.style.display =\n",
              "        google.colab.kernel.accessAllowed ? 'block' : 'none';\n",
              "    })();\n",
              "  </script>\n",
              "</div>\n",
              "\n",
              "    </div>\n",
              "  </div>\n"
            ],
            "application/vnd.google.colaboratory.intrinsic+json": {
              "type": "dataframe",
              "variable_name": "dados",
              "summary": "{\n  \"name\": \"dados\",\n  \"rows\": 2775,\n  \"fields\": [\n    {\n      \"column\": \"url\",\n      \"properties\": {\n        \"dtype\": \"string\",\n        \"num_unique_values\": 2775,\n        \"samples\": [\n          \"https://www.quintoandar.com.br/imovel/893304467?search_rank=%7B%22sortMode%22%3A%22relevance%22%2C%22searchMode%22%3A%22list%22%2C%22resultsOrigin%22%3A%22search%22%2C%22rank%22%3A1578%2C%22personalization%22%3Atrue%7D&search_id=%224bf69054f19a11eb87180a0adc3b16b0%22&from_route=%22search_results%22\",\n          \"https://www.quintoandar.com.br/imovel/892792234?search_rank=%7B%22sortMode%22%3A%22relevance%22%2C%22searchMode%22%3A%22list%22%2C%22resultsOrigin%22%3A%22search%22%2C%22rank%22%3A2806%2C%22personalization%22%3Atrue%7D&search_id=%224bf69054f19a11eb87180a0adc3b16b0%22&from_route=%22search_results%22\",\n          \"https://www.quintoandar.com.br/imovel/893369453?search_rank=%7B%22sortMode%22%3A%22relevance%22%2C%22searchMode%22%3A%22list%22%2C%22resultsOrigin%22%3A%22search%22%2C%22rank%22%3A1592%2C%22personalization%22%3Atrue%7D&search_id=%224bf69054f19a11eb87180a0adc3b16b0%22&from_route=%22search_results%22\"\n        ],\n        \"semantic_type\": \"\",\n        \"description\": \"\"\n      }\n    },\n    {\n      \"column\": \"bairro\",\n      \"properties\": {\n        \"dtype\": \"category\",\n        \"num_unique_values\": 36,\n        \"samples\": [\n          \"Pacaembu\",\n          \"Sumar\\u00e9\",\n          \"Vila Ol\\u00edmpia\"\n        ],\n        \"semantic_type\": \"\",\n        \"description\": \"\"\n      }\n    },\n    {\n      \"column\": \"aluguel\",\n      \"properties\": {\n        \"dtype\": \"number\",\n        \"std\": 1329.689742656779,\n        \"min\": 500.0,\n        \"max\": 11250.0,\n        \"num_unique_values\": 585,\n        \"samples\": [\n          5394.0,\n          1186.0,\n          3700.0\n        ],\n        \"semantic_type\": \"\",\n        \"description\": \"\"\n      }\n    },\n    {\n      \"column\": \"condominio\",\n      \"properties\": {\n        \"dtype\": \"number\",\n        \"std\": 430.10210596199516,\n        \"min\": 0.0,\n        \"max\": 3300.0,\n        \"num_unique_values\": 676,\n        \"samples\": [\n          2591.0,\n          382.0,\n          516.0\n        ],\n        \"semantic_type\": \"\",\n        \"description\": \"\"\n      }\n    },\n    {\n      \"column\": \"iptu\",\n      \"properties\": {\n        \"dtype\": \"number\",\n        \"std\": 9424.657082187055,\n        \"min\": 0.0,\n        \"max\": 495800.0,\n        \"num_unique_values\": 382,\n        \"samples\": [\n          1407.0,\n          542.0,\n          199.0\n        ],\n        \"semantic_type\": \"\",\n        \"description\": \"\"\n      }\n    },\n    {\n      \"column\": \"seguro_incendio\",\n      \"properties\": {\n        \"dtype\": \"number\",\n        \"std\": 17.679703138453498,\n        \"min\": 7.0,\n        \"max\": 187.0,\n        \"num_unique_values\": 102,\n        \"samples\": [\n          83.0,\n          66.0,\n          64.0\n        ],\n        \"semantic_type\": \"\",\n        \"description\": \"\"\n      }\n    },\n    {\n      \"column\": \"taxa_servi\\u00e7o\",\n      \"properties\": {\n        \"dtype\": \"number\",\n        \"std\": 26.622973012989696,\n        \"min\": 10.0,\n        \"max\": 225.0,\n        \"num_unique_values\": 135,\n        \"samples\": [\n          106.0,\n          225.0,\n          121.0\n        ],\n        \"semantic_type\": \"\",\n        \"description\": \"\"\n      }\n    },\n    {\n      \"column\": \"total\",\n      \"properties\": {\n        \"dtype\": \"number\",\n        \"std\": 9587.704869619716,\n        \"min\": 697.0,\n        \"max\": 499600.0,\n        \"num_unique_values\": 1682,\n        \"samples\": [\n          3030.0,\n          4772.0,\n          1245.0\n        ],\n        \"semantic_type\": \"\",\n        \"description\": \"\"\n      }\n    },\n    {\n      \"column\": \"metragem\",\n      \"properties\": {\n        \"dtype\": \"number\",\n        \"std\": 38.64422523467454,\n        \"min\": 10.0,\n        \"max\": 587.0,\n        \"num_unique_values\": 166,\n        \"samples\": [\n          210.0,\n          135.0,\n          130.0\n        ],\n        \"semantic_type\": \"\",\n        \"description\": \"\"\n      }\n    },\n    {\n      \"column\": \"quarto\",\n      \"properties\": {\n        \"dtype\": \"number\",\n        \"std\": 0.7493047109389769,\n        \"min\": 0.0,\n        \"max\": 5.0,\n        \"num_unique_values\": 6,\n        \"samples\": [\n          1.0,\n          2.0,\n          0.0\n        ],\n        \"semantic_type\": \"\",\n        \"description\": \"\"\n      }\n    },\n    {\n      \"column\": \"banheiro\",\n      \"properties\": {\n        \"dtype\": \"number\",\n        \"std\": 0.6865156994621896,\n        \"min\": 1.0,\n        \"max\": 7.0,\n        \"num_unique_values\": 7,\n        \"samples\": [\n          1.0,\n          2.0,\n          7.0\n        ],\n        \"semantic_type\": \"\",\n        \"description\": \"\"\n      }\n    },\n    {\n      \"column\": \"vaga_carro\",\n      \"properties\": {\n        \"dtype\": \"number\",\n        \"std\": 0.6745469166354955,\n        \"min\": 0.0,\n        \"max\": 6.0,\n        \"num_unique_values\": 7,\n        \"samples\": [\n          1.0,\n          0.0,\n          6.0\n        ],\n        \"semantic_type\": \"\",\n        \"description\": \"\"\n      }\n    },\n    {\n      \"column\": \"andar\",\n      \"properties\": {\n        \"dtype\": \"number\",\n        \"std\": 5.0013133631053375,\n        \"min\": 0.0,\n        \"max\": 43.0,\n        \"num_unique_values\": 29,\n        \"samples\": [\n          25.0,\n          7.0,\n          13.0\n        ],\n        \"semantic_type\": \"\",\n        \"description\": \"\"\n      }\n    },\n    {\n      \"column\": \"aceita_pet\",\n      \"properties\": {\n        \"dtype\": \"number\",\n        \"std\": 0.41804270790445813,\n        \"min\": 0.0,\n        \"max\": 1.0,\n        \"num_unique_values\": 2,\n        \"samples\": [\n          0.0,\n          1.0\n        ],\n        \"semantic_type\": \"\",\n        \"description\": \"\"\n      }\n    },\n    {\n      \"column\": \"mobilia\",\n      \"properties\": {\n        \"dtype\": \"number\",\n        \"std\": 0.4016849098143226,\n        \"min\": 0.0,\n        \"max\": 1.0,\n        \"num_unique_values\": 2,\n        \"samples\": [\n          1.0,\n          0.0\n        ],\n        \"semantic_type\": \"\",\n        \"description\": \"\"\n      }\n    },\n    {\n      \"column\": \"metro_prox\",\n      \"properties\": {\n        \"dtype\": \"number\",\n        \"std\": 0.4419152342045056,\n        \"min\": 0.0,\n        \"max\": 1.0,\n        \"num_unique_values\": 2,\n        \"samples\": [\n          0.0,\n          1.0\n        ],\n        \"semantic_type\": \"\",\n        \"description\": \"\"\n      }\n    }\n  ]\n}"
            }
          },
          "metadata": {},
          "execution_count": 2
        }
      ],
      "source": [
        "url = 'https://media.githubusercontent.com/media/VitorFRodrigues/PUCMinas_DataScience/main/03-Tec_Amostragem_Mod_regressao/Exercicios/TrabalhoFinal/quinto_andar_transformed_data.csv'\n",
        "dados = pd.read_csv(url)\n",
        "dados.head()"
      ]
    },
    {
      "cell_type": "markdown",
      "metadata": {
        "id": "8aFBUG2iNfjO"
      },
      "source": [
        "Ao ver o relatório informativo das colunas, vemos que todas as colunas são não-nulas, e apenas a coluna gênero é do tipo objeto."
      ]
    },
    {
      "cell_type": "code",
      "execution_count": null,
      "metadata": {
        "id": "VAPaQqKKNfjP",
        "outputId": "2ab954b5-8062-49ce-ea87-6ecc34ead896"
      },
      "outputs": [
        {
          "name": "stdout",
          "output_type": "stream",
          "text": [
            "<class 'pandas.core.frame.DataFrame'>\n",
            "RangeIndex: 400 entries, 0 to 399\n",
            "Data columns (total 5 columns):\n",
            " #   Column           Non-Null Count  Dtype \n",
            "---  ------           --------------  ----- \n",
            " 0   User ID          400 non-null    int64 \n",
            " 1   Gender           400 non-null    object\n",
            " 2   Age              400 non-null    int64 \n",
            " 3   EstimatedSalary  400 non-null    int64 \n",
            " 4   Purchased        400 non-null    int64 \n",
            "dtypes: int64(4), object(1)\n",
            "memory usage: 15.8+ KB\n"
          ]
        }
      ],
      "source": [
        "suv.info()"
      ]
    },
    {
      "cell_type": "markdown",
      "metadata": {
        "id": "qxTdlppCNfjP"
      },
      "source": [
        "Vamos converter a coluna gênero para *int*, setando o valor 0 para masculino e 1 para feminino:"
      ]
    },
    {
      "cell_type": "code",
      "execution_count": null,
      "metadata": {
        "id": "OBMgSXIxNfjP"
      },
      "outputs": [],
      "source": [
        "suv[\"Gender\"] = suv[\"Gender\"].replace({\"Male\": 0, \"Female\": 1})"
      ]
    },
    {
      "cell_type": "markdown",
      "metadata": {
        "id": "9fj4Yor3NfjP"
      },
      "source": [
        "É possível analisar abaixo que os generos se encontram bem balanceados neste *dataset*."
      ]
    },
    {
      "cell_type": "code",
      "execution_count": null,
      "metadata": {
        "id": "u2bY1rpdNfjP",
        "outputId": "9ca02e19-3629-4567-a3f3-2dd81b88641c"
      },
      "outputs": [
        {
          "data": {
            "text/plain": [
              "Gender\n",
              "1    51.0\n",
              "0    49.0\n",
              "Name: count, dtype: float64"
            ]
          },
          "execution_count": 223,
          "metadata": {},
          "output_type": "execute_result"
        }
      ],
      "source": [
        "suv['Gender'].value_counts() / len(suv['Gender']) * 100"
      ]
    },
    {
      "cell_type": "markdown",
      "metadata": {
        "id": "JpPwiuyINfjP"
      },
      "source": [
        "Abaixo temos a descrição das colunas. A exceção da coluna 'User ID', todas as demais podem ser declaradas para ingressar no modelo preditivo.  "
      ]
    },
    {
      "cell_type": "code",
      "execution_count": null,
      "metadata": {
        "id": "OW6X7tyPNfjP",
        "outputId": "be742105-fe4e-4151-fc98-da3f3a9cc8ba"
      },
      "outputs": [
        {
          "data": {
            "text/html": [
              "<div>\n",
              "<style scoped>\n",
              "    .dataframe tbody tr th:only-of-type {\n",
              "        vertical-align: middle;\n",
              "    }\n",
              "\n",
              "    .dataframe tbody tr th {\n",
              "        vertical-align: top;\n",
              "    }\n",
              "\n",
              "    .dataframe thead th {\n",
              "        text-align: right;\n",
              "    }\n",
              "</style>\n",
              "<table border=\"1\" class=\"dataframe\">\n",
              "  <thead>\n",
              "    <tr style=\"text-align: right;\">\n",
              "      <th></th>\n",
              "      <th>User ID</th>\n",
              "      <th>Gender</th>\n",
              "      <th>Age</th>\n",
              "      <th>EstimatedSalary</th>\n",
              "      <th>Purchased</th>\n",
              "    </tr>\n",
              "  </thead>\n",
              "  <tbody>\n",
              "    <tr>\n",
              "      <th>count</th>\n",
              "      <td>4.000000e+02</td>\n",
              "      <td>400.000000</td>\n",
              "      <td>400.000000</td>\n",
              "      <td>400.000000</td>\n",
              "      <td>400.000000</td>\n",
              "    </tr>\n",
              "    <tr>\n",
              "      <th>mean</th>\n",
              "      <td>1.569154e+07</td>\n",
              "      <td>0.510000</td>\n",
              "      <td>37.655000</td>\n",
              "      <td>69742.500000</td>\n",
              "      <td>0.357500</td>\n",
              "    </tr>\n",
              "    <tr>\n",
              "      <th>std</th>\n",
              "      <td>7.165832e+04</td>\n",
              "      <td>0.500526</td>\n",
              "      <td>10.482877</td>\n",
              "      <td>34096.960282</td>\n",
              "      <td>0.479864</td>\n",
              "    </tr>\n",
              "    <tr>\n",
              "      <th>min</th>\n",
              "      <td>1.556669e+07</td>\n",
              "      <td>0.000000</td>\n",
              "      <td>18.000000</td>\n",
              "      <td>15000.000000</td>\n",
              "      <td>0.000000</td>\n",
              "    </tr>\n",
              "    <tr>\n",
              "      <th>25%</th>\n",
              "      <td>1.562676e+07</td>\n",
              "      <td>0.000000</td>\n",
              "      <td>29.750000</td>\n",
              "      <td>43000.000000</td>\n",
              "      <td>0.000000</td>\n",
              "    </tr>\n",
              "    <tr>\n",
              "      <th>50%</th>\n",
              "      <td>1.569434e+07</td>\n",
              "      <td>1.000000</td>\n",
              "      <td>37.000000</td>\n",
              "      <td>70000.000000</td>\n",
              "      <td>0.000000</td>\n",
              "    </tr>\n",
              "    <tr>\n",
              "      <th>75%</th>\n",
              "      <td>1.575036e+07</td>\n",
              "      <td>1.000000</td>\n",
              "      <td>46.000000</td>\n",
              "      <td>88000.000000</td>\n",
              "      <td>1.000000</td>\n",
              "    </tr>\n",
              "    <tr>\n",
              "      <th>max</th>\n",
              "      <td>1.581524e+07</td>\n",
              "      <td>1.000000</td>\n",
              "      <td>60.000000</td>\n",
              "      <td>150000.000000</td>\n",
              "      <td>1.000000</td>\n",
              "    </tr>\n",
              "  </tbody>\n",
              "</table>\n",
              "</div>"
            ],
            "text/plain": [
              "            User ID      Gender         Age  EstimatedSalary   Purchased\n",
              "count  4.000000e+02  400.000000  400.000000       400.000000  400.000000\n",
              "mean   1.569154e+07    0.510000   37.655000     69742.500000    0.357500\n",
              "std    7.165832e+04    0.500526   10.482877     34096.960282    0.479864\n",
              "min    1.556669e+07    0.000000   18.000000     15000.000000    0.000000\n",
              "25%    1.562676e+07    0.000000   29.750000     43000.000000    0.000000\n",
              "50%    1.569434e+07    1.000000   37.000000     70000.000000    0.000000\n",
              "75%    1.575036e+07    1.000000   46.000000     88000.000000    1.000000\n",
              "max    1.581524e+07    1.000000   60.000000    150000.000000    1.000000"
            ]
          },
          "execution_count": 224,
          "metadata": {},
          "output_type": "execute_result"
        }
      ],
      "source": [
        "suv.describe()"
      ]
    },
    {
      "cell_type": "markdown",
      "metadata": {
        "id": "6aktZtjUNfjQ"
      },
      "source": [
        "Vamos analisar a correlação destas com a coluna saída 'Purchased' no mapa térmico abaixo."
      ]
    },
    {
      "cell_type": "code",
      "execution_count": null,
      "metadata": {
        "id": "upwmCq9iNfjQ",
        "outputId": "5dcaa6c9-e34f-48c9-a579-1cb9304f1ae9"
      },
      "outputs": [
        {
          "data": {
            "text/plain": [
              "<Axes: >"
            ]
          },
          "execution_count": 225,
          "metadata": {},
          "output_type": "execute_result"
        },
        {
          "data": {
            "image/png": "[encoded data removed]",
            "text/plain": [
              "<Figure size 640x480 with 2 Axes>"
            ]
          },
          "metadata": {},
          "output_type": "display_data"
        }
      ],
      "source": [
        "# Mapa de correlação\n",
        "corr = suv.corr()\n",
        "sns.heatmap(corr, annot=True)"
      ]
    },
    {
      "cell_type": "markdown",
      "metadata": {
        "id": "uArJQXoaNfjQ"
      },
      "source": [
        "Vemos que a idade e o salário estimado possuem boa correlação."
      ]
    },
    {
      "cell_type": "markdown",
      "metadata": {
        "id": "C5KRHL6ONfjQ"
      },
      "source": [
        "### 2. Faça o modelo de regressão"
      ]
    },
    {
      "cell_type": "markdown",
      "metadata": {
        "id": "MU0-aBN0NfjQ"
      },
      "source": [
        "Para esta questão, faremos 02 modelos de regressão logística, sendo:\n",
        "* **Modelo 01**: Considerando todas as colunas como variavel independente, exceto a 'User ID'\n",
        "* **Modelo 02**: Considerando apenas as colunas 'Age' e 'EstimatedSalary'\n"
      ]
    },
    {
      "cell_type": "code",
      "execution_count": null,
      "metadata": {
        "id": "37BAfVhdNfjQ",
        "outputId": "07876aa3-2e19-46a2-e06e-d160675364d0"
      },
      "outputs": [
        {
          "data": {
            "text/plain": [
              "['Gender', 'Age', 'EstimatedSalary']"
            ]
          },
          "execution_count": 226,
          "metadata": {},
          "output_type": "execute_result"
        }
      ],
      "source": [
        "lista_colunas = suv.drop('Purchased', axis=1).columns.to_list()[1:]\n",
        "lista_colunas # Todas as variaveis para treino do modelo 1"
      ]
    },
    {
      "cell_type": "code",
      "execution_count": null,
      "metadata": {
        "id": "IXrKyRjGNfjQ",
        "outputId": "9767c01c-ac88-4d09-a9fc-57736a25213b"
      },
      "outputs": [
        {
          "data": {
            "text/plain": [
              "['Age', 'EstimatedSalary']"
            ]
          },
          "execution_count": 227,
          "metadata": {},
          "output_type": "execute_result"
        }
      ],
      "source": [
        "filtro_correlacao = 0.3\n",
        "lista_selecionada = corr['Purchased'][corr['Purchased'].abs() > filtro_correlacao].sort_values(ascending=False).index.to_list()[1:]\n",
        "lista_selecionada # Seleção de variáveis com boa correlação para treino do modelo 2"
      ]
    },
    {
      "cell_type": "code",
      "execution_count": null,
      "metadata": {
        "id": "sabi3NqdNfjR"
      },
      "outputs": [],
      "source": [
        "# Definindo a variável dependente\n",
        "y = suv['Purchased']  # Variável dependente\n",
        "\n",
        "# Ajustando o modelo de regressão linear\n",
        "modelo_1 = smf.glm(formula=f'{y.name} ~ {'+'.join(lista_colunas)}', data=suv, family = sm.families.Binomial()).fit()\n",
        "modelo_2 = smf.glm(formula=f'{y.name} ~ {'+'.join(lista_selecionada)}', data=suv, family = sm.families.Binomial()).fit()\n",
        "modelo_3 = smf.glm(formula=f'{y.name} ~ Age', data=suv, family = sm.families.Binomial()).fit()\n",
        "\n",
        "# Sumário do modelo\n",
        "modelos_summary = {\"Modelo 1\": modelo_1.summary(),\n",
        "                   \"Modelo 2\": modelo_2.summary()}\n",
        "modelos = {\"Modelo 1\": modelo_1,\n",
        "           \"Modelo 2\": modelo_2}"
      ]
    },
    {
      "cell_type": "markdown",
      "metadata": {
        "id": "wGFOeGqbNfjR"
      },
      "source": [
        "### 3. Realize a análise dos pressupostos e validação do modelo"
      ]
    },
    {
      "cell_type": "code",
      "execution_count": null,
      "metadata": {
        "id": "O6Yl6qIqNfjR",
        "outputId": "62dd1a64-83e1-4456-e4fc-a695803166fe"
      },
      "outputs": [
        {
          "name": "stdout",
          "output_type": "stream",
          "text": [
            "Modelo 1\n",
            "                 Generalized Linear Model Regression Results                  \n",
            "==============================================================================\n",
            "Dep. Variable:              Purchased   No. Observations:                  400\n",
            "Model:                            GLM   Df Residuals:                      396\n",
            "Model Family:                Binomial   Df Model:                            3\n",
            "Link Function:                  Logit   Scale:                          1.0000\n",
            "Method:                          IRLS   Log-Likelihood:                -137.92\n",
            "Date:                Tue, 09 Jul 2024   Deviance:                       275.84\n",
            "Time:                        19:22:40   Pearson chi2:                     459.\n",
            "No. Iterations:                     6   Pseudo R-squ. (CS):             0.4590\n",
            "Covariance Type:            nonrobust                                         \n",
            "===================================================================================\n",
            "                      coef    std err          z      P>|z|      [0.025      0.975]\n",
            "-----------------------------------------------------------------------------------\n",
            "Intercept         -12.4498      1.309     -9.510      0.000     -15.016      -9.884\n",
            "Gender             -0.3338      0.305     -1.094      0.274      -0.932       0.264\n",
            "Age                 0.2370      0.026      8.984      0.000       0.185       0.289\n",
            "EstimatedSalary  3.644e-05   5.47e-06      6.659      0.000    2.57e-05    4.72e-05\n",
            "===================================================================================\n",
            "Modelo 2\n",
            "                 Generalized Linear Model Regression Results                  \n",
            "==============================================================================\n",
            "Dep. Variable:              Purchased   No. Observations:                  400\n",
            "Model:                            GLM   Df Residuals:                      397\n",
            "Model Family:                Binomial   Df Model:                            2\n",
            "Link Function:                  Logit   Scale:                          1.0000\n",
            "Method:                          IRLS   Log-Likelihood:                -138.53\n",
            "Date:                Tue, 09 Jul 2024   Deviance:                       277.05\n",
            "Time:                        19:22:40   Pearson chi2:                     467.\n",
            "No. Iterations:                     6   Pseudo R-squ. (CS):             0.4574\n",
            "Covariance Type:            nonrobust                                         \n",
            "===================================================================================\n",
            "                      coef    std err          z      P>|z|      [0.025      0.975]\n",
            "-----------------------------------------------------------------------------------\n",
            "Intercept         -12.4340      1.300     -9.566      0.000     -14.982      -9.886\n",
            "Age                 0.2335      0.026      9.013      0.000       0.183       0.284\n",
            "EstimatedSalary   3.59e-05   5.43e-06      6.613      0.000    2.53e-05    4.65e-05\n",
            "===================================================================================\n"
          ]
        }
      ],
      "source": [
        "for key, modelo in modelos_summary.items():\n",
        "    print(key)\n",
        "    print(modelo)"
      ]
    },
    {
      "cell_type": "markdown",
      "metadata": {
        "id": "tOs_dTiHNfjR"
      },
      "source": [
        "Como visto anteriormente, a variável 'Gender' possui baixíssima correlação. Isto se reflete no p-value do modelo 01 que está acima de 0.05."
      ]
    },
    {
      "cell_type": "markdown",
      "metadata": {
        "id": "9XeXFTT8NfjR"
      },
      "source": [
        "#### Deviance Residuals\n",
        "\n",
        "**Hipótese Testada:**\n",
        "\n",
        "-   $H_0$: O modelo ajusta bem os dados.\n",
        "\n",
        "-   $H_a$: O modelo não ajusta bem os dados.\n",
        "\n",
        "**Condição de Aceitação/Rejeição:**\n",
        "\n",
        "-   A deviance total é comparada com uma distribuição qui-quadrado com $n - p$ graus de liberdade, onde $n$ é o número de observações e $p$ é o número de parâmetros no modelo.\n",
        "\n",
        "-   **Aceitação de** $H_0$: Se o valor $p$ calculado a partir da deviance é maior que $\\alpha$, aceitamos $H_0$ e concluímos que o modelo ajusta bem os dados.\n",
        "\n",
        "-   **Rejeição de** $H_0$: Se o valor $p$ é menor que $\\alpha$, rejeitamos $H_0$ e concluímos que o modelo não ajusta bem os dados."
      ]
    },
    {
      "cell_type": "code",
      "execution_count": null,
      "metadata": {
        "id": "nb02WYtwNfjR",
        "outputId": "3cdf0224-a54e-43ba-8483-9633af827796"
      },
      "outputs": [
        {
          "name": "stdout",
          "output_type": "stream",
          "text": [
            "Modelo 1\n",
            "Teste de Deviance para os Resíduos:\n",
            "Estatística de teste: 275.84322537592294\n",
            "Graus de liberdade: 396\n",
            "Valor p: 0.9999990994573005\n",
            "\n",
            "Modelo 2\n",
            "Teste de Deviance para os Resíduos:\n",
            "Estatística de teste: 277.05138239148346\n",
            "Graus de liberdade: 397\n",
            "Valor p: 0.9999990198090116\n",
            "\n"
          ]
        }
      ],
      "source": [
        "# Teste de Deviance para os Resíduos\n",
        "\n",
        "for key, modelo in modelos.items():\n",
        "    deviance_test_statistic = modelo.deviance\n",
        "    deviance_df = modelo.df_resid\n",
        "    deviance_p_value = 1 - stats.chi2.cdf(deviance_test_statistic, deviance_df)\n",
        "\n",
        "    print(key)\n",
        "    print(\"Teste de Deviance para os Resíduos:\")\n",
        "    print(\"Estatística de teste:\", deviance_test_statistic)\n",
        "    print(\"Graus de liberdade:\", deviance_df)\n",
        "    print(\"Valor p:\", deviance_p_value)\n",
        "    print('')"
      ]
    },
    {
      "cell_type": "markdown",
      "metadata": {
        "id": "v2B3TioCNfjS"
      },
      "source": [
        "1. **Deviance Residuals**:\n",
        "   - A deviance é uma medida da falta de ajuste de um modelo. Quanto menor o valor da deviance, melhor o modelo se ajusta aos dados.\n",
        "   - O valor absoluto da deviance por si só não fornece uma imagem completa; ele deve ser interpretado em relação aos graus de liberdade.\n",
        "\n",
        "2. **Graus de Liberdade Residuais**:\n",
        "   - São uma medida da quantidade de dados disponíveis para estimar a variabilidade não explicada pelo modelo.\n",
        "   - No seu caso, 396 graus de liberdade residuais indicam um número considerável de observações.\n",
        "\n",
        "3. **Valor-p**:\n",
        "   - O valor-p associado ao teste de deviance indica a probabilidade de observar uma deviance tão extrema (ou mais extrema) quanto a observada, assumindo que o modelo ajustado é correto.\n",
        "   - Um valor-p alto (geralmente > 0.05) sugere que não há evidência suficiente para rejeitar o modelo ajustado; ou seja, o modelo é um ajuste adequado aos dados.\n",
        "\n",
        "**Análise do Modelo** :\n",
        "\n",
        "- **Deviance Residuals**: Com um valor de deviance de 275.84 (Modelo 1) ou 277.05 (Modelo 2) e 396 ou 397 graus de liberdade residuais, o valor da deviance não parece excessivamente grande. Isso sugere que o modelo pode estar capturando bem a variabilidade dos dados.\n",
        "  \n",
        "- **Valor-p**: O valor-p de 0.99 dado em ambos os modelos é extremamente alto. Isso indica que há uma alta probabilidade de que a deviance observada poderia ocorrer mesmo se o modelo ajustado for correto. Portanto, não há evidência para rejeitar o modelo com base na deviance residual.\n",
        "\n",
        "**Conclusão:**\n",
        "\n",
        "Com base nos valores fornecidos:\n",
        "- O valor da deviance em relação aos graus de liberdade residuais não é excessivamente alto.\n",
        "- O valor-p (0.99) sugere que não há evidência suficiente para rejeitar o modelo.\n",
        "\n",
        "Portanto, podemos concluir que o modelo se ajusta bem aos dados. A deviance não é grande em relação aos graus de liberdade e o valor-p alto indica que a probabilidade de observar uma deviance tão extrema quanto a observada, dado que o modelo é correto, é muito alta. Assim, não temos razões para acreditar que o modelo não se ajusta bem aos dados."
      ]
    },
    {
      "cell_type": "markdown",
      "metadata": {
        "id": "3NAWgjeyNfjS"
      },
      "source": [
        "#### Pearson Chi-Square Test\n",
        "\n",
        "**Hipótese Testada:**\n",
        "\n",
        "-   $H_0$: O modelo ajusta bem os dados.\n",
        "\n",
        "-   $H_a$: O modelo não ajusta bem os dados.\n",
        "\n",
        "**Condição de Aceitação/Rejeição:**\n",
        "\n",
        "-   Calcula-se a estatística do teste qui-quadrado de Pearson, que segue uma distribuição qui-quadrado com $n - p$ graus de liberdade.\n",
        "\n",
        "-   **Aceitação de** $H_0$: Se o valor $p$ é maior que $\\alpha$, aceitamos $H_0$ e concluímos que o modelo ajusta bem os dados.\n",
        "\n",
        "-   **Rejeição de** $H_0$: Se o valor $p$ é menor que $\\alpha$, rejeitamos $H_0$ e concluímos que o modelo não ajusta bem os dados."
      ]
    },
    {
      "cell_type": "code",
      "execution_count": null,
      "metadata": {
        "id": "pRBfof-lNfjS",
        "outputId": "5379f55e-ff79-444a-ea56-cdb4a4553f70"
      },
      "outputs": [
        {
          "name": "stdout",
          "output_type": "stream",
          "text": [
            "Modelo 1\n",
            "Teste de Pearson para os Resíduos:\n",
            "Estatística de teste: 458.97202228971145\n",
            "Graus de liberdade: 396\n",
            "Valor p: 0.015686327881777706 \n",
            "\n",
            "Modelo 2\n",
            "Teste de Pearson para os Resíduos:\n",
            "Estatística de teste: 466.77640978752015\n",
            "Graus de liberdade: 397\n",
            "Valor p: 0.008947131735509428 \n",
            "\n"
          ]
        }
      ],
      "source": [
        "for key, modelo in modelos.items():\n",
        "    # Obtendo os resíduos de Pearson\n",
        "    residuos_pearson = modelo.resid_pearson\n",
        "\n",
        "    # Teste de Pearson para os Resíduos\n",
        "    pearson_test_statistic = np.sum(residuos_pearson**2)\n",
        "    pearson_df = len(residuos_pearson) - modelo.df_model - 1  # Graus de liberdade corrigidos\n",
        "    pearson_p_value = 1 - stats.chi2.cdf(pearson_test_statistic, pearson_df)\n",
        "\n",
        "    print(key)\n",
        "    print(\"Teste de Pearson para os Resíduos:\")\n",
        "    print(\"Estatística de teste:\", pearson_test_statistic)\n",
        "    print(\"Graus de liberdade:\", pearson_df)\n",
        "    print(\"Valor p:\", pearson_p_value, \"\\n\")"
      ]
    },
    {
      "cell_type": "markdown",
      "metadata": {
        "id": "9CXw44hfNfjS"
      },
      "source": [
        "O Pearson Chi-Square Test (teste qui-quadrado de Pearson) é outra metodologia para avaliar o ajuste de um modelo. Aqui, consideramos a estatística de teste, os graus de liberdade e o valor-p para determinar a adequação do modelo.\n",
        "\n",
        "**Interpretação do Pearson Chi-Square Test:**\n",
        "\n",
        "1. **Estatística de Teste (Pearson Chi-Square)**:\n",
        "   - A estatística de teste do qui-quadrado compara os resíduos observados com os resíduos esperados sob o modelo ajustado.\n",
        "   - Valores maiores indicam maior discrepância entre os dados observados e os esperados.\n",
        "\n",
        "2. **Graus de Liberdade**:\n",
        "   - São uma medida do número de valores independentes que entram no cálculo da estatística.\n",
        "   - Neste caso, 396 e 397 graus de liberdade sugerem um número substancial de observações.\n",
        "\n",
        "3. **Valor-p**:\n",
        "   - O valor-p indica a probabilidade de observar uma estatística de teste tão extrema quanto a observada, assumindo que o modelo ajustado é correto.\n",
        "   - Um valor-p baixo (geralmente < 0.05) sugere que há evidência suficiente para rejeitar o modelo ajustado; ou seja, o modelo pode não ser um bom ajuste aos dados.\n",
        "\n",
        "**Análise do Modelo com Pearson Chi-Square Test:**\n",
        "\n",
        "- **Estatística de Teste**: Com um valor de 458.972 (Modelo 1) ou 466.776 (Modelo 2), a estatística de teste é relativamente alta em comparação com os graus de liberdade 396 (Modelo 1) ou 397 (Modelo 2).\n",
        "  \n",
        "- **Valor-p**: O valor-p de 0.015686 (Modelo 1) e 0.008 (Modelo 2) são menores que 0.05, indicando que há uma baixa probabilidade de observar uma estatística de teste tão extrema quanto a observada se o modelo ajustado fosse correto. Isso sugere que há evidência para rejeitar o modelo ajustado.\n",
        "\n",
        "**Conclusão:**\n",
        "\n",
        "Com base nos valores fornecidos para o Pearson Chi-Square Test:\n",
        "- A estatística de teste é maior que os graus de liberdade, o que indica uma discrepância significativa entre os resíduos observados e os esperados.\n",
        "- O valor-p é menor que 0.05, sugerindo que há evidência suficiente para rejeitar o modelo ajustado.\n",
        "\n",
        "Portanto, considerando o Pearson Chi-Square Test, podemos concluir que o modelo pode não se ajustar bem aos dados. O valor-p baixo indica que a discrepância entre os dados observados e os esperados sob o modelo ajustado é significativa, sugerindo que o modelo pode não ser um ajuste adequado para os dados."
      ]
    },
    {
      "cell_type": "markdown",
      "metadata": {
        "id": "Eu5_rxDINfjS"
      },
      "source": [
        "#### Teste de Hosmer-Lemeshow\n",
        "\n",
        "**Hipótese Testada:**\n",
        "\n",
        "-   $H_0$: O modelo ajusta bem os dados (não há diferença significativa entre as frequências observadas e esperadas).\n",
        "\n",
        "-   $H_a$: O modelo não ajusta bem os dados (há diferença significativa entre as frequências observadas e esperadas).\n",
        "\n",
        "**Condição de Aceitação/Rejeição:**\n",
        "\n",
        "-   Calcula-se a estatística do teste de Hosmer-Lemeshow, que segue uma distribuição qui-quadrado com $g - 2$ graus de liberdade, onde $g$ é o número de grupos.\n",
        "\n",
        "-   **Aceitação de** $H_0$: Se o valor $p$ é maior que o nível de significância $\\alpha$ (geralmente 0.05), aceitamos $H_0$ e concluímos que o modelo ajusta bem os dados.\n",
        "\n",
        "-   **Rejeição de** $H_0$: Se o valor $p$ é menor que $\\alpha$, rejeitamos $H_0$ e concluímos que o modelo não ajusta bem os dados."
      ]
    },
    {
      "cell_type": "code",
      "execution_count": null,
      "metadata": {
        "id": "4WvnBiDhNfjS",
        "outputId": "29469307-767b-41e6-a122-ff0625137e65"
      },
      "outputs": [
        {
          "name": "stdout",
          "output_type": "stream",
          "text": [
            "Modelo 1\n",
            "Hosmer-Lemeshow Test: \n",
            "Stat=22.843640132104508, \n",
            "p-value=0.003570902818614943\n",
            "\n",
            "Modelo 2\n",
            "Hosmer-Lemeshow Test: \n",
            "Stat=32.08079753596097, \n",
            "p-value=9.008841056301578e-05\n",
            "\n"
          ]
        }
      ],
      "source": [
        "def hosmer_lemeshow_test(model, g=10):\n",
        "    data = pd.DataFrame({'observed': model.model.endog, 'predicted': model.fittedvalues})\n",
        "    data['group'] = pd.qcut(data['predicted'], g, duplicates='drop')\n",
        "    grouped = data.groupby('group')\n",
        "    observed = grouped['observed'].sum()\n",
        "    expected = grouped['predicted'].sum()\n",
        "    hl_stat = ((observed - expected) ** 2 / (expected * (1 - expected / grouped.size()))).sum()\n",
        "    hl_p_value = stats.chi2.sf(hl_stat, g - 2)\n",
        "    return hl_stat, hl_p_value\n",
        "\n",
        "for key, modelo in modelos.items():\n",
        "    hl_stat, hl_p_value = hosmer_lemeshow_test(modelo)\n",
        "    print(key)\n",
        "    print(f\"Hosmer-Lemeshow Test: \\nStat={hl_stat}, \\np-value={hl_p_value}\\n\")"
      ]
    },
    {
      "cell_type": "markdown",
      "metadata": {
        "id": "ilsU4cIXNfjT"
      },
      "source": [
        "O Teste de Hosmer-Lemeshow é outra metodologia usada para avaliar o ajuste de um modelo, especialmente em regressão logística. Vamos analisar os resultados fornecidos:\n",
        "\n",
        "1. **Estatística de Hosmer-Lemeshow**:\n",
        "   - A estatística de Hosmer-Lemeshow é uma medida de quão bem os dados observados se ajustam aos dados esperados sob o modelo.\n",
        "   - Valores mais altos da estatística indicam uma maior discrepância entre os valores observados e esperados.\n",
        "\n",
        "2. **Valor-p**:\n",
        "   - O valor-p indica a probabilidade de observar uma estatística de teste tão extrema quanto a observada, assumindo que o modelo ajustado é correto.\n",
        "   - Um valor-p baixo (geralmente < 0.05) sugere que há evidência suficiente para rejeitar o modelo ajustado; ou seja, o modelo pode não ser um bom ajuste aos dados.\n",
        "\n",
        "**Análise do Modelo com o Teste de Hosmer-Lemeshow:**\n",
        "\n",
        "- **Estatística de Teste**: Com um valor de 22.84 (Modelo 1) e 32.08 (Modelo 2), a estatística de Hosmer-Lemeshow é relativamente alta.\n",
        "  \n",
        "- **Valor-p**: O valor-p de 0.003 (Modelo 1) e 0.00009 (Modelo 2) é menor que 0.05, indicando que há uma baixa probabilidade de observar uma estatística de teste tão extrema quanto a observada se o modelo ajustado fosse correto. Isso sugere que há evidência para rejeitar o modelo ajustado.\n",
        "\n",
        "**Conclusão:**\n",
        "\n",
        "Com base nos valores fornecidos para o Teste de Hosmer-Lemeshow:\n",
        "- A estatística de teste alta indica uma discrepância significativa entre os valores observados e esperados.\n",
        "- O valor-p é menor que 0.05, sugerindo que há evidência suficiente para rejeitar o modelo ajustado.\n",
        "\n",
        "Portanto, considerando o Teste de Hosmer-Lemeshow, podemos concluir que o modelo pode não se ajustar bem aos dados. O valor-p baixo indica que a discrepância entre os dados observados e os esperados sob o modelo ajustado é significativa, sugerindo que o modelo pode não ser um ajuste adequado para os dados."
      ]
    },
    {
      "cell_type": "markdown",
      "metadata": {
        "id": "rZE2NEyTNfjT"
      },
      "source": [
        "#### ROC Curve and AUC\n",
        "\n",
        "Avalia a capacidade do modelo de discriminar entre as classes.\n",
        "\n",
        "**Curva ROC**: Traça a taxa de verdadeiros positivos (sensibilidade) contra a taxa de falsos positivos (1 - especificidade) para vários limiares de classificação.\n",
        "\n",
        "**AUC (Área Sob a Curva)**: Um valor próximo de 1 indica excelente discriminação, enquanto um valor próximo de 0.5 indica discriminação aleatória. -\n",
        "\n",
        "**Avaliação do Modelo**: Um modelo com AUC maior é considerado melhor em discriminar entre as classes."
      ]
    },
    {
      "cell_type": "code",
      "execution_count": null,
      "metadata": {
        "id": "fTcIuAxVNfjT",
        "outputId": "c0aa89b4-0a60-4f8d-bf6b-2151d1b06629"
      },
      "outputs": [
        {
          "data": {
            "image/png": "[encoded data removed]",
            "text/plain": [
              "<Figure size 1500x500 with 2 Axes>"
            ]
          },
          "metadata": {},
          "output_type": "display_data"
        }
      ],
      "source": [
        "# Determinando o número de modelos para definir o layout da subplot\n",
        "num_modelos = len(modelos)\n",
        "\n",
        "# Criando subplots\n",
        "fig, axs = plt.subplots(1, num_modelos, figsize=(15, 5), constrained_layout=True)\n",
        "\n",
        "# Iterando sobre cada modelo para plotar a curva ROC\n",
        "for ax, (key, modelo) in zip(axs, modelos.items()):\n",
        "    fpr, tpr, _ = roc_curve(y, modelo.fittedvalues)\n",
        "    roc_auc = auc(fpr, tpr)\n",
        "\n",
        "    ax.plot(fpr, tpr, color='blue', lw=2, label='ROC curve (area = %0.2f)' % roc_auc)\n",
        "    ax.plot([0, 1], [0, 1], color='red', lw=2, linestyle='--')\n",
        "    ax.set_xlim([0.0, 1.0])\n",
        "    ax.set_ylim([0.0, 1.05])\n",
        "    ax.set_xlabel('False Positive Rate')\n",
        "    ax.set_ylabel('True Positive Rate')\n",
        "    ax.set_title(f'ROC Curve - {key}')\n",
        "    ax.legend(loc=\"lower right\")\n",
        "\n",
        "# Mostrar todos os plots\n",
        "plt.show()"
      ]
    },
    {
      "cell_type": "markdown",
      "metadata": {
        "id": "dgR0_zQCNfjT"
      },
      "source": [
        "Ambos os modelos têm um desempenho muito bom na distinção entre classes, com uma AUC de 0.93. Isso indica que ambos os modelos têm uma alta precisão em distinguir entre classes positivas e negativas, e que são igualmente eficazes com base na métrica AUC."
      ]
    },
    {
      "cell_type": "markdown",
      "metadata": {
        "id": "UNdCAGE0NfjT"
      },
      "source": [
        "### 4. Análise do Modelo"
      ]
    },
    {
      "cell_type": "markdown",
      "metadata": {
        "id": "gHmLt-V2NfjT"
      },
      "source": [
        "1. **Deviance Residuals**: Indicou um bom ajuste do modelo.\n",
        "2. **Pearson Chi-Square Test**: Indicou um ajuste inadequado do modelo.\n",
        "3. **Teste de Hosmer-Lemeshow**: Indicou um ajuste inadequado do modelo.\n",
        "4. **ROC curve and AUC**: Indicou um bom ajuste do modelo.\n",
        "\n",
        "Com base nas quatro metodologias de avaliação, parece haver uma discrepância nas conclusões. Dois dos testes (Pearson Chi-Square e Hosmer-Lemeshow) sugerem que o modelo não se ajusta bem aos dados, enquanto o teste dos Deviance Residuals e curva ROC sugere o contrário. Em casos como este, é importante considerar ajustes adicionais no modelo e/ou explorar outras métricas de avaliação para obter uma compreensão mais completa do ajuste do modelo aos dados."
      ]
    },
    {
      "cell_type": "markdown",
      "metadata": {
        "id": "6b8gtPTSNfjX"
      },
      "source": [
        "### 5. Interpretação do ODDS"
      ]
    },
    {
      "cell_type": "markdown",
      "metadata": {
        "id": "3HYnUjWRNfjX"
      },
      "source": [
        "Iremos utilizar o que chamamos como razão de chance com Intervalo de confiança de 95%:\n",
        "- exponencial do coeficiente."
      ]
    },
    {
      "cell_type": "code",
      "execution_count": null,
      "metadata": {
        "id": "rH_jGRv-NfjX",
        "outputId": "c5d8a492-d3fc-4053-8115-d46537c578fd"
      },
      "outputs": [
        {
          "name": "stdout",
          "output_type": "stream",
          "text": [
            "Modelo 1\n",
            "Gender: ODDS = 0.7161659334343544\n",
            "Age: ODDS = 1.2674023356162754\n",
            "EstimatedSalary: ODDS = 1.0000364418543706\n",
            "\n",
            "Modelo 2\n",
            "Age: ODDS = 1.2629994932016952\n",
            "EstimatedSalary: ODDS = 1.0000359015826144\n",
            "\n"
          ]
        }
      ],
      "source": [
        "for key, modelo in modelos.items():\n",
        "    print(key)\n",
        "    for col, const in modelo.params.items():\n",
        "        if col != 'Intercept':\n",
        "            print(f'{col}: ODDS = {np.exp(const)}')\n",
        "    print('')"
      ]
    },
    {
      "cell_type": "markdown",
      "metadata": {
        "id": "_OxWfZZsNfjX"
      },
      "source": [
        "#### Modelo 1:\n",
        "\n",
        "* **Gender**: O odds ratio para o gênero indica que ser mulher ('Female'=1) está associado a uma redução de aproximadamente 28,38% (1 - 0.716) nas odds do evento de interesse em comparação com ser homem ('Male'=0). Em outras palavras, se todas as outras variáveis forem mantidas constantes, ser mulher diminui as chances do evento ocorrer;\n",
        "\n",
        "* **Age**: Cada unidade adicional na idade está associada a um aumento de aproximadamente 26.74% (1.267 - 1) nas odds do evento de interesse. Isso sugere que pessoas mais velhas têm uma maior probabilidade do evento ocorrer, se todas as outras variáveis forem mantidas constantes;\n",
        "\n",
        "* **EstimatedSalary**: Cada unidade adicional no salário estimado está associada a um aumento minúsculo nas odds do evento de interesse. O impacto é muito pequeno, mas é positivo, sugerindo que um salário estimado maior aumenta ligeiramente as chances do evento ocorrer;\n",
        "\n",
        "#### Modelo 2:\n",
        "\n",
        "* **Age**: Cada unidade adicional na idade está associada a um aumento de aproximadamente 26.30% (1.263 - 1) nas odds do evento de interesse. Isso é consistente com a interpretação do Modelo 1;\n",
        "\n",
        "* **EstimatedSalary**: Cada unidade adicional no salário estimado está associada a um aumento muito pequeno nas odds do evento de interesse. Este impacto é também muito pequeno e positivo, similar ao Modelo 1;\n",
        "\n",
        "#### Comparação entre os Modelos\n",
        "\n",
        "* **Age**: Ambos os modelos mostram um aumento muito similar nas odds associadas à idade (aproximadamente 26.74% no Modelo 1 e 26.30% no Modelo 2). Isso sugere que a idade é um preditor consistente e significativo do evento de interesse em ambos os modelos.\n",
        "\n",
        "* **EstimatedSalary**: Ambos os modelos mostram um aumento muito pequeno e praticamente idêntico nas odds associadas ao salário estimado, sugerindo que essa variável tem um impacto muito pequeno, mas positivo.\n",
        "\n",
        "* **Gender (apenas no Modelo 1)**: O Modelo 1 inclui a variável gênero, que não está presente no Modelo 2. O odds ratio associado ao gênero indica que ser mulher está associado a uma menor probabilidade do evento ocorrer. A ausência desta variável no Modelo 2 significa que o Modelo 2 não está considerando possíveis diferenças entre homens e mulheres.\n",
        "\n",
        "#### Conclusão\n",
        "\n",
        "* **Modelo 1:** Inclui uma variável adicional (gênero) que parece ser significativa e afeta as odds do evento de interesse. Se o gênero é uma variável importante para o contexto do estudo, o Modelo 1 pode ser mais adequado.\n",
        "\n",
        "* **Modelo 2:** Foca apenas em idade e salário estimado, mostrando resultados consistentes para essas variáveis em comparação com o Modelo 1. Se o gênero não é relevante ou disponível, o Modelo 2 é uma alternativa simplificada.\n",
        "\n",
        "A escolha entre os modelos deve ser baseada no contexto do estudo e na disponibilidade de dados. O Modelo 1 pode ser preferível se o gênero é uma variável importante, enquanto o Modelo 2 pode ser suficiente se o foco está apenas em idade e salário estimado."
      ]
    },
    {
      "cell_type": "markdown",
      "metadata": {
        "id": "7beOOMk-NfjY"
      },
      "source": [
        "## Exercício 2 – Faça um regressão multinominal utilizando a base dados_lista_2_multinominal-1.csv\n",
        "\n",
        "Determine o impacto das variáveis ses e write, no tipo de programa (prog) dos alunos da base. (prog ~ses + wrie)\n",
        "\n",
        "Faça uma análise detalhada os odds em relação a probabilidade de cada tipo de programa, considerando todos os níveis.  "
      ]
    },
    {
      "cell_type": "markdown",
      "metadata": {
        "id": "q2qHIalPNfjY"
      },
      "source": [
        "### 1. Análise descritiva"
      ]
    },
    {
      "cell_type": "markdown",
      "metadata": {
        "id": "jjE3QCnWNfjY"
      },
      "source": [
        "Leitura inicial do dataframe"
      ]
    },
    {
      "cell_type": "code",
      "execution_count": null,
      "metadata": {
        "id": "Rqwf7kWNNfjY",
        "outputId": "fbaad5a2-e8ce-479a-acf8-b854a7b6411a"
      },
      "outputs": [
        {
          "data": {
            "text/html": [
              "<div>\n",
              "<style scoped>\n",
              "    .dataframe tbody tr th:only-of-type {\n",
              "        vertical-align: middle;\n",
              "    }\n",
              "\n",
              "    .dataframe tbody tr th {\n",
              "        vertical-align: top;\n",
              "    }\n",
              "\n",
              "    .dataframe thead th {\n",
              "        text-align: right;\n",
              "    }\n",
              "</style>\n",
              "<table border=\"1\" class=\"dataframe\">\n",
              "  <thead>\n",
              "    <tr style=\"text-align: right;\">\n",
              "      <th></th>\n",
              "      <th>Unnamed: 0</th>\n",
              "      <th>id</th>\n",
              "      <th>female</th>\n",
              "      <th>ses</th>\n",
              "      <th>schtyp</th>\n",
              "      <th>prog</th>\n",
              "      <th>read</th>\n",
              "      <th>write</th>\n",
              "      <th>math</th>\n",
              "      <th>science</th>\n",
              "      <th>socst</th>\n",
              "      <th>honors</th>\n",
              "      <th>awards</th>\n",
              "      <th>cid</th>\n",
              "    </tr>\n",
              "  </thead>\n",
              "  <tbody>\n",
              "    <tr>\n",
              "      <th>0</th>\n",
              "      <td>1</td>\n",
              "      <td>45</td>\n",
              "      <td>female</td>\n",
              "      <td>low</td>\n",
              "      <td>public</td>\n",
              "      <td>vocation</td>\n",
              "      <td>34</td>\n",
              "      <td>35</td>\n",
              "      <td>41</td>\n",
              "      <td>29</td>\n",
              "      <td>26</td>\n",
              "      <td>not enrolled</td>\n",
              "      <td>0</td>\n",
              "      <td>1</td>\n",
              "    </tr>\n",
              "    <tr>\n",
              "      <th>1</th>\n",
              "      <td>2</td>\n",
              "      <td>108</td>\n",
              "      <td>male</td>\n",
              "      <td>middle</td>\n",
              "      <td>public</td>\n",
              "      <td>general</td>\n",
              "      <td>34</td>\n",
              "      <td>33</td>\n",
              "      <td>41</td>\n",
              "      <td>36</td>\n",
              "      <td>36</td>\n",
              "      <td>not enrolled</td>\n",
              "      <td>0</td>\n",
              "      <td>1</td>\n",
              "    </tr>\n",
              "    <tr>\n",
              "      <th>2</th>\n",
              "      <td>3</td>\n",
              "      <td>15</td>\n",
              "      <td>male</td>\n",
              "      <td>high</td>\n",
              "      <td>public</td>\n",
              "      <td>vocation</td>\n",
              "      <td>39</td>\n",
              "      <td>39</td>\n",
              "      <td>44</td>\n",
              "      <td>26</td>\n",
              "      <td>42</td>\n",
              "      <td>not enrolled</td>\n",
              "      <td>0</td>\n",
              "      <td>1</td>\n",
              "    </tr>\n",
              "    <tr>\n",
              "      <th>3</th>\n",
              "      <td>4</td>\n",
              "      <td>67</td>\n",
              "      <td>male</td>\n",
              "      <td>low</td>\n",
              "      <td>public</td>\n",
              "      <td>vocation</td>\n",
              "      <td>37</td>\n",
              "      <td>37</td>\n",
              "      <td>42</td>\n",
              "      <td>33</td>\n",
              "      <td>32</td>\n",
              "      <td>not enrolled</td>\n",
              "      <td>0</td>\n",
              "      <td>1</td>\n",
              "    </tr>\n",
              "    <tr>\n",
              "      <th>4</th>\n",
              "      <td>5</td>\n",
              "      <td>153</td>\n",
              "      <td>male</td>\n",
              "      <td>middle</td>\n",
              "      <td>public</td>\n",
              "      <td>vocation</td>\n",
              "      <td>39</td>\n",
              "      <td>31</td>\n",
              "      <td>40</td>\n",
              "      <td>39</td>\n",
              "      <td>51</td>\n",
              "      <td>not enrolled</td>\n",
              "      <td>0</td>\n",
              "      <td>1</td>\n",
              "    </tr>\n",
              "  </tbody>\n",
              "</table>\n",
              "</div>"
            ],
            "text/plain": [
              "   Unnamed: 0   id  female     ses  schtyp      prog  read  write  math  \\\n",
              "0           1   45  female     low  public  vocation    34     35    41   \n",
              "1           2  108    male  middle  public   general    34     33    41   \n",
              "2           3   15    male    high  public  vocation    39     39    44   \n",
              "3           4   67    male     low  public  vocation    37     37    42   \n",
              "4           5  153    male  middle  public  vocation    39     31    40   \n",
              "\n",
              "   science  socst        honors  awards  cid  \n",
              "0       29     26  not enrolled       0    1  \n",
              "1       36     36  not enrolled       0    1  \n",
              "2       26     42  not enrolled       0    1  \n",
              "3       33     32  not enrolled       0    1  \n",
              "4       39     51  not enrolled       0    1  "
            ]
          },
          "execution_count": 235,
          "metadata": {},
          "output_type": "execute_result"
        }
      ],
      "source": [
        "dados = pd.read_csv('dados_lista_2_multinominal-1.csv')\n",
        "dados.head()"
      ]
    },
    {
      "cell_type": "markdown",
      "metadata": {
        "id": "ts9VWzZFNfjY"
      },
      "source": [
        "Ao ver o relatório informativo das colunas, vemos que todas as colunas são não-nulas, e as seguintes colunas são do tipo 'object':\n",
        "* female -> será renomeado posteriormente para 'Gender' para melhor sentido.\n",
        "* ses\n",
        "* schtyp\n",
        "* prog\n",
        "* honors"
      ]
    },
    {
      "cell_type": "code",
      "execution_count": null,
      "metadata": {
        "id": "lRejb-ueNfjY",
        "outputId": "e32dca4f-a3ed-4370-c1ea-bf1f4b963e0d"
      },
      "outputs": [
        {
          "name": "stdout",
          "output_type": "stream",
          "text": [
            "<class 'pandas.core.frame.DataFrame'>\n",
            "RangeIndex: 200 entries, 0 to 199\n",
            "Data columns (total 14 columns):\n",
            " #   Column      Non-Null Count  Dtype \n",
            "---  ------      --------------  ----- \n",
            " 0   Unnamed: 0  200 non-null    int64 \n",
            " 1   id          200 non-null    int64 \n",
            " 2   female      200 non-null    object\n",
            " 3   ses         200 non-null    object\n",
            " 4   schtyp      200 non-null    object\n",
            " 5   prog        200 non-null    object\n",
            " 6   read        200 non-null    int64 \n",
            " 7   write       200 non-null    int64 \n",
            " 8   math        200 non-null    int64 \n",
            " 9   science     200 non-null    int64 \n",
            " 10  socst       200 non-null    int64 \n",
            " 11  honors      200 non-null    object\n",
            " 12  awards      200 non-null    int64 \n",
            " 13  cid         200 non-null    int64 \n",
            "dtypes: int64(9), object(5)\n",
            "memory usage: 22.0+ KB\n"
          ]
        }
      ],
      "source": [
        "dados.info()"
      ]
    },
    {
      "cell_type": "code",
      "execution_count": null,
      "metadata": {
        "id": "Qevw0uqBNfjZ"
      },
      "outputs": [],
      "source": [
        "dados.rename(columns={'female': 'gender'},inplace=True, errors='raise')"
      ]
    },
    {
      "cell_type": "markdown",
      "metadata": {
        "id": "0_q-MSvQNfjZ"
      },
      "source": [
        "Vamos analisar os valores únicos de cada coluna object para transforma-las em colunas numéricas."
      ]
    },
    {
      "cell_type": "code",
      "execution_count": null,
      "metadata": {
        "id": "uLZ25NW9NfjZ",
        "outputId": "1250e9ac-da0e-480b-a68c-b8c525e0e7f8"
      },
      "outputs": [
        {
          "name": "stdout",
          "output_type": "stream",
          "text": [
            "gender: ['female' 'male']\n",
            "ses: ['low' 'middle' 'high']\n",
            "schtyp: ['public' 'private']\n",
            "prog: ['vocation' 'general' 'academic']\n",
            "honors: ['not enrolled' 'enrolled']\n"
          ]
        }
      ],
      "source": [
        "col_cat = ['gender', 'ses', 'schtyp', 'prog', 'honors']\n",
        "for col in col_cat:\n",
        "    print(f'{col}: {dados[col].unique()}')"
      ]
    },
    {
      "cell_type": "markdown",
      "metadata": {
        "id": "QxzAxIBiNfjZ"
      },
      "source": [
        "Para resolver a questão, nosso interesse será focado em tratar as colunas 'ses', 'write' e 'prog'. Porém, antes de iniciar as análises, vamos categorizar as colunas para fazer um mapa de calor de correlação. Vamos categorizar conforme tabela abaixo:\n",
        "| gender | gender_cat | ses    | ses_cat | schtyp  | schtyp_cat | prog     | prog_cat | honors       | honors_cat |\n",
        "|--------|------------|--------|---------|---------|------------|----------|----------|--------------|------------|\n",
        "| female | 0          | low    | 0       | public  | 0          | vocation | 0        | not enrolled | 0          |\n",
        "| male   | 1          | middle | 1       | private | 1          | general  | 1        | enrolled     | 1          |\n",
        "| -      | -          | high   | 2       | -       | -          | academic | 2        | -            | -          |"
      ]
    },
    {
      "cell_type": "markdown",
      "metadata": {
        "id": "01U0Xjh2NfjZ"
      },
      "source": [
        "A coluna 'prog' por se tratar da resposta do modelo multinomial, pode conter mais de 2 variáveis com valores distintos em mesma coluna. No entando a coluna 'ses' necessita ser desmembrada em mais colunas para representar as variaveis 'low', 'middle' e 'high' de maneira igualitária de modo que o modelo não imponha peso em uma destas."
      ]
    },
    {
      "cell_type": "code",
      "execution_count": null,
      "metadata": {
        "id": "pZy8NYTDNfjZ"
      },
      "outputs": [],
      "source": [
        "df_dummies = pd.get_dummies(dados['ses'], drop_first=True, dtype=int)\n",
        "df_dummies.rename(columns={'low': 'ses_low',\n",
        "                           'middle': 'ses_middle'},inplace=True, errors='raise')\n",
        "dados = pd.concat([dados, df_dummies], axis=1)\n",
        "dados.drop(columns=['ses'], inplace=True)"
      ]
    },
    {
      "cell_type": "markdown",
      "metadata": {
        "id": "8gaV5fQnNfjZ"
      },
      "source": [
        "Agora vamos tornar demais variáveis em categóricas."
      ]
    },
    {
      "cell_type": "code",
      "execution_count": null,
      "metadata": {
        "id": "1PlbWA1xNfja",
        "outputId": "b81a77dd-2bf0-4428-88b0-b9d282e6a308"
      },
      "outputs": [
        {
          "name": "stdout",
          "output_type": "stream",
          "text": [
            "gender: [0 1]\n",
            "schtyp: [0 1]\n",
            "prog: [0 1 2]\n",
            "honors: [0 1]\n"
          ]
        }
      ],
      "source": [
        "col_cat = ['gender', 'schtyp', 'prog', 'honors']\n",
        "i = 0\n",
        "for col in col_cat:\n",
        "    col_unica = dados[col].unique()\n",
        "    for i in range(0, len(col_unica)):\n",
        "        dados[col] = dados[col].replace({col_unica[i]: i})\n",
        "for col in col_cat:\n",
        "    print(f'{col}: {dados[col].unique()}')"
      ]
    },
    {
      "cell_type": "markdown",
      "metadata": {
        "id": "K3yj2Ii0Nfja"
      },
      "source": [
        "Abaixo temos a descrição das colunas. Todas as demais podem ser declaradas para ingressar no modelo preditivo.  "
      ]
    },
    {
      "cell_type": "code",
      "execution_count": null,
      "metadata": {
        "id": "B7NuC9XtNfja",
        "outputId": "28ae8ee7-5b50-4408-a756-9346b82ca477"
      },
      "outputs": [
        {
          "data": {
            "text/html": [
              "<div>\n",
              "<style scoped>\n",
              "    .dataframe tbody tr th:only-of-type {\n",
              "        vertical-align: middle;\n",
              "    }\n",
              "\n",
              "    .dataframe tbody tr th {\n",
              "        vertical-align: top;\n",
              "    }\n",
              "\n",
              "    .dataframe thead th {\n",
              "        text-align: right;\n",
              "    }\n",
              "</style>\n",
              "<table border=\"1\" class=\"dataframe\">\n",
              "  <thead>\n",
              "    <tr style=\"text-align: right;\">\n",
              "      <th></th>\n",
              "      <th>Unnamed: 0</th>\n",
              "      <th>id</th>\n",
              "      <th>gender</th>\n",
              "      <th>schtyp</th>\n",
              "      <th>prog</th>\n",
              "      <th>read</th>\n",
              "      <th>write</th>\n",
              "      <th>math</th>\n",
              "      <th>science</th>\n",
              "      <th>socst</th>\n",
              "      <th>honors</th>\n",
              "      <th>awards</th>\n",
              "      <th>cid</th>\n",
              "      <th>ses_low</th>\n",
              "      <th>ses_middle</th>\n",
              "    </tr>\n",
              "  </thead>\n",
              "  <tbody>\n",
              "    <tr>\n",
              "      <th>count</th>\n",
              "      <td>200.000000</td>\n",
              "      <td>200.000000</td>\n",
              "      <td>200.00000</td>\n",
              "      <td>200.000000</td>\n",
              "      <td>200.000000</td>\n",
              "      <td>200.000000</td>\n",
              "      <td>200.000000</td>\n",
              "      <td>200.000000</td>\n",
              "      <td>200.000000</td>\n",
              "      <td>200.000000</td>\n",
              "      <td>200.000000</td>\n",
              "      <td>200.000000</td>\n",
              "      <td>200.000000</td>\n",
              "      <td>200.000000</td>\n",
              "      <td>200.000000</td>\n",
              "    </tr>\n",
              "    <tr>\n",
              "      <th>mean</th>\n",
              "      <td>100.500000</td>\n",
              "      <td>100.500000</td>\n",
              "      <td>0.45500</td>\n",
              "      <td>0.160000</td>\n",
              "      <td>1.275000</td>\n",
              "      <td>52.230000</td>\n",
              "      <td>52.775000</td>\n",
              "      <td>52.645000</td>\n",
              "      <td>51.850000</td>\n",
              "      <td>52.405000</td>\n",
              "      <td>0.265000</td>\n",
              "      <td>1.670000</td>\n",
              "      <td>10.430000</td>\n",
              "      <td>0.235000</td>\n",
              "      <td>0.475000</td>\n",
              "    </tr>\n",
              "    <tr>\n",
              "      <th>std</th>\n",
              "      <td>57.879185</td>\n",
              "      <td>57.879185</td>\n",
              "      <td>0.49922</td>\n",
              "      <td>0.367526</td>\n",
              "      <td>0.838385</td>\n",
              "      <td>10.252937</td>\n",
              "      <td>9.478586</td>\n",
              "      <td>9.368448</td>\n",
              "      <td>9.900891</td>\n",
              "      <td>10.735793</td>\n",
              "      <td>0.442441</td>\n",
              "      <td>1.818691</td>\n",
              "      <td>5.801152</td>\n",
              "      <td>0.425063</td>\n",
              "      <td>0.500628</td>\n",
              "    </tr>\n",
              "    <tr>\n",
              "      <th>min</th>\n",
              "      <td>1.000000</td>\n",
              "      <td>1.000000</td>\n",
              "      <td>0.00000</td>\n",
              "      <td>0.000000</td>\n",
              "      <td>0.000000</td>\n",
              "      <td>28.000000</td>\n",
              "      <td>31.000000</td>\n",
              "      <td>33.000000</td>\n",
              "      <td>26.000000</td>\n",
              "      <td>26.000000</td>\n",
              "      <td>0.000000</td>\n",
              "      <td>0.000000</td>\n",
              "      <td>1.000000</td>\n",
              "      <td>0.000000</td>\n",
              "      <td>0.000000</td>\n",
              "    </tr>\n",
              "    <tr>\n",
              "      <th>25%</th>\n",
              "      <td>50.750000</td>\n",
              "      <td>50.750000</td>\n",
              "      <td>0.00000</td>\n",
              "      <td>0.000000</td>\n",
              "      <td>0.750000</td>\n",
              "      <td>44.000000</td>\n",
              "      <td>45.750000</td>\n",
              "      <td>45.000000</td>\n",
              "      <td>44.000000</td>\n",
              "      <td>46.000000</td>\n",
              "      <td>0.000000</td>\n",
              "      <td>0.000000</td>\n",
              "      <td>5.000000</td>\n",
              "      <td>0.000000</td>\n",
              "      <td>0.000000</td>\n",
              "    </tr>\n",
              "    <tr>\n",
              "      <th>50%</th>\n",
              "      <td>100.500000</td>\n",
              "      <td>100.500000</td>\n",
              "      <td>0.00000</td>\n",
              "      <td>0.000000</td>\n",
              "      <td>2.000000</td>\n",
              "      <td>50.000000</td>\n",
              "      <td>54.000000</td>\n",
              "      <td>52.000000</td>\n",
              "      <td>53.000000</td>\n",
              "      <td>52.000000</td>\n",
              "      <td>0.000000</td>\n",
              "      <td>1.000000</td>\n",
              "      <td>10.500000</td>\n",
              "      <td>0.000000</td>\n",
              "      <td>0.000000</td>\n",
              "    </tr>\n",
              "    <tr>\n",
              "      <th>75%</th>\n",
              "      <td>150.250000</td>\n",
              "      <td>150.250000</td>\n",
              "      <td>1.00000</td>\n",
              "      <td>0.000000</td>\n",
              "      <td>2.000000</td>\n",
              "      <td>60.000000</td>\n",
              "      <td>60.000000</td>\n",
              "      <td>59.000000</td>\n",
              "      <td>58.000000</td>\n",
              "      <td>61.000000</td>\n",
              "      <td>1.000000</td>\n",
              "      <td>2.000000</td>\n",
              "      <td>15.000000</td>\n",
              "      <td>0.000000</td>\n",
              "      <td>1.000000</td>\n",
              "    </tr>\n",
              "    <tr>\n",
              "      <th>max</th>\n",
              "      <td>200.000000</td>\n",
              "      <td>200.000000</td>\n",
              "      <td>1.00000</td>\n",
              "      <td>1.000000</td>\n",
              "      <td>2.000000</td>\n",
              "      <td>76.000000</td>\n",
              "      <td>67.000000</td>\n",
              "      <td>75.000000</td>\n",
              "      <td>74.000000</td>\n",
              "      <td>71.000000</td>\n",
              "      <td>1.000000</td>\n",
              "      <td>7.000000</td>\n",
              "      <td>20.000000</td>\n",
              "      <td>1.000000</td>\n",
              "      <td>1.000000</td>\n",
              "    </tr>\n",
              "  </tbody>\n",
              "</table>\n",
              "</div>"
            ],
            "text/plain": [
              "       Unnamed: 0          id     gender      schtyp        prog        read  \\\n",
              "count  200.000000  200.000000  200.00000  200.000000  200.000000  200.000000   \n",
              "mean   100.500000  100.500000    0.45500    0.160000    1.275000   52.230000   \n",
              "std     57.879185   57.879185    0.49922    0.367526    0.838385   10.252937   \n",
              "min      1.000000    1.000000    0.00000    0.000000    0.000000   28.000000   \n",
              "25%     50.750000   50.750000    0.00000    0.000000    0.750000   44.000000   \n",
              "50%    100.500000  100.500000    0.00000    0.000000    2.000000   50.000000   \n",
              "75%    150.250000  150.250000    1.00000    0.000000    2.000000   60.000000   \n",
              "max    200.000000  200.000000    1.00000    1.000000    2.000000   76.000000   \n",
              "\n",
              "            write        math     science       socst      honors      awards  \\\n",
              "count  200.000000  200.000000  200.000000  200.000000  200.000000  200.000000   \n",
              "mean    52.775000   52.645000   51.850000   52.405000    0.265000    1.670000   \n",
              "std      9.478586    9.368448    9.900891   10.735793    0.442441    1.818691   \n",
              "min     31.000000   33.000000   26.000000   26.000000    0.000000    0.000000   \n",
              "25%     45.750000   45.000000   44.000000   46.000000    0.000000    0.000000   \n",
              "50%     54.000000   52.000000   53.000000   52.000000    0.000000    1.000000   \n",
              "75%     60.000000   59.000000   58.000000   61.000000    1.000000    2.000000   \n",
              "max     67.000000   75.000000   74.000000   71.000000    1.000000    7.000000   \n",
              "\n",
              "              cid     ses_low  ses_middle  \n",
              "count  200.000000  200.000000  200.000000  \n",
              "mean    10.430000    0.235000    0.475000  \n",
              "std      5.801152    0.425063    0.500628  \n",
              "min      1.000000    0.000000    0.000000  \n",
              "25%      5.000000    0.000000    0.000000  \n",
              "50%     10.500000    0.000000    0.000000  \n",
              "75%     15.000000    0.000000    1.000000  \n",
              "max     20.000000    1.000000    1.000000  "
            ]
          },
          "execution_count": 241,
          "metadata": {},
          "output_type": "execute_result"
        }
      ],
      "source": [
        "dados.describe()"
      ]
    },
    {
      "cell_type": "markdown",
      "metadata": {
        "id": "0lw099tuNfja"
      },
      "source": [
        "Como 'prog' será nossa variavel output, vamos move-la para o final do dataframe."
      ]
    },
    {
      "cell_type": "code",
      "execution_count": null,
      "metadata": {
        "id": "UYVKlvm0Nfja",
        "outputId": "9ad08a9a-38c1-4dda-8ec7-f5cfed4a576b"
      },
      "outputs": [
        {
          "data": {
            "text/html": [
              "<div>\n",
              "<style scoped>\n",
              "    .dataframe tbody tr th:only-of-type {\n",
              "        vertical-align: middle;\n",
              "    }\n",
              "\n",
              "    .dataframe tbody tr th {\n",
              "        vertical-align: top;\n",
              "    }\n",
              "\n",
              "    .dataframe thead th {\n",
              "        text-align: right;\n",
              "    }\n",
              "</style>\n",
              "<table border=\"1\" class=\"dataframe\">\n",
              "  <thead>\n",
              "    <tr style=\"text-align: right;\">\n",
              "      <th></th>\n",
              "      <th>Unnamed: 0</th>\n",
              "      <th>id</th>\n",
              "      <th>gender</th>\n",
              "      <th>schtyp</th>\n",
              "      <th>read</th>\n",
              "      <th>write</th>\n",
              "      <th>math</th>\n",
              "      <th>science</th>\n",
              "      <th>socst</th>\n",
              "      <th>honors</th>\n",
              "      <th>awards</th>\n",
              "      <th>cid</th>\n",
              "      <th>ses_low</th>\n",
              "      <th>ses_middle</th>\n",
              "      <th>prog</th>\n",
              "    </tr>\n",
              "  </thead>\n",
              "  <tbody>\n",
              "    <tr>\n",
              "      <th>0</th>\n",
              "      <td>1</td>\n",
              "      <td>45</td>\n",
              "      <td>0</td>\n",
              "      <td>0</td>\n",
              "      <td>34</td>\n",
              "      <td>35</td>\n",
              "      <td>41</td>\n",
              "      <td>29</td>\n",
              "      <td>26</td>\n",
              "      <td>0</td>\n",
              "      <td>0</td>\n",
              "      <td>1</td>\n",
              "      <td>1</td>\n",
              "      <td>0</td>\n",
              "      <td>0</td>\n",
              "    </tr>\n",
              "    <tr>\n",
              "      <th>1</th>\n",
              "      <td>2</td>\n",
              "      <td>108</td>\n",
              "      <td>1</td>\n",
              "      <td>0</td>\n",
              "      <td>34</td>\n",
              "      <td>33</td>\n",
              "      <td>41</td>\n",
              "      <td>36</td>\n",
              "      <td>36</td>\n",
              "      <td>0</td>\n",
              "      <td>0</td>\n",
              "      <td>1</td>\n",
              "      <td>0</td>\n",
              "      <td>1</td>\n",
              "      <td>1</td>\n",
              "    </tr>\n",
              "    <tr>\n",
              "      <th>2</th>\n",
              "      <td>3</td>\n",
              "      <td>15</td>\n",
              "      <td>1</td>\n",
              "      <td>0</td>\n",
              "      <td>39</td>\n",
              "      <td>39</td>\n",
              "      <td>44</td>\n",
              "      <td>26</td>\n",
              "      <td>42</td>\n",
              "      <td>0</td>\n",
              "      <td>0</td>\n",
              "      <td>1</td>\n",
              "      <td>0</td>\n",
              "      <td>0</td>\n",
              "      <td>0</td>\n",
              "    </tr>\n",
              "    <tr>\n",
              "      <th>3</th>\n",
              "      <td>4</td>\n",
              "      <td>67</td>\n",
              "      <td>1</td>\n",
              "      <td>0</td>\n",
              "      <td>37</td>\n",
              "      <td>37</td>\n",
              "      <td>42</td>\n",
              "      <td>33</td>\n",
              "      <td>32</td>\n",
              "      <td>0</td>\n",
              "      <td>0</td>\n",
              "      <td>1</td>\n",
              "      <td>1</td>\n",
              "      <td>0</td>\n",
              "      <td>0</td>\n",
              "    </tr>\n",
              "    <tr>\n",
              "      <th>4</th>\n",
              "      <td>5</td>\n",
              "      <td>153</td>\n",
              "      <td>1</td>\n",
              "      <td>0</td>\n",
              "      <td>39</td>\n",
              "      <td>31</td>\n",
              "      <td>40</td>\n",
              "      <td>39</td>\n",
              "      <td>51</td>\n",
              "      <td>0</td>\n",
              "      <td>0</td>\n",
              "      <td>1</td>\n",
              "      <td>0</td>\n",
              "      <td>1</td>\n",
              "      <td>0</td>\n",
              "    </tr>\n",
              "  </tbody>\n",
              "</table>\n",
              "</div>"
            ],
            "text/plain": [
              "   Unnamed: 0   id  gender  schtyp  read  write  math  science  socst  honors  \\\n",
              "0           1   45       0       0    34     35    41       29     26       0   \n",
              "1           2  108       1       0    34     33    41       36     36       0   \n",
              "2           3   15       1       0    39     39    44       26     42       0   \n",
              "3           4   67       1       0    37     37    42       33     32       0   \n",
              "4           5  153       1       0    39     31    40       39     51       0   \n",
              "\n",
              "   awards  cid  ses_low  ses_middle  prog  \n",
              "0       0    1        1           0     0  \n",
              "1       0    1        0           1     1  \n",
              "2       0    1        0           0     0  \n",
              "3       0    1        1           0     0  \n",
              "4       0    1        0           1     0  "
            ]
          },
          "execution_count": 242,
          "metadata": {},
          "output_type": "execute_result"
        }
      ],
      "source": [
        "last_column = dados.pop('prog')\n",
        "dados.insert(len(dados.columns), 'prog', last_column)\n",
        "dados.head()"
      ]
    },
    {
      "cell_type": "markdown",
      "metadata": {
        "id": "c65SBK-tNfja"
      },
      "source": [
        "Vamos analisar a correlação destas com a coluna saída 'Prog' no mapa térmico abaixo."
      ]
    },
    {
      "cell_type": "code",
      "execution_count": null,
      "metadata": {
        "id": "yH0pW87-Nfja",
        "outputId": "b4e87925-f258-4141-8dbc-7b6482aad52d"
      },
      "outputs": [
        {
          "data": {
            "text/plain": [
              "<Axes: >"
            ]
          },
          "execution_count": 243,
          "metadata": {},
          "output_type": "execute_result"
        },
        {
          "data": {
            "image/png": "[encoded data removed]",
            "text/plain": [
              "<Figure size 2000x1000 with 2 Axes>"
            ]
          },
          "metadata": {},
          "output_type": "display_data"
        }
      ],
      "source": [
        "# Mapa de correlação\n",
        "plt.figure(figsize=(20,10))\n",
        "corr = dados.corr()\n",
        "sns.heatmap(corr, annot=True)"
      ]
    },
    {
      "cell_type": "markdown",
      "metadata": {
        "id": "-DkOauKONfja"
      },
      "source": [
        "Vemos que as colunas de interesse possuem as seguintes correlações com 'prog':\n",
        "* ses_low: 0.084\n",
        "* ses_middle: 0.16\n",
        "* write: 0.42"
      ]
    },
    {
      "cell_type": "markdown",
      "metadata": {
        "id": "5R2kZLh_Nfjb"
      },
      "source": [
        "### 2. Faça o modelo de regressão"
      ]
    },
    {
      "cell_type": "markdown",
      "metadata": {
        "id": "56WX8oWDNfjb"
      },
      "source": [
        "Para esta questão, faremos o seguinte modelos de regressão multinomial:\n",
        "* **Entradas**: 'ses_low', 'ses_middle' e 'write'\n",
        "* **Saídas**: 'prog'"
      ]
    },
    {
      "cell_type": "code",
      "execution_count": null,
      "metadata": {
        "id": "Co2yrGLfNfjb"
      },
      "outputs": [],
      "source": [
        "y = dados['prog']\n",
        "X = dados[['ses_low', 'ses_middle', 'write']]"
      ]
    },
    {
      "cell_type": "markdown",
      "metadata": {
        "id": "c47fuOtfNfjb"
      },
      "source": [
        "Vamos agora dividir os dados em conjuntos de treinamento e teste."
      ]
    },
    {
      "cell_type": "code",
      "execution_count": null,
      "metadata": {
        "id": "gvOfQ1H2Nfjb"
      },
      "outputs": [],
      "source": [
        "X_train, X_test, y_train, y_test = train_test_split(X, y, test_size=0.2, random_state=42)"
      ]
    },
    {
      "cell_type": "markdown",
      "metadata": {
        "id": "ZS85hcapNfjb"
      },
      "source": [
        "Verificar o tamanho de cada conjunto de dados"
      ]
    },
    {
      "cell_type": "code",
      "execution_count": null,
      "metadata": {
        "id": "xXqB2iJFNfjb",
        "outputId": "d9a041c4-43e3-4b82-e825-d245e0e36599"
      },
      "outputs": [
        {
          "name": "stdout",
          "output_type": "stream",
          "text": [
            "Tamanho do conjunto de treinamento (X_train): (160, 3)\n",
            "Tamanho do conjunto de teste (X_test): (40, 3)\n",
            "Tamanho do conjunto de treinamento (y_train): (160,)\n",
            "Tamanho do conjunto de teste (y_test): (40,)\n"
          ]
        }
      ],
      "source": [
        "print(\"Tamanho do conjunto de treinamento (X_train):\", X_train.shape)\n",
        "print(\"Tamanho do conjunto de teste (X_test):\", X_test.shape)\n",
        "print(\"Tamanho do conjunto de treinamento (y_train):\", y_train.shape)\n",
        "print(\"Tamanho do conjunto de teste (y_test):\", y_test.shape)"
      ]
    },
    {
      "cell_type": "code",
      "execution_count": null,
      "metadata": {
        "id": "fFECXR4vNfjb",
        "outputId": "658d604c-9640-4ad7-e5a8-d7590ecb0e66"
      },
      "outputs": [
        {
          "name": "stdout",
          "output_type": "stream",
          "text": [
            "Optimization terminated successfully.\n",
            "         Current function value: 0.891390\n",
            "         Iterations 6\n"
          ]
        }
      ],
      "source": [
        "# Ajustar o modelo de regressão logística multinomial usando statsmodels\n",
        "model = sm.MNLogit(y_train, sm.add_constant(X_train))\n",
        "results = model.fit()"
      ]
    },
    {
      "cell_type": "markdown",
      "metadata": {
        "id": "SC-ZOorCNfjc"
      },
      "source": [
        "### 3. Realize a análise dos pressupostos e validação do modelo"
      ]
    },
    {
      "cell_type": "markdown",
      "metadata": {
        "id": "rxabBejrNfjc"
      },
      "source": [
        "Resumo do modelo treinado:"
      ]
    },
    {
      "cell_type": "code",
      "execution_count": null,
      "metadata": {
        "id": "o0wBTuH9Nfjc",
        "outputId": "5f881630-a1ef-4d61-f4d3-bb6617b37273"
      },
      "outputs": [
        {
          "name": "stdout",
          "output_type": "stream",
          "text": [
            "                          MNLogit Regression Results                          \n",
            "==============================================================================\n",
            "Dep. Variable:                   prog   No. Observations:                  160\n",
            "Model:                        MNLogit   Df Residuals:                      152\n",
            "Method:                           MLE   Df Model:                            6\n",
            "Date:                Tue, 09 Jul 2024   Pseudo R-squ.:                  0.1145\n",
            "Time:                        19:22:42   Log-Likelihood:                -142.62\n",
            "converged:                       True   LL-Null:                       -161.07\n",
            "Covariance Type:            nonrobust   LLR p-value:                 1.849e-06\n",
            "==============================================================================\n",
            "    prog=1       coef    std err          z      P>|z|      [0.025      0.975]\n",
            "------------------------------------------------------------------------------\n",
            "const         -2.6629      1.403     -1.898      0.058      -5.413       0.087\n",
            "ses_low       -0.2798      0.724     -0.387      0.699      -1.698       1.138\n",
            "ses_middle    -0.7385      0.647     -1.142      0.254      -2.006       0.529\n",
            "write          0.0588      0.026      2.288      0.022       0.008       0.109\n",
            "------------------------------------------------------------------------------\n",
            "    prog=2       coef    std err          z      P>|z|      [0.025      0.975]\n",
            "------------------------------------------------------------------------------\n",
            "const         -4.0266      1.270     -3.171      0.002      -6.515      -1.538\n",
            "ses_low       -0.8908      0.640     -1.393      0.164      -2.144       0.363\n",
            "ses_middle    -1.2872      0.559     -2.302      0.021      -2.383      -0.191\n",
            "write          0.1098      0.023      4.672      0.000       0.064       0.156\n",
            "==============================================================================\n"
          ]
        }
      ],
      "source": [
        "print(results.summary())"
      ]
    },
    {
      "cell_type": "markdown",
      "metadata": {
        "id": "3vcI2sFgNfjc"
      },
      "source": [
        "Analisando apenas o sumario dos resultados temos que a variável 'write' é um preditor significativo da categoria 'prog', enquanto 'ses_low' e 'ses_middle' não parece ter um impacto significativo. O modelo geral é significativo, indicando um bom ajuste aos dados."
      ]
    },
    {
      "cell_type": "code",
      "execution_count": null,
      "metadata": {
        "id": "KprLsc1RNfjc"
      },
      "outputs": [],
      "source": [
        "# Obter probabilidades previstas\n",
        "probabilidades_previstas = results.predict()"
      ]
    },
    {
      "cell_type": "markdown",
      "metadata": {
        "id": "D-o1B_t7Nfjc"
      },
      "source": [
        "#### Deviance Residuals\n",
        "\n",
        "**Hipótese Testada:**\n",
        "\n",
        "-   $H_0$: O modelo ajusta bem os dados.\n",
        "\n",
        "-   $H_a$: O modelo não ajusta bem os dados.\n",
        "\n",
        "**Condição de Aceitação/Rejeição:**\n",
        "\n",
        "-   A deviance total é comparada com uma distribuição qui-quadrado com $n - p$ graus de liberdade, onde $n$ é o número de observações e $p$ é o número de parâmetros no modelo.\n",
        "\n",
        "-   **Aceitação de** $H_0$: Se o valor $p$ calculado a partir da deviance é maior que $\\alpha$, aceitamos $H_0$ e concluímos que o modelo ajusta bem os dados.\n",
        "\n",
        "-   **Rejeição de** $H_0$: Se o valor $p$ é menor que $\\alpha$, rejeitamos $H_0$ e concluímos que o modelo não ajusta bem os dados."
      ]
    },
    {
      "cell_type": "code",
      "execution_count": null,
      "metadata": {
        "id": "gzsOwrZjNfjc"
      },
      "outputs": [],
      "source": [
        "# Resíduos: calcular resíduos deviance manualmente\n",
        "def residuos_deviance(y_true, y_pred):\n",
        "    y_pred = np.clip(y_pred, 1e-10, 1-1e-10)  # Evitar log(0)\n",
        "    deviance_residuals = 2 * (y_true * np.log(y_true / y_pred))\n",
        "    deviance_residuals[np.isnan(deviance_residuals)] = 0  # Substituir NaNs por 0\n",
        "    return deviance_residuals"
      ]
    },
    {
      "cell_type": "code",
      "execution_count": null,
      "metadata": {
        "id": "T9NfWP-JNfjc"
      },
      "outputs": [],
      "source": [
        "# One-hot encoding para y_train\n",
        "y_train_onehot = pd.get_dummies(y_train).values"
      ]
    },
    {
      "cell_type": "code",
      "execution_count": null,
      "metadata": {
        "id": "CX1pLznoNfjd"
      },
      "outputs": [],
      "source": [
        "# Calcular resíduos deviance\n",
        "residuos_deviance_val = residuos_deviance(y_train_onehot, probabilidades_previstas)"
      ]
    },
    {
      "cell_type": "code",
      "execution_count": null,
      "metadata": {
        "id": "-OTsGK8PNfjd",
        "outputId": "725505ef-f5fa-4342-e755-970361b77d47"
      },
      "outputs": [
        {
          "name": "stdout",
          "output_type": "stream",
          "text": [
            "Deviance: 285.24476020345196, p-value: 3.521875447474953e-10\n"
          ]
        }
      ],
      "source": [
        "# Deviance total e p-valor\n",
        "deviance_total = np.sum(residuos_deviance_val)\n",
        "deviance_p_value = stats.chi2.sf(deviance_total, results.df_resid)\n",
        "print(f\"Deviance: {deviance_total}, p-value: {deviance_p_value}\")"
      ]
    },
    {
      "cell_type": "markdown",
      "metadata": {
        "id": "taBPqayGNfjd"
      },
      "source": [
        "**Análise do Modelo** :\n",
        "\n",
        "- **Deviance Residuals**: A deviance de 285.244 indica a qualidade do ajuste do modelo. Quanto menor for o valor da deviance, melhor o modelo ajusta os dados. Sozinho, esse valor não pode ser interpretado diretamente sem um valor de referência, mas geralmente, a deviance é comparada com um modelo saturado para verificar o ajuste.\n",
        "  \n",
        "- **Valor-p**: O p-value associado à deviance é utilizado para testar a hipótese nula de que o modelo ajusta bem os dados. Um p-value pequeno (geralmente menor que 0.05) indica que há evidências suficientes para rejeitar a hipótese nula, ou seja, o modelo não se ajusta bem aos dados.\n",
        "\n",
        "**Conclusão:**\n",
        "\n",
        "Com base na deviance e no p-value, o modelo multinomial não se ajusta bem aos dados. A deviance alta e o p-value muito pequeno indicam que há uma discrepância significativa entre os dados observados e os valores ajustados pelo modelo."
      ]
    },
    {
      "cell_type": "markdown",
      "metadata": {
        "id": "nISmLZHmNfjd"
      },
      "source": [
        "#### Pearson Chi-Square Test\n",
        "\n",
        "**Hipótese Testada:**\n",
        "\n",
        "-   $H_0$: O modelo ajusta bem os dados.\n",
        "\n",
        "-   $H_a$: O modelo não ajusta bem os dados.\n",
        "\n",
        "**Condição de Aceitação/Rejeição:**\n",
        "\n",
        "-   Calcula-se a estatística do teste qui-quadrado de Pearson, que segue uma distribuição qui-quadrado com $n - p$ graus de liberdade.\n",
        "\n",
        "-   **Aceitação de** $H_0$: Se o valor $p$ é maior que $\\alpha$, aceitamos $H_0$ e concluímos que o modelo ajusta bem os dados.\n",
        "\n",
        "-   **Rejeição de** $H_0$: Se o valor $p$ é menor que $\\alpha$, rejeitamos $H_0$ e concluímos que o modelo não ajusta bem os dados."
      ]
    },
    {
      "cell_type": "code",
      "execution_count": null,
      "metadata": {
        "id": "3m49zwGaNfjd"
      },
      "outputs": [],
      "source": [
        "# Pearson Chi-Square Test\n",
        "def residuos_pearson(y_true, y_pred):\n",
        "    return (y_true - y_pred) / np.sqrt(y_pred * (1 - y_pred))"
      ]
    },
    {
      "cell_type": "code",
      "execution_count": null,
      "metadata": {
        "id": "iy54UJPZNfjd",
        "outputId": "24d76eec-0cb0-4402-ec84-ac88b1caf572"
      },
      "outputs": [
        {
          "name": "stdout",
          "output_type": "stream",
          "text": [
            "Pearson Chi-Square Test: Chi2=492.20346390164065, p-value=1.6410868567699196e-37\n"
          ]
        }
      ],
      "source": [
        "residuos_pearson_val = residuos_pearson(y_train_onehot, probabilidades_previstas)\n",
        "pearson_chi2 = np.sum(residuos_pearson_val ** 2)\n",
        "pearson_p_value = stats.chi2.sf(pearson_chi2, results.df_resid)\n",
        "print(f\"Pearson Chi-Square Test: Chi2={pearson_chi2}, p-value={pearson_p_value}\")"
      ]
    },
    {
      "cell_type": "markdown",
      "metadata": {
        "id": "I8JaQy5JNfjd"
      },
      "source": [
        "**Análise do Modelo com Pearson Chi-Square Test:**\n",
        "\n",
        "- **Estatística de Teste**: O valor do Chi-Square é 492.203. Um valor de Chi-Square alto indica uma grande discrepância entre os valores observados e os valores esperados sob o modelo.\n",
        "  \n",
        "- **Valor-p**: O p-value é extremamente pequeno, o que sugere que o modelo não se ajusta bem aos dados.\n",
        "Com um p-value tão pequeno, rejeitamos a hipótese nula de que o modelo ajusta bem os dados. Isso indica que há uma falta de ajuste significativa no modelo.\n",
        "\n",
        "**Conclusão:**\n",
        "\n",
        "Esses resultados corroboram a análise anterior baseada nos deviance residuals, indicando que o modelo multinomial não se ajusta bem aos dados."
      ]
    },
    {
      "cell_type": "markdown",
      "metadata": {
        "id": "OE0KMaQqNfje"
      },
      "source": [
        "#### Teste de Hosmer-Lemeshow\n",
        "\n",
        "**Hipótese Testada:**\n",
        "\n",
        "-   $H_0$: O modelo ajusta bem os dados (não há diferença significativa entre as frequências observadas e esperadas).\n",
        "\n",
        "-   $H_a$: O modelo não ajusta bem os dados (há diferença significativa entre as frequências observadas e esperadas).\n",
        "\n",
        "**Condição de Aceitação/Rejeição:**\n",
        "\n",
        "-   Calcula-se a estatística do teste de Hosmer-Lemeshow, que segue uma distribuição qui-quadrado com $g - 2$ graus de liberdade, onde $g$ é o número de grupos.\n",
        "\n",
        "-   **Aceitação de** $H_0$: Se o valor $p$ é maior que o nível de significância $\\alpha$ (geralmente 0.05), aceitamos $H_0$ e concluímos que o modelo ajusta bem os dados.\n",
        "\n",
        "-   **Rejeição de** $H_0$: Se o valor $p$ é menor que $\\alpha$, rejeitamos $H_0$ e concluímos que o modelo não ajusta bem os dados."
      ]
    },
    {
      "cell_type": "code",
      "execution_count": null,
      "metadata": {
        "id": "mjNn772FNfje"
      },
      "outputs": [],
      "source": [
        "# Teste de Hosmer-Lemeshow\n",
        "def hosmer_lemeshow_test(y_true, y_pred, g=10):\n",
        "    data = pd.DataFrame({'observed': np.argmax(y_true, axis=1), 'predicted': np.max(y_pred, axis=1)})\n",
        "    data['group'] = pd.qcut(data['predicted'], g, duplicates='drop')\n",
        "    grouped = data.groupby('group')\n",
        "    observed = grouped['observed'].sum()\n",
        "    expected = grouped['predicted'].sum()\n",
        "    hl_stat = ((observed - expected) ** 2 / (expected * (1 - expected / grouped.size()))).sum()\n",
        "    hl_p_value = stats.chi2.sf(hl_stat, g - 2)\n",
        "    return hl_stat, hl_p_value"
      ]
    },
    {
      "cell_type": "code",
      "execution_count": null,
      "metadata": {
        "id": "AHPJHW0jNfje",
        "outputId": "5574f42d-d953-425e-c900-b731ee7d659b"
      },
      "outputs": [
        {
          "name": "stdout",
          "output_type": "stream",
          "text": [
            "Hosmer-Lemeshow Test: Stat=409.38423346734896, p-value=1.8402456439587498e-83\n"
          ]
        }
      ],
      "source": [
        "hl_stat, hl_p_value = hosmer_lemeshow_test(y_train_onehot, probabilidades_previstas)\n",
        "print(f\"Hosmer-Lemeshow Test: Stat={hl_stat}, p-value={hl_p_value}\")"
      ]
    },
    {
      "cell_type": "markdown",
      "metadata": {
        "id": "cD6Sc0caNfje"
      },
      "source": [
        "**Análise do Modelo com o Teste de Hosmer-Lemeshow:**\n",
        "\n",
        "- **Estatística de Teste**: Um valor tão alto indica uma grande discrepância entre os valores observados e os valores esperados sob o modelo.\n",
        "  \n",
        "- **Valor-p**: sugere que o modelo não se ajusta bem aos dados. Com um p-value tão pequeno, rejeitamos a hipótese nula de que o modelo ajusta bem os dados. Isso indica que há uma falta de ajuste significativa no modelo.\n",
        "\n",
        "**Conclusão:**\n",
        "\n",
        "Esses resultados, juntamente com as análises anteriores (deviance residuals e Pearson Chi-Square Test), indicam que o modelo multinomial (MNLogit) não se ajusta bem aos dados."
      ]
    },
    {
      "cell_type": "markdown",
      "metadata": {
        "id": "W95gC7tGNfje"
      },
      "source": [
        "#### Razão de Verossimilhança (LR)"
      ]
    },
    {
      "cell_type": "code",
      "execution_count": null,
      "metadata": {
        "id": "u7yKVqlhNfje",
        "outputId": "62353851-be96-4422-d668-90075797a72d"
      },
      "outputs": [
        {
          "name": "stdout",
          "output_type": "stream",
          "text": [
            "\n",
            "Teste de Razão de Verossimilhança (LR) para os Resíduos:\n",
            "Estatística de teste: 36.89178002817778\n",
            "Graus de liberdade: 6.0\n",
            "Valor p: 1.848520985947566e-06\n"
          ]
        }
      ],
      "source": [
        "import scipy.stats as stats\n",
        "\n",
        "# Calcular o valor p para o teste de Razão de Verossimilhança (LR)\n",
        "lrt_test_statistic = results.llr  # Obtém o valor do teste de Likelihood Ratio\n",
        "lrt_df = results.df_model  # Obtém os graus de liberdade do modelo\n",
        "lrt_p_value = 1 - stats.chi2.cdf(lrt_test_statistic, lrt_df)\n",
        "\n",
        "print(\"\\nTeste de Razão de Verossimilhança (LR) para os Resíduos:\")\n",
        "print(f\"Estatística de teste: {lrt_test_statistic}\")\n",
        "print(f\"Graus de liberdade: {lrt_df}\")\n",
        "print(f\"Valor p: {lrt_p_value}\")"
      ]
    },
    {
      "cell_type": "markdown",
      "metadata": {
        "id": "HCUqrDRDNfje"
      },
      "source": [
        "**Análise do Modelo com o Razão de Verossimilhança (LR):**\n",
        "\n",
        "- **Estatística de Teste**: Valores altos indicam que o modelo completo fornece um ajuste significativamente melhor do que o modelo reduzido.\n",
        "\n",
        "- **Graus de liberdade**: Os graus de liberdade são 6, correspondendo à diferença no número de parâmetros entre os dois modelos.\n",
        "\n",
        "- **Valor-p**: é extremamente pequeno. Um p-value pequeno sugere que a hipótese nula (o modelo reduzido é adequado) pode ser rejeitada em favor da hipótese alternativa (o modelo completo oferece um ajuste significativamente melhor).\n",
        "\n",
        "**Conclusão:**\n",
        "\n",
        "Esses resultados indicam que o modelo multinomial (MNLogit) completo se ajusta melhor aos dados do que um modelo reduzido (possivelmente com menos parâmetros)."
      ]
    },
    {
      "cell_type": "markdown",
      "metadata": {
        "id": "EYGN16CxNfjf"
      },
      "source": [
        "#### ROC Curve and AUC\n",
        "\n",
        "Avalia a capacidade do modelo de discriminar entre as classes.\n",
        "\n",
        "**Curva ROC**: Traça a taxa de verdadeiros positivos (sensibilidade) contra a taxa de falsos positivos (1 - especificidade) para vários limiares de classificação.\n",
        "\n",
        "**AUC (Área Sob a Curva)**: Um valor próximo de 1 indica excelente discriminação, enquanto um valor próximo de 0.5 indica discriminação aleatória. -\n",
        "\n",
        "**Avaliação do Modelo**: Um modelo com AUC maior é considerado melhor em discriminar entre as classes."
      ]
    },
    {
      "cell_type": "code",
      "execution_count": null,
      "metadata": {
        "id": "volvcxNiNfjf",
        "outputId": "47365270-6023-4a01-e773-a7cf4b5ff57b"
      },
      "outputs": [
        {
          "data": {
            "image/png": "[encoded data removed]",
            "text/plain": [
              "<Figure size 2000x500 with 3 Axes>"
            ]
          },
          "metadata": {},
          "output_type": "display_data"
        }
      ],
      "source": [
        "# Número de classes\n",
        "num_classes = y_train_onehot.shape[1]\n",
        "\n",
        "# Criar subplots\n",
        "fig, axs = plt.subplots(1, num_classes, figsize=(20, 5))\n",
        "\n",
        "# Curva ROC para cada classe\n",
        "for i in range(num_classes):\n",
        "    fpr, tpr, _ = roc_curve(y_train_onehot[:, i], probabilidades_previstas[:, i])\n",
        "    roc_auc = auc(fpr, tpr)\n",
        "\n",
        "    axs[i].plot(fpr, tpr, color='blue', lw=2, label=f'ROC curve (class {i}) (area = %0.2f)' % roc_auc)\n",
        "    axs[i].plot([0, 1], [0, 1], color='red', lw=2, linestyle='--')\n",
        "    axs[i].set_xlim([0.0, 1.0])\n",
        "    axs[i].set_ylim([0.0, 1.05])\n",
        "    axs[i].set_xlabel('False Positive Rate')\n",
        "    axs[i].set_ylabel('True Positive Rate')\n",
        "    axs[i].set_title(f'ROC Curve for class {i}')\n",
        "    axs[i].legend(loc=\"lower right\")\n",
        "\n",
        "# Ajustar o layout\n",
        "plt.tight_layout()\n",
        "plt.show()"
      ]
    },
    {
      "cell_type": "markdown",
      "metadata": {
        "id": "fzrrihWGNfjf"
      },
      "source": [
        "* **Classe 0** e **Classe 2** têm AUCs de 0.77 e 0.74, respectivamente. Esses valores indicam que o modelo tem um desempenho razoável para essas classes, mas há espaço para melhorias.\n",
        "\n",
        "* **Classe 1** tem uma AUC de 0.53, o que sugere que o modelo tem pouca capacidade de discriminação para essa classe. Isso é preocupante e pode indicar que os dados ou o modelo precisam ser ajustados para melhorar o desempenho para essa classe."
      ]
    },
    {
      "cell_type": "code",
      "execution_count": null,
      "metadata": {
        "id": "MwWEpTd8Nfjf",
        "outputId": "629563cd-e69d-4574-f1e8-d23147eef924"
      },
      "outputs": [
        {
          "data": {
            "image/png": "[encoded data removed]",
            "text/plain": [
              "<Figure size 1200x600 with 1 Axes>"
            ]
          },
          "metadata": {},
          "output_type": "display_data"
        }
      ],
      "source": [
        "# Plotar resíduos deviance\n",
        "plt.figure(figsize=(12, 6))\n",
        "for i in range(residuos_deviance_val.shape[1]):\n",
        "    plt.scatter(range(len(residuos_deviance_val)), residuos_deviance_val[:, i], label=f'Class {i}')\n",
        "plt.axhline(0, color='red', linestyle='--')\n",
        "plt.xlabel('Index')\n",
        "plt.ylabel('Deviance Residuals')\n",
        "plt.title('Deviance Residuals by Class')\n",
        "plt.legend()\n",
        "plt.show()"
      ]
    },
    {
      "cell_type": "markdown",
      "metadata": {
        "id": "OZMcKgQGNfjf"
      },
      "source": [
        "1. **Distribuição de Resíduos**:\n",
        "   - A maioria dos resíduos está distribuída em torno de zero, o que é esperado e indica que, para muitas observações, o modelo está prevendo valores próximos aos valores observados.\n",
        "   - No entanto, há vários pontos com resíduos deviance elevados (acima de 3), o que sugere que o modelo não está se ajustando bem para essas observações específicas.\n",
        "\n",
        "2. **Outliers**:\n",
        "   - Existem vários outliers (pontos fora do padrão esperado) para todas as classes, especialmente acima de 3, indicando que para essas observações específicas, o modelo não está capturando bem a variabilidade dos dados.\n",
        "   - Notamos outliers significativos em todas as classes, mas especialmente em Classes 0 e 1. Esses outliers podem ser causados por erros nos dados, variáveis importantes não incluídas no modelo ou uma inadequação geral do modelo para essas observações.\n",
        "\n",
        "3. **Classes**:\n",
        "   - **Classe 0 (Azul)**: Existem vários resíduos acima de 3, indicando que o modelo tem dificuldades em prever corretamente essa classe em alguns casos.\n",
        "   - **Classe 1 (Laranja)**: Também apresenta resíduos elevados em várias observações. A presença de muitos pontos elevados sugere que o modelo não está capturando bem a variabilidade dessa classe.\n",
        "   - **Classe 2 (Verde)**: Embora também tenha alguns resíduos elevados, a distribuição parece ser um pouco mais concentrada em torno de zero em comparação com as outras classes, sugerindo um melhor ajuste relativo para essa classe.\n",
        "\n",
        "**Conclusão**:\n",
        "\n",
        "O gráfico dos resíduos deviance sugere que, embora o modelo tenha um desempenho razoável para muitas observações, existem várias observações para as quais o ajuste não é adequado, indicando a necessidade de uma análise mais profunda dos dados e do modelo para melhorar a performance."
      ]
    },
    {
      "cell_type": "markdown",
      "metadata": {
        "id": "bkVrwlG_Nfjf"
      },
      "source": [
        "### 4. Análise do Modelo"
      ]
    },
    {
      "cell_type": "markdown",
      "metadata": {
        "id": "h4F-LGZ-Nfjf"
      },
      "source": [
        "1. **Deviance Residuals**: Indica uma falta de ajuste significativa do modelo aos dados, com vários resíduos elevados e outliers.\n",
        "1. **Pearson Chi-Square Test**: Confirma a inadequação do modelo, mostrando uma discrepância significativa entre os valores observados e esperados.\n",
        "1. **Hosmer-Lemeshow Test**: Sugere uma inadequação significativa do modelo para diferentes grupos de risco.\n",
        "1. **Teste de Razão de Verossimilhança (LR)**: Indica que o modelo ajustado é melhor do que o modelo nulo, mas dado os resultados dos outros testes, ainda não é ideal.\n",
        "1. **Curvas ROC**: Mostram que o modelo tem uma capacidade de discriminação limitada, especialmente para a Classe 1.\n",
        "\n",
        "A combinação dos resultados dos diferentes testes sugere que o modelo de regressão logística multinomial (MNLogit) não se ajusta bem aos dados. Todos os testes indicam problemas de ajuste, com significativas discrepâncias entre os valores observados e esperados, além de uma baixa capacidade de discriminação para algumas classes. Recomenda-se revisar os dados, considerar a inclusão de variáveis adicionais, e explorar outros tipos de modelos ou abordagens para melhorar o ajuste e a performance do modelo."
      ]
    },
    {
      "cell_type": "markdown",
      "metadata": {
        "id": "eTpkrDGeNfjg"
      },
      "source": [
        "### 5. Interpretação do ODDS"
      ]
    },
    {
      "cell_type": "markdown",
      "metadata": {
        "id": "V-5jc1XRNfjg"
      },
      "source": [
        "Iremos utilizar o que chamamos como razão de chance com Intervalo de confiança de 95%:\n",
        "- exponencial do coeficiente."
      ]
    },
    {
      "cell_type": "code",
      "execution_count": null,
      "metadata": {
        "id": "SKS2FWnyNfjg",
        "outputId": "00d15790-b9a6-451c-f169-5465505c2f87"
      },
      "outputs": [
        {
          "data": {
            "text/html": [
              "<div>\n",
              "<style scoped>\n",
              "    .dataframe tbody tr th:only-of-type {\n",
              "        vertical-align: middle;\n",
              "    }\n",
              "\n",
              "    .dataframe tbody tr th {\n",
              "        vertical-align: top;\n",
              "    }\n",
              "\n",
              "    .dataframe thead th {\n",
              "        text-align: right;\n",
              "    }\n",
              "</style>\n",
              "<table border=\"1\" class=\"dataframe\">\n",
              "  <thead>\n",
              "    <tr style=\"text-align: right;\">\n",
              "      <th></th>\n",
              "      <th>0</th>\n",
              "      <th>1</th>\n",
              "    </tr>\n",
              "  </thead>\n",
              "  <tbody>\n",
              "    <tr>\n",
              "      <th>const</th>\n",
              "      <td>-2.662932</td>\n",
              "      <td>-4.026635</td>\n",
              "    </tr>\n",
              "    <tr>\n",
              "      <th>ses_low</th>\n",
              "      <td>-0.279790</td>\n",
              "      <td>-0.890768</td>\n",
              "    </tr>\n",
              "    <tr>\n",
              "      <th>ses_middle</th>\n",
              "      <td>-0.738476</td>\n",
              "      <td>-1.287200</td>\n",
              "    </tr>\n",
              "    <tr>\n",
              "      <th>write</th>\n",
              "      <td>0.058838</td>\n",
              "      <td>0.109782</td>\n",
              "    </tr>\n",
              "  </tbody>\n",
              "</table>\n",
              "</div>"
            ],
            "text/plain": [
              "                   0         1\n",
              "const      -2.662932 -4.026635\n",
              "ses_low    -0.279790 -0.890768\n",
              "ses_middle -0.738476 -1.287200\n",
              "write       0.058838  0.109782"
            ]
          },
          "execution_count": 261,
          "metadata": {},
          "output_type": "execute_result"
        }
      ],
      "source": [
        "results.params"
      ]
    },
    {
      "cell_type": "code",
      "execution_count": null,
      "metadata": {
        "id": "21HdDFU2Nfjg",
        "outputId": "534f223a-8aa5-4757-9e1d-ed44fb80d78e"
      },
      "outputs": [
        {
          "data": {
            "text/plain": [
              "['const', 'ses_low', 'ses_middle', 'write']"
            ]
          },
          "execution_count": 262,
          "metadata": {},
          "output_type": "execute_result"
        }
      ],
      "source": [
        "results.params.index.to_list()"
      ]
    },
    {
      "cell_type": "code",
      "execution_count": null,
      "metadata": {
        "id": "tbdQ4dt2Nfjg"
      },
      "outputs": [],
      "source": [
        "prog = ['vocation', 'general', 'academic']"
      ]
    },
    {
      "cell_type": "code",
      "execution_count": null,
      "metadata": {
        "id": "SKi7VuGgNfjg",
        "outputId": "1e0b42de-4d9a-4a1b-9ffe-2a525cb9f2f7"
      },
      "outputs": [
        {
          "name": "stdout",
          "output_type": "stream",
          "text": [
            "Razão de chance para o  coeficiente (0): \n",
            "0    0.069743\n",
            "1    0.017834\n",
            "Name: const, dtype: float64\n",
            "\n",
            "Razão de chance para o  coeficiente (1): \n",
            "0    0.755943\n",
            "1    0.410341\n",
            "Name: ses_low, dtype: float64\n",
            "\n",
            "Razão de chance para o  coeficiente (2): \n",
            "0    0.477841\n",
            "1    0.276043\n",
            "Name: ses_middle, dtype: float64\n",
            "\n",
            "Razão de chance para o  coeficiente (3): \n",
            "0    1.060603\n",
            "1    1.116034\n",
            "Name: write, dtype: float64\n",
            "\n"
          ]
        }
      ],
      "source": [
        "for i in range(len(results.params.index.to_list())):\n",
        "    odds_ratio = np.exp(results.params.iloc[i])\n",
        "    print(f\"Razão de chance para o  coeficiente ({i}): \\n{odds_ratio}\\n\")"
      ]
    },
    {
      "cell_type": "markdown",
      "metadata": {
        "id": "Kv2KF4MZNfjg"
      },
      "source": [
        "Dado os valores fornecidos, podemos interpretar as razões de chance para cada coeficiente da seguinte forma:\n",
        "\n",
        "* **Constante**\n",
        "\n",
        "   - **Coeficiente 0:**\n",
        "      - Valor: 0.069743\n",
        "      - Interpretação: Este valor indica que, para a classe de referência, as chances básicas (sem levar em conta os preditores) são muito baixas, pois o valor é muito menor que 1.\n",
        "\n",
        "   - **Coeficiente 1:**\n",
        "      - Valor: 0.017834\n",
        "      - Interpretação: Similar ao coeficiente 0, as chances básicas para essa categoria também são muito baixas.\n",
        "\n",
        "* **`ses_low`**\n",
        "\n",
        "   - **Coeficiente 0:**\n",
        "      - Valor: 0.755943\n",
        "      - Interpretação: Comparado com a categoria de referência (`ses_high`), ter um `ses_low` reduz as chances da classe 0 por um fator de aproximadamente 0.76 (24% menos provável).\n",
        "\n",
        "   - **Coeficiente 1:**\n",
        "      - Valor: 0.410341\n",
        "      - Interpretação: Para a classe 1, ter um `ses_low` reduz as chances por um fator de aproximadamente 0.41 (59% menos provável).\n",
        "\n",
        "* **`ses_middle`**\n",
        "\n",
        "   - **Coeficiente 0:**\n",
        "      - Valor: 0.477841\n",
        "      - Interpretação: Comparado com a categoria de referência (`ses_high`), ter um `ses_middle` reduz as chances da classe 0 por um fator de aproximadamente 0.48 (52% menos provável).\n",
        "\n",
        "   - **Coeficiente 1:**\n",
        "      - Valor: 0.276043\n",
        "      - Interpretação: Para a classe 1, ter um `ses_middle` reduz as chances por um fator de aproximadamente 0.28 (72% menos provável).\n",
        "\n",
        "* **`write`**\n",
        "\n",
        "   - **Coeficiente 0:**\n",
        "      - Valor: 1.060603\n",
        "      - Interpretação: Um aumento de uma unidade na variável `write` aumenta as chances da classe 0 por um fator de aproximadamente 1.06 (6% mais provável).\n",
        "\n",
        "   - **Coeficiente 1:**\n",
        "      - Valor: 1.116034\n",
        "      - Interpretação: Para a classe 1, um aumento de uma unidade na variável `write` aumenta as chances por um fator de aproximadamente 1.12 (12% mais provável)."
      ]
    }
  ],
  "metadata": {
    "kernelspec": {
      "display_name": "pucminas",
      "language": "python",
      "name": "python3"
    },
    "language_info": {
      "codemirror_mode": {
        "name": "ipython",
        "version": 3
      },
      "file_extension": ".py",
      "mimetype": "text/x-python",
      "name": "python",
      "nbconvert_exporter": "python",
      "pygments_lexer": "ipython3",
      "version": "3.12.3"
    },
    "colab": {
      "provenance": [],
      "include_colab_link": true
    }
  },
  "nbformat": 4,
  "nbformat_minor": 0
}
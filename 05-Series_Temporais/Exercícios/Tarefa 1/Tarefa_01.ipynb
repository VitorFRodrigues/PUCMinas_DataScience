{
 "cells": [
  {
   "cell_type": "markdown",
   "metadata": {},
   "source": [
    "# Tarefa 01: \n",
    "\n",
    "Montar a dupla de trabalho e escolher a base de dados. Anexar um pdf contendo o nome da dupla e a descrição em uma linha do que se refere a base de dados e a quantidade de observações que a compõe. \n",
    "\n",
    "Instituição: Pontifícia Universidade Católica de Minas Gerais\n",
    "\n",
    "Alunos: \n",
    "\n",
    "1. Alessandro Augusto Bezerra\n",
    "1. Vitor Fernando de Souza Rodrigues\n",
    "\n",
    "Disciplina: Séries Temporais\n",
    "\n",
    "Docente: Patrícia de Sousa Ilambwetsi"
   ]
  },
  {
   "cell_type": "markdown",
   "metadata": {},
   "source": [
    "O grupo escolheu a base de dados histórica das transações realizada na ação [ibovespa](https://www.kaggle.com/datasets/felsal/ibovespa-stocks) negociada no [mercado financeiro B3](https://www.b3.com.br/pt_br/para-voce) nos anos 1994 até 2020. "
   ]
  },
  {
   "cell_type": "markdown",
   "metadata": {},
   "source": [
    "## Importação de Bibliotecas"
   ]
  },
  {
   "cell_type": "code",
   "execution_count": 1,
   "metadata": {},
   "outputs": [],
   "source": [
    "import subprocess\n",
    "import sys\n",
    "\n",
    "def install_and_import(package):\n",
    "    ''' Função checa se biblioteca já se encontra instalada. Em caso negativo, ela instala e importa.\n",
    "    '''\n",
    "    try:\n",
    "        __import__(package)\n",
    "        print(f\"{package} já está instalado.\")\n",
    "    except ImportError:\n",
    "        print(f\"{package} não está instalado. Instalando...\")\n",
    "        subprocess.check_call([sys.executable, \"-m\", \"pip\", \"install\", package])\n",
    "        print(f\"{package} foi instalado com sucesso!\")"
   ]
  },
  {
   "cell_type": "code",
   "execution_count": 2,
   "metadata": {},
   "outputs": [
    {
     "name": "stdout",
     "output_type": "stream",
     "text": [
      "os já está instalado.\n",
      "pandas já está instalado.\n",
      "kaggle já está instalado.\n"
     ]
    }
   ],
   "source": [
    "# Importação de bibliotecas\n",
    "install_and_import('os')\n",
    "install_and_import('pandas')\n",
    "install_and_import('kaggle')\n",
    "\n",
    "import os\n",
    "import pandas as pd\n",
    "from kaggle.api.kaggle_api_extended import KaggleApi"
   ]
  },
  {
   "cell_type": "markdown",
   "metadata": {},
   "source": [
    "## Download de Datasets"
   ]
  },
  {
   "cell_type": "code",
   "execution_count": 3,
   "metadata": {},
   "outputs": [
    {
     "name": "stdout",
     "output_type": "stream",
     "text": [
      "Dataset URL: https://www.kaggle.com/datasets/felsal/ibovespa-stocks\n",
      "Arquivos baixados: ['b3_stocks_1994_2020.csv', 'selic.csv', 'usd2brl.csv']\n"
     ]
    }
   ],
   "source": [
    "# Inicializa a API do Kaggle\n",
    "api = KaggleApi()\n",
    "api.authenticate()\n",
    "\n",
    "# Define o caminho para salvar o dataset\n",
    "dataset_path = \"ibovespa-stocks\"\n",
    "download_path = f\"./{dataset_path}\"\n",
    "\n",
    "# Baixa o dataset de ações da Bovespa\n",
    "api.dataset_download_files('felsal/ibovespa-stocks', path=download_path, unzip=True)\n",
    "\n",
    "# Lista os arquivos baixados\n",
    "files = os.listdir(download_path)\n",
    "print(\"Arquivos baixados:\", files)\n",
    "\n",
    "# Carrega os datasets em variáveis do Pandas\n",
    "# Exemplo: carregar todos os arquivos CSV em um dicionário de DataFrames\n",
    "dataframes = {file: pd.read_csv(f\"{download_path}/{file}\") for file in files if file.endswith('.csv')}\n",
    "\n",
    "# # Exemplo: imprimir as primeiras linhas de um dos datasets\n",
    "# for name, df in dataframes.items():\n",
    "#     print(f\"Primeiras linhas de {name}:\")\n",
    "#     print(df.head())"
   ]
  },
  {
   "cell_type": "markdown",
   "metadata": {},
   "source": [
    "Renomeando os dataframes"
   ]
  },
  {
   "cell_type": "code",
   "execution_count": 4,
   "metadata": {},
   "outputs": [],
   "source": [
    "stocks = dataframes['b3_stocks_1994_2020.csv']\n",
    "selic = dataframes['selic.csv']\n",
    "usd2brl = dataframes['usd2brl.csv']"
   ]
  },
  {
   "cell_type": "markdown",
   "metadata": {},
   "source": [
    "## Séries Temporais"
   ]
  },
  {
   "cell_type": "markdown",
   "metadata": {},
   "source": [
    "### Ações do Ibovespa"
   ]
  },
  {
   "cell_type": "code",
   "execution_count": 5,
   "metadata": {},
   "outputs": [
    {
     "data": {
      "text/html": [
       "<div>\n",
       "<style scoped>\n",
       "    .dataframe tbody tr th:only-of-type {\n",
       "        vertical-align: middle;\n",
       "    }\n",
       "\n",
       "    .dataframe tbody tr th {\n",
       "        vertical-align: top;\n",
       "    }\n",
       "\n",
       "    .dataframe thead th {\n",
       "        text-align: right;\n",
       "    }\n",
       "</style>\n",
       "<table border=\"1\" class=\"dataframe\">\n",
       "  <thead>\n",
       "    <tr style=\"text-align: right;\">\n",
       "      <th></th>\n",
       "      <th>datetime</th>\n",
       "      <th>ticker</th>\n",
       "      <th>open</th>\n",
       "      <th>close</th>\n",
       "      <th>high</th>\n",
       "      <th>low</th>\n",
       "      <th>volume</th>\n",
       "    </tr>\n",
       "  </thead>\n",
       "  <tbody>\n",
       "    <tr>\n",
       "      <th>1883198</th>\n",
       "      <td>2020-12-28</td>\n",
       "      <td>Z1TO34</td>\n",
       "      <td>36.72</td>\n",
       "      <td>36.72</td>\n",
       "      <td>36.72</td>\n",
       "      <td>36.72</td>\n",
       "      <td>1358.64</td>\n",
       "    </tr>\n",
       "    <tr>\n",
       "      <th>1883199</th>\n",
       "      <td>2020-12-29</td>\n",
       "      <td>Z1TO34</td>\n",
       "      <td>36.31</td>\n",
       "      <td>36.31</td>\n",
       "      <td>36.31</td>\n",
       "      <td>36.31</td>\n",
       "      <td>3631.00</td>\n",
       "    </tr>\n",
       "    <tr>\n",
       "      <th>1883200</th>\n",
       "      <td>2020-12-30</td>\n",
       "      <td>Z1TO34</td>\n",
       "      <td>38.09</td>\n",
       "      <td>37.50</td>\n",
       "      <td>38.09</td>\n",
       "      <td>37.50</td>\n",
       "      <td>2295.17</td>\n",
       "    </tr>\n",
       "    <tr>\n",
       "      <th>1883201</th>\n",
       "      <td>2020-12-23</td>\n",
       "      <td>Z1TS34</td>\n",
       "      <td>209.18</td>\n",
       "      <td>209.18</td>\n",
       "      <td>209.18</td>\n",
       "      <td>209.18</td>\n",
       "      <td>10459.00</td>\n",
       "    </tr>\n",
       "    <tr>\n",
       "      <th>1883202</th>\n",
       "      <td>2020-12-28</td>\n",
       "      <td>Z1TS34</td>\n",
       "      <td>212.14</td>\n",
       "      <td>213.59</td>\n",
       "      <td>213.59</td>\n",
       "      <td>212.14</td>\n",
       "      <td>425.73</td>\n",
       "    </tr>\n",
       "  </tbody>\n",
       "</table>\n",
       "</div>"
      ],
      "text/plain": [
       "           datetime  ticker    open   close    high     low    volume\n",
       "1883198  2020-12-28  Z1TO34   36.72   36.72   36.72   36.72   1358.64\n",
       "1883199  2020-12-29  Z1TO34   36.31   36.31   36.31   36.31   3631.00\n",
       "1883200  2020-12-30  Z1TO34   38.09   37.50   38.09   37.50   2295.17\n",
       "1883201  2020-12-23  Z1TS34  209.18  209.18  209.18  209.18  10459.00\n",
       "1883202  2020-12-28  Z1TS34  212.14  213.59  213.59  212.14    425.73"
      ]
     },
     "execution_count": 5,
     "metadata": {},
     "output_type": "execute_result"
    }
   ],
   "source": [
    "stocks.tail()"
   ]
  },
  {
   "cell_type": "code",
   "execution_count": 6,
   "metadata": {},
   "outputs": [
    {
     "data": {
      "text/plain": [
       "(1883203, 7)"
      ]
     },
     "execution_count": 6,
     "metadata": {},
     "output_type": "execute_result"
    }
   ],
   "source": [
    "stocks.shape"
   ]
  },
  {
   "cell_type": "markdown",
   "metadata": {},
   "source": [
    "### Valores da Selic"
   ]
  },
  {
   "cell_type": "code",
   "execution_count": 7,
   "metadata": {},
   "outputs": [
    {
     "data": {
      "text/html": [
       "<div>\n",
       "<style scoped>\n",
       "    .dataframe tbody tr th:only-of-type {\n",
       "        vertical-align: middle;\n",
       "    }\n",
       "\n",
       "    .dataframe tbody tr th {\n",
       "        vertical-align: top;\n",
       "    }\n",
       "\n",
       "    .dataframe thead th {\n",
       "        text-align: right;\n",
       "    }\n",
       "</style>\n",
       "<table border=\"1\" class=\"dataframe\">\n",
       "  <thead>\n",
       "    <tr style=\"text-align: right;\">\n",
       "      <th></th>\n",
       "      <th>datetime</th>\n",
       "      <th>selic</th>\n",
       "    </tr>\n",
       "  </thead>\n",
       "  <tbody>\n",
       "    <tr>\n",
       "      <th>6646</th>\n",
       "      <td>2020-12-24</td>\n",
       "      <td>0.000075</td>\n",
       "    </tr>\n",
       "    <tr>\n",
       "      <th>6647</th>\n",
       "      <td>2020-12-28</td>\n",
       "      <td>0.000075</td>\n",
       "    </tr>\n",
       "    <tr>\n",
       "      <th>6648</th>\n",
       "      <td>2020-12-29</td>\n",
       "      <td>0.000075</td>\n",
       "    </tr>\n",
       "    <tr>\n",
       "      <th>6649</th>\n",
       "      <td>2020-12-30</td>\n",
       "      <td>0.000075</td>\n",
       "    </tr>\n",
       "    <tr>\n",
       "      <th>6650</th>\n",
       "      <td>2020-12-31</td>\n",
       "      <td>0.000075</td>\n",
       "    </tr>\n",
       "  </tbody>\n",
       "</table>\n",
       "</div>"
      ],
      "text/plain": [
       "        datetime     selic\n",
       "6646  2020-12-24  0.000075\n",
       "6647  2020-12-28  0.000075\n",
       "6648  2020-12-29  0.000075\n",
       "6649  2020-12-30  0.000075\n",
       "6650  2020-12-31  0.000075"
      ]
     },
     "execution_count": 7,
     "metadata": {},
     "output_type": "execute_result"
    }
   ],
   "source": [
    "selic.tail()"
   ]
  },
  {
   "cell_type": "code",
   "execution_count": 8,
   "metadata": {},
   "outputs": [
    {
     "data": {
      "text/plain": [
       "(6651, 2)"
      ]
     },
     "execution_count": 8,
     "metadata": {},
     "output_type": "execute_result"
    }
   ],
   "source": [
    "selic.shape"
   ]
  },
  {
   "cell_type": "markdown",
   "metadata": {},
   "source": [
    "### Conversões do dolar"
   ]
  },
  {
   "cell_type": "code",
   "execution_count": 9,
   "metadata": {},
   "outputs": [
    {
     "data": {
      "text/html": [
       "<div>\n",
       "<style scoped>\n",
       "    .dataframe tbody tr th:only-of-type {\n",
       "        vertical-align: middle;\n",
       "    }\n",
       "\n",
       "    .dataframe tbody tr th {\n",
       "        vertical-align: top;\n",
       "    }\n",
       "\n",
       "    .dataframe thead th {\n",
       "        text-align: right;\n",
       "    }\n",
       "</style>\n",
       "<table border=\"1\" class=\"dataframe\">\n",
       "  <thead>\n",
       "    <tr style=\"text-align: right;\">\n",
       "      <th></th>\n",
       "      <th>datetime</th>\n",
       "      <th>usd_brl</th>\n",
       "    </tr>\n",
       "  </thead>\n",
       "  <tbody>\n",
       "    <tr>\n",
       "      <th>6646</th>\n",
       "      <td>2020-12-24</td>\n",
       "      <td>5.1800</td>\n",
       "    </tr>\n",
       "    <tr>\n",
       "      <th>6647</th>\n",
       "      <td>2020-12-28</td>\n",
       "      <td>5.2390</td>\n",
       "    </tr>\n",
       "    <tr>\n",
       "      <th>6648</th>\n",
       "      <td>2020-12-29</td>\n",
       "      <td>5.1942</td>\n",
       "    </tr>\n",
       "    <tr>\n",
       "      <th>6649</th>\n",
       "      <td>2020-12-30</td>\n",
       "      <td>5.1967</td>\n",
       "    </tr>\n",
       "    <tr>\n",
       "      <th>6650</th>\n",
       "      <td>2020-12-31</td>\n",
       "      <td>5.1967</td>\n",
       "    </tr>\n",
       "  </tbody>\n",
       "</table>\n",
       "</div>"
      ],
      "text/plain": [
       "        datetime  usd_brl\n",
       "6646  2020-12-24   5.1800\n",
       "6647  2020-12-28   5.2390\n",
       "6648  2020-12-29   5.1942\n",
       "6649  2020-12-30   5.1967\n",
       "6650  2020-12-31   5.1967"
      ]
     },
     "execution_count": 9,
     "metadata": {},
     "output_type": "execute_result"
    }
   ],
   "source": [
    "usd2brl.tail()"
   ]
  },
  {
   "cell_type": "code",
   "execution_count": 10,
   "metadata": {},
   "outputs": [
    {
     "data": {
      "text/plain": [
       "(6651, 2)"
      ]
     },
     "execution_count": 10,
     "metadata": {},
     "output_type": "execute_result"
    }
   ],
   "source": [
    "usd2brl.shape"
   ]
  }
 ],
 "metadata": {
  "kernelspec": {
   "display_name": "pucminas",
   "language": "python",
   "name": "python3"
  },
  "language_info": {
   "codemirror_mode": {
    "name": "ipython",
    "version": 3
   },
   "file_extension": ".py",
   "mimetype": "text/x-python",
   "name": "python",
   "nbconvert_exporter": "python",
   "pygments_lexer": "ipython3",
   "version": "3.12.3"
  }
 },
 "nbformat": 4,
 "nbformat_minor": 2
}

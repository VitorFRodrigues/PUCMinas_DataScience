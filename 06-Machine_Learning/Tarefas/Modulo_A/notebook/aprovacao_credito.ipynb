{
 "cells": [
  {
   "cell_type": "markdown",
   "metadata": {},
   "source": [
    "# Relatório Final: Análise de Aprovação de Cartão de Crédito\n",
    "\n",
    "Instituição: Pontifícia Universidade Católica de Minas Gerais\n",
    "\n",
    "Aluno:\n",
    "\n",
    "1. Vitor Fernando de Souza Rodrigues\n",
    "\n",
    "Disciplina: Machine Learning\n",
    "\n",
    "Docente: Cristiano Rodrigues de Carvalho"
   ]
  },
  {
   "cell_type": "markdown",
   "metadata": {},
   "source": [
    "# 1. Introdução"
   ]
  },
  {
   "cell_type": "markdown",
   "metadata": {},
   "source": [
    "A cadeira de crédito é composta basicamente de quatro pilares: a prospecção, a concessão, a gestão de risco e a recuperação.\n",
    "\n",
    "1. **Prospecção**: É o processo de buscar e atrair potenciais clientes ou empresas interessadas em adquirir crédito. Envolve a análise de mercado, identificação de perfis ideais e estratégias de marketing para captar novos clientes.\n",
    "\n",
    "2. **Concessão**: Nesta fase, a instituição avalia a capacidade de pagamento do cliente, com base em informações financeiras e comportamentais, para decidir sobre a aprovação ou rejeição do crédito solicitado.\n",
    "\n",
    "3. **Gestão de Risco**: Trata-se do monitoramento e controle dos riscos associados ao crédito concedido. Envolve o acompanhamento contínuo do comportamento de pagamento do cliente, ajustes no limite de crédito e a adoção de medidas preventivas.\n",
    "\n",
    "4. **Recuperação**: Quando ocorre inadimplência, a instituição foca na recuperação do crédito, utilizando estratégias de cobrança, renegociação de dívidas e, em casos mais graves, ações jurídicas para minimizar perdas.\n",
    "\n",
    "Este trabalho será basicamente focado em solucionar um problema de concessão de linha de crédito. Pois bem, o uso de crédito tem se tornado uma prática cada vez mais comum entre os brasileiros, impulsionado por diversos fatores econômicos e tecnológicos, dentre eles se destacam:\n",
    "\n",
    "* **Acesso facilitado ao crédito**: Nos últimos anos, as instituições financeiras expandiram suas ofertas de crédito, com cartões de crédito, crédito consignado e financiamento de bens. Dados do Banco Central do Brasil mostram que o saldo total de crédito no país cresceu significativamente, atingindo níveis históricos.\n",
    "\n",
    "* **Tecnologia financeira (Fintechs)**: O surgimento de *fintechs* no Brasil democratizou ainda mais o acesso ao crédito. Com aplicativos simplificados e a oferta de serviços online, essas empresas permitem que consumidores tenham acesso a crédito de forma rápida e com menos burocracia, muitas vezes oferecendo taxas mais competitivas que os bancos tradicionais.\n",
    "\n",
    "* **Pandemia e digitalização**: A pandemia de COVID-19 acelerou o uso de meios digitais de pagamento, incluindo o crédito. Com o aumento das compras online e a necessidade de evitar transações em dinheiro físico, o cartão de crédito e outros mecanismos de crédito digital se tornaram alternativas práticas e seguras para os consumidores.\n",
    "\n",
    "Esses fatores combinados mostram como o crédito vem se consolidando como uma ferramenta essencial no cotidiano financeiro do brasileiro, facilitando o consumo, mas também apresentando desafios relacionados ao endividamento."
   ]
  },
  {
   "cell_type": "markdown",
   "metadata": {},
   "source": [
    "# 2. Descrição do Problema e da Solução Proposta"
   ]
  },
  {
   "cell_type": "markdown",
   "metadata": {},
   "source": [
    "Basicamente o pedido de crédito funciona a partir da solicitação do cliente a uma Instituição Financeira para pedir algum tipo de crédito, seja cartão, empréstimo consignado, financiamento imobiliário, etc. \n",
    "\n",
    "A Instituição financeira aprova ou não o pedido do cliente dados alguns critérios específicos. No geral, o banco possui uma série de informações do cliente, deste as quantidades de transações financeiras até status matrimonial são utilizados para identificar um bom ou mal pagador.\n",
    "\n",
    "Dada estas informações a Instituição aprova ou recusa o fornecimento de crédito para o cliente. Neste trabalho, será utilizado um conjunto de dados extraído do [Kaggle](https://www.kaggle.com/datasets/rikdifos/credit-card-approval-prediction) em que receberemos diversas informações de clientes de um banco e seu histórico de transações, indicando se estes possuem um bom relacionamento bancário com pagamentos em dia.\n",
    "\n",
    "Como solução para este problema, vamos explorar estes dados, criar uma regra para definir o bom e o mal pagador e, por fim, aplicar um modelo preditivo do tipo classificatório para indicar se o futuro solicitante terá seu crédito aprovado ou recusado.\n"
   ]
  },
  {
   "cell_type": "markdown",
   "metadata": {},
   "source": [
    "# 3. Coleta de Dados"
   ]
  },
  {
   "cell_type": "markdown",
   "metadata": {},
   "source": [
    "## 3.1 Importação de Bibliotecas utilizadas neste Notebook"
   ]
  },
  {
   "cell_type": "code",
   "execution_count": 1,
   "metadata": {},
   "outputs": [],
   "source": [
    "import pandas as pd"
   ]
  },
  {
   "cell_type": "markdown",
   "metadata": {},
   "source": [
    "## 3.2 Importação dos dados e descrição dos datasets"
   ]
  },
  {
   "cell_type": "code",
   "execution_count": null,
   "metadata": {},
   "outputs": [],
   "source": []
  },
  {
   "cell_type": "markdown",
   "metadata": {},
   "source": [
    "# 4. Processamento / Tratamento de Dados"
   ]
  },
  {
   "cell_type": "markdown",
   "metadata": {},
   "source": [
    "# 5. Análise e Exploração dos dados"
   ]
  },
  {
   "cell_type": "code",
   "execution_count": null,
   "metadata": {},
   "outputs": [],
   "source": []
  }
 ],
 "metadata": {
  "kernelspec": {
   "display_name": "pucminas",
   "language": "python",
   "name": "python3"
  },
  "language_info": {
   "codemirror_mode": {
    "name": "ipython",
    "version": 3
   },
   "file_extension": ".py",
   "mimetype": "text/x-python",
   "name": "python",
   "nbconvert_exporter": "python",
   "pygments_lexer": "ipython3",
   "version": "3.12.3"
  }
 },
 "nbformat": 4,
 "nbformat_minor": 2
}

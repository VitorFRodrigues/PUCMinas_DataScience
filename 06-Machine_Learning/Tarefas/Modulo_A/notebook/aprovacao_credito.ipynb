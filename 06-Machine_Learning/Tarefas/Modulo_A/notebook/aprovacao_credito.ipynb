{
  "cells": [
    {
      "cell_type": "markdown",
      "metadata": {
        "id": "view-in-github",
        "colab_type": "text"
      },
      "source": [
        "<a href=\"https://colab.research.google.com/github/VitorFRodrigues/PUCMinas_DataScience/blob/main/06-Machine_Learning/Tarefas/Modulo_A/notebook/aprovacao_credito.ipynb\" target=\"_parent\"><img src=\"https://colab.research.google.com/assets/colab-badge.svg\" alt=\"Open In Colab\"/></a>"
      ]
    },
    {
      "cell_type": "markdown",
      "metadata": {
        "id": "zGcr6mllRjhg"
      },
      "source": [
        "# Relatório Final: Análise de Aprovação de Cartão de Crédito\n",
        "\n",
        "Instituição: Pontifícia Universidade Católica de Minas Gerais\n",
        "\n",
        "Aluno:\n",
        "\n",
        "1. Vitor Fernando de Souza Rodrigues\n",
        "\n",
        "Disciplina: Machine Learning\n",
        "\n",
        "Docente: Cristiano Rodrigues de Carvalho"
      ]
    },
    {
      "cell_type": "markdown",
      "metadata": {
        "id": "wDWEGSHaRjhh"
      },
      "source": [
        "# 1. Introdução"
      ]
    },
    {
      "cell_type": "markdown",
      "metadata": {
        "id": "ifFHWmJZRjhi"
      },
      "source": [
        "A cadeira de crédito é composta basicamente de quatro pilares: a prospecção, a concessão, a gestão de risco e a recuperação.\n",
        "\n",
        "1. **Prospecção**: É o processo de buscar e atrair potenciais clientes ou empresas interessadas em adquirir crédito. Envolve a análise de mercado, identificação de perfis ideais e estratégias de marketing para captar novos clientes.\n",
        "\n",
        "2. **Concessão**: Nesta fase, a instituição avalia a capacidade de pagamento do cliente, com base em informações financeiras e comportamentais, para decidir sobre a aprovação ou rejeição do crédito solicitado.\n",
        "\n",
        "3. **Gestão de Risco**: Trata-se do monitoramento e controle dos riscos associados ao crédito concedido. Envolve o acompanhamento contínuo do comportamento de pagamento do cliente, ajustes no limite de crédito e a adoção de medidas preventivas.\n",
        "\n",
        "4. **Recuperação**: Quando ocorre inadimplência, a instituição foca na recuperação do crédito, utilizando estratégias de cobrança, renegociação de dívidas e, em casos mais graves, ações jurídicas para minimizar perdas.\n",
        "\n",
        "Este trabalho será basicamente focado em solucionar um problema de concessão de linha de crédito. Pois bem, o uso de crédito tem se tornado uma prática cada vez mais comum entre os brasileiros, impulsionado por diversos fatores econômicos e tecnológicos, dentre eles se destacam:\n",
        "\n",
        "* **Acesso facilitado ao crédito**: Nos últimos anos, as instituições financeiras expandiram suas ofertas de crédito, com cartões de crédito, crédito consignado e financiamento de bens. Dados do Banco Central do Brasil mostram que o saldo total de crédito no país cresceu significativamente, atingindo níveis históricos.\n",
        "\n",
        "* **Tecnologia financeira (Fintechs)**: O surgimento de *fintechs* no Brasil democratizou ainda mais o acesso ao crédito. Com aplicativos simplificados e a oferta de serviços online, essas empresas permitem que consumidores tenham acesso a crédito de forma rápida e com menos burocracia, muitas vezes oferecendo taxas mais competitivas que os bancos tradicionais.\n",
        "\n",
        "* **Pandemia e digitalização**: A pandemia de COVID-19 acelerou o uso de meios digitais de pagamento, incluindo o crédito. Com o aumento das compras online e a necessidade de evitar transações em dinheiro físico, o cartão de crédito e outros mecanismos de crédito digital se tornaram alternativas práticas e seguras para os consumidores.\n",
        "\n",
        "Esses fatores combinados mostram como o crédito vem se consolidando como uma ferramenta essencial no cotidiano financeiro do brasileiro, facilitando o consumo, mas também apresentando desafios relacionados ao endividamento."
      ]
    },
    {
      "cell_type": "markdown",
      "metadata": {
        "id": "U4gIOoYXRjhi"
      },
      "source": [
        "# 2. Descrição do Problema e da Solução Proposta"
      ]
    },
    {
      "cell_type": "markdown",
      "metadata": {
        "id": "XdCgXoy5Rjhi"
      },
      "source": [
        "Basicamente o pedido de crédito funciona a partir da solicitação do cliente a uma Instituição Financeira para pedir algum tipo de crédito, seja cartão, empréstimo consignado, financiamento imobiliário, etc.\n",
        "\n",
        "A Instituição financeira aprova ou não o pedido do cliente dados alguns critérios específicos. No geral, o banco possui uma série de informações do cliente, deste as quantidades de transações financeiras até status matrimonial são utilizados para identificar um bom ou mal pagador.\n",
        "\n",
        "Dada estas informações a Instituição aprova ou recusa o fornecimento de crédito para o cliente. Neste trabalho, será utilizado um conjunto de dados extraído do [Kaggle](https://www.kaggle.com/datasets/rikdifos/credit-card-approval-prediction) em que receberemos diversas informações de clientes de um banco e seu histórico de transações, indicando se estes possuem um bom relacionamento bancário com pagamentos em dia.\n",
        "\n",
        "Como solução para este problema, vamos explorar estes dados, criar uma regra para definir o bom e o mal pagador e, por fim, aplicar um modelo preditivo do tipo classificatório para indicar se o futuro solicitante terá seu crédito aprovado ou recusado.\n"
      ]
    },
    {
      "cell_type": "markdown",
      "metadata": {
        "id": "8nDhSANjRjhi"
      },
      "source": [
        "# 3. Coleta de Dados"
      ]
    },
    {
      "cell_type": "markdown",
      "metadata": {
        "id": "OfaWToP2Rjhi"
      },
      "source": [
        "Conforme dito anteriormente conjunto de dados extraído do [Kaggle](https://www.kaggle.com/datasets/rikdifos/credit-card-approval-prediction) e salvo no [github](https://github.com/VitorFRodrigues/PUCMinas_DataScience/tree/main/06-Machine_Learning/Tarefas/Modulo_A/dados) do autor. A estrutura é formada por tabelas na extensão ```.csv```"
      ]
    },
    {
      "cell_type": "markdown",
      "metadata": {
        "id": "vE03KiQTRjhj"
      },
      "source": [
        "## 3.1 Importação de Bibliotecas utilizadas neste Notebook"
      ]
    },
    {
      "cell_type": "markdown",
      "metadata": {
        "id": "cS3luEyuRjhj"
      },
      "source": [
        "Este tópico será utilizado para armazenar em uma única célula todas as importações necessárias para o trabalho."
      ]
    },
    {
      "cell_type": "code",
      "execution_count": null,
      "metadata": {
        "id": "xZESlBXQRjhj"
      },
      "outputs": [],
      "source": [
        "import pandas as pd"
      ]
    },
    {
      "cell_type": "markdown",
      "metadata": {
        "id": "Cq7v9wtvRjhk"
      },
      "source": [
        "## 3.2 Importação dos dados e descrição dos datasets"
      ]
    },
    {
      "cell_type": "markdown",
      "metadata": {
        "id": "DXlQ18bBRjhk"
      },
      "source": [
        "### 3.2.1 Dados dos clientes"
      ]
    },
    {
      "cell_type": "code",
      "execution_count": null,
      "metadata": {
        "id": "z5_AIA0JRjhk",
        "outputId": "c758f551-582b-4fc4-f5ee-1677c82e141c"
      },
      "outputs": [
        {
          "data": {
            "text/html": [
              "<div>\n",
              "<style scoped>\n",
              "    .dataframe tbody tr th:only-of-type {\n",
              "        vertical-align: middle;\n",
              "    }\n",
              "\n",
              "    .dataframe tbody tr th {\n",
              "        vertical-align: top;\n",
              "    }\n",
              "\n",
              "    .dataframe thead th {\n",
              "        text-align: right;\n",
              "    }\n",
              "</style>\n",
              "<table border=\"1\" class=\"dataframe\">\n",
              "  <thead>\n",
              "    <tr style=\"text-align: right;\">\n",
              "      <th></th>\n",
              "      <th>ID</th>\n",
              "      <th>CODE_GENDER</th>\n",
              "      <th>FLAG_OWN_CAR</th>\n",
              "      <th>FLAG_OWN_REALTY</th>\n",
              "      <th>CNT_CHILDREN</th>\n",
              "      <th>AMT_INCOME_TOTAL</th>\n",
              "      <th>NAME_INCOME_TYPE</th>\n",
              "      <th>NAME_EDUCATION_TYPE</th>\n",
              "      <th>NAME_FAMILY_STATUS</th>\n",
              "      <th>NAME_HOUSING_TYPE</th>\n",
              "      <th>DAYS_BIRTH</th>\n",
              "      <th>DAYS_EMPLOYED</th>\n",
              "      <th>FLAG_MOBIL</th>\n",
              "      <th>FLAG_WORK_PHONE</th>\n",
              "      <th>FLAG_PHONE</th>\n",
              "      <th>FLAG_EMAIL</th>\n",
              "      <th>OCCUPATION_TYPE</th>\n",
              "      <th>CNT_FAM_MEMBERS</th>\n",
              "    </tr>\n",
              "  </thead>\n",
              "  <tbody>\n",
              "    <tr>\n",
              "      <th>0</th>\n",
              "      <td>5008804</td>\n",
              "      <td>M</td>\n",
              "      <td>Y</td>\n",
              "      <td>Y</td>\n",
              "      <td>0</td>\n",
              "      <td>427500.0</td>\n",
              "      <td>Working</td>\n",
              "      <td>Higher education</td>\n",
              "      <td>Civil marriage</td>\n",
              "      <td>Rented apartment</td>\n",
              "      <td>-12005</td>\n",
              "      <td>-4542</td>\n",
              "      <td>1</td>\n",
              "      <td>1</td>\n",
              "      <td>0</td>\n",
              "      <td>0</td>\n",
              "      <td>NaN</td>\n",
              "      <td>2.0</td>\n",
              "    </tr>\n",
              "    <tr>\n",
              "      <th>1</th>\n",
              "      <td>5008805</td>\n",
              "      <td>M</td>\n",
              "      <td>Y</td>\n",
              "      <td>Y</td>\n",
              "      <td>0</td>\n",
              "      <td>427500.0</td>\n",
              "      <td>Working</td>\n",
              "      <td>Higher education</td>\n",
              "      <td>Civil marriage</td>\n",
              "      <td>Rented apartment</td>\n",
              "      <td>-12005</td>\n",
              "      <td>-4542</td>\n",
              "      <td>1</td>\n",
              "      <td>1</td>\n",
              "      <td>0</td>\n",
              "      <td>0</td>\n",
              "      <td>NaN</td>\n",
              "      <td>2.0</td>\n",
              "    </tr>\n",
              "    <tr>\n",
              "      <th>2</th>\n",
              "      <td>5008806</td>\n",
              "      <td>M</td>\n",
              "      <td>Y</td>\n",
              "      <td>Y</td>\n",
              "      <td>0</td>\n",
              "      <td>112500.0</td>\n",
              "      <td>Working</td>\n",
              "      <td>Secondary / secondary special</td>\n",
              "      <td>Married</td>\n",
              "      <td>House / apartment</td>\n",
              "      <td>-21474</td>\n",
              "      <td>-1134</td>\n",
              "      <td>1</td>\n",
              "      <td>0</td>\n",
              "      <td>0</td>\n",
              "      <td>0</td>\n",
              "      <td>Security staff</td>\n",
              "      <td>2.0</td>\n",
              "    </tr>\n",
              "    <tr>\n",
              "      <th>3</th>\n",
              "      <td>5008808</td>\n",
              "      <td>F</td>\n",
              "      <td>N</td>\n",
              "      <td>Y</td>\n",
              "      <td>0</td>\n",
              "      <td>270000.0</td>\n",
              "      <td>Commercial associate</td>\n",
              "      <td>Secondary / secondary special</td>\n",
              "      <td>Single / not married</td>\n",
              "      <td>House / apartment</td>\n",
              "      <td>-19110</td>\n",
              "      <td>-3051</td>\n",
              "      <td>1</td>\n",
              "      <td>0</td>\n",
              "      <td>1</td>\n",
              "      <td>1</td>\n",
              "      <td>Sales staff</td>\n",
              "      <td>1.0</td>\n",
              "    </tr>\n",
              "    <tr>\n",
              "      <th>4</th>\n",
              "      <td>5008809</td>\n",
              "      <td>F</td>\n",
              "      <td>N</td>\n",
              "      <td>Y</td>\n",
              "      <td>0</td>\n",
              "      <td>270000.0</td>\n",
              "      <td>Commercial associate</td>\n",
              "      <td>Secondary / secondary special</td>\n",
              "      <td>Single / not married</td>\n",
              "      <td>House / apartment</td>\n",
              "      <td>-19110</td>\n",
              "      <td>-3051</td>\n",
              "      <td>1</td>\n",
              "      <td>0</td>\n",
              "      <td>1</td>\n",
              "      <td>1</td>\n",
              "      <td>Sales staff</td>\n",
              "      <td>1.0</td>\n",
              "    </tr>\n",
              "  </tbody>\n",
              "</table>\n",
              "</div>"
            ],
            "text/plain": [
              "        ID CODE_GENDER FLAG_OWN_CAR FLAG_OWN_REALTY  CNT_CHILDREN  \\\n",
              "0  5008804           M            Y               Y             0   \n",
              "1  5008805           M            Y               Y             0   \n",
              "2  5008806           M            Y               Y             0   \n",
              "3  5008808           F            N               Y             0   \n",
              "4  5008809           F            N               Y             0   \n",
              "\n",
              "   AMT_INCOME_TOTAL      NAME_INCOME_TYPE            NAME_EDUCATION_TYPE  \\\n",
              "0          427500.0               Working               Higher education   \n",
              "1          427500.0               Working               Higher education   \n",
              "2          112500.0               Working  Secondary / secondary special   \n",
              "3          270000.0  Commercial associate  Secondary / secondary special   \n",
              "4          270000.0  Commercial associate  Secondary / secondary special   \n",
              "\n",
              "     NAME_FAMILY_STATUS  NAME_HOUSING_TYPE  DAYS_BIRTH  DAYS_EMPLOYED  \\\n",
              "0        Civil marriage   Rented apartment      -12005          -4542   \n",
              "1        Civil marriage   Rented apartment      -12005          -4542   \n",
              "2               Married  House / apartment      -21474          -1134   \n",
              "3  Single / not married  House / apartment      -19110          -3051   \n",
              "4  Single / not married  House / apartment      -19110          -3051   \n",
              "\n",
              "   FLAG_MOBIL  FLAG_WORK_PHONE  FLAG_PHONE  FLAG_EMAIL OCCUPATION_TYPE  \\\n",
              "0           1                1           0           0             NaN   \n",
              "1           1                1           0           0             NaN   \n",
              "2           1                0           0           0  Security staff   \n",
              "3           1                0           1           1     Sales staff   \n",
              "4           1                0           1           1     Sales staff   \n",
              "\n",
              "   CNT_FAM_MEMBERS  \n",
              "0              2.0  \n",
              "1              2.0  \n",
              "2              2.0  \n",
              "3              1.0  \n",
              "4              1.0  "
            ]
          },
          "execution_count": 7,
          "metadata": {},
          "output_type": "execute_result"
        }
      ],
      "source": [
        "URL_appRec = 'https://github.com/VitorFRodrigues/PUCMinas_DataScience/raw/refs/heads/main/06-Machine_Learning/Tarefas/Modulo_A/dados/application_record.csv'\n",
        "dados_clientes = pd.read_csv(URL_appRec)\n",
        "dados_clientes.head()"
      ]
    },
    {
      "cell_type": "markdown",
      "metadata": {
        "id": "ba3BLIKURjhl"
      },
      "source": [
        "Conforme já foi dito, o dataset acima informa uma série de informações a respeito de vários clientes. Mais a frente analisaremos sua real quantidade, no momento vamos entender o que cada coluna representa:\n",
        "* **Dados dos clientes**\n",
        "\n",
        "| Coluna              | Explicação                                          | Observação                                                                                                       |\n",
        "| ------------------- | --------------------------------------------------- | ---------------------------------------------------------------------------------------------------------------- |\n",
        "| ID                  | Número identificador do Cliente                     |                                                                                                                  |\n",
        "| CODE_GENDER         | Gênero do cliente (Masculino/Feminino)              |                                                                                                                  |\n",
        "| FLAG_OWN_CAR        | Se o cliente possui carro (Sim/Não)                 |                                                                                                                  |\n",
        "| FLAG_OWN_REALTY     | Se o cliente possui imóvel (Sim/Não)                |                                                                                                                  |\n",
        "| CNT_CHILDREN        | Quantidade de filhos que o cliente possui           |                                                                                                                  |\n",
        "| AMT_INCOME_TOTAL    | Renda anual do cliente                              |                                                                                                                  |\n",
        "| NAME_INCOME_TYPE    | Categoria de renda                                  |                                                                                                                  |\n",
        "| NAME_EDUCATION_TYPE | Nível de Educação                                   |                                                                                                                  |\n",
        "| NAME_FAMILY_STATUS  | Status matrimonial                                  |                                                                                                                  |\n",
        "| NAME_HOUSING_TYPE   | Tipo de moradia do cliente                          |                                                                                                                  |\n",
        "| DAYS_BIRTH          | Dia de nascimento                                   | Contagem regressiva a partir do dia atual (0), -1 significa ontem                                                |\n",
        "| DAYS_EMPLOYED       | Dia de inicio empregatício                          | Contagem regressiva a partir do dia atual (0). Se positivo, significa que a pessoa está atualmente desempregada. |\n",
        "| FLAG_MOBIL          | Se o cliente possui telefone celular (Sim/Não)      |                                                                                                                  |\n",
        "| FLAG_WORK_PHONE     | Se o cliente possui telefone empresarial (Sim/Não)  |                                                                                                                  |\n",
        "| FLAG_PHONE          | Se o cliente possui telefone fixo (Sim/Não)         |                                                                                                                  |\n",
        "| FLAG_EMAIL          | Se o cliente possui e-mail (Sim/Não)                |                                                                                                                  |\n",
        "| OCCUPATION_TYPE     | Profissão do cliente                                |                                                                                                                  |\n",
        "| CNT_FAM_MEMBERS     | Tamanho da familia                                  |                                                                                                                  |"
      ]
    },
    {
      "cell_type": "markdown",
      "metadata": {
        "id": "7XHhkWIGRjhl"
      },
      "source": [
        "### 3.2.2 Histórico de crédito dos clientes"
      ]
    },
    {
      "cell_type": "code",
      "execution_count": null,
      "metadata": {
        "id": "rTVOJfIDRjhl",
        "outputId": "2ee41129-4fde-4050-aeba-e6f6afd150a4"
      },
      "outputs": [
        {
          "data": {
            "text/html": [
              "<div>\n",
              "<style scoped>\n",
              "    .dataframe tbody tr th:only-of-type {\n",
              "        vertical-align: middle;\n",
              "    }\n",
              "\n",
              "    .dataframe tbody tr th {\n",
              "        vertical-align: top;\n",
              "    }\n",
              "\n",
              "    .dataframe thead th {\n",
              "        text-align: right;\n",
              "    }\n",
              "</style>\n",
              "<table border=\"1\" class=\"dataframe\">\n",
              "  <thead>\n",
              "    <tr style=\"text-align: right;\">\n",
              "      <th></th>\n",
              "      <th>ID</th>\n",
              "      <th>MONTHS_BALANCE</th>\n",
              "      <th>STATUS</th>\n",
              "    </tr>\n",
              "  </thead>\n",
              "  <tbody>\n",
              "    <tr>\n",
              "      <th>0</th>\n",
              "      <td>5001711</td>\n",
              "      <td>0</td>\n",
              "      <td>X</td>\n",
              "    </tr>\n",
              "    <tr>\n",
              "      <th>1</th>\n",
              "      <td>5001711</td>\n",
              "      <td>-1</td>\n",
              "      <td>0</td>\n",
              "    </tr>\n",
              "    <tr>\n",
              "      <th>2</th>\n",
              "      <td>5001711</td>\n",
              "      <td>-2</td>\n",
              "      <td>0</td>\n",
              "    </tr>\n",
              "    <tr>\n",
              "      <th>3</th>\n",
              "      <td>5001711</td>\n",
              "      <td>-3</td>\n",
              "      <td>0</td>\n",
              "    </tr>\n",
              "    <tr>\n",
              "      <th>4</th>\n",
              "      <td>5001712</td>\n",
              "      <td>0</td>\n",
              "      <td>C</td>\n",
              "    </tr>\n",
              "  </tbody>\n",
              "</table>\n",
              "</div>"
            ],
            "text/plain": [
              "        ID  MONTHS_BALANCE STATUS\n",
              "0  5001711               0      X\n",
              "1  5001711              -1      0\n",
              "2  5001711              -2      0\n",
              "3  5001711              -3      0\n",
              "4  5001712               0      C"
            ]
          },
          "execution_count": 6,
          "metadata": {},
          "output_type": "execute_result"
        }
      ],
      "source": [
        "URL_cred = 'https://media.githubusercontent.com/media/VitorFRodrigues/PUCMinas_DataScience/refs/heads/main/06-Machine_Learning/Tarefas/Modulo_A/dados/credit_record.csv'\n",
        "dados_credito = pd.read_csv(URL_cred)\n",
        "dados_credito.head()"
      ]
    },
    {
      "cell_type": "markdown",
      "metadata": {
        "id": "L7e3eMtjRjhl"
      },
      "source": [
        "De modo análogo temos:\n",
        "\n",
        "* **Histórico de crédito dos clientes**\n",
        "\n",
        "| Coluna         | Explicação                      | Observação                 |\n",
        "| -------------- | ------------------------------- | ----------------------------------------------------------------------------------------------------------- |\n",
        "| ID             | Número identificador do Cliente |                                                                                                             |\n",
        "| MONTHS_BALANCE | Mês do registro                 | O mês dos dados extraídos é o ponto de partida, sendo 0 o mês atual, -1 é o mês anterior e assim por diante |\n",
        "| STATUS         | Status de pagamento do mês      | 0: 1-29 dias em atraso<br>1: 30-59 dias em atraso<br>2: 60-89 dias em atraso<br>3: 90-119 dias em atraso<br>4: 120-149 dias em atraso<br>5: Dívidas vencidas ou inadimplentes, baixas por mais de 150 dias<br>C: quitado naquele mês<br>X: Nenhum empréstimo no mês |\n"
      ]
    },
    {
      "cell_type": "markdown",
      "metadata": {
        "id": "b_pEjYoGRjhl"
      },
      "source": [
        "# 4. Processamento / Tratamento de Dados"
      ]
    },
    {
      "cell_type": "code",
      "execution_count": null,
      "metadata": {
        "id": "HupShlSiRjhl"
      },
      "outputs": [],
      "source": []
    },
    {
      "cell_type": "markdown",
      "metadata": {
        "id": "KVnLW22kRjhl"
      },
      "source": [
        "# 5. Análise e Exploração dos dados"
      ]
    },
    {
      "cell_type": "code",
      "execution_count": null,
      "metadata": {
        "id": "8qp7I-N8Rjhl"
      },
      "outputs": [],
      "source": []
    }
  ],
  "metadata": {
    "kernelspec": {
      "display_name": "pucminas",
      "language": "python",
      "name": "python3"
    },
    "language_info": {
      "codemirror_mode": {
        "name": "ipython",
        "version": 3
      },
      "file_extension": ".py",
      "mimetype": "text/x-python",
      "name": "python",
      "nbconvert_exporter": "python",
      "pygments_lexer": "ipython3",
      "version": "3.12.3"
    },
    "colab": {
      "provenance": [],
      "include_colab_link": true
    }
  },
  "nbformat": 4,
  "nbformat_minor": 0
}
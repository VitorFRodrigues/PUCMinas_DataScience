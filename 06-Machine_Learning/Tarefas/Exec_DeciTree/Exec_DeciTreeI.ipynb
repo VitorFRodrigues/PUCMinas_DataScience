{
  "nbformat": 4,
  "nbformat_minor": 0,
  "metadata": {
    "colab": {
      "provenance": [],
      "authorship_tag": "ABX9TyOf5IPbR02uNungudgppH5o",
      "include_colab_link": true
    },
    "kernelspec": {
      "name": "python3",
      "display_name": "Python 3"
    },
    "language_info": {
      "name": "python"
    }
  },
  "cells": [
    {
      "cell_type": "markdown",
      "metadata": {
        "id": "view-in-github",
        "colab_type": "text"
      },
      "source": [
        "<a href=\"https://colab.research.google.com/github/VitorFRodrigues/PUCMinas_DataScience/blob/main/06-Machine_Learning/Tarefas/Exec_DeciTree/Exec_DeciTreeI.ipynb\" target=\"_parent\"><img src=\"https://colab.research.google.com/assets/colab-badge.svg\" alt=\"Open In Colab\"/></a>"
      ]
    },
    {
      "cell_type": "markdown",
      "source": [
        "# Exercício Prático I - Árvore de decisão\n",
        "\n",
        "Instituição: Pontifícia Universidade Católica de Minas Gerais\n",
        "\n",
        "Aluno:\n",
        "\n",
        "1. Vitor Fernando de Souza Rodrigues\n",
        "\n",
        "Disciplina: Machine Learning\n",
        "\n",
        "Docente: Cristiano Rodrigues de Carvalho"
      ],
      "metadata": {
        "id": "HVTujRZRKJKt"
      }
    },
    {
      "cell_type": "markdown",
      "source": [
        "# 1. Introdução"
      ],
      "metadata": {
        "id": "w_jh4Dq5KUSY"
      }
    },
    {
      "cell_type": "markdown",
      "source": [
        "# 2. Objetivos"
      ],
      "metadata": {
        "id": "9uvxldZXKeOU"
      }
    },
    {
      "cell_type": "markdown",
      "source": [
        "* O objetivo dessa atividade é classificar pessoas pela sua propensão a comprar um novo leitor digital (eReader), de modo a melhorar a efetividade de campanhas de marketing.\n",
        "\n",
        "* Para alcançar este objetivo, iremos utilizar o modelo de árvores de decisão para minerar hábitos de consumo de usuários de um site de e-commerce. O sociólogo Everett Rogers publicou, na década de 60, um trabalho que mostrava a adoção de novas tecnologias por consumidores. Ele identificou os seguintes grupos de consumidores: inovators, early adopters, early majority e late majority. Os dois primeiros grupos compreendem os usuários mais propensos a comprar uma nova tecnologia, enquanto os dois últimos eventualmente poderão comprar a tecnologia, se achar conveniente."
      ],
      "metadata": {
        "id": "DYWvJr2jKgmX"
      }
    },
    {
      "cell_type": "markdown",
      "source": [
        "# 3. Coleta de Dados"
      ],
      "metadata": {
        "id": "Li5ODbdPKsyf"
      }
    },
    {
      "cell_type": "markdown",
      "source": [
        "Para esta atividade temos a base de dados fornecida pelo professor e salva no [github](https://github.com/VitorFRodrigues/PUCMinas_DataScience/blob/main/06-Machine_Learning/Tarefas/Exec_DeciTree/Atividade%203%20-%20Bases.xlsx), que contém os registros já classificados."
      ],
      "metadata": {
        "id": "pfT66vw_Kyf9"
      }
    },
    {
      "cell_type": "markdown",
      "source": [
        "## 3.1 Importação de Bibliotecas utilizadas neste Notebook"
      ],
      "metadata": {
        "id": "7o9OA_vgLIHf"
      }
    },
    {
      "cell_type": "markdown",
      "source": [
        "Este tópico será utilizado para armazenar em uma única célula todas as bibliotecas importadas"
      ],
      "metadata": {
        "id": "qoYNhG17LLNu"
      }
    },
    {
      "cell_type": "code",
      "execution_count": 189,
      "metadata": {
        "id": "AIyHvnWfC7ex"
      },
      "outputs": [],
      "source": [
        "# Análise de dados\n",
        "import pandas as pd\n",
        "import numpy as np\n",
        "\n",
        "# Categorização de dados\n",
        "from sklearn.preprocessing import OneHotEncoder\n",
        "\n",
        "# Vizualização de dados\n",
        "import matplotlib.pyplot as plt\n",
        "import seaborn as sns\n",
        "\n",
        "# Machine Learning e medidores de erro\n",
        "from sklearn.model_selection import train_test_split\n",
        "from sklearn.tree import DecisionTreeClassifier\n",
        "from sklearn.metrics import accuracy_score, classification_report, confusion_matrix\n",
        "from sklearn.metrics import ConfusionMatrixDisplay\n",
        "from sklearn.model_selection import GridSearchCV\n",
        "import warnings\n",
        "warnings.simplefilter(action='ignore', category=Warning)"
      ]
    },
    {
      "cell_type": "markdown",
      "source": [
        "## 3.2 Importação dos dados e descrição dos datasets"
      ],
      "metadata": {
        "id": "T3ehKcMdLOnN"
      }
    },
    {
      "cell_type": "markdown",
      "source": [
        "Conforme dito anteriormente, vamos baixar os dados do link exposto acima."
      ],
      "metadata": {
        "id": "DBKJQVgOrNSH"
      }
    },
    {
      "cell_type": "code",
      "source": [
        "url = 'https://github.com/VitorFRodrigues/PUCMinas_DataScience/raw/refs/heads/main/06-Machine_Learning/Tarefas/Exec_DeciTree/Atividade%203%20-%20Bases.xlsx'\n",
        "dados = pd.read_excel(url, engine='openpyxl')"
      ],
      "metadata": {
        "id": "x1vjxjgyIaJQ"
      },
      "execution_count": 190,
      "outputs": []
    },
    {
      "cell_type": "code",
      "source": [
        "dados.head()"
      ],
      "metadata": {
        "colab": {
          "base_uri": "https://localhost:8080/",
          "height": 206
        },
        "id": "yvOlhjKVJ_N4",
        "outputId": "e99627dd-9e40-4887-b1e2-6c90ff3b10a7"
      },
      "execution_count": 191,
      "outputs": [
        {
          "output_type": "execute_result",
          "data": {
            "text/plain": [
              "   ID_usuário Gênero  Idade Estado_civil Atividade_no_site  \\\n",
              "0        9552      M     61            C        Esporádico   \n",
              "1        6757      M     27            C      Intermitente   \n",
              "2        3599      F     29            C        Esporádico   \n",
              "3        6811      M     49            C        Esporádico   \n",
              "4        4104      M     29            S        Esporádico   \n",
              "\n",
              "  Pesquisou_eletronicos_12m Comprou_eletronicos_12m  \\\n",
              "0                       Sim                     Sim   \n",
              "1                       Sim                     Não   \n",
              "2                       Sim                     Sim   \n",
              "3                       Sim                     Sim   \n",
              "4                       Sim                     Sim   \n",
              "\n",
              "  Pesquisou_mídia_digital_18m Comprou_mídia_digital_18m Forma_pagamento  \\\n",
              "0                         Sim                       Não   Transferência   \n",
              "1                         Sim                       Não   Transferência   \n",
              "2                         Sim                       Sim   Transferência   \n",
              "3                         Sim                       Sim         Website   \n",
              "4                         Sim                       Não         Website   \n",
              "\n",
              "  Adoção_eReader  \n",
              "0  Late Majority  \n",
              "1      Innovator  \n",
              "2  Early Adopter  \n",
              "3  Early Adopter  \n",
              "4  Late Majority  "
            ],
            "text/html": [
              "\n",
              "  <div id=\"df-3400b189-e357-4c51-a693-43fe45f58ff5\" class=\"colab-df-container\">\n",
              "    <div>\n",
              "<style scoped>\n",
              "    .dataframe tbody tr th:only-of-type {\n",
              "        vertical-align: middle;\n",
              "    }\n",
              "\n",
              "    .dataframe tbody tr th {\n",
              "        vertical-align: top;\n",
              "    }\n",
              "\n",
              "    .dataframe thead th {\n",
              "        text-align: right;\n",
              "    }\n",
              "</style>\n",
              "<table border=\"1\" class=\"dataframe\">\n",
              "  <thead>\n",
              "    <tr style=\"text-align: right;\">\n",
              "      <th></th>\n",
              "      <th>ID_usuário</th>\n",
              "      <th>Gênero</th>\n",
              "      <th>Idade</th>\n",
              "      <th>Estado_civil</th>\n",
              "      <th>Atividade_no_site</th>\n",
              "      <th>Pesquisou_eletronicos_12m</th>\n",
              "      <th>Comprou_eletronicos_12m</th>\n",
              "      <th>Pesquisou_mídia_digital_18m</th>\n",
              "      <th>Comprou_mídia_digital_18m</th>\n",
              "      <th>Forma_pagamento</th>\n",
              "      <th>Adoção_eReader</th>\n",
              "    </tr>\n",
              "  </thead>\n",
              "  <tbody>\n",
              "    <tr>\n",
              "      <th>0</th>\n",
              "      <td>9552</td>\n",
              "      <td>M</td>\n",
              "      <td>61</td>\n",
              "      <td>C</td>\n",
              "      <td>Esporádico</td>\n",
              "      <td>Sim</td>\n",
              "      <td>Sim</td>\n",
              "      <td>Sim</td>\n",
              "      <td>Não</td>\n",
              "      <td>Transferência</td>\n",
              "      <td>Late Majority</td>\n",
              "    </tr>\n",
              "    <tr>\n",
              "      <th>1</th>\n",
              "      <td>6757</td>\n",
              "      <td>M</td>\n",
              "      <td>27</td>\n",
              "      <td>C</td>\n",
              "      <td>Intermitente</td>\n",
              "      <td>Sim</td>\n",
              "      <td>Não</td>\n",
              "      <td>Sim</td>\n",
              "      <td>Não</td>\n",
              "      <td>Transferência</td>\n",
              "      <td>Innovator</td>\n",
              "    </tr>\n",
              "    <tr>\n",
              "      <th>2</th>\n",
              "      <td>3599</td>\n",
              "      <td>F</td>\n",
              "      <td>29</td>\n",
              "      <td>C</td>\n",
              "      <td>Esporádico</td>\n",
              "      <td>Sim</td>\n",
              "      <td>Sim</td>\n",
              "      <td>Sim</td>\n",
              "      <td>Sim</td>\n",
              "      <td>Transferência</td>\n",
              "      <td>Early Adopter</td>\n",
              "    </tr>\n",
              "    <tr>\n",
              "      <th>3</th>\n",
              "      <td>6811</td>\n",
              "      <td>M</td>\n",
              "      <td>49</td>\n",
              "      <td>C</td>\n",
              "      <td>Esporádico</td>\n",
              "      <td>Sim</td>\n",
              "      <td>Sim</td>\n",
              "      <td>Sim</td>\n",
              "      <td>Sim</td>\n",
              "      <td>Website</td>\n",
              "      <td>Early Adopter</td>\n",
              "    </tr>\n",
              "    <tr>\n",
              "      <th>4</th>\n",
              "      <td>4104</td>\n",
              "      <td>M</td>\n",
              "      <td>29</td>\n",
              "      <td>S</td>\n",
              "      <td>Esporádico</td>\n",
              "      <td>Sim</td>\n",
              "      <td>Sim</td>\n",
              "      <td>Sim</td>\n",
              "      <td>Não</td>\n",
              "      <td>Website</td>\n",
              "      <td>Late Majority</td>\n",
              "    </tr>\n",
              "  </tbody>\n",
              "</table>\n",
              "</div>\n",
              "    <div class=\"colab-df-buttons\">\n",
              "\n",
              "  <div class=\"colab-df-container\">\n",
              "    <button class=\"colab-df-convert\" onclick=\"convertToInteractive('df-3400b189-e357-4c51-a693-43fe45f58ff5')\"\n",
              "            title=\"Convert this dataframe to an interactive table.\"\n",
              "            style=\"display:none;\">\n",
              "\n",
              "  <svg xmlns=\"http://www.w3.org/2000/svg\" height=\"24px\" viewBox=\"0 -960 960 960\">\n",
              "    <path d=\"M120-120v-720h720v720H120Zm60-500h600v-160H180v160Zm220 220h160v-160H400v160Zm0 220h160v-160H400v160ZM180-400h160v-160H180v160Zm440 0h160v-160H620v160ZM180-180h160v-160H180v160Zm440 0h160v-160H620v160Z\"/>\n",
              "  </svg>\n",
              "    </button>\n",
              "\n",
              "  <style>\n",
              "    .colab-df-container {\n",
              "      display:flex;\n",
              "      gap: 12px;\n",
              "    }\n",
              "\n",
              "    .colab-df-convert {\n",
              "      background-color: #E8F0FE;\n",
              "      border: none;\n",
              "      border-radius: 50%;\n",
              "      cursor: pointer;\n",
              "      display: none;\n",
              "      fill: #1967D2;\n",
              "      height: 32px;\n",
              "      padding: 0 0 0 0;\n",
              "      width: 32px;\n",
              "    }\n",
              "\n",
              "    .colab-df-convert:hover {\n",
              "      background-color: #E2EBFA;\n",
              "      box-shadow: 0px 1px 2px rgba(60, 64, 67, 0.3), 0px 1px 3px 1px rgba(60, 64, 67, 0.15);\n",
              "      fill: #174EA6;\n",
              "    }\n",
              "\n",
              "    .colab-df-buttons div {\n",
              "      margin-bottom: 4px;\n",
              "    }\n",
              "\n",
              "    [theme=dark] .colab-df-convert {\n",
              "      background-color: #3B4455;\n",
              "      fill: #D2E3FC;\n",
              "    }\n",
              "\n",
              "    [theme=dark] .colab-df-convert:hover {\n",
              "      background-color: #434B5C;\n",
              "      box-shadow: 0px 1px 3px 1px rgba(0, 0, 0, 0.15);\n",
              "      filter: drop-shadow(0px 1px 2px rgba(0, 0, 0, 0.3));\n",
              "      fill: #FFFFFF;\n",
              "    }\n",
              "  </style>\n",
              "\n",
              "    <script>\n",
              "      const buttonEl =\n",
              "        document.querySelector('#df-3400b189-e357-4c51-a693-43fe45f58ff5 button.colab-df-convert');\n",
              "      buttonEl.style.display =\n",
              "        google.colab.kernel.accessAllowed ? 'block' : 'none';\n",
              "\n",
              "      async function convertToInteractive(key) {\n",
              "        const element = document.querySelector('#df-3400b189-e357-4c51-a693-43fe45f58ff5');\n",
              "        const dataTable =\n",
              "          await google.colab.kernel.invokeFunction('convertToInteractive',\n",
              "                                                    [key], {});\n",
              "        if (!dataTable) return;\n",
              "\n",
              "        const docLinkHtml = 'Like what you see? Visit the ' +\n",
              "          '<a target=\"_blank\" href=https://colab.research.google.com/notebooks/data_table.ipynb>data table notebook</a>'\n",
              "          + ' to learn more about interactive tables.';\n",
              "        element.innerHTML = '';\n",
              "        dataTable['output_type'] = 'display_data';\n",
              "        await google.colab.output.renderOutput(dataTable, element);\n",
              "        const docLink = document.createElement('div');\n",
              "        docLink.innerHTML = docLinkHtml;\n",
              "        element.appendChild(docLink);\n",
              "      }\n",
              "    </script>\n",
              "  </div>\n",
              "\n",
              "\n",
              "<div id=\"df-c311f2e7-f04c-44af-bc46-6d83fa7339f5\">\n",
              "  <button class=\"colab-df-quickchart\" onclick=\"quickchart('df-c311f2e7-f04c-44af-bc46-6d83fa7339f5')\"\n",
              "            title=\"Suggest charts\"\n",
              "            style=\"display:none;\">\n",
              "\n",
              "<svg xmlns=\"http://www.w3.org/2000/svg\" height=\"24px\"viewBox=\"0 0 24 24\"\n",
              "     width=\"24px\">\n",
              "    <g>\n",
              "        <path d=\"M19 3H5c-1.1 0-2 .9-2 2v14c0 1.1.9 2 2 2h14c1.1 0 2-.9 2-2V5c0-1.1-.9-2-2-2zM9 17H7v-7h2v7zm4 0h-2V7h2v10zm4 0h-2v-4h2v4z\"/>\n",
              "    </g>\n",
              "</svg>\n",
              "  </button>\n",
              "\n",
              "<style>\n",
              "  .colab-df-quickchart {\n",
              "      --bg-color: #E8F0FE;\n",
              "      --fill-color: #1967D2;\n",
              "      --hover-bg-color: #E2EBFA;\n",
              "      --hover-fill-color: #174EA6;\n",
              "      --disabled-fill-color: #AAA;\n",
              "      --disabled-bg-color: #DDD;\n",
              "  }\n",
              "\n",
              "  [theme=dark] .colab-df-quickchart {\n",
              "      --bg-color: #3B4455;\n",
              "      --fill-color: #D2E3FC;\n",
              "      --hover-bg-color: #434B5C;\n",
              "      --hover-fill-color: #FFFFFF;\n",
              "      --disabled-bg-color: #3B4455;\n",
              "      --disabled-fill-color: #666;\n",
              "  }\n",
              "\n",
              "  .colab-df-quickchart {\n",
              "    background-color: var(--bg-color);\n",
              "    border: none;\n",
              "    border-radius: 50%;\n",
              "    cursor: pointer;\n",
              "    display: none;\n",
              "    fill: var(--fill-color);\n",
              "    height: 32px;\n",
              "    padding: 0;\n",
              "    width: 32px;\n",
              "  }\n",
              "\n",
              "  .colab-df-quickchart:hover {\n",
              "    background-color: var(--hover-bg-color);\n",
              "    box-shadow: 0 1px 2px rgba(60, 64, 67, 0.3), 0 1px 3px 1px rgba(60, 64, 67, 0.15);\n",
              "    fill: var(--button-hover-fill-color);\n",
              "  }\n",
              "\n",
              "  .colab-df-quickchart-complete:disabled,\n",
              "  .colab-df-quickchart-complete:disabled:hover {\n",
              "    background-color: var(--disabled-bg-color);\n",
              "    fill: var(--disabled-fill-color);\n",
              "    box-shadow: none;\n",
              "  }\n",
              "\n",
              "  .colab-df-spinner {\n",
              "    border: 2px solid var(--fill-color);\n",
              "    border-color: transparent;\n",
              "    border-bottom-color: var(--fill-color);\n",
              "    animation:\n",
              "      spin 1s steps(1) infinite;\n",
              "  }\n",
              "\n",
              "  @keyframes spin {\n",
              "    0% {\n",
              "      border-color: transparent;\n",
              "      border-bottom-color: var(--fill-color);\n",
              "      border-left-color: var(--fill-color);\n",
              "    }\n",
              "    20% {\n",
              "      border-color: transparent;\n",
              "      border-left-color: var(--fill-color);\n",
              "      border-top-color: var(--fill-color);\n",
              "    }\n",
              "    30% {\n",
              "      border-color: transparent;\n",
              "      border-left-color: var(--fill-color);\n",
              "      border-top-color: var(--fill-color);\n",
              "      border-right-color: var(--fill-color);\n",
              "    }\n",
              "    40% {\n",
              "      border-color: transparent;\n",
              "      border-right-color: var(--fill-color);\n",
              "      border-top-color: var(--fill-color);\n",
              "    }\n",
              "    60% {\n",
              "      border-color: transparent;\n",
              "      border-right-color: var(--fill-color);\n",
              "    }\n",
              "    80% {\n",
              "      border-color: transparent;\n",
              "      border-right-color: var(--fill-color);\n",
              "      border-bottom-color: var(--fill-color);\n",
              "    }\n",
              "    90% {\n",
              "      border-color: transparent;\n",
              "      border-bottom-color: var(--fill-color);\n",
              "    }\n",
              "  }\n",
              "</style>\n",
              "\n",
              "  <script>\n",
              "    async function quickchart(key) {\n",
              "      const quickchartButtonEl =\n",
              "        document.querySelector('#' + key + ' button');\n",
              "      quickchartButtonEl.disabled = true;  // To prevent multiple clicks.\n",
              "      quickchartButtonEl.classList.add('colab-df-spinner');\n",
              "      try {\n",
              "        const charts = await google.colab.kernel.invokeFunction(\n",
              "            'suggestCharts', [key], {});\n",
              "      } catch (error) {\n",
              "        console.error('Error during call to suggestCharts:', error);\n",
              "      }\n",
              "      quickchartButtonEl.classList.remove('colab-df-spinner');\n",
              "      quickchartButtonEl.classList.add('colab-df-quickchart-complete');\n",
              "    }\n",
              "    (() => {\n",
              "      let quickchartButtonEl =\n",
              "        document.querySelector('#df-c311f2e7-f04c-44af-bc46-6d83fa7339f5 button');\n",
              "      quickchartButtonEl.style.display =\n",
              "        google.colab.kernel.accessAllowed ? 'block' : 'none';\n",
              "    })();\n",
              "  </script>\n",
              "</div>\n",
              "\n",
              "    </div>\n",
              "  </div>\n"
            ],
            "application/vnd.google.colaboratory.intrinsic+json": {
              "type": "dataframe",
              "variable_name": "dados",
              "summary": "{\n  \"name\": \"dados\",\n  \"rows\": 661,\n  \"fields\": [\n    {\n      \"column\": \"ID_usu\\u00e1rio\",\n      \"properties\": {\n        \"dtype\": \"number\",\n        \"std\": 2635,\n        \"min\": 1003,\n        \"max\": 9982,\n        \"num_unique_values\": 635,\n        \"samples\": [\n          8451,\n          8662,\n          5898\n        ],\n        \"semantic_type\": \"\",\n        \"description\": \"\"\n      }\n    },\n    {\n      \"column\": \"G\\u00eanero\",\n      \"properties\": {\n        \"dtype\": \"category\",\n        \"num_unique_values\": 2,\n        \"samples\": [\n          \"F\",\n          \"M\"\n        ],\n        \"semantic_type\": \"\",\n        \"description\": \"\"\n      }\n    },\n    {\n      \"column\": \"Idade\",\n      \"properties\": {\n        \"dtype\": \"number\",\n        \"std\": 13,\n        \"min\": 16,\n        \"max\": 66,\n        \"num_unique_values\": 51,\n        \"samples\": [\n          52,\n          39\n        ],\n        \"semantic_type\": \"\",\n        \"description\": \"\"\n      }\n    },\n    {\n      \"column\": \"Estado_civil\",\n      \"properties\": {\n        \"dtype\": \"category\",\n        \"num_unique_values\": 2,\n        \"samples\": [\n          \"S\",\n          \"C\"\n        ],\n        \"semantic_type\": \"\",\n        \"description\": \"\"\n      }\n    },\n    {\n      \"column\": \"Atividade_no_site\",\n      \"properties\": {\n        \"dtype\": \"category\",\n        \"num_unique_values\": 3,\n        \"samples\": [\n          \"Espor\\u00e1dico\",\n          \"Intermitente\"\n        ],\n        \"semantic_type\": \"\",\n        \"description\": \"\"\n      }\n    },\n    {\n      \"column\": \"Pesquisou_eletronicos_12m\",\n      \"properties\": {\n        \"dtype\": \"category\",\n        \"num_unique_values\": 2,\n        \"samples\": [\n          \"N\\u00e3o\",\n          \"Sim\"\n        ],\n        \"semantic_type\": \"\",\n        \"description\": \"\"\n      }\n    },\n    {\n      \"column\": \"Comprou_eletronicos_12m\",\n      \"properties\": {\n        \"dtype\": \"category\",\n        \"num_unique_values\": 2,\n        \"samples\": [\n          \"N\\u00e3o\",\n          \"Sim\"\n        ],\n        \"semantic_type\": \"\",\n        \"description\": \"\"\n      }\n    },\n    {\n      \"column\": \"Pesquisou_m\\u00eddia_digital_18m\",\n      \"properties\": {\n        \"dtype\": \"category\",\n        \"num_unique_values\": 2,\n        \"samples\": [\n          \"N\\u00e3o\",\n          \"Sim\"\n        ],\n        \"semantic_type\": \"\",\n        \"description\": \"\"\n      }\n    },\n    {\n      \"column\": \"Comprou_m\\u00eddia_digital_18m\",\n      \"properties\": {\n        \"dtype\": \"category\",\n        \"num_unique_values\": 2,\n        \"samples\": [\n          \"Sim\",\n          \"N\\u00e3o\"\n        ],\n        \"semantic_type\": \"\",\n        \"description\": \"\"\n      }\n    },\n    {\n      \"column\": \"Forma_pagamento\",\n      \"properties\": {\n        \"dtype\": \"category\",\n        \"num_unique_values\": 4,\n        \"samples\": [\n          \"Website\",\n          \"Boleto banc\\u00e1rio\"\n        ],\n        \"semantic_type\": \"\",\n        \"description\": \"\"\n      }\n    },\n    {\n      \"column\": \"Ado\\u00e7\\u00e3o_eReader\",\n      \"properties\": {\n        \"dtype\": \"category\",\n        \"num_unique_values\": 4,\n        \"samples\": [\n          \"Innovator\",\n          \"Early Majority\"\n        ],\n        \"semantic_type\": \"\",\n        \"description\": \"\"\n      }\n    }\n  ]\n}"
            }
          },
          "metadata": {},
          "execution_count": 191
        }
      ]
    },
    {
      "cell_type": "markdown",
      "source": [
        "* Dados de entrada"
      ],
      "metadata": {
        "id": "Vsmxohp_LScg"
      }
    },
    {
      "cell_type": "markdown",
      "source": [
        "| Coluna                      | Descrição                                                                                                 |\n",
        "| --------------------------- | --------------------------------------------------------------------------------------------------------- |\n",
        "| ID_usuário                  | um identificador numérico associado a cada pessoa que possui uma conta no site.                           |\n",
        "| Gênero                      | M (masculino) ou F (feminino).                                                                            |\n",
        "| Idade                       | numérico.                                                                                                 |\n",
        "| Estado_civil                | C – casado, S – não casados (solteiros, viúvos, divorciados, etc.).                                       |\n",
        "| Atividade_no_site           | Esporádico, Intermitente, Frequente.                                                                      |\n",
        "| Pesquisou_eletronicos_12m   | Sim/Não indicando se o usuário andou pesquisando eletrônicos no site nos últimos 12 meses.              |\n",
        "| Comprou_eletronicos_12m     | Sim/Não indicando se o usuário comprou eletrônicos no site nos últimos 12 meses.                        |\n",
        "| Pesquisou_mídia_digital_18m | Sim/Não indicando se o usuário andou pesquisando mídia digital (como mp3) no site nos últimos 18 meses. |\n",
        "| Comprou_mídia_digital_18m   | Sim/Não indicando se o usuário comprou mídia digital (como mp3) no site nos últimos 18 meses.           |\n",
        "| Forma_pagamento             | Transferência; Website; Cartão e Boleto bancário.                                                         |"
      ],
      "metadata": {
        "id": "o_YkaBjSLzxi"
      }
    },
    {
      "cell_type": "markdown",
      "source": [
        "* Dados de saída: Adoção_eReader - Esse atributo será o rótulo classificador (label)"
      ],
      "metadata": {
        "id": "wz_bX1U2Lxyv"
      }
    },
    {
      "cell_type": "markdown",
      "source": [
        "| Variáveis de saída | Descrição                                                                                |\n",
        "| ------------------ | ---------------------------------------------------------------------------------------- |\n",
        "| Inovator           | quem comprou eReaders de geração anteriores até 1 semana após o lançamento.              |\n",
        "| Early Adopter      | quem comprou eReaders de geração anteriores entre 1 e 3 semanas após o lançamento.       |\n",
        "| Early Majority     | quem comprou eReaders de geração anteriores entre 3 semanas e 2 meses após o lançamento. |\n",
        "| Late Majority      | quem comprou eReaders de geração anteriores após 2 meses do lançamento.                  |"
      ],
      "metadata": {
        "id": "bX7nBCwpNwpO"
      }
    },
    {
      "cell_type": "markdown",
      "source": [
        "# 4. Processamento / Tratamento de Dados"
      ],
      "metadata": {
        "id": "Bj7Bsik3PlwK"
      }
    },
    {
      "cell_type": "markdown",
      "source": [
        "Primeiramente vamos extrair informações básicas dos dados."
      ],
      "metadata": {
        "id": "xwx9uTvcrcKY"
      }
    },
    {
      "cell_type": "code",
      "source": [
        "dados.info()"
      ],
      "metadata": {
        "colab": {
          "base_uri": "https://localhost:8080/"
        },
        "id": "4z4jxP_uLj-v",
        "outputId": "25719ae9-c340-4c6e-c6ec-4bd783de3491"
      },
      "execution_count": 192,
      "outputs": [
        {
          "output_type": "stream",
          "name": "stdout",
          "text": [
            "<class 'pandas.core.frame.DataFrame'>\n",
            "RangeIndex: 661 entries, 0 to 660\n",
            "Data columns (total 11 columns):\n",
            " #   Column                       Non-Null Count  Dtype \n",
            "---  ------                       --------------  ----- \n",
            " 0   ID_usuário                   661 non-null    int64 \n",
            " 1   Gênero                       661 non-null    object\n",
            " 2   Idade                        661 non-null    int64 \n",
            " 3   Estado_civil                 661 non-null    object\n",
            " 4   Atividade_no_site            661 non-null    object\n",
            " 5   Pesquisou_eletronicos_12m    661 non-null    object\n",
            " 6   Comprou_eletronicos_12m      661 non-null    object\n",
            " 7   Pesquisou_mídia_digital_18m  661 non-null    object\n",
            " 8   Comprou_mídia_digital_18m    661 non-null    object\n",
            " 9   Forma_pagamento              661 non-null    object\n",
            " 10  Adoção_eReader               661 non-null    object\n",
            "dtypes: int64(2), object(9)\n",
            "memory usage: 56.9+ KB\n"
          ]
        }
      ]
    },
    {
      "cell_type": "code",
      "source": [
        "dados.duplicated().sum()"
      ],
      "metadata": {
        "colab": {
          "base_uri": "https://localhost:8080/"
        },
        "id": "wBSNrCPSPzhF",
        "outputId": "04119eb8-1da2-4dfe-f988-836ed6acf003"
      },
      "execution_count": 193,
      "outputs": [
        {
          "output_type": "execute_result",
          "data": {
            "text/plain": [
              "0"
            ]
          },
          "metadata": {},
          "execution_count": 193
        }
      ]
    },
    {
      "cell_type": "markdown",
      "source": [
        "Com isto, idenficamos que:\n",
        "* Não há dados nulos em nossa base\n",
        "* Não há dados duplicados em nossa base\n",
        "* Maioria das colunas (features) são do tipo categóricas\n",
        "\n",
        "Vamos investigar os valores únicos de cada coluna categórica"
      ],
      "metadata": {
        "id": "dohcEoVcrm90"
      }
    },
    {
      "cell_type": "code",
      "source": [
        "for coluna in dados.select_dtypes(include=['object']).columns:\n",
        "  print(f\"Valores únicos da coluna '{coluna}': {dados[coluna].unique()}\")"
      ],
      "metadata": {
        "colab": {
          "base_uri": "https://localhost:8080/"
        },
        "id": "ZLaZFCatQJkJ",
        "outputId": "3ff5a666-ef1f-4e80-d49f-2f5babefa578"
      },
      "execution_count": 194,
      "outputs": [
        {
          "output_type": "stream",
          "name": "stdout",
          "text": [
            "Valores únicos da coluna 'Gênero': ['M' 'F']\n",
            "Valores únicos da coluna 'Estado_civil': ['C' 'S']\n",
            "Valores únicos da coluna 'Atividade_no_site': ['Esporádico' 'Intermitente' 'Frequênte']\n",
            "Valores únicos da coluna 'Pesquisou_eletronicos_12m': ['Sim' 'Não']\n",
            "Valores únicos da coluna 'Comprou_eletronicos_12m': ['Sim' 'Não']\n",
            "Valores únicos da coluna 'Pesquisou_mídia_digital_18m': ['Sim' 'Não']\n",
            "Valores únicos da coluna 'Comprou_mídia_digital_18m': ['Não' 'Sim']\n",
            "Valores únicos da coluna 'Forma_pagamento': ['Transferência' 'Website' 'Cartão de crédito' 'Boleto bancário']\n",
            "Valores únicos da coluna 'Adoção_eReader': ['Late Majority' 'Innovator' 'Early Adopter' 'Early Majority']\n"
          ]
        }
      ]
    },
    {
      "cell_type": "markdown",
      "source": [
        "Vamos utilizar OneHotEncoder para transformar os dados categóricos em dados numéricos com o código abaixo:"
      ],
      "metadata": {
        "id": "juT81HftsAY-"
      }
    },
    {
      "cell_type": "code",
      "source": [
        "# Criar uma cópia do DataFrame para evitar modificar o original\n",
        "dados_encoded = dados.copy()\n",
        "\n",
        "# Converter a coluna 'Adoção_eReader' para tipo categórico\n",
        "dados_encoded['Adoção_eReader'] = dados_encoded['Adoção_eReader'].astype('category')\n",
        "\n",
        "# Lista das colunas do tipo 'object' (exceto a última)\n",
        "colunas_object = dados_encoded.select_dtypes(include=['object']).columns\n",
        "\n",
        "# Aplicar OneHotEncoder para cada coluna do tipo 'object'\n",
        "for coluna in colunas_object:\n",
        "  encoder = OneHotEncoder(handle_unknown='ignore', sparse_output=False)\n",
        "  encoded_data = encoder.fit_transform(dados_encoded[[coluna]])\n",
        "  feature_names = [f\"{coluna}_{category}\" for category in encoder.categories_[0]]\n",
        "  encoded_df = pd.DataFrame(encoded_data, columns=feature_names)\n",
        "  dados_encoded = pd.concat([dados_encoded.drop(coluna, axis=1), encoded_df], axis=1)\n",
        "\n",
        "dados_encoded.info()\n",
        "dados_encoded.head()"
      ],
      "metadata": {
        "colab": {
          "base_uri": "https://localhost:8080/",
          "height": 776
        },
        "id": "zl0Cxq7dQjI8",
        "outputId": "75d6f90b-5fde-4609-b07e-491795d6a32f"
      },
      "execution_count": 195,
      "outputs": [
        {
          "output_type": "stream",
          "name": "stdout",
          "text": [
            "<class 'pandas.core.frame.DataFrame'>\n",
            "RangeIndex: 661 entries, 0 to 660\n",
            "Data columns (total 22 columns):\n",
            " #   Column                             Non-Null Count  Dtype   \n",
            "---  ------                             --------------  -----   \n",
            " 0   ID_usuário                         661 non-null    int64   \n",
            " 1   Idade                              661 non-null    int64   \n",
            " 2   Adoção_eReader                     661 non-null    category\n",
            " 3   Gênero_F                           661 non-null    float64 \n",
            " 4   Gênero_M                           661 non-null    float64 \n",
            " 5   Estado_civil_C                     661 non-null    float64 \n",
            " 6   Estado_civil_S                     661 non-null    float64 \n",
            " 7   Atividade_no_site_Esporádico       661 non-null    float64 \n",
            " 8   Atividade_no_site_Frequênte        661 non-null    float64 \n",
            " 9   Atividade_no_site_Intermitente     661 non-null    float64 \n",
            " 10  Pesquisou_eletronicos_12m_Não      661 non-null    float64 \n",
            " 11  Pesquisou_eletronicos_12m_Sim      661 non-null    float64 \n",
            " 12  Comprou_eletronicos_12m_Não        661 non-null    float64 \n",
            " 13  Comprou_eletronicos_12m_Sim        661 non-null    float64 \n",
            " 14  Pesquisou_mídia_digital_18m_Não    661 non-null    float64 \n",
            " 15  Pesquisou_mídia_digital_18m_Sim    661 non-null    float64 \n",
            " 16  Comprou_mídia_digital_18m_Não      661 non-null    float64 \n",
            " 17  Comprou_mídia_digital_18m_Sim      661 non-null    float64 \n",
            " 18  Forma_pagamento_Boleto bancário    661 non-null    float64 \n",
            " 19  Forma_pagamento_Cartão de crédito  661 non-null    float64 \n",
            " 20  Forma_pagamento_Transferência      661 non-null    float64 \n",
            " 21  Forma_pagamento_Website            661 non-null    float64 \n",
            "dtypes: category(1), float64(19), int64(2)\n",
            "memory usage: 109.4 KB\n"
          ]
        },
        {
          "output_type": "execute_result",
          "data": {
            "text/plain": [
              "   ID_usuário  Idade Adoção_eReader  Gênero_F  Gênero_M  Estado_civil_C  \\\n",
              "0        9552     61  Late Majority       0.0       1.0             1.0   \n",
              "1        6757     27      Innovator       0.0       1.0             1.0   \n",
              "2        3599     29  Early Adopter       1.0       0.0             1.0   \n",
              "3        6811     49  Early Adopter       0.0       1.0             1.0   \n",
              "4        4104     29  Late Majority       0.0       1.0             0.0   \n",
              "\n",
              "   Estado_civil_S  Atividade_no_site_Esporádico  Atividade_no_site_Frequênte  \\\n",
              "0             0.0                           1.0                          0.0   \n",
              "1             0.0                           0.0                          0.0   \n",
              "2             0.0                           1.0                          0.0   \n",
              "3             0.0                           1.0                          0.0   \n",
              "4             1.0                           1.0                          0.0   \n",
              "\n",
              "   Atividade_no_site_Intermitente  ...  Comprou_eletronicos_12m_Não  \\\n",
              "0                             0.0  ...                          0.0   \n",
              "1                             1.0  ...                          1.0   \n",
              "2                             0.0  ...                          0.0   \n",
              "3                             0.0  ...                          0.0   \n",
              "4                             0.0  ...                          0.0   \n",
              "\n",
              "   Comprou_eletronicos_12m_Sim  Pesquisou_mídia_digital_18m_Não  \\\n",
              "0                          1.0                              0.0   \n",
              "1                          0.0                              0.0   \n",
              "2                          1.0                              0.0   \n",
              "3                          1.0                              0.0   \n",
              "4                          1.0                              0.0   \n",
              "\n",
              "   Pesquisou_mídia_digital_18m_Sim  Comprou_mídia_digital_18m_Não  \\\n",
              "0                              1.0                            1.0   \n",
              "1                              1.0                            1.0   \n",
              "2                              1.0                            0.0   \n",
              "3                              1.0                            0.0   \n",
              "4                              1.0                            1.0   \n",
              "\n",
              "   Comprou_mídia_digital_18m_Sim  Forma_pagamento_Boleto bancário  \\\n",
              "0                            0.0                              0.0   \n",
              "1                            0.0                              0.0   \n",
              "2                            1.0                              0.0   \n",
              "3                            1.0                              0.0   \n",
              "4                            0.0                              0.0   \n",
              "\n",
              "   Forma_pagamento_Cartão de crédito  Forma_pagamento_Transferência  \\\n",
              "0                                0.0                            1.0   \n",
              "1                                0.0                            1.0   \n",
              "2                                0.0                            1.0   \n",
              "3                                0.0                            0.0   \n",
              "4                                0.0                            0.0   \n",
              "\n",
              "   Forma_pagamento_Website  \n",
              "0                      0.0  \n",
              "1                      0.0  \n",
              "2                      0.0  \n",
              "3                      1.0  \n",
              "4                      1.0  \n",
              "\n",
              "[5 rows x 22 columns]"
            ],
            "text/html": [
              "\n",
              "  <div id=\"df-52bff65b-a282-41e1-917d-85b85e8b83c8\" class=\"colab-df-container\">\n",
              "    <div>\n",
              "<style scoped>\n",
              "    .dataframe tbody tr th:only-of-type {\n",
              "        vertical-align: middle;\n",
              "    }\n",
              "\n",
              "    .dataframe tbody tr th {\n",
              "        vertical-align: top;\n",
              "    }\n",
              "\n",
              "    .dataframe thead th {\n",
              "        text-align: right;\n",
              "    }\n",
              "</style>\n",
              "<table border=\"1\" class=\"dataframe\">\n",
              "  <thead>\n",
              "    <tr style=\"text-align: right;\">\n",
              "      <th></th>\n",
              "      <th>ID_usuário</th>\n",
              "      <th>Idade</th>\n",
              "      <th>Adoção_eReader</th>\n",
              "      <th>Gênero_F</th>\n",
              "      <th>Gênero_M</th>\n",
              "      <th>Estado_civil_C</th>\n",
              "      <th>Estado_civil_S</th>\n",
              "      <th>Atividade_no_site_Esporádico</th>\n",
              "      <th>Atividade_no_site_Frequênte</th>\n",
              "      <th>Atividade_no_site_Intermitente</th>\n",
              "      <th>...</th>\n",
              "      <th>Comprou_eletronicos_12m_Não</th>\n",
              "      <th>Comprou_eletronicos_12m_Sim</th>\n",
              "      <th>Pesquisou_mídia_digital_18m_Não</th>\n",
              "      <th>Pesquisou_mídia_digital_18m_Sim</th>\n",
              "      <th>Comprou_mídia_digital_18m_Não</th>\n",
              "      <th>Comprou_mídia_digital_18m_Sim</th>\n",
              "      <th>Forma_pagamento_Boleto bancário</th>\n",
              "      <th>Forma_pagamento_Cartão de crédito</th>\n",
              "      <th>Forma_pagamento_Transferência</th>\n",
              "      <th>Forma_pagamento_Website</th>\n",
              "    </tr>\n",
              "  </thead>\n",
              "  <tbody>\n",
              "    <tr>\n",
              "      <th>0</th>\n",
              "      <td>9552</td>\n",
              "      <td>61</td>\n",
              "      <td>Late Majority</td>\n",
              "      <td>0.0</td>\n",
              "      <td>1.0</td>\n",
              "      <td>1.0</td>\n",
              "      <td>0.0</td>\n",
              "      <td>1.0</td>\n",
              "      <td>0.0</td>\n",
              "      <td>0.0</td>\n",
              "      <td>...</td>\n",
              "      <td>0.0</td>\n",
              "      <td>1.0</td>\n",
              "      <td>0.0</td>\n",
              "      <td>1.0</td>\n",
              "      <td>1.0</td>\n",
              "      <td>0.0</td>\n",
              "      <td>0.0</td>\n",
              "      <td>0.0</td>\n",
              "      <td>1.0</td>\n",
              "      <td>0.0</td>\n",
              "    </tr>\n",
              "    <tr>\n",
              "      <th>1</th>\n",
              "      <td>6757</td>\n",
              "      <td>27</td>\n",
              "      <td>Innovator</td>\n",
              "      <td>0.0</td>\n",
              "      <td>1.0</td>\n",
              "      <td>1.0</td>\n",
              "      <td>0.0</td>\n",
              "      <td>0.0</td>\n",
              "      <td>0.0</td>\n",
              "      <td>1.0</td>\n",
              "      <td>...</td>\n",
              "      <td>1.0</td>\n",
              "      <td>0.0</td>\n",
              "      <td>0.0</td>\n",
              "      <td>1.0</td>\n",
              "      <td>1.0</td>\n",
              "      <td>0.0</td>\n",
              "      <td>0.0</td>\n",
              "      <td>0.0</td>\n",
              "      <td>1.0</td>\n",
              "      <td>0.0</td>\n",
              "    </tr>\n",
              "    <tr>\n",
              "      <th>2</th>\n",
              "      <td>3599</td>\n",
              "      <td>29</td>\n",
              "      <td>Early Adopter</td>\n",
              "      <td>1.0</td>\n",
              "      <td>0.0</td>\n",
              "      <td>1.0</td>\n",
              "      <td>0.0</td>\n",
              "      <td>1.0</td>\n",
              "      <td>0.0</td>\n",
              "      <td>0.0</td>\n",
              "      <td>...</td>\n",
              "      <td>0.0</td>\n",
              "      <td>1.0</td>\n",
              "      <td>0.0</td>\n",
              "      <td>1.0</td>\n",
              "      <td>0.0</td>\n",
              "      <td>1.0</td>\n",
              "      <td>0.0</td>\n",
              "      <td>0.0</td>\n",
              "      <td>1.0</td>\n",
              "      <td>0.0</td>\n",
              "    </tr>\n",
              "    <tr>\n",
              "      <th>3</th>\n",
              "      <td>6811</td>\n",
              "      <td>49</td>\n",
              "      <td>Early Adopter</td>\n",
              "      <td>0.0</td>\n",
              "      <td>1.0</td>\n",
              "      <td>1.0</td>\n",
              "      <td>0.0</td>\n",
              "      <td>1.0</td>\n",
              "      <td>0.0</td>\n",
              "      <td>0.0</td>\n",
              "      <td>...</td>\n",
              "      <td>0.0</td>\n",
              "      <td>1.0</td>\n",
              "      <td>0.0</td>\n",
              "      <td>1.0</td>\n",
              "      <td>0.0</td>\n",
              "      <td>1.0</td>\n",
              "      <td>0.0</td>\n",
              "      <td>0.0</td>\n",
              "      <td>0.0</td>\n",
              "      <td>1.0</td>\n",
              "    </tr>\n",
              "    <tr>\n",
              "      <th>4</th>\n",
              "      <td>4104</td>\n",
              "      <td>29</td>\n",
              "      <td>Late Majority</td>\n",
              "      <td>0.0</td>\n",
              "      <td>1.0</td>\n",
              "      <td>0.0</td>\n",
              "      <td>1.0</td>\n",
              "      <td>1.0</td>\n",
              "      <td>0.0</td>\n",
              "      <td>0.0</td>\n",
              "      <td>...</td>\n",
              "      <td>0.0</td>\n",
              "      <td>1.0</td>\n",
              "      <td>0.0</td>\n",
              "      <td>1.0</td>\n",
              "      <td>1.0</td>\n",
              "      <td>0.0</td>\n",
              "      <td>0.0</td>\n",
              "      <td>0.0</td>\n",
              "      <td>0.0</td>\n",
              "      <td>1.0</td>\n",
              "    </tr>\n",
              "  </tbody>\n",
              "</table>\n",
              "<p>5 rows × 22 columns</p>\n",
              "</div>\n",
              "    <div class=\"colab-df-buttons\">\n",
              "\n",
              "  <div class=\"colab-df-container\">\n",
              "    <button class=\"colab-df-convert\" onclick=\"convertToInteractive('df-52bff65b-a282-41e1-917d-85b85e8b83c8')\"\n",
              "            title=\"Convert this dataframe to an interactive table.\"\n",
              "            style=\"display:none;\">\n",
              "\n",
              "  <svg xmlns=\"http://www.w3.org/2000/svg\" height=\"24px\" viewBox=\"0 -960 960 960\">\n",
              "    <path d=\"M120-120v-720h720v720H120Zm60-500h600v-160H180v160Zm220 220h160v-160H400v160Zm0 220h160v-160H400v160ZM180-400h160v-160H180v160Zm440 0h160v-160H620v160ZM180-180h160v-160H180v160Zm440 0h160v-160H620v160Z\"/>\n",
              "  </svg>\n",
              "    </button>\n",
              "\n",
              "  <style>\n",
              "    .colab-df-container {\n",
              "      display:flex;\n",
              "      gap: 12px;\n",
              "    }\n",
              "\n",
              "    .colab-df-convert {\n",
              "      background-color: #E8F0FE;\n",
              "      border: none;\n",
              "      border-radius: 50%;\n",
              "      cursor: pointer;\n",
              "      display: none;\n",
              "      fill: #1967D2;\n",
              "      height: 32px;\n",
              "      padding: 0 0 0 0;\n",
              "      width: 32px;\n",
              "    }\n",
              "\n",
              "    .colab-df-convert:hover {\n",
              "      background-color: #E2EBFA;\n",
              "      box-shadow: 0px 1px 2px rgba(60, 64, 67, 0.3), 0px 1px 3px 1px rgba(60, 64, 67, 0.15);\n",
              "      fill: #174EA6;\n",
              "    }\n",
              "\n",
              "    .colab-df-buttons div {\n",
              "      margin-bottom: 4px;\n",
              "    }\n",
              "\n",
              "    [theme=dark] .colab-df-convert {\n",
              "      background-color: #3B4455;\n",
              "      fill: #D2E3FC;\n",
              "    }\n",
              "\n",
              "    [theme=dark] .colab-df-convert:hover {\n",
              "      background-color: #434B5C;\n",
              "      box-shadow: 0px 1px 3px 1px rgba(0, 0, 0, 0.15);\n",
              "      filter: drop-shadow(0px 1px 2px rgba(0, 0, 0, 0.3));\n",
              "      fill: #FFFFFF;\n",
              "    }\n",
              "  </style>\n",
              "\n",
              "    <script>\n",
              "      const buttonEl =\n",
              "        document.querySelector('#df-52bff65b-a282-41e1-917d-85b85e8b83c8 button.colab-df-convert');\n",
              "      buttonEl.style.display =\n",
              "        google.colab.kernel.accessAllowed ? 'block' : 'none';\n",
              "\n",
              "      async function convertToInteractive(key) {\n",
              "        const element = document.querySelector('#df-52bff65b-a282-41e1-917d-85b85e8b83c8');\n",
              "        const dataTable =\n",
              "          await google.colab.kernel.invokeFunction('convertToInteractive',\n",
              "                                                    [key], {});\n",
              "        if (!dataTable) return;\n",
              "\n",
              "        const docLinkHtml = 'Like what you see? Visit the ' +\n",
              "          '<a target=\"_blank\" href=https://colab.research.google.com/notebooks/data_table.ipynb>data table notebook</a>'\n",
              "          + ' to learn more about interactive tables.';\n",
              "        element.innerHTML = '';\n",
              "        dataTable['output_type'] = 'display_data';\n",
              "        await google.colab.output.renderOutput(dataTable, element);\n",
              "        const docLink = document.createElement('div');\n",
              "        docLink.innerHTML = docLinkHtml;\n",
              "        element.appendChild(docLink);\n",
              "      }\n",
              "    </script>\n",
              "  </div>\n",
              "\n",
              "\n",
              "<div id=\"df-9233c618-3125-46c2-b32f-4b7aebe73abd\">\n",
              "  <button class=\"colab-df-quickchart\" onclick=\"quickchart('df-9233c618-3125-46c2-b32f-4b7aebe73abd')\"\n",
              "            title=\"Suggest charts\"\n",
              "            style=\"display:none;\">\n",
              "\n",
              "<svg xmlns=\"http://www.w3.org/2000/svg\" height=\"24px\"viewBox=\"0 0 24 24\"\n",
              "     width=\"24px\">\n",
              "    <g>\n",
              "        <path d=\"M19 3H5c-1.1 0-2 .9-2 2v14c0 1.1.9 2 2 2h14c1.1 0 2-.9 2-2V5c0-1.1-.9-2-2-2zM9 17H7v-7h2v7zm4 0h-2V7h2v10zm4 0h-2v-4h2v4z\"/>\n",
              "    </g>\n",
              "</svg>\n",
              "  </button>\n",
              "\n",
              "<style>\n",
              "  .colab-df-quickchart {\n",
              "      --bg-color: #E8F0FE;\n",
              "      --fill-color: #1967D2;\n",
              "      --hover-bg-color: #E2EBFA;\n",
              "      --hover-fill-color: #174EA6;\n",
              "      --disabled-fill-color: #AAA;\n",
              "      --disabled-bg-color: #DDD;\n",
              "  }\n",
              "\n",
              "  [theme=dark] .colab-df-quickchart {\n",
              "      --bg-color: #3B4455;\n",
              "      --fill-color: #D2E3FC;\n",
              "      --hover-bg-color: #434B5C;\n",
              "      --hover-fill-color: #FFFFFF;\n",
              "      --disabled-bg-color: #3B4455;\n",
              "      --disabled-fill-color: #666;\n",
              "  }\n",
              "\n",
              "  .colab-df-quickchart {\n",
              "    background-color: var(--bg-color);\n",
              "    border: none;\n",
              "    border-radius: 50%;\n",
              "    cursor: pointer;\n",
              "    display: none;\n",
              "    fill: var(--fill-color);\n",
              "    height: 32px;\n",
              "    padding: 0;\n",
              "    width: 32px;\n",
              "  }\n",
              "\n",
              "  .colab-df-quickchart:hover {\n",
              "    background-color: var(--hover-bg-color);\n",
              "    box-shadow: 0 1px 2px rgba(60, 64, 67, 0.3), 0 1px 3px 1px rgba(60, 64, 67, 0.15);\n",
              "    fill: var(--button-hover-fill-color);\n",
              "  }\n",
              "\n",
              "  .colab-df-quickchart-complete:disabled,\n",
              "  .colab-df-quickchart-complete:disabled:hover {\n",
              "    background-color: var(--disabled-bg-color);\n",
              "    fill: var(--disabled-fill-color);\n",
              "    box-shadow: none;\n",
              "  }\n",
              "\n",
              "  .colab-df-spinner {\n",
              "    border: 2px solid var(--fill-color);\n",
              "    border-color: transparent;\n",
              "    border-bottom-color: var(--fill-color);\n",
              "    animation:\n",
              "      spin 1s steps(1) infinite;\n",
              "  }\n",
              "\n",
              "  @keyframes spin {\n",
              "    0% {\n",
              "      border-color: transparent;\n",
              "      border-bottom-color: var(--fill-color);\n",
              "      border-left-color: var(--fill-color);\n",
              "    }\n",
              "    20% {\n",
              "      border-color: transparent;\n",
              "      border-left-color: var(--fill-color);\n",
              "      border-top-color: var(--fill-color);\n",
              "    }\n",
              "    30% {\n",
              "      border-color: transparent;\n",
              "      border-left-color: var(--fill-color);\n",
              "      border-top-color: var(--fill-color);\n",
              "      border-right-color: var(--fill-color);\n",
              "    }\n",
              "    40% {\n",
              "      border-color: transparent;\n",
              "      border-right-color: var(--fill-color);\n",
              "      border-top-color: var(--fill-color);\n",
              "    }\n",
              "    60% {\n",
              "      border-color: transparent;\n",
              "      border-right-color: var(--fill-color);\n",
              "    }\n",
              "    80% {\n",
              "      border-color: transparent;\n",
              "      border-right-color: var(--fill-color);\n",
              "      border-bottom-color: var(--fill-color);\n",
              "    }\n",
              "    90% {\n",
              "      border-color: transparent;\n",
              "      border-bottom-color: var(--fill-color);\n",
              "    }\n",
              "  }\n",
              "</style>\n",
              "\n",
              "  <script>\n",
              "    async function quickchart(key) {\n",
              "      const quickchartButtonEl =\n",
              "        document.querySelector('#' + key + ' button');\n",
              "      quickchartButtonEl.disabled = true;  // To prevent multiple clicks.\n",
              "      quickchartButtonEl.classList.add('colab-df-spinner');\n",
              "      try {\n",
              "        const charts = await google.colab.kernel.invokeFunction(\n",
              "            'suggestCharts', [key], {});\n",
              "      } catch (error) {\n",
              "        console.error('Error during call to suggestCharts:', error);\n",
              "      }\n",
              "      quickchartButtonEl.classList.remove('colab-df-spinner');\n",
              "      quickchartButtonEl.classList.add('colab-df-quickchart-complete');\n",
              "    }\n",
              "    (() => {\n",
              "      let quickchartButtonEl =\n",
              "        document.querySelector('#df-9233c618-3125-46c2-b32f-4b7aebe73abd button');\n",
              "      quickchartButtonEl.style.display =\n",
              "        google.colab.kernel.accessAllowed ? 'block' : 'none';\n",
              "    })();\n",
              "  </script>\n",
              "</div>\n",
              "\n",
              "    </div>\n",
              "  </div>\n"
            ],
            "application/vnd.google.colaboratory.intrinsic+json": {
              "type": "dataframe",
              "variable_name": "dados_encoded"
            }
          },
          "metadata": {},
          "execution_count": 195
        }
      ]
    },
    {
      "cell_type": "markdown",
      "source": [
        "# 5. Análise e Exploração dos dados"
      ],
      "metadata": {
        "id": "miuDh_TLSMXk"
      }
    },
    {
      "cell_type": "markdown",
      "source": [
        "Nossa base de dados é composta com uma população mais velha que realiza compras, como pode ser visto no histograma abaixo."
      ],
      "metadata": {
        "id": "u-pAal6fsd8P"
      }
    },
    {
      "cell_type": "code",
      "source": [
        "# Histograma da idade\n",
        "plt.figure(figsize=(8, 6))\n",
        "sns.histplot(dados_encoded['Idade'], kde=True)\n",
        "plt.title('Histograma da Idade')\n",
        "plt.xlabel('Idade')\n",
        "plt.ylabel('Frequência')\n",
        "plt.show()"
      ],
      "metadata": {
        "colab": {
          "base_uri": "https://localhost:8080/",
          "height": 564
        },
        "id": "QRADaszbSJip",
        "outputId": "9c372194-e1b5-48a0-cae0-6b7b1e73d038"
      },
      "execution_count": 196,
      "outputs": [
        {
          "output_type": "display_data",
          "data": {
            "text/plain": [
              "<Figure size 800x600 with 1 Axes>"
            ],
            "image/png": "[encoded data removed]"
          },
          "metadata": {}
        }
      ]
    },
    {
      "cell_type": "markdown",
      "source": [
        "Aqueles que compraram com um delay de 1 a 3 semanas após lançamento lideram a base, sendo o último aqueles que compram até 1 semana após o lançamento."
      ],
      "metadata": {
        "id": "lRo8x9sVszkg"
      }
    },
    {
      "cell_type": "code",
      "source": [
        "# Gráfico de barras da Adoção_eReader\n",
        "plt.figure(figsize=(8, 6))\n",
        "order = ['Innovator', 'Early Adopter', 'Early Majority', 'Late Majority']\n",
        "sns.countplot(x='Adoção_eReader', data=dados_encoded, order=order)\n",
        "plt.title('Contagem de Usuários por Grupo de Adoção')\n",
        "plt.xlabel('Grupo de Adoção')\n",
        "plt.ylabel('Contagem')\n",
        "plt.show()"
      ],
      "metadata": {
        "colab": {
          "base_uri": "https://localhost:8080/",
          "height": 565
        },
        "id": "a7OdQTctTK07",
        "outputId": "712dd376-19c2-4772-eb19-366603e7cb3e"
      },
      "execution_count": 210,
      "outputs": [
        {
          "output_type": "display_data",
          "data": {
            "text/plain": [
              "<Figure size 800x600 with 1 Axes>"
            ],
            "image/png": "[encoded data removed]"
          },
          "metadata": {}
        }
      ]
    },
    {
      "cell_type": "markdown",
      "source": [
        "| Variáveis de saída | Descrição                                                                                |\n",
        "| ------------------ | ---------------------------------------------------------------------------------------- |\n",
        "| Inovator           | quem comprou eReaders de geração anteriores até 1 semana após o lançamento.              |\n",
        "| Early Adopter      | quem comprou eReaders de geração anteriores entre 1 e 3 semanas após o lançamento.       |\n",
        "| Early Majority     | quem comprou eReaders de geração anteriores entre 3 semanas e 2 meses após o lançamento. |\n",
        "| Late Majority      | quem comprou eReaders de geração anteriores após 2 meses do"
      ],
      "metadata": {
        "id": "23bXpxd6tPZa"
      }
    },
    {
      "cell_type": "markdown",
      "source": [
        "Pessoas casadas aparentam ter costume de comprar mais livros do que pessoas não-casadas."
      ],
      "metadata": {
        "id": "AV2CaWn8uplk"
      }
    },
    {
      "cell_type": "code",
      "source": [
        "plt.figure(figsize=(8, 6))\n",
        "sns.countplot(x='Estado_civil_C', hue='Adoção_eReader', data=dados_encoded)\n",
        "plt.title('Contagem de Adoção de eReader')\n",
        "plt.xlabel('Estado civil do comprador: Não casado (0) / Casado (1)')\n",
        "plt.ylabel('Contagem')\n",
        "plt.show()"
      ],
      "metadata": {
        "colab": {
          "base_uri": "https://localhost:8080/",
          "height": 564
        },
        "id": "owrP34uYTKyu",
        "outputId": "989935de-056c-4c65-a85c-04b57714c1dc"
      },
      "execution_count": 198,
      "outputs": [
        {
          "output_type": "display_data",
          "data": {
            "text/plain": [
              "<Figure size 800x600 with 1 Axes>"
            ],
            "image/png": "[encoded data removed]"
          },
          "metadata": {}
        }
      ]
    },
    {
      "cell_type": "markdown",
      "source": [
        "# 6. Preparação dos Dados para os Modelos de Aprendizado de Máquina"
      ],
      "metadata": {
        "id": "ewJAIeuCVqtN"
      }
    },
    {
      "cell_type": "markdown",
      "source": [
        "Vamos separar em dados de entrada e saída.\n",
        "* Saída: coluna devidamente categorizada 'Adoção_eReader'\n",
        "* Entrada: Todas as colunas de dados_encoded com exceção do 'ID_usuário' e 'Adoção_eReader'"
      ],
      "metadata": {
        "id": "9PESxAG_uyHD"
      }
    },
    {
      "cell_type": "code",
      "source": [
        "y = dados_encoded['Adoção_eReader']\n",
        "X = dados_encoded.drop(['ID_usuário', 'Adoção_eReader'], axis=1)"
      ],
      "metadata": {
        "id": "1U7wOcxNWcFI"
      },
      "execution_count": 199,
      "outputs": []
    },
    {
      "cell_type": "markdown",
      "source": [
        "Uma vez que os dados estão devidamente separados. Utilizaremos o train_test_split para separar o conjunto em dados de treino e teste."
      ],
      "metadata": {
        "id": "C_0eWpUXvudk"
      }
    },
    {
      "cell_type": "code",
      "source": [
        "x_train, x_test, y_train, y_test = train_test_split(X, y, test_size=0.25, random_state=42)"
      ],
      "metadata": {
        "id": "C95mbLveW7gK"
      },
      "execution_count": 200,
      "outputs": []
    },
    {
      "cell_type": "markdown",
      "source": [
        "# 7. Aplicação de Modelos de Aprendizado de Máquina"
      ],
      "metadata": {
        "id": "lvemRArRVwml"
      }
    },
    {
      "cell_type": "markdown",
      "source": [
        "Por fim, vamos treinar o modelo de árvore de decisão. Analisaremos os resultados na seção seguinte."
      ],
      "metadata": {
        "id": "O2sNKaYmvrie"
      }
    },
    {
      "cell_type": "code",
      "source": [
        "# Crie e treine o modelo de Árvore de Decisão\n",
        "modelo_arvore = DecisionTreeClassifier()\n",
        "modelo_arvore.fit(x_train, y_train)\n",
        "\n",
        "# Faça previsões no conjunto de teste\n",
        "y_pred = modelo_arvore.predict(x_test)"
      ],
      "metadata": {
        "id": "r4eozNO8YeK2"
      },
      "execution_count": 201,
      "outputs": []
    },
    {
      "cell_type": "markdown",
      "source": [
        "# 8. Avaliação dos Modelos de Aprendizado de Máquina e Discussão dos Resultados"
      ],
      "metadata": {
        "id": "BMd-EpcrVw_T"
      }
    },
    {
      "cell_type": "markdown",
      "source": [
        "# 8.1. Avaliação sem considerar hiperparâmetros"
      ],
      "metadata": {
        "id": "k6AKWqZOijCV"
      }
    },
    {
      "cell_type": "code",
      "source": [
        "# Avalie o desempenho do modelo\n",
        "acuracia = accuracy_score(y_test, y_pred)\n",
        "print(f\"Acurácia: {acuracia}\")\n",
        "\n",
        "# Relatório de Classificação\n",
        "print(\"\\nRelatório de Classificação:\")\n",
        "print(classification_report(y_test, y_pred))"
      ],
      "metadata": {
        "colab": {
          "base_uri": "https://localhost:8080/"
        },
        "id": "jM3FybRGYkpJ",
        "outputId": "c7a8b324-2ffe-4bbf-e92b-9e7357fcbc17"
      },
      "execution_count": 202,
      "outputs": [
        {
          "output_type": "stream",
          "name": "stdout",
          "text": [
            "Acurácia: 0.4759036144578313\n",
            "\n",
            "Relatório de Classificação:\n",
            "                precision    recall  f1-score   support\n",
            "\n",
            " Early Adopter       0.52      0.52      0.52        60\n",
            "Early Majority       0.44      0.40      0.41        43\n",
            "     Innovator       0.35      0.41      0.38        22\n",
            " Late Majority       0.54      0.54      0.54        41\n",
            "\n",
            "      accuracy                           0.48       166\n",
            "     macro avg       0.46      0.46      0.46       166\n",
            "  weighted avg       0.48      0.48      0.48       166\n",
            "\n"
          ]
        }
      ]
    },
    {
      "cell_type": "code",
      "source": [
        "# Matrix de Confusão\n",
        "ConfusionMatrixDisplay.from_predictions(y_test, y_pred)\n",
        "plt.show()"
      ],
      "metadata": {
        "colab": {
          "base_uri": "https://localhost:8080/",
          "height": 449
        },
        "id": "NYrfSrI7caZ4",
        "outputId": "5f065be8-d957-4052-de57-0710eaca1ebf"
      },
      "execution_count": 203,
      "outputs": [
        {
          "output_type": "display_data",
          "data": {
            "text/plain": [
              "<Figure size 640x480 with 2 Axes>"
            ],
            "image/png": "[encoded data removed]"
          },
          "metadata": {}
        }
      ]
    },
    {
      "cell_type": "markdown",
      "source": [
        "A partir da imagem do modelo preditivo de árvore de decisão e da matriz de confusão, podemos fazer algumas observações importantes sobre o desempenho do modelo.\n",
        "\n",
        "1. **Acurácia Geral: 0.4759 (47.59%)**: A acurácia geral é razoavelmente baixa. Isso indica que o modelo não está classificando corretamente a maioria das amostras de teste.\n",
        "   \n",
        "2. **Relatório de Classificação:**\n",
        "   - **Early Adopter (52% precisão, 52% recall, 52% f1-score)**: Essa classe foi prevista com precisão e recall moderados, indicando um desempenho razoável para identificar \"Early Adopters\".\n",
        "   - **Early Majority (44% precisão, 40% recall, 41% f1-score)**: Esta classe tem um desempenho abaixo da média, com baixo recall (40%), sugerindo que o modelo tem dificuldade em prever corretamente a \"Early Majority\".\n",
        "   - **Innovator (35% precisão, 41% recall, 38% f1-score)**: Para a classe \"Innovator\", o recall é razoável, mas a precisão é baixa (35%). Isso pode significar que o modelo está classificando erroneamente muitos exemplos de outras classes como \"Innovators\".\n",
        "   - **Late Majority (54% precisão, 54% recall, 54% f1-score)**: O modelo tem um desempenho relativamente bom para a classe \"Late Majority\", com boa precisão e recall.\n",
        "   - **Macro avg (média macro):** 0.46 para precision, recall, e f1-score, mostrando que o desempenho em geral é uniforme entre as classes, mas com valores baixos.\n",
        "   - **Weighted avg (média ponderada):** 0.48 para todas as métricas, refletindo o impacto das classes com mais dados.\n",
        "\n",
        "3. **Matriz de Confusão:**\n",
        "   - **Early Adopter:** A maioria (31) das instâncias da classe \"Early Adopter\" foi corretamente classificada, mas há erros significativos (11 classificados como \"Early Majority\" e \"Innovator\", e 7 como \"Late Majority\").\n",
        "   - **Early Majority:** Dos 43 exemplos da \"Early Majority\", apenas 17 foram corretamente classificados. Há confusão significativa com \"Early Adopter\" (13) e \"Late Majority\" (9).\n",
        "   - **Innovator:** O modelo teve dificuldades em classificar corretamente \"Innovator\". Dos 22 exemplos, 9 foram corretamente classificados, mas houve confusão com \"Early Adopter\" (7) e \"Early Majority\" (3).\n",
        "   - **Late Majority:** O desempenho é um pouco melhor para a \"Late Majority\", com 22 classificações corretas, embora ainda haja confusão com \"Early Majority\" (8) e \"Early Adopter\" (9).\n",
        "\n",
        "4. **Análise Geral:**\n",
        "   - **Confusão entre classes adjacentes:** O modelo tem dificuldades em distinguir classes com padrões temporais próximos, como \"Early Adopter\" e \"Early Majority\". Isso pode indicar que as características temporais não são suficientes ou que o modelo está subajustado.\n",
        "   - **Melhor performance para \"Late Majority\":** A classe \"Late Majority\" apresenta o melhor desempenho em precisão e recall, sugerindo que o modelo consegue capturar melhor esse padrão de compra.\n",
        "   - **A classe \"Innovator\" tem o pior desempenho:** Isso pode ser explicado pela menor quantidade de dados (apenas 22 amostras no conjunto de teste) ou pela dificuldade em distinguir os primeiros compradores."
      ],
      "metadata": {
        "id": "xSVQW0QI_VE1"
      }
    },
    {
      "cell_type": "markdown",
      "source": [
        "# 8.2. Avaliação editando dados retirando colunas redundantes (_Drop='first'_)"
      ],
      "metadata": {
        "id": "-i-5A3NUiwsz"
      }
    },
    {
      "cell_type": "markdown",
      "source": [
        "Com o intuito de buscar melhorias para a eficiencia do modelo, vamos fazer mais um tratamento no dataset antes de seguirmos para hiperparametros. O **dados_encoded** tratado previamente fez uso do OneHotEncoder para dados categóricos, mantendo todas as opções. Agora, vamos tratar este dataset, removendo uma das colunas categorizadas.\n",
        "\n",
        "O \"drop_first\" em OneHotEncoding é usado para evitar a multicolinearidade em modelos lineares, pois as colunas criadas pela codificação são altamente correlacionadas.\n",
        "\n",
        "Ao remover a primeira coluna de cada categoria, mantemos as informações de cada categoria sem criar dependências lineares, economizando espaço e evitando problemas em modelos que não lidam bem com dados redundantes (ex: regressão linear)."
      ],
      "metadata": {
        "id": "kyris4urBcYy"
      }
    },
    {
      "cell_type": "code",
      "source": [
        "# Criar uma cópia do DataFrame para evitar modificar o original\n",
        "dados_encoded = dados.copy()\n",
        "\n",
        "# Converter a coluna 'Adoção_eReader' para tipo categórico\n",
        "dados_encoded['Adoção_eReader'] = dados_encoded['Adoção_eReader'].astype('category')\n",
        "\n",
        "# Lista das colunas do tipo 'object' (exceto a última)\n",
        "colunas_object = dados_encoded.select_dtypes(include=['object']).columns\n",
        "\n",
        "# Aplicar OneHotEncoder para cada coluna do tipo 'object'\n",
        "for coluna in colunas_object:\n",
        "  encoder = OneHotEncoder(handle_unknown='ignore', sparse_output=False, drop='first')\n",
        "  encoded_data = encoder.fit_transform(dados_encoded[[coluna]])\n",
        "  feature_names = [f\"{coluna}_{category}\" for category in encoder.categories_[0][1:]]\n",
        "  encoded_df = pd.DataFrame(encoded_data, columns=feature_names)\n",
        "  dados_encoded = pd.concat([dados_encoded.drop(coluna, axis=1), encoded_df], axis=1)\n",
        "\n",
        "dados_encoded.info()\n",
        "dados_encoded.head()\n"
      ],
      "metadata": {
        "colab": {
          "base_uri": "https://localhost:8080/",
          "height": 608
        },
        "id": "r3SHadeShUZG",
        "outputId": "fa7aeb65-fe81-4611-9438-6c0587e29584"
      },
      "execution_count": 204,
      "outputs": [
        {
          "output_type": "stream",
          "name": "stdout",
          "text": [
            "<class 'pandas.core.frame.DataFrame'>\n",
            "RangeIndex: 661 entries, 0 to 660\n",
            "Data columns (total 14 columns):\n",
            " #   Column                             Non-Null Count  Dtype   \n",
            "---  ------                             --------------  -----   \n",
            " 0   ID_usuário                         661 non-null    int64   \n",
            " 1   Idade                              661 non-null    int64   \n",
            " 2   Adoção_eReader                     661 non-null    category\n",
            " 3   Gênero_M                           661 non-null    float64 \n",
            " 4   Estado_civil_S                     661 non-null    float64 \n",
            " 5   Atividade_no_site_Frequênte        661 non-null    float64 \n",
            " 6   Atividade_no_site_Intermitente     661 non-null    float64 \n",
            " 7   Pesquisou_eletronicos_12m_Sim      661 non-null    float64 \n",
            " 8   Comprou_eletronicos_12m_Sim        661 non-null    float64 \n",
            " 9   Pesquisou_mídia_digital_18m_Sim    661 non-null    float64 \n",
            " 10  Comprou_mídia_digital_18m_Sim      661 non-null    float64 \n",
            " 11  Forma_pagamento_Cartão de crédito  661 non-null    float64 \n",
            " 12  Forma_pagamento_Transferência      661 non-null    float64 \n",
            " 13  Forma_pagamento_Website            661 non-null    float64 \n",
            "dtypes: category(1), float64(11), int64(2)\n",
            "memory usage: 68.1 KB\n"
          ]
        },
        {
          "output_type": "execute_result",
          "data": {
            "text/plain": [
              "   ID_usuário  Idade Adoção_eReader  Gênero_M  Estado_civil_S  \\\n",
              "0        9552     61  Late Majority       1.0             0.0   \n",
              "1        6757     27      Innovator       1.0             0.0   \n",
              "2        3599     29  Early Adopter       0.0             0.0   \n",
              "3        6811     49  Early Adopter       1.0             0.0   \n",
              "4        4104     29  Late Majority       1.0             1.0   \n",
              "\n",
              "   Atividade_no_site_Frequênte  Atividade_no_site_Intermitente  \\\n",
              "0                          0.0                             0.0   \n",
              "1                          0.0                             1.0   \n",
              "2                          0.0                             0.0   \n",
              "3                          0.0                             0.0   \n",
              "4                          0.0                             0.0   \n",
              "\n",
              "   Pesquisou_eletronicos_12m_Sim  Comprou_eletronicos_12m_Sim  \\\n",
              "0                            1.0                          1.0   \n",
              "1                            1.0                          0.0   \n",
              "2                            1.0                          1.0   \n",
              "3                            1.0                          1.0   \n",
              "4                            1.0                          1.0   \n",
              "\n",
              "   Pesquisou_mídia_digital_18m_Sim  Comprou_mídia_digital_18m_Sim  \\\n",
              "0                              1.0                            0.0   \n",
              "1                              1.0                            0.0   \n",
              "2                              1.0                            1.0   \n",
              "3                              1.0                            1.0   \n",
              "4                              1.0                            0.0   \n",
              "\n",
              "   Forma_pagamento_Cartão de crédito  Forma_pagamento_Transferência  \\\n",
              "0                                0.0                            1.0   \n",
              "1                                0.0                            1.0   \n",
              "2                                0.0                            1.0   \n",
              "3                                0.0                            0.0   \n",
              "4                                0.0                            0.0   \n",
              "\n",
              "   Forma_pagamento_Website  \n",
              "0                      0.0  \n",
              "1                      0.0  \n",
              "2                      0.0  \n",
              "3                      1.0  \n",
              "4                      1.0  "
            ],
            "text/html": [
              "\n",
              "  <div id=\"df-a71af281-1fb9-4960-9a00-9eb8c3e2dc5e\" class=\"colab-df-container\">\n",
              "    <div>\n",
              "<style scoped>\n",
              "    .dataframe tbody tr th:only-of-type {\n",
              "        vertical-align: middle;\n",
              "    }\n",
              "\n",
              "    .dataframe tbody tr th {\n",
              "        vertical-align: top;\n",
              "    }\n",
              "\n",
              "    .dataframe thead th {\n",
              "        text-align: right;\n",
              "    }\n",
              "</style>\n",
              "<table border=\"1\" class=\"dataframe\">\n",
              "  <thead>\n",
              "    <tr style=\"text-align: right;\">\n",
              "      <th></th>\n",
              "      <th>ID_usuário</th>\n",
              "      <th>Idade</th>\n",
              "      <th>Adoção_eReader</th>\n",
              "      <th>Gênero_M</th>\n",
              "      <th>Estado_civil_S</th>\n",
              "      <th>Atividade_no_site_Frequênte</th>\n",
              "      <th>Atividade_no_site_Intermitente</th>\n",
              "      <th>Pesquisou_eletronicos_12m_Sim</th>\n",
              "      <th>Comprou_eletronicos_12m_Sim</th>\n",
              "      <th>Pesquisou_mídia_digital_18m_Sim</th>\n",
              "      <th>Comprou_mídia_digital_18m_Sim</th>\n",
              "      <th>Forma_pagamento_Cartão de crédito</th>\n",
              "      <th>Forma_pagamento_Transferência</th>\n",
              "      <th>Forma_pagamento_Website</th>\n",
              "    </tr>\n",
              "  </thead>\n",
              "  <tbody>\n",
              "    <tr>\n",
              "      <th>0</th>\n",
              "      <td>9552</td>\n",
              "      <td>61</td>\n",
              "      <td>Late Majority</td>\n",
              "      <td>1.0</td>\n",
              "      <td>0.0</td>\n",
              "      <td>0.0</td>\n",
              "      <td>0.0</td>\n",
              "      <td>1.0</td>\n",
              "      <td>1.0</td>\n",
              "      <td>1.0</td>\n",
              "      <td>0.0</td>\n",
              "      <td>0.0</td>\n",
              "      <td>1.0</td>\n",
              "      <td>0.0</td>\n",
              "    </tr>\n",
              "    <tr>\n",
              "      <th>1</th>\n",
              "      <td>6757</td>\n",
              "      <td>27</td>\n",
              "      <td>Innovator</td>\n",
              "      <td>1.0</td>\n",
              "      <td>0.0</td>\n",
              "      <td>0.0</td>\n",
              "      <td>1.0</td>\n",
              "      <td>1.0</td>\n",
              "      <td>0.0</td>\n",
              "      <td>1.0</td>\n",
              "      <td>0.0</td>\n",
              "      <td>0.0</td>\n",
              "      <td>1.0</td>\n",
              "      <td>0.0</td>\n",
              "    </tr>\n",
              "    <tr>\n",
              "      <th>2</th>\n",
              "      <td>3599</td>\n",
              "      <td>29</td>\n",
              "      <td>Early Adopter</td>\n",
              "      <td>0.0</td>\n",
              "      <td>0.0</td>\n",
              "      <td>0.0</td>\n",
              "      <td>0.0</td>\n",
              "      <td>1.0</td>\n",
              "      <td>1.0</td>\n",
              "      <td>1.0</td>\n",
              "      <td>1.0</td>\n",
              "      <td>0.0</td>\n",
              "      <td>1.0</td>\n",
              "      <td>0.0</td>\n",
              "    </tr>\n",
              "    <tr>\n",
              "      <th>3</th>\n",
              "      <td>6811</td>\n",
              "      <td>49</td>\n",
              "      <td>Early Adopter</td>\n",
              "      <td>1.0</td>\n",
              "      <td>0.0</td>\n",
              "      <td>0.0</td>\n",
              "      <td>0.0</td>\n",
              "      <td>1.0</td>\n",
              "      <td>1.0</td>\n",
              "      <td>1.0</td>\n",
              "      <td>1.0</td>\n",
              "      <td>0.0</td>\n",
              "      <td>0.0</td>\n",
              "      <td>1.0</td>\n",
              "    </tr>\n",
              "    <tr>\n",
              "      <th>4</th>\n",
              "      <td>4104</td>\n",
              "      <td>29</td>\n",
              "      <td>Late Majority</td>\n",
              "      <td>1.0</td>\n",
              "      <td>1.0</td>\n",
              "      <td>0.0</td>\n",
              "      <td>0.0</td>\n",
              "      <td>1.0</td>\n",
              "      <td>1.0</td>\n",
              "      <td>1.0</td>\n",
              "      <td>0.0</td>\n",
              "      <td>0.0</td>\n",
              "      <td>0.0</td>\n",
              "      <td>1.0</td>\n",
              "    </tr>\n",
              "  </tbody>\n",
              "</table>\n",
              "</div>\n",
              "    <div class=\"colab-df-buttons\">\n",
              "\n",
              "  <div class=\"colab-df-container\">\n",
              "    <button class=\"colab-df-convert\" onclick=\"convertToInteractive('df-a71af281-1fb9-4960-9a00-9eb8c3e2dc5e')\"\n",
              "            title=\"Convert this dataframe to an interactive table.\"\n",
              "            style=\"display:none;\">\n",
              "\n",
              "  <svg xmlns=\"http://www.w3.org/2000/svg\" height=\"24px\" viewBox=\"0 -960 960 960\">\n",
              "    <path d=\"M120-120v-720h720v720H120Zm60-500h600v-160H180v160Zm220 220h160v-160H400v160Zm0 220h160v-160H400v160ZM180-400h160v-160H180v160Zm440 0h160v-160H620v160ZM180-180h160v-160H180v160Zm440 0h160v-160H620v160Z\"/>\n",
              "  </svg>\n",
              "    </button>\n",
              "\n",
              "  <style>\n",
              "    .colab-df-container {\n",
              "      display:flex;\n",
              "      gap: 12px;\n",
              "    }\n",
              "\n",
              "    .colab-df-convert {\n",
              "      background-color: #E8F0FE;\n",
              "      border: none;\n",
              "      border-radius: 50%;\n",
              "      cursor: pointer;\n",
              "      display: none;\n",
              "      fill: #1967D2;\n",
              "      height: 32px;\n",
              "      padding: 0 0 0 0;\n",
              "      width: 32px;\n",
              "    }\n",
              "\n",
              "    .colab-df-convert:hover {\n",
              "      background-color: #E2EBFA;\n",
              "      box-shadow: 0px 1px 2px rgba(60, 64, 67, 0.3), 0px 1px 3px 1px rgba(60, 64, 67, 0.15);\n",
              "      fill: #174EA6;\n",
              "    }\n",
              "\n",
              "    .colab-df-buttons div {\n",
              "      margin-bottom: 4px;\n",
              "    }\n",
              "\n",
              "    [theme=dark] .colab-df-convert {\n",
              "      background-color: #3B4455;\n",
              "      fill: #D2E3FC;\n",
              "    }\n",
              "\n",
              "    [theme=dark] .colab-df-convert:hover {\n",
              "      background-color: #434B5C;\n",
              "      box-shadow: 0px 1px 3px 1px rgba(0, 0, 0, 0.15);\n",
              "      filter: drop-shadow(0px 1px 2px rgba(0, 0, 0, 0.3));\n",
              "      fill: #FFFFFF;\n",
              "    }\n",
              "  </style>\n",
              "\n",
              "    <script>\n",
              "      const buttonEl =\n",
              "        document.querySelector('#df-a71af281-1fb9-4960-9a00-9eb8c3e2dc5e button.colab-df-convert');\n",
              "      buttonEl.style.display =\n",
              "        google.colab.kernel.accessAllowed ? 'block' : 'none';\n",
              "\n",
              "      async function convertToInteractive(key) {\n",
              "        const element = document.querySelector('#df-a71af281-1fb9-4960-9a00-9eb8c3e2dc5e');\n",
              "        const dataTable =\n",
              "          await google.colab.kernel.invokeFunction('convertToInteractive',\n",
              "                                                    [key], {});\n",
              "        if (!dataTable) return;\n",
              "\n",
              "        const docLinkHtml = 'Like what you see? Visit the ' +\n",
              "          '<a target=\"_blank\" href=https://colab.research.google.com/notebooks/data_table.ipynb>data table notebook</a>'\n",
              "          + ' to learn more about interactive tables.';\n",
              "        element.innerHTML = '';\n",
              "        dataTable['output_type'] = 'display_data';\n",
              "        await google.colab.output.renderOutput(dataTable, element);\n",
              "        const docLink = document.createElement('div');\n",
              "        docLink.innerHTML = docLinkHtml;\n",
              "        element.appendChild(docLink);\n",
              "      }\n",
              "    </script>\n",
              "  </div>\n",
              "\n",
              "\n",
              "<div id=\"df-19a27135-4add-4aaa-8d14-aa164aca9137\">\n",
              "  <button class=\"colab-df-quickchart\" onclick=\"quickchart('df-19a27135-4add-4aaa-8d14-aa164aca9137')\"\n",
              "            title=\"Suggest charts\"\n",
              "            style=\"display:none;\">\n",
              "\n",
              "<svg xmlns=\"http://www.w3.org/2000/svg\" height=\"24px\"viewBox=\"0 0 24 24\"\n",
              "     width=\"24px\">\n",
              "    <g>\n",
              "        <path d=\"M19 3H5c-1.1 0-2 .9-2 2v14c0 1.1.9 2 2 2h14c1.1 0 2-.9 2-2V5c0-1.1-.9-2-2-2zM9 17H7v-7h2v7zm4 0h-2V7h2v10zm4 0h-2v-4h2v4z\"/>\n",
              "    </g>\n",
              "</svg>\n",
              "  </button>\n",
              "\n",
              "<style>\n",
              "  .colab-df-quickchart {\n",
              "      --bg-color: #E8F0FE;\n",
              "      --fill-color: #1967D2;\n",
              "      --hover-bg-color: #E2EBFA;\n",
              "      --hover-fill-color: #174EA6;\n",
              "      --disabled-fill-color: #AAA;\n",
              "      --disabled-bg-color: #DDD;\n",
              "  }\n",
              "\n",
              "  [theme=dark] .colab-df-quickchart {\n",
              "      --bg-color: #3B4455;\n",
              "      --fill-color: #D2E3FC;\n",
              "      --hover-bg-color: #434B5C;\n",
              "      --hover-fill-color: #FFFFFF;\n",
              "      --disabled-bg-color: #3B4455;\n",
              "      --disabled-fill-color: #666;\n",
              "  }\n",
              "\n",
              "  .colab-df-quickchart {\n",
              "    background-color: var(--bg-color);\n",
              "    border: none;\n",
              "    border-radius: 50%;\n",
              "    cursor: pointer;\n",
              "    display: none;\n",
              "    fill: var(--fill-color);\n",
              "    height: 32px;\n",
              "    padding: 0;\n",
              "    width: 32px;\n",
              "  }\n",
              "\n",
              "  .colab-df-quickchart:hover {\n",
              "    background-color: var(--hover-bg-color);\n",
              "    box-shadow: 0 1px 2px rgba(60, 64, 67, 0.3), 0 1px 3px 1px rgba(60, 64, 67, 0.15);\n",
              "    fill: var(--button-hover-fill-color);\n",
              "  }\n",
              "\n",
              "  .colab-df-quickchart-complete:disabled,\n",
              "  .colab-df-quickchart-complete:disabled:hover {\n",
              "    background-color: var(--disabled-bg-color);\n",
              "    fill: var(--disabled-fill-color);\n",
              "    box-shadow: none;\n",
              "  }\n",
              "\n",
              "  .colab-df-spinner {\n",
              "    border: 2px solid var(--fill-color);\n",
              "    border-color: transparent;\n",
              "    border-bottom-color: var(--fill-color);\n",
              "    animation:\n",
              "      spin 1s steps(1) infinite;\n",
              "  }\n",
              "\n",
              "  @keyframes spin {\n",
              "    0% {\n",
              "      border-color: transparent;\n",
              "      border-bottom-color: var(--fill-color);\n",
              "      border-left-color: var(--fill-color);\n",
              "    }\n",
              "    20% {\n",
              "      border-color: transparent;\n",
              "      border-left-color: var(--fill-color);\n",
              "      border-top-color: var(--fill-color);\n",
              "    }\n",
              "    30% {\n",
              "      border-color: transparent;\n",
              "      border-left-color: var(--fill-color);\n",
              "      border-top-color: var(--fill-color);\n",
              "      border-right-color: var(--fill-color);\n",
              "    }\n",
              "    40% {\n",
              "      border-color: transparent;\n",
              "      border-right-color: var(--fill-color);\n",
              "      border-top-color: var(--fill-color);\n",
              "    }\n",
              "    60% {\n",
              "      border-color: transparent;\n",
              "      border-right-color: var(--fill-color);\n",
              "    }\n",
              "    80% {\n",
              "      border-color: transparent;\n",
              "      border-right-color: var(--fill-color);\n",
              "      border-bottom-color: var(--fill-color);\n",
              "    }\n",
              "    90% {\n",
              "      border-color: transparent;\n",
              "      border-bottom-color: var(--fill-color);\n",
              "    }\n",
              "  }\n",
              "</style>\n",
              "\n",
              "  <script>\n",
              "    async function quickchart(key) {\n",
              "      const quickchartButtonEl =\n",
              "        document.querySelector('#' + key + ' button');\n",
              "      quickchartButtonEl.disabled = true;  // To prevent multiple clicks.\n",
              "      quickchartButtonEl.classList.add('colab-df-spinner');\n",
              "      try {\n",
              "        const charts = await google.colab.kernel.invokeFunction(\n",
              "            'suggestCharts', [key], {});\n",
              "      } catch (error) {\n",
              "        console.error('Error during call to suggestCharts:', error);\n",
              "      }\n",
              "      quickchartButtonEl.classList.remove('colab-df-spinner');\n",
              "      quickchartButtonEl.classList.add('colab-df-quickchart-complete');\n",
              "    }\n",
              "    (() => {\n",
              "      let quickchartButtonEl =\n",
              "        document.querySelector('#df-19a27135-4add-4aaa-8d14-aa164aca9137 button');\n",
              "      quickchartButtonEl.style.display =\n",
              "        google.colab.kernel.accessAllowed ? 'block' : 'none';\n",
              "    })();\n",
              "  </script>\n",
              "</div>\n",
              "\n",
              "    </div>\n",
              "  </div>\n"
            ],
            "application/vnd.google.colaboratory.intrinsic+json": {
              "type": "dataframe",
              "variable_name": "dados_encoded",
              "summary": "{\n  \"name\": \"dados_encoded\",\n  \"rows\": 661,\n  \"fields\": [\n    {\n      \"column\": \"ID_usu\\u00e1rio\",\n      \"properties\": {\n        \"dtype\": \"number\",\n        \"std\": 2635,\n        \"min\": 1003,\n        \"max\": 9982,\n        \"num_unique_values\": 635,\n        \"samples\": [\n          8451,\n          8662,\n          5898\n        ],\n        \"semantic_type\": \"\",\n        \"description\": \"\"\n      }\n    },\n    {\n      \"column\": \"Idade\",\n      \"properties\": {\n        \"dtype\": \"number\",\n        \"std\": 13,\n        \"min\": 16,\n        \"max\": 66,\n        \"num_unique_values\": 51,\n        \"samples\": [\n          52,\n          39,\n          34\n        ],\n        \"semantic_type\": \"\",\n        \"description\": \"\"\n      }\n    },\n    {\n      \"column\": \"Ado\\u00e7\\u00e3o_eReader\",\n      \"properties\": {\n        \"dtype\": \"category\",\n        \"num_unique_values\": 4,\n        \"samples\": [\n          \"Innovator\",\n          \"Early Majority\",\n          \"Late Majority\"\n        ],\n        \"semantic_type\": \"\",\n        \"description\": \"\"\n      }\n    },\n    {\n      \"column\": \"G\\u00eanero_M\",\n      \"properties\": {\n        \"dtype\": \"number\",\n        \"std\": 0.4998280546047714,\n        \"min\": 0.0,\n        \"max\": 1.0,\n        \"num_unique_values\": 2,\n        \"samples\": [\n          0.0,\n          1.0\n        ],\n        \"semantic_type\": \"\",\n        \"description\": \"\"\n      }\n    },\n    {\n      \"column\": \"Estado_civil_S\",\n      \"properties\": {\n        \"dtype\": \"number\",\n        \"std\": 0.49450285803592064,\n        \"min\": 0.0,\n        \"max\": 1.0,\n        \"num_unique_values\": 2,\n        \"samples\": [\n          1.0,\n          0.0\n        ],\n        \"semantic_type\": \"\",\n        \"description\": \"\"\n      }\n    },\n    {\n      \"column\": \"Atividade_no_site_Frequ\\u00eante\",\n      \"properties\": {\n        \"dtype\": \"number\",\n        \"std\": 0.2741059910826604,\n        \"min\": 0.0,\n        \"max\": 1.0,\n        \"num_unique_values\": 2,\n        \"samples\": [\n          1.0,\n          0.0\n        ],\n        \"semantic_type\": \"\",\n        \"description\": \"\"\n      }\n    },\n    {\n      \"column\": \"Atividade_no_site_Intermitente\",\n      \"properties\": {\n        \"dtype\": \"number\",\n        \"std\": 0.4477821689804413,\n        \"min\": 0.0,\n        \"max\": 1.0,\n        \"num_unique_values\": 2,\n        \"samples\": [\n          1.0,\n          0.0\n        ],\n        \"semantic_type\": \"\",\n        \"description\": \"\"\n      }\n    },\n    {\n      \"column\": \"Pesquisou_eletronicos_12m_Sim\",\n      \"properties\": {\n        \"dtype\": \"number\",\n        \"std\": 0.2597037127754953,\n        \"min\": 0.0,\n        \"max\": 1.0,\n        \"num_unique_values\": 2,\n        \"samples\": [\n          0.0,\n          1.0\n        ],\n        \"semantic_type\": \"\",\n        \"description\": \"\"\n      }\n    },\n    {\n      \"column\": \"Comprou_eletronicos_12m_Sim\",\n      \"properties\": {\n        \"dtype\": \"number\",\n        \"std\": 0.5002131302047278,\n        \"min\": 0.0,\n        \"max\": 1.0,\n        \"num_unique_values\": 2,\n        \"samples\": [\n          0.0,\n          1.0\n        ],\n        \"semantic_type\": \"\",\n        \"description\": \"\"\n      }\n    },\n    {\n      \"column\": \"Pesquisou_m\\u00eddia_digital_18m_Sim\",\n      \"properties\": {\n        \"dtype\": \"number\",\n        \"std\": 0.4045539150337878,\n        \"min\": 0.0,\n        \"max\": 1.0,\n        \"num_unique_values\": 2,\n        \"samples\": [\n          0.0,\n          1.0\n        ],\n        \"semantic_type\": \"\",\n        \"description\": \"\"\n      }\n    },\n    {\n      \"column\": \"Comprou_m\\u00eddia_digital_18m_Sim\",\n      \"properties\": {\n        \"dtype\": \"number\",\n        \"std\": 0.49780152069783506,\n        \"min\": 0.0,\n        \"max\": 1.0,\n        \"num_unique_values\": 2,\n        \"samples\": [\n          1.0,\n          0.0\n        ],\n        \"semantic_type\": \"\",\n        \"description\": \"\"\n      }\n    },\n    {\n      \"column\": \"Forma_pagamento_Cart\\u00e3o de cr\\u00e9dito\",\n      \"properties\": {\n        \"dtype\": \"number\",\n        \"std\": 0.3643942956157554,\n        \"min\": 0.0,\n        \"max\": 1.0,\n        \"num_unique_values\": 2,\n        \"samples\": [\n          1.0,\n          0.0\n        ],\n        \"semantic_type\": \"\",\n        \"description\": \"\"\n      }\n    },\n    {\n      \"column\": \"Forma_pagamento_Transfer\\u00eancia\",\n      \"properties\": {\n        \"dtype\": \"number\",\n        \"std\": 0.47619728728322125,\n        \"min\": 0.0,\n        \"max\": 1.0,\n        \"num_unique_values\": 2,\n        \"samples\": [\n          0.0,\n          1.0\n        ],\n        \"semantic_type\": \"\",\n        \"description\": \"\"\n      }\n    },\n    {\n      \"column\": \"Forma_pagamento_Website\",\n      \"properties\": {\n        \"dtype\": \"number\",\n        \"std\": 0.47903366259256824,\n        \"min\": 0.0,\n        \"max\": 1.0,\n        \"num_unique_values\": 2,\n        \"samples\": [\n          1.0,\n          0.0\n        ],\n        \"semantic_type\": \"\",\n        \"description\": \"\"\n      }\n    }\n  ]\n}"
            }
          },
          "metadata": {},
          "execution_count": 204
        }
      ]
    },
    {
      "cell_type": "code",
      "source": [
        "def Treinar_e_Avaliar_Modelo(dados):\n",
        "  y = dados['Adoção_eReader']\n",
        "  X = dados.drop(['ID_usuário', 'Adoção_eReader'], axis=1)\n",
        "  x_train, x_test, y_train, y_test = train_test_split(X, y, test_size=0.25, random_state=42)\n",
        "  modelo = DecisionTreeClassifier()\n",
        "  modelo.fit(x_train, y_train)\n",
        "  y_pred = modelo.predict(x_test)\n",
        "\n",
        "  # Avalie o desempenho do modelo\n",
        "  acuracia = accuracy_score(y_test, y_pred)\n",
        "  print(f\"Acurácia: {acuracia}\")\n",
        "\n",
        "  # Relatório de Classificação\n",
        "  print(\"\\nRelatório de Classificação:\")\n",
        "  print(classification_report(y_test, y_pred))\n",
        "\n",
        "  # Matrix de Confusão\n",
        "  ConfusionMatrixDisplay.from_predictions(y_test, y_pred)\n",
        "  plt.show()\n",
        "  return modelo"
      ],
      "metadata": {
        "id": "uCDFGbwSgTCd"
      },
      "execution_count": 205,
      "outputs": []
    },
    {
      "cell_type": "code",
      "source": [
        "modelo = Treinar_e_Avaliar_Modelo(dados_encoded)"
      ],
      "metadata": {
        "colab": {
          "base_uri": "https://localhost:8080/",
          "height": 692
        },
        "id": "mbNXG9qsgVNH",
        "outputId": "672392df-3de4-47a2-8d89-0b4150e92058"
      },
      "execution_count": 206,
      "outputs": [
        {
          "output_type": "stream",
          "name": "stdout",
          "text": [
            "Acurácia: 0.4879518072289157\n",
            "\n",
            "Relatório de Classificação:\n",
            "                precision    recall  f1-score   support\n",
            "\n",
            " Early Adopter       0.53      0.52      0.52        60\n",
            "Early Majority       0.47      0.40      0.43        43\n",
            "     Innovator       0.38      0.45      0.42        22\n",
            " Late Majority       0.51      0.56      0.53        41\n",
            "\n",
            "      accuracy                           0.49       166\n",
            "     macro avg       0.47      0.48      0.48       166\n",
            "  weighted avg       0.49      0.49      0.49       166\n",
            "\n"
          ]
        },
        {
          "output_type": "display_data",
          "data": {
            "text/plain": [
              "<Figure size 640x480 with 2 Axes>"
            ],
            "image/png": "[encoded data removed]"
          },
          "metadata": {}
        }
      ]
    },
    {
      "cell_type": "markdown",
      "source": [
        "Ao analisar os novos resultados após a aplicação do `OneHotEncoder` com o parâmetro `drop='first'`, podemos observar as seguintes mudanças no desempenho do modelo preditivo de árvore de decisão.\n",
        "\n",
        "1. **Acurácia Geral: 0.4879 (48.79%):** Houve um pequeno aumento na acurácia em relação à execução anterior (de 47.59% para 48.79%). Embora o aumento seja modesto, sugere que o modelo foi levemente beneficiado pela nova codificação das variáveis categóricas.\n",
        "\n",
        "2. **Relatório de Classificação:**\n",
        "   - As métricas de **precision**, **recall** e **f1-score** para as classes se alteraram:\n",
        "     - **Early Adopter:**\n",
        "       - Precision: 0.53 (aumentou de 0.52)\n",
        "       - Recall: 0.52 (manteve-se)\n",
        "       - F1-score: 0.52 (manteve-se)\n",
        "     - **Early Majority:**\n",
        "       - Precision: 0.47 (melhora em relação aos 0.44 anteriores)\n",
        "       - Recall: 0.40 (manteve-se)\n",
        "       - F1-score: 0.43 (subiu de 0.41)\n",
        "     - **Innovator:**\n",
        "       - Precision: 0.38 (subiu de 0.35)\n",
        "       - Recall: 0.45 (subiu de 0.41)\n",
        "       - F1-score: 0.42 (subiu de 0.38)\n",
        "     - **Late Majority:**\n",
        "       - Precision: 0.51 (caiu levemente de 0.54)\n",
        "       - Recall: 0.56 (melhora em relação aos 0.54 anteriores)\n",
        "       - F1-score: 0.53 (manteve-se)\n",
        "       \n",
        "   **Resumo:**\n",
        "   - Melhorias modestas foram observadas na classe \"Early Majority\" e \"Innovator\". Isso sugere que a codificação com `drop='first'` pode ter ajudado o modelo a lidar melhor com as classes menos prevalentes, mas as melhorias foram limitadas.\n",
        "\n",
        "3. **Matriz de Confusão:**\n",
        "   - **Early Adopter:** Dos 60 exemplos, 31 foram classificados corretamente. No entanto, ainda há confusões com \"Early Majority\" (8) e \"Innovator\" (11). Houve um pequeno aumento na classificação incorreta para \"Late Majority\" (de 7 para 10).\n",
        "   - **Early Majority:** A classe \"Early Majority\" ainda sofre de confusão com \"Early Adopter\" (14 amostras), mas 17 amostras foram corretamente classificadas, o que representa uma leve melhora.\n",
        "   - **Innovator:** A classe \"Innovator\" teve 10 exemplos corretamente classificados, com confusão restante com \"Early Adopter\" (6) e \"Early Majority\" (3). Houve uma melhoria em relação à execução anterior, onde apenas 9 exemplos foram corretamente classificados.\n",
        "   - **Late Majority:** \"Late Majority\" tem uma classificação ligeiramente melhorada (23 exemplos corretos, em comparação com 22 anteriormente), mas a confusão com \"Early Adopter\" e \"Early Majority\" persiste.\n",
        "\n",
        "4. **Análise Geral:**\n",
        "   - **Melhorias marginais nas classes menores:** As melhorias nas classes \"Innovator\" e \"Early Majority\" são pequenas, mas notáveis, especialmente para recall e f1-score. O uso do `drop='first'` pode ter ajudado a eliminar alguma redundância nas variáveis categóricas, tornando o modelo mais eficiente na identificação dessas classes menos representadas.\n",
        "   - **Confusão entre classes adjacentes:** Ainda há significativa confusão entre classes que representam períodos temporais próximos, como \"Early Adopter\" e \"Early Majority\". Isso indica que o modelo ainda pode não estar capturando bem os padrões entre essas classes adjacentes.\n",
        "   - **Late Majority:** A classe \"Late Majority\" mantém o melhor desempenho em precisão e recall, provavelmente devido à sua maior separabilidade em relação às outras classes.\n",
        "\n"
      ],
      "metadata": {
        "id": "rdhltj-0Ckny"
      }
    },
    {
      "cell_type": "markdown",
      "source": [
        "# 8.3. Avaliação com treinamento de hiperparâmetros via gridsearch"
      ],
      "metadata": {
        "id": "4YmD8my1jIsC"
      }
    },
    {
      "cell_type": "markdown",
      "source": [
        "Por fim, vamos utilizar o último dataset como base, visto que foi obtido uma leve melhora na performance, para encontrar os melhores hiperparametros para o modelo de árvore de decisão."
      ],
      "metadata": {
        "id": "r5tMyNoDDPy-"
      }
    },
    {
      "cell_type": "code",
      "source": [
        "param_grid_DecTree = [\n",
        "    {\n",
        "        'criterion': ['gini', 'entropy'],\n",
        "        'splitter': ['best', 'random'],\n",
        "        'max_depth': np.arange(1,16,1),\n",
        "        \"min_samples_split\": np.arange(2, 5),\n",
        "        \"min_samples_leaf\": np.arange(2, 5),\n",
        "    }\n",
        "]"
      ],
      "metadata": {
        "id": "WlvPyWjMj1Gq"
      },
      "execution_count": 207,
      "outputs": []
    },
    {
      "cell_type": "code",
      "source": [
        "grid_search_DecTree = GridSearchCV(\n",
        "    DecisionTreeClassifier(),\n",
        "    param_grid_DecTree,\n",
        "    cv=5,\n",
        "    scoring='accuracy',\n",
        "    return_train_score=True\n",
        ")\n",
        "np.random.seed(42)\n",
        "grid_search_DecTree.fit(x_train, y_train)\n",
        "\n",
        "print(\"Melhores parâmetros encontrados:\", grid_search_DecTree.best_params_)\n",
        "print(\"Melhor pontuação de acurácia:\", grid_search_DecTree.best_score_)\n",
        "\n",
        "# Avaliar o modelo com os melhores parâmetros no conjunto de teste\n",
        "y_pred = grid_search_DecTree.predict(x_test)\n",
        "accuracy = accuracy_score(y_test, y_pred)\n",
        "print(f\"Acurácia no conjunto de teste com os melhores parâmetros: {accuracy}\")\n",
        "\n",
        "print(\"\\nRelatório de Classificação:\")\n",
        "print(classification_report(y_test, y_pred))\n",
        "\n",
        "ConfusionMatrixDisplay.from_predictions(y_test, y_pred)\n",
        "plt.show()\n"
      ],
      "metadata": {
        "colab": {
          "base_uri": "https://localhost:8080/",
          "height": 733
        },
        "id": "dwYjz0Roj6Fm",
        "outputId": "c03189bd-9bff-487a-c812-270eb3ec74ac"
      },
      "execution_count": 208,
      "outputs": [
        {
          "output_type": "stream",
          "name": "stdout",
          "text": [
            "Melhores parâmetros encontrados: {'criterion': 'gini', 'max_depth': 11, 'min_samples_leaf': 4, 'min_samples_split': 4, 'splitter': 'random'}\n",
            "Melhor pontuação de acurácia: 0.6161616161616161\n",
            "Acurácia no conjunto de teste com os melhores parâmetros: 0.572289156626506\n",
            "\n",
            "Relatório de Classificação:\n",
            "                precision    recall  f1-score   support\n",
            "\n",
            " Early Adopter       0.58      0.58      0.58        60\n",
            "Early Majority       0.46      0.49      0.47        43\n",
            "     Innovator       0.46      0.50      0.48        22\n",
            " Late Majority       0.78      0.68      0.73        41\n",
            "\n",
            "      accuracy                           0.57       166\n",
            "     macro avg       0.57      0.56      0.57       166\n",
            "  weighted avg       0.58      0.57      0.58       166\n",
            "\n"
          ]
        },
        {
          "output_type": "display_data",
          "data": {
            "text/plain": [
              "<Figure size 640x480 with 2 Axes>"
            ],
            "image/png": "[encoded data removed]"
          },
          "metadata": {}
        }
      ]
    },
    {
      "cell_type": "markdown",
      "source": [
        "Após o ajuste de hiperparâmetros e o novo treinamento com o mesmo dataset, os resultados demonstram melhorias claras, especialmente em relação à acurácia e ao desempenho das classes individuais. Vamos analisar os principais aspectos:\n",
        "\n",
        "1. **Acurácia Geral: 0.5722 (57.22%):** A acurácia do modelo aumentou significativamente em comparação às versões anteriores (de 48.79% e 47.59%). Esse aumento de mais de 8% indica que o ajuste de hiperparâmetros (com valores como `max_depth`: 11, `min_samples_leaf`: 4, `min_samples_split`: 4) ajudou a refinar o desempenho do modelo.\n",
        "   \n",
        "2. **Relatório de Classificação:**\n",
        "   - **Early Adopter:**\n",
        "     - Precision: 0.58 (subiu de 0.53)\n",
        "     - Recall: 0.58 (melhoria em relação aos 0.52 anteriores)\n",
        "     - F1-score: 0.58 (subiu de 0.52)\n",
        "   - **Early Majority:**\n",
        "     - Precision: 0.46 (caiu levemente de 0.47)\n",
        "     - Recall: 0.47 (subiu de 0.40)\n",
        "     - F1-score: 0.43 (melhora marginal)\n",
        "   - **Innovator:**\n",
        "     - Precision: 0.46 (melhoria em relação aos 0.38 anteriores)\n",
        "     - Recall: 0.50 (significativo aumento em relação a 0.45)\n",
        "     - F1-score: 0.48 (grande aumento, subiu de 0.42)\n",
        "   - **Late Majority:**\n",
        "     - Precision: 0.78 (grande aumento em relação aos 0.51 anteriores)\n",
        "     - Recall: 0.68 (um pouco menor que antes, mas ainda alta)\n",
        "     - F1-score: 0.73 (melhoria significativa)\n",
        "\n",
        "   **Resumo:**\n",
        "   - A classe **Late Majority** teve uma melhoria substancial na precisão e no F1-score. A classe **Innovator** também apresentou uma melhora significativa em todas as métricas, indicando que o modelo está agora melhor em capturar esse grupo menos representado.\n",
        "   - **Early Adopter** e **Early Majority** mantiveram um desempenho estável, com ligeiras melhoras.\n",
        "\n",
        "3. **Matriz de Confusão:**\n",
        "   - **Early Adopter:** Dos 60 exemplos, 35 foram corretamente classificados, o que representa uma melhoria significativa em comparação à execução anterior. Houve uma diminuição considerável da confusão com \"Late Majority\" (de 10 para 1).\n",
        "   - **Early Majority:** A classe \"Early Majority\" ainda tem confusão significativa com \"Early Adopter\" (14 exemplos), mas 21 amostras foram corretamente classificadas, representando um aumento no desempenho.\n",
        "   - **Innovator:** A classe \"Innovator\" teve 11 exemplos corretamente classificados, o que representa uma melhoria em relação às execuções anteriores. A confusão com outras classes, como \"Early Adopter\", foi reduzida.\n",
        "   - **Late Majority:** \"Late Majority\" teve um grande aumento no número de classificações corretas (28 exemplos), com uma redução substancial na confusão com outras classes.\n",
        "\n",
        "4. **Análise Geral:**\n",
        "   - **Melhorias substanciais:** O ajuste de hiperparâmetros trouxe grandes melhorias, especialmente para as classes \"Innovator\" e \"Late Majority\". Isso sugere que os novos valores como a profundidade da árvore (`max_depth: 11`) e os parâmetros de divisão (`min_samples_split: 4`, `min_samples_leaf: 4`) ajudaram o modelo a capturar melhor as relações nos dados.\n",
        "   - **Confusões entre classes adjacentes:** Ainda há alguma confusão entre \"Early Adopter\" e \"Early Majority\", o que é esperado devido à proximidade temporal dessas categorias. Porém, o modelo agora está separando melhor \"Late Majority\" das outras classes.\n",
        "   - **Balanceamento do modelo:** O modelo agora está mais balanceado, com melhorias em praticamente todas as métricas, especialmente o F1-score macro e ponderado."
      ],
      "metadata": {
        "id": "BuWaKwsxEDR2"
      }
    },
    {
      "cell_type": "markdown",
      "source": [
        "# 9. Conclusão"
      ],
      "metadata": {
        "id": "A0rqqi8TV7T-"
      }
    },
    {
      "cell_type": "markdown",
      "source": [
        "O processo de construção, ajuste e avaliação do modelo de árvore de decisão, focado na classificação dos diferentes perfis de compradores de eReaders, evoluiu consideravelmente ao longo das etapas. Inicialmente, o modelo apresentou limitações claras de acurácia e dificuldades em distinguir entre as categorias, especialmente aquelas com proximidade temporal, como \"Early Adopter\" e \"Early Majority\". No entanto, após a aplicação de técnicas de pré-processamento, como o uso de OneHotEncoder com `drop='first'`, e a realização de um ajuste de hiperparâmetros, observamos uma melhora significativa no desempenho.\n",
        "\n",
        "Os principais pontos que levam à conclusão são:\n",
        "\n",
        "1. **Melhoria de Acurácia e Desempenho Geral**:\n",
        "   - A acurácia do modelo aumentou de aproximadamente 47.5% para 57.2% após o ajuste de hiperparâmetros. Isso representa um avanço significativo na capacidade do modelo em prever corretamente os grupos de compradores.\n",
        "   - As métricas de **F1-score**, especialmente o valor macro e ponderado, subiram de cerca de 0.48 para 0.57 e 0.58, respectivamente. Esse crescimento demonstra que o modelo se tornou mais robusto, equilibrando melhor o desempenho em todas as classes.\n",
        "\n",
        "2. **Evolução no Tratamento de Classes Menos Representadas**:\n",
        "   - A classe \"Late Majority\" teve uma melhoria substancial, com a precisão aumentando de 0.51 para 0.78 e o recall de 0.54 para 0.68. A classe \"Innovator\", que inicialmente era um desafio para o modelo, também teve avanços importantes.\n",
        "   - O ajuste de hiperparâmetros tornou o modelo mais capaz de identificar corretamente as categorias com menor suporte, como \"Innovator\", que anteriormente era fortemente confundida com outras classes.\n",
        "\n",
        "3. **Redução das Confusões**:\n",
        "   - Houve uma redução significativa na confusão entre \"Late Majority\" e as outras classes. A matriz de confusão final mostra uma clara melhoria, com mais exemplos sendo corretamente classificados em suas respectivas categorias.\n",
        "   - Embora ainda existam desafios na separação entre \"Early Adopter\" e \"Early Majority\", que compartilham características temporais e comportamentais semelhantes, a situação melhorou em comparação às primeiras execuções.\n",
        "\n",
        "4. **Importância do Ajuste de Hiperparâmetros**:\n",
        "   - O uso de parâmetros como `max_depth: 11`, `min_samples_leaf: 4`, e `min_samples_split: 4` foi crucial para alcançar os avanços observados. Esses ajustes permitiram que a árvore de decisão evitasse tanto a subquanto a superajuste, encontrando um equilíbrio entre complexidade e precisão."
      ],
      "metadata": {
        "id": "9edO7_QsEuFE"
      }
    },
    {
      "cell_type": "markdown",
      "source": [
        "# 10. Trabalhos futuros"
      ],
      "metadata": {
        "id": "gneJj37mFPJu"
      }
    },
    {
      "cell_type": "markdown",
      "source": [
        "Apesar das melhorias, há espaço para refinar ainda mais o modelo. Outras abordagens, como algoritmos de ensemble (Random Forest ou Gradient Boosting), podem ser exploradas para alcançar resultados ainda melhores. Também seria interessante aplicar técnicas de amostragem para balancear melhor o número de exemplos em cada classe, o que poderia reduzir a confusão entre as classes mais próximas.\n",
        "\n",
        "Em resumo, o modelo atual, após as melhorias, apresenta um desempenho satisfatório, especialmente na previsão das classes de maior suporte. O ajuste de hiperparâmetros provou ser uma etapa essencial, resultando em um modelo mais equilibrado e com maior acurácia."
      ],
      "metadata": {
        "id": "RwVwb7R7FSaC"
      }
    }
  ]
}